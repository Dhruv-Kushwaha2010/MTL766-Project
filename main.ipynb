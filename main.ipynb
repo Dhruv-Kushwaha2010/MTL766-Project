{
 "cells": [
  {
   "cell_type": "code",
   "execution_count": 8,
   "metadata": {},
   "outputs": [],
   "source": [
    "# importing libraries\n",
    "import numpy as np\n",
    "import pandas as pd\n",
    "\n",
    "import matplotlib.pyplot as plt\n",
    "import scipy.stats as stats\n",
    "import seaborn as sns\n",
    "import statsmodels.api as sm"
   ]
  },
  {
   "cell_type": "markdown",
   "metadata": {},
   "source": [
    "## Data Preprocessing"
   ]
  },
  {
   "cell_type": "code",
   "execution_count": 9,
   "metadata": {},
   "outputs": [
    {
     "data": {
      "text/html": [
       "<div>\n",
       "<style scoped>\n",
       "    .dataframe tbody tr th:only-of-type {\n",
       "        vertical-align: middle;\n",
       "    }\n",
       "\n",
       "    .dataframe tbody tr th {\n",
       "        vertical-align: top;\n",
       "    }\n",
       "\n",
       "    .dataframe thead th {\n",
       "        text-align: right;\n",
       "    }\n",
       "</style>\n",
       "<table border=\"1\" class=\"dataframe\">\n",
       "  <thead>\n",
       "    <tr style=\"text-align: right;\">\n",
       "      <th></th>\n",
       "      <th>Usage_kWh</th>\n",
       "      <th>Lagging_Current_Reactive_Power_kVarh</th>\n",
       "      <th>Leading_Current_Reactive_Power_kVarh</th>\n",
       "      <th>CO2</th>\n",
       "      <th>Lagging_Current_Power_Factor</th>\n",
       "      <th>Leading_Current_Power_Factor</th>\n",
       "      <th>WeekStatus</th>\n",
       "      <th>Day_of_week</th>\n",
       "      <th>Load_Type</th>\n",
       "    </tr>\n",
       "    <tr>\n",
       "      <th>date</th>\n",
       "      <th></th>\n",
       "      <th></th>\n",
       "      <th></th>\n",
       "      <th></th>\n",
       "      <th></th>\n",
       "      <th></th>\n",
       "      <th></th>\n",
       "      <th></th>\n",
       "      <th></th>\n",
       "    </tr>\n",
       "  </thead>\n",
       "  <tbody>\n",
       "    <tr>\n",
       "      <th>2018-01-01 00:15:00</th>\n",
       "      <td>3.17</td>\n",
       "      <td>2.95</td>\n",
       "      <td>0.00</td>\n",
       "      <td>0.0</td>\n",
       "      <td>73.21</td>\n",
       "      <td>100.00</td>\n",
       "      <td>Weekday</td>\n",
       "      <td>Monday</td>\n",
       "      <td>Light_Load</td>\n",
       "    </tr>\n",
       "    <tr>\n",
       "      <th>2018-01-01 00:30:00</th>\n",
       "      <td>4.00</td>\n",
       "      <td>4.46</td>\n",
       "      <td>0.00</td>\n",
       "      <td>0.0</td>\n",
       "      <td>66.77</td>\n",
       "      <td>100.00</td>\n",
       "      <td>Weekday</td>\n",
       "      <td>Monday</td>\n",
       "      <td>Light_Load</td>\n",
       "    </tr>\n",
       "    <tr>\n",
       "      <th>2018-01-01 00:45:00</th>\n",
       "      <td>3.24</td>\n",
       "      <td>3.28</td>\n",
       "      <td>0.00</td>\n",
       "      <td>0.0</td>\n",
       "      <td>70.28</td>\n",
       "      <td>100.00</td>\n",
       "      <td>Weekday</td>\n",
       "      <td>Monday</td>\n",
       "      <td>Light_Load</td>\n",
       "    </tr>\n",
       "    <tr>\n",
       "      <th>2018-01-01 01:00:00</th>\n",
       "      <td>3.31</td>\n",
       "      <td>3.56</td>\n",
       "      <td>0.00</td>\n",
       "      <td>0.0</td>\n",
       "      <td>68.09</td>\n",
       "      <td>100.00</td>\n",
       "      <td>Weekday</td>\n",
       "      <td>Monday</td>\n",
       "      <td>Light_Load</td>\n",
       "    </tr>\n",
       "    <tr>\n",
       "      <th>2018-01-01 01:15:00</th>\n",
       "      <td>3.82</td>\n",
       "      <td>4.50</td>\n",
       "      <td>0.00</td>\n",
       "      <td>0.0</td>\n",
       "      <td>64.72</td>\n",
       "      <td>100.00</td>\n",
       "      <td>Weekday</td>\n",
       "      <td>Monday</td>\n",
       "      <td>Light_Load</td>\n",
       "    </tr>\n",
       "    <tr>\n",
       "      <th>...</th>\n",
       "      <td>...</td>\n",
       "      <td>...</td>\n",
       "      <td>...</td>\n",
       "      <td>...</td>\n",
       "      <td>...</td>\n",
       "      <td>...</td>\n",
       "      <td>...</td>\n",
       "      <td>...</td>\n",
       "      <td>...</td>\n",
       "    </tr>\n",
       "    <tr>\n",
       "      <th>2018-12-31 23:00:00</th>\n",
       "      <td>3.85</td>\n",
       "      <td>4.86</td>\n",
       "      <td>0.00</td>\n",
       "      <td>0.0</td>\n",
       "      <td>62.10</td>\n",
       "      <td>100.00</td>\n",
       "      <td>Weekday</td>\n",
       "      <td>Monday</td>\n",
       "      <td>Light_Load</td>\n",
       "    </tr>\n",
       "    <tr>\n",
       "      <th>2018-12-31 23:15:00</th>\n",
       "      <td>3.74</td>\n",
       "      <td>3.74</td>\n",
       "      <td>0.00</td>\n",
       "      <td>0.0</td>\n",
       "      <td>70.71</td>\n",
       "      <td>100.00</td>\n",
       "      <td>Weekday</td>\n",
       "      <td>Monday</td>\n",
       "      <td>Light_Load</td>\n",
       "    </tr>\n",
       "    <tr>\n",
       "      <th>2018-12-31 23:30:00</th>\n",
       "      <td>3.78</td>\n",
       "      <td>3.17</td>\n",
       "      <td>0.07</td>\n",
       "      <td>0.0</td>\n",
       "      <td>76.62</td>\n",
       "      <td>99.98</td>\n",
       "      <td>Weekday</td>\n",
       "      <td>Monday</td>\n",
       "      <td>Light_Load</td>\n",
       "    </tr>\n",
       "    <tr>\n",
       "      <th>2018-12-31 23:45:00</th>\n",
       "      <td>3.78</td>\n",
       "      <td>3.06</td>\n",
       "      <td>0.11</td>\n",
       "      <td>0.0</td>\n",
       "      <td>77.72</td>\n",
       "      <td>99.96</td>\n",
       "      <td>Weekday</td>\n",
       "      <td>Monday</td>\n",
       "      <td>Light_Load</td>\n",
       "    </tr>\n",
       "    <tr>\n",
       "      <th>2018-12-31 00:00:00</th>\n",
       "      <td>3.67</td>\n",
       "      <td>3.02</td>\n",
       "      <td>0.07</td>\n",
       "      <td>0.0</td>\n",
       "      <td>77.22</td>\n",
       "      <td>99.98</td>\n",
       "      <td>Weekday</td>\n",
       "      <td>Monday</td>\n",
       "      <td>Light_Load</td>\n",
       "    </tr>\n",
       "  </tbody>\n",
       "</table>\n",
       "<p>35040 rows × 9 columns</p>\n",
       "</div>"
      ],
      "text/plain": [
       "                     Usage_kWh  Lagging_Current_Reactive_Power_kVarh  \\\n",
       "date                                                                   \n",
       "2018-01-01 00:15:00       3.17                                  2.95   \n",
       "2018-01-01 00:30:00       4.00                                  4.46   \n",
       "2018-01-01 00:45:00       3.24                                  3.28   \n",
       "2018-01-01 01:00:00       3.31                                  3.56   \n",
       "2018-01-01 01:15:00       3.82                                  4.50   \n",
       "...                        ...                                   ...   \n",
       "2018-12-31 23:00:00       3.85                                  4.86   \n",
       "2018-12-31 23:15:00       3.74                                  3.74   \n",
       "2018-12-31 23:30:00       3.78                                  3.17   \n",
       "2018-12-31 23:45:00       3.78                                  3.06   \n",
       "2018-12-31 00:00:00       3.67                                  3.02   \n",
       "\n",
       "                     Leading_Current_Reactive_Power_kVarh  CO2  \\\n",
       "date                                                             \n",
       "2018-01-01 00:15:00                                  0.00  0.0   \n",
       "2018-01-01 00:30:00                                  0.00  0.0   \n",
       "2018-01-01 00:45:00                                  0.00  0.0   \n",
       "2018-01-01 01:00:00                                  0.00  0.0   \n",
       "2018-01-01 01:15:00                                  0.00  0.0   \n",
       "...                                                   ...  ...   \n",
       "2018-12-31 23:00:00                                  0.00  0.0   \n",
       "2018-12-31 23:15:00                                  0.00  0.0   \n",
       "2018-12-31 23:30:00                                  0.07  0.0   \n",
       "2018-12-31 23:45:00                                  0.11  0.0   \n",
       "2018-12-31 00:00:00                                  0.07  0.0   \n",
       "\n",
       "                     Lagging_Current_Power_Factor  \\\n",
       "date                                                \n",
       "2018-01-01 00:15:00                         73.21   \n",
       "2018-01-01 00:30:00                         66.77   \n",
       "2018-01-01 00:45:00                         70.28   \n",
       "2018-01-01 01:00:00                         68.09   \n",
       "2018-01-01 01:15:00                         64.72   \n",
       "...                                           ...   \n",
       "2018-12-31 23:00:00                         62.10   \n",
       "2018-12-31 23:15:00                         70.71   \n",
       "2018-12-31 23:30:00                         76.62   \n",
       "2018-12-31 23:45:00                         77.72   \n",
       "2018-12-31 00:00:00                         77.22   \n",
       "\n",
       "                     Leading_Current_Power_Factor WeekStatus Day_of_week  \\\n",
       "date                                                                       \n",
       "2018-01-01 00:15:00                        100.00    Weekday      Monday   \n",
       "2018-01-01 00:30:00                        100.00    Weekday      Monday   \n",
       "2018-01-01 00:45:00                        100.00    Weekday      Monday   \n",
       "2018-01-01 01:00:00                        100.00    Weekday      Monday   \n",
       "2018-01-01 01:15:00                        100.00    Weekday      Monday   \n",
       "...                                           ...        ...         ...   \n",
       "2018-12-31 23:00:00                        100.00    Weekday      Monday   \n",
       "2018-12-31 23:15:00                        100.00    Weekday      Monday   \n",
       "2018-12-31 23:30:00                         99.98    Weekday      Monday   \n",
       "2018-12-31 23:45:00                         99.96    Weekday      Monday   \n",
       "2018-12-31 00:00:00                         99.98    Weekday      Monday   \n",
       "\n",
       "                      Load_Type  \n",
       "date                             \n",
       "2018-01-01 00:15:00  Light_Load  \n",
       "2018-01-01 00:30:00  Light_Load  \n",
       "2018-01-01 00:45:00  Light_Load  \n",
       "2018-01-01 01:00:00  Light_Load  \n",
       "2018-01-01 01:15:00  Light_Load  \n",
       "...                         ...  \n",
       "2018-12-31 23:00:00  Light_Load  \n",
       "2018-12-31 23:15:00  Light_Load  \n",
       "2018-12-31 23:30:00  Light_Load  \n",
       "2018-12-31 23:45:00  Light_Load  \n",
       "2018-12-31 00:00:00  Light_Load  \n",
       "\n",
       "[35040 rows x 9 columns]"
      ]
     },
     "metadata": {},
     "output_type": "display_data"
    }
   ],
   "source": [
    "# Reading the data\n",
    "df = pd.read_csv('Steel_industry_data.csv')\n",
    "df.drop(columns=['NSM'], inplace=True)\n",
    "df.rename(columns={'Lagging_Current_Reactive.Power_kVarh': 'Lagging_Current_Reactive_Power_kVarh', 'CO2(tCO2)' : 'CO2'}, inplace=True)\n",
    "df['date'] = pd.to_datetime(df['date'], format='%d/%m/%Y %H:%M')\n",
    "df.set_index('date', inplace=True)\n",
    "df_num = df.select_dtypes(include=['number'])\n",
    "display(df)"
   ]
  },
  {
   "cell_type": "code",
   "execution_count": 3,
   "metadata": {},
   "outputs": [
    {
     "data": {
      "text/html": [
       "<div>\n",
       "<style scoped>\n",
       "    .dataframe tbody tr th:only-of-type {\n",
       "        vertical-align: middle;\n",
       "    }\n",
       "\n",
       "    .dataframe tbody tr th {\n",
       "        vertical-align: top;\n",
       "    }\n",
       "\n",
       "    .dataframe thead th {\n",
       "        text-align: right;\n",
       "    }\n",
       "</style>\n",
       "<table border=\"1\" class=\"dataframe\">\n",
       "  <thead>\n",
       "    <tr style=\"text-align: right;\">\n",
       "      <th></th>\n",
       "      <th>Usage_kWh</th>\n",
       "      <th>Lagging_Current_Reactive_Power_kVarh</th>\n",
       "      <th>Leading_Current_Reactive_Power_kVarh</th>\n",
       "      <th>CO2</th>\n",
       "      <th>Lagging_Current_Power_Factor</th>\n",
       "      <th>Leading_Current_Power_Factor</th>\n",
       "    </tr>\n",
       "    <tr>\n",
       "      <th>date</th>\n",
       "      <th></th>\n",
       "      <th></th>\n",
       "      <th></th>\n",
       "      <th></th>\n",
       "      <th></th>\n",
       "      <th></th>\n",
       "    </tr>\n",
       "  </thead>\n",
       "  <tbody>\n",
       "    <tr>\n",
       "      <th>2018-01-01 00:15:00</th>\n",
       "      <td>3.17</td>\n",
       "      <td>2.95</td>\n",
       "      <td>0.00</td>\n",
       "      <td>0.0</td>\n",
       "      <td>73.21</td>\n",
       "      <td>100.00</td>\n",
       "    </tr>\n",
       "    <tr>\n",
       "      <th>2018-01-01 00:30:00</th>\n",
       "      <td>4.00</td>\n",
       "      <td>4.46</td>\n",
       "      <td>0.00</td>\n",
       "      <td>0.0</td>\n",
       "      <td>66.77</td>\n",
       "      <td>100.00</td>\n",
       "    </tr>\n",
       "    <tr>\n",
       "      <th>2018-01-01 00:45:00</th>\n",
       "      <td>3.24</td>\n",
       "      <td>3.28</td>\n",
       "      <td>0.00</td>\n",
       "      <td>0.0</td>\n",
       "      <td>70.28</td>\n",
       "      <td>100.00</td>\n",
       "    </tr>\n",
       "    <tr>\n",
       "      <th>2018-01-01 01:00:00</th>\n",
       "      <td>3.31</td>\n",
       "      <td>3.56</td>\n",
       "      <td>0.00</td>\n",
       "      <td>0.0</td>\n",
       "      <td>68.09</td>\n",
       "      <td>100.00</td>\n",
       "    </tr>\n",
       "    <tr>\n",
       "      <th>2018-01-01 01:15:00</th>\n",
       "      <td>3.82</td>\n",
       "      <td>4.50</td>\n",
       "      <td>0.00</td>\n",
       "      <td>0.0</td>\n",
       "      <td>64.72</td>\n",
       "      <td>100.00</td>\n",
       "    </tr>\n",
       "    <tr>\n",
       "      <th>...</th>\n",
       "      <td>...</td>\n",
       "      <td>...</td>\n",
       "      <td>...</td>\n",
       "      <td>...</td>\n",
       "      <td>...</td>\n",
       "      <td>...</td>\n",
       "    </tr>\n",
       "    <tr>\n",
       "      <th>2018-12-31 23:00:00</th>\n",
       "      <td>3.85</td>\n",
       "      <td>4.86</td>\n",
       "      <td>0.00</td>\n",
       "      <td>0.0</td>\n",
       "      <td>62.10</td>\n",
       "      <td>100.00</td>\n",
       "    </tr>\n",
       "    <tr>\n",
       "      <th>2018-12-31 23:15:00</th>\n",
       "      <td>3.74</td>\n",
       "      <td>3.74</td>\n",
       "      <td>0.00</td>\n",
       "      <td>0.0</td>\n",
       "      <td>70.71</td>\n",
       "      <td>100.00</td>\n",
       "    </tr>\n",
       "    <tr>\n",
       "      <th>2018-12-31 23:30:00</th>\n",
       "      <td>3.78</td>\n",
       "      <td>3.17</td>\n",
       "      <td>0.07</td>\n",
       "      <td>0.0</td>\n",
       "      <td>76.62</td>\n",
       "      <td>99.98</td>\n",
       "    </tr>\n",
       "    <tr>\n",
       "      <th>2018-12-31 23:45:00</th>\n",
       "      <td>3.78</td>\n",
       "      <td>3.06</td>\n",
       "      <td>0.11</td>\n",
       "      <td>0.0</td>\n",
       "      <td>77.72</td>\n",
       "      <td>99.96</td>\n",
       "    </tr>\n",
       "    <tr>\n",
       "      <th>2018-12-31 00:00:00</th>\n",
       "      <td>3.67</td>\n",
       "      <td>3.02</td>\n",
       "      <td>0.07</td>\n",
       "      <td>0.0</td>\n",
       "      <td>77.22</td>\n",
       "      <td>99.98</td>\n",
       "    </tr>\n",
       "  </tbody>\n",
       "</table>\n",
       "<p>35040 rows × 6 columns</p>\n",
       "</div>"
      ],
      "text/plain": [
       "                     Usage_kWh  Lagging_Current_Reactive_Power_kVarh  \\\n",
       "date                                                                   \n",
       "2018-01-01 00:15:00       3.17                                  2.95   \n",
       "2018-01-01 00:30:00       4.00                                  4.46   \n",
       "2018-01-01 00:45:00       3.24                                  3.28   \n",
       "2018-01-01 01:00:00       3.31                                  3.56   \n",
       "2018-01-01 01:15:00       3.82                                  4.50   \n",
       "...                        ...                                   ...   \n",
       "2018-12-31 23:00:00       3.85                                  4.86   \n",
       "2018-12-31 23:15:00       3.74                                  3.74   \n",
       "2018-12-31 23:30:00       3.78                                  3.17   \n",
       "2018-12-31 23:45:00       3.78                                  3.06   \n",
       "2018-12-31 00:00:00       3.67                                  3.02   \n",
       "\n",
       "                     Leading_Current_Reactive_Power_kVarh  CO2  \\\n",
       "date                                                             \n",
       "2018-01-01 00:15:00                                  0.00  0.0   \n",
       "2018-01-01 00:30:00                                  0.00  0.0   \n",
       "2018-01-01 00:45:00                                  0.00  0.0   \n",
       "2018-01-01 01:00:00                                  0.00  0.0   \n",
       "2018-01-01 01:15:00                                  0.00  0.0   \n",
       "...                                                   ...  ...   \n",
       "2018-12-31 23:00:00                                  0.00  0.0   \n",
       "2018-12-31 23:15:00                                  0.00  0.0   \n",
       "2018-12-31 23:30:00                                  0.07  0.0   \n",
       "2018-12-31 23:45:00                                  0.11  0.0   \n",
       "2018-12-31 00:00:00                                  0.07  0.0   \n",
       "\n",
       "                     Lagging_Current_Power_Factor  \\\n",
       "date                                                \n",
       "2018-01-01 00:15:00                         73.21   \n",
       "2018-01-01 00:30:00                         66.77   \n",
       "2018-01-01 00:45:00                         70.28   \n",
       "2018-01-01 01:00:00                         68.09   \n",
       "2018-01-01 01:15:00                         64.72   \n",
       "...                                           ...   \n",
       "2018-12-31 23:00:00                         62.10   \n",
       "2018-12-31 23:15:00                         70.71   \n",
       "2018-12-31 23:30:00                         76.62   \n",
       "2018-12-31 23:45:00                         77.72   \n",
       "2018-12-31 00:00:00                         77.22   \n",
       "\n",
       "                     Leading_Current_Power_Factor  \n",
       "date                                               \n",
       "2018-01-01 00:15:00                        100.00  \n",
       "2018-01-01 00:30:00                        100.00  \n",
       "2018-01-01 00:45:00                        100.00  \n",
       "2018-01-01 01:00:00                        100.00  \n",
       "2018-01-01 01:15:00                        100.00  \n",
       "...                                           ...  \n",
       "2018-12-31 23:00:00                        100.00  \n",
       "2018-12-31 23:15:00                        100.00  \n",
       "2018-12-31 23:30:00                         99.98  \n",
       "2018-12-31 23:45:00                         99.96  \n",
       "2018-12-31 00:00:00                         99.98  \n",
       "\n",
       "[35040 rows x 6 columns]"
      ]
     },
     "metadata": {},
     "output_type": "display_data"
    }
   ],
   "source": [
    "display(df_num)"
   ]
  },
  {
   "cell_type": "code",
   "execution_count": 4,
   "metadata": {},
   "outputs": [
    {
     "data": {
      "text/plain": [
       "CO2\n",
       "0.00    20990\n",
       "0.02     4643\n",
       "0.03     4261\n",
       "0.04     1834\n",
       "0.01     1512\n",
       "0.05     1363\n",
       "0.06      410\n",
       "0.07       27\n",
       "Name: count, dtype: int64"
      ]
     },
     "execution_count": 4,
     "metadata": {},
     "output_type": "execute_result"
    }
   ],
   "source": [
    "df['CO2'].value_counts()"
   ]
  },
  {
   "cell_type": "code",
   "execution_count": 5,
   "metadata": {},
   "outputs": [
    {
     "data": {
      "text/html": [
       "<div>\n",
       "<style scoped>\n",
       "    .dataframe tbody tr th:only-of-type {\n",
       "        vertical-align: middle;\n",
       "    }\n",
       "\n",
       "    .dataframe tbody tr th {\n",
       "        vertical-align: top;\n",
       "    }\n",
       "\n",
       "    .dataframe thead th {\n",
       "        text-align: right;\n",
       "    }\n",
       "</style>\n",
       "<table border=\"1\" class=\"dataframe\">\n",
       "  <thead>\n",
       "    <tr style=\"text-align: right;\">\n",
       "      <th></th>\n",
       "      <th>Usage_kWh</th>\n",
       "      <th>Lagging_Current_Reactive_Power_kVarh</th>\n",
       "      <th>Leading_Current_Reactive_Power_kVarh</th>\n",
       "      <th>CO2</th>\n",
       "      <th>Lagging_Current_Power_Factor</th>\n",
       "      <th>Leading_Current_Power_Factor</th>\n",
       "    </tr>\n",
       "    <tr>\n",
       "      <th>date</th>\n",
       "      <th></th>\n",
       "      <th></th>\n",
       "      <th></th>\n",
       "      <th></th>\n",
       "      <th></th>\n",
       "      <th></th>\n",
       "    </tr>\n",
       "  </thead>\n",
       "  <tbody>\n",
       "    <tr>\n",
       "      <th>2018-01-01 00:15:00</th>\n",
       "      <td>-0.724095</td>\n",
       "      <td>-0.618508</td>\n",
       "      <td>-0.521378</td>\n",
       "      <td>-0.71354</td>\n",
       "      <td>-0.389405</td>\n",
       "      <td>0.513260</td>\n",
       "    </tr>\n",
       "    <tr>\n",
       "      <th>2018-01-01 00:30:00</th>\n",
       "      <td>-0.699277</td>\n",
       "      <td>-0.525904</td>\n",
       "      <td>-0.521378</td>\n",
       "      <td>-0.71354</td>\n",
       "      <td>-0.729762</td>\n",
       "      <td>0.513260</td>\n",
       "    </tr>\n",
       "    <tr>\n",
       "      <th>2018-01-01 00:45:00</th>\n",
       "      <td>-0.722002</td>\n",
       "      <td>-0.598270</td>\n",
       "      <td>-0.521378</td>\n",
       "      <td>-0.71354</td>\n",
       "      <td>-0.544257</td>\n",
       "      <td>0.513260</td>\n",
       "    </tr>\n",
       "    <tr>\n",
       "      <th>2018-01-01 01:00:00</th>\n",
       "      <td>-0.719908</td>\n",
       "      <td>-0.581098</td>\n",
       "      <td>-0.521378</td>\n",
       "      <td>-0.71354</td>\n",
       "      <td>-0.659999</td>\n",
       "      <td>0.513260</td>\n",
       "    </tr>\n",
       "    <tr>\n",
       "      <th>2018-01-01 01:15:00</th>\n",
       "      <td>-0.704659</td>\n",
       "      <td>-0.523450</td>\n",
       "      <td>-0.521378</td>\n",
       "      <td>-0.71354</td>\n",
       "      <td>-0.838105</td>\n",
       "      <td>0.513260</td>\n",
       "    </tr>\n",
       "    <tr>\n",
       "      <th>...</th>\n",
       "      <td>...</td>\n",
       "      <td>...</td>\n",
       "      <td>...</td>\n",
       "      <td>...</td>\n",
       "      <td>...</td>\n",
       "      <td>...</td>\n",
       "    </tr>\n",
       "    <tr>\n",
       "      <th>2018-12-31 23:00:00</th>\n",
       "      <td>-0.703762</td>\n",
       "      <td>-0.501373</td>\n",
       "      <td>-0.521378</td>\n",
       "      <td>-0.71354</td>\n",
       "      <td>-0.976573</td>\n",
       "      <td>0.513260</td>\n",
       "    </tr>\n",
       "    <tr>\n",
       "      <th>2018-12-31 23:15:00</th>\n",
       "      <td>-0.707051</td>\n",
       "      <td>-0.570059</td>\n",
       "      <td>-0.521378</td>\n",
       "      <td>-0.71354</td>\n",
       "      <td>-0.521531</td>\n",
       "      <td>0.513260</td>\n",
       "    </tr>\n",
       "    <tr>\n",
       "      <th>2018-12-31 23:30:00</th>\n",
       "      <td>-0.705855</td>\n",
       "      <td>-0.605016</td>\n",
       "      <td>-0.511949</td>\n",
       "      <td>-0.71354</td>\n",
       "      <td>-0.209185</td>\n",
       "      <td>0.512604</td>\n",
       "    </tr>\n",
       "    <tr>\n",
       "      <th>2018-12-31 23:45:00</th>\n",
       "      <td>-0.705855</td>\n",
       "      <td>-0.611762</td>\n",
       "      <td>-0.506562</td>\n",
       "      <td>-0.71354</td>\n",
       "      <td>-0.151049</td>\n",
       "      <td>0.511947</td>\n",
       "    </tr>\n",
       "    <tr>\n",
       "      <th>2018-12-31 00:00:00</th>\n",
       "      <td>-0.709144</td>\n",
       "      <td>-0.614215</td>\n",
       "      <td>-0.511949</td>\n",
       "      <td>-0.71354</td>\n",
       "      <td>-0.177475</td>\n",
       "      <td>0.512604</td>\n",
       "    </tr>\n",
       "  </tbody>\n",
       "</table>\n",
       "<p>35040 rows × 6 columns</p>\n",
       "</div>"
      ],
      "text/plain": [
       "                     Usage_kWh  Lagging_Current_Reactive_Power_kVarh  \\\n",
       "date                                                                   \n",
       "2018-01-01 00:15:00  -0.724095                             -0.618508   \n",
       "2018-01-01 00:30:00  -0.699277                             -0.525904   \n",
       "2018-01-01 00:45:00  -0.722002                             -0.598270   \n",
       "2018-01-01 01:00:00  -0.719908                             -0.581098   \n",
       "2018-01-01 01:15:00  -0.704659                             -0.523450   \n",
       "...                        ...                                   ...   \n",
       "2018-12-31 23:00:00  -0.703762                             -0.501373   \n",
       "2018-12-31 23:15:00  -0.707051                             -0.570059   \n",
       "2018-12-31 23:30:00  -0.705855                             -0.605016   \n",
       "2018-12-31 23:45:00  -0.705855                             -0.611762   \n",
       "2018-12-31 00:00:00  -0.709144                             -0.614215   \n",
       "\n",
       "                     Leading_Current_Reactive_Power_kVarh      CO2  \\\n",
       "date                                                                 \n",
       "2018-01-01 00:15:00                             -0.521378 -0.71354   \n",
       "2018-01-01 00:30:00                             -0.521378 -0.71354   \n",
       "2018-01-01 00:45:00                             -0.521378 -0.71354   \n",
       "2018-01-01 01:00:00                             -0.521378 -0.71354   \n",
       "2018-01-01 01:15:00                             -0.521378 -0.71354   \n",
       "...                                                   ...      ...   \n",
       "2018-12-31 23:00:00                             -0.521378 -0.71354   \n",
       "2018-12-31 23:15:00                             -0.521378 -0.71354   \n",
       "2018-12-31 23:30:00                             -0.511949 -0.71354   \n",
       "2018-12-31 23:45:00                             -0.506562 -0.71354   \n",
       "2018-12-31 00:00:00                             -0.511949 -0.71354   \n",
       "\n",
       "                     Lagging_Current_Power_Factor  \\\n",
       "date                                                \n",
       "2018-01-01 00:15:00                     -0.389405   \n",
       "2018-01-01 00:30:00                     -0.729762   \n",
       "2018-01-01 00:45:00                     -0.544257   \n",
       "2018-01-01 01:00:00                     -0.659999   \n",
       "2018-01-01 01:15:00                     -0.838105   \n",
       "...                                           ...   \n",
       "2018-12-31 23:00:00                     -0.976573   \n",
       "2018-12-31 23:15:00                     -0.521531   \n",
       "2018-12-31 23:30:00                     -0.209185   \n",
       "2018-12-31 23:45:00                     -0.151049   \n",
       "2018-12-31 00:00:00                     -0.177475   \n",
       "\n",
       "                     Leading_Current_Power_Factor  \n",
       "date                                               \n",
       "2018-01-01 00:15:00                      0.513260  \n",
       "2018-01-01 00:30:00                      0.513260  \n",
       "2018-01-01 00:45:00                      0.513260  \n",
       "2018-01-01 01:00:00                      0.513260  \n",
       "2018-01-01 01:15:00                      0.513260  \n",
       "...                                           ...  \n",
       "2018-12-31 23:00:00                      0.513260  \n",
       "2018-12-31 23:15:00                      0.513260  \n",
       "2018-12-31 23:30:00                      0.512604  \n",
       "2018-12-31 23:45:00                      0.511947  \n",
       "2018-12-31 00:00:00                      0.512604  \n",
       "\n",
       "[35040 rows x 6 columns]"
      ]
     },
     "metadata": {},
     "output_type": "display_data"
    },
    {
     "data": {
      "text/html": [
       "<div>\n",
       "<style scoped>\n",
       "    .dataframe tbody tr th:only-of-type {\n",
       "        vertical-align: middle;\n",
       "    }\n",
       "\n",
       "    .dataframe tbody tr th {\n",
       "        vertical-align: top;\n",
       "    }\n",
       "\n",
       "    .dataframe thead th {\n",
       "        text-align: right;\n",
       "    }\n",
       "</style>\n",
       "<table border=\"1\" class=\"dataframe\">\n",
       "  <thead>\n",
       "    <tr style=\"text-align: right;\">\n",
       "      <th></th>\n",
       "      <th>Usage_kWh</th>\n",
       "      <th>Lagging_Current_Reactive_Power_kVarh</th>\n",
       "      <th>Leading_Current_Reactive_Power_kVarh</th>\n",
       "      <th>CO2</th>\n",
       "      <th>Lagging_Current_Power_Factor</th>\n",
       "      <th>Leading_Current_Power_Factor</th>\n",
       "    </tr>\n",
       "    <tr>\n",
       "      <th>date</th>\n",
       "      <th></th>\n",
       "      <th></th>\n",
       "      <th></th>\n",
       "      <th></th>\n",
       "      <th></th>\n",
       "      <th></th>\n",
       "    </tr>\n",
       "  </thead>\n",
       "  <tbody>\n",
       "    <tr>\n",
       "      <th>2018-01-03 08:15:00</th>\n",
       "      <td>-0.959633</td>\n",
       "      <td>-0.370455</td>\n",
       "      <td>-0.317279</td>\n",
       "      <td>-0.700476</td>\n",
       "      <td>-0.683151</td>\n",
       "      <td>0.167664</td>\n",
       "    </tr>\n",
       "    <tr>\n",
       "      <th>2018-01-03 08:30:00</th>\n",
       "      <td>0.455226</td>\n",
       "      <td>0.475839</td>\n",
       "      <td>-0.317279</td>\n",
       "      <td>0.100899</td>\n",
       "      <td>-0.119938</td>\n",
       "      <td>0.167664</td>\n",
       "    </tr>\n",
       "    <tr>\n",
       "      <th>2018-01-03 08:45:00</th>\n",
       "      <td>1.768807</td>\n",
       "      <td>1.509145</td>\n",
       "      <td>-0.317279</td>\n",
       "      <td>1.703650</td>\n",
       "      <td>-0.154761</td>\n",
       "      <td>0.167664</td>\n",
       "    </tr>\n",
       "    <tr>\n",
       "      <th>2018-01-03 09:00:00</th>\n",
       "      <td>1.603151</td>\n",
       "      <td>0.236746</td>\n",
       "      <td>-0.317279</td>\n",
       "      <td>1.703650</td>\n",
       "      <td>0.724880</td>\n",
       "      <td>0.167664</td>\n",
       "    </tr>\n",
       "    <tr>\n",
       "      <th>2018-01-03 09:15:00</th>\n",
       "      <td>2.232269</td>\n",
       "      <td>0.795418</td>\n",
       "      <td>-0.317279</td>\n",
       "      <td>2.505026</td>\n",
       "      <td>0.573479</td>\n",
       "      <td>0.167664</td>\n",
       "    </tr>\n",
       "    <tr>\n",
       "      <th>...</th>\n",
       "      <td>...</td>\n",
       "      <td>...</td>\n",
       "      <td>...</td>\n",
       "      <td>...</td>\n",
       "      <td>...</td>\n",
       "      <td>...</td>\n",
       "    </tr>\n",
       "    <tr>\n",
       "      <th>2018-12-28 16:00:00</th>\n",
       "      <td>-1.171221</td>\n",
       "      <td>-1.629242</td>\n",
       "      <td>1.725551</td>\n",
       "      <td>-1.501852</td>\n",
       "      <td>1.374392</td>\n",
       "      <td>-0.195991</td>\n",
       "    </tr>\n",
       "    <tr>\n",
       "      <th>2018-12-28 16:15:00</th>\n",
       "      <td>-1.221295</td>\n",
       "      <td>-1.644037</td>\n",
       "      <td>2.052695</td>\n",
       "      <td>-1.501852</td>\n",
       "      <td>1.374392</td>\n",
       "      <td>-0.358130</td>\n",
       "    </tr>\n",
       "    <tr>\n",
       "      <th>2018-12-28 16:30:00</th>\n",
       "      <td>-1.218660</td>\n",
       "      <td>-1.646404</td>\n",
       "      <td>2.103584</td>\n",
       "      <td>-1.501852</td>\n",
       "      <td>1.374392</td>\n",
       "      <td>-0.378977</td>\n",
       "    </tr>\n",
       "    <tr>\n",
       "      <th>2018-12-28 16:45:00</th>\n",
       "      <td>-1.465262</td>\n",
       "      <td>-1.646404</td>\n",
       "      <td>3.412158</td>\n",
       "      <td>-1.501852</td>\n",
       "      <td>1.374392</td>\n",
       "      <td>-1.754843</td>\n",
       "    </tr>\n",
       "    <tr>\n",
       "      <th>2018-12-29 11:15:00</th>\n",
       "      <td>-1.367751</td>\n",
       "      <td>-1.646404</td>\n",
       "      <td>1.761900</td>\n",
       "      <td>-1.501852</td>\n",
       "      <td>1.374392</td>\n",
       "      <td>-0.367395</td>\n",
       "    </tr>\n",
       "  </tbody>\n",
       "</table>\n",
       "<p>14050 rows × 6 columns</p>\n",
       "</div>"
      ],
      "text/plain": [
       "                     Usage_kWh  Lagging_Current_Reactive_Power_kVarh  \\\n",
       "date                                                                   \n",
       "2018-01-03 08:15:00  -0.959633                             -0.370455   \n",
       "2018-01-03 08:30:00   0.455226                              0.475839   \n",
       "2018-01-03 08:45:00   1.768807                              1.509145   \n",
       "2018-01-03 09:00:00   1.603151                              0.236746   \n",
       "2018-01-03 09:15:00   2.232269                              0.795418   \n",
       "...                        ...                                   ...   \n",
       "2018-12-28 16:00:00  -1.171221                             -1.629242   \n",
       "2018-12-28 16:15:00  -1.221295                             -1.644037   \n",
       "2018-12-28 16:30:00  -1.218660                             -1.646404   \n",
       "2018-12-28 16:45:00  -1.465262                             -1.646404   \n",
       "2018-12-29 11:15:00  -1.367751                             -1.646404   \n",
       "\n",
       "                     Leading_Current_Reactive_Power_kVarh       CO2  \\\n",
       "date                                                                  \n",
       "2018-01-03 08:15:00                             -0.317279 -0.700476   \n",
       "2018-01-03 08:30:00                             -0.317279  0.100899   \n",
       "2018-01-03 08:45:00                             -0.317279  1.703650   \n",
       "2018-01-03 09:00:00                             -0.317279  1.703650   \n",
       "2018-01-03 09:15:00                             -0.317279  2.505026   \n",
       "...                                                   ...       ...   \n",
       "2018-12-28 16:00:00                              1.725551 -1.501852   \n",
       "2018-12-28 16:15:00                              2.052695 -1.501852   \n",
       "2018-12-28 16:30:00                              2.103584 -1.501852   \n",
       "2018-12-28 16:45:00                              3.412158 -1.501852   \n",
       "2018-12-29 11:15:00                              1.761900 -1.501852   \n",
       "\n",
       "                     Lagging_Current_Power_Factor  \\\n",
       "date                                                \n",
       "2018-01-03 08:15:00                     -0.683151   \n",
       "2018-01-03 08:30:00                     -0.119938   \n",
       "2018-01-03 08:45:00                     -0.154761   \n",
       "2018-01-03 09:00:00                      0.724880   \n",
       "2018-01-03 09:15:00                      0.573479   \n",
       "...                                           ...   \n",
       "2018-12-28 16:00:00                      1.374392   \n",
       "2018-12-28 16:15:00                      1.374392   \n",
       "2018-12-28 16:30:00                      1.374392   \n",
       "2018-12-28 16:45:00                      1.374392   \n",
       "2018-12-29 11:15:00                      1.374392   \n",
       "\n",
       "                     Leading_Current_Power_Factor  \n",
       "date                                               \n",
       "2018-01-03 08:15:00                      0.167664  \n",
       "2018-01-03 08:30:00                      0.167664  \n",
       "2018-01-03 08:45:00                      0.167664  \n",
       "2018-01-03 09:00:00                      0.167664  \n",
       "2018-01-03 09:15:00                      0.167664  \n",
       "...                                           ...  \n",
       "2018-12-28 16:00:00                     -0.195991  \n",
       "2018-12-28 16:15:00                     -0.358130  \n",
       "2018-12-28 16:30:00                     -0.378977  \n",
       "2018-12-28 16:45:00                     -1.754843  \n",
       "2018-12-29 11:15:00                     -0.367395  \n",
       "\n",
       "[14050 rows x 6 columns]"
      ]
     },
     "metadata": {},
     "output_type": "display_data"
    }
   ],
   "source": [
    "# Data normalization without for loop making mean of every column zero and variance one in df_num\n",
    "# store mean and variance of each column\n",
    "df_wt_co2 = df_num[df_num['CO2'] > 0]\n",
    "mean = df_num.mean()\n",
    "std = df_num.std()\n",
    "df_num = (df_num - df_num.mean())/df_num.std()\n",
    "\n",
    "mean_wt_co2 = df_wt_co2.mean()\n",
    "std_wt_co2 = df_wt_co2.std()\n",
    "df_wt_co2 = (df_wt_co2 - df_wt_co2.mean())/df_wt_co2.std()\n",
    "\n",
    "display(df_num)\n",
    "display(df_wt_co2)"
   ]
  },
  {
   "cell_type": "code",
   "execution_count": 6,
   "metadata": {},
   "outputs": [
    {
     "name": "stdout",
     "output_type": "stream",
     "text": [
      "[[3.78378644 2.02136479 2.21582244 2.51033127 2.42017451]\n",
      " [2.02136479 3.38187678 2.09535768 2.05737453 2.54816945]\n",
      " [2.21582244 2.09535768 3.17460814 2.02402418 2.34593717]\n",
      " [2.51033127 2.05737453 2.02402418 3.44767213 2.40384344]\n",
      " [2.42017451 2.54816945 2.34593717 2.40384344 3.80493417]]\n"
     ]
    },
    {
     "data": {
      "text/html": [
       "<div>\n",
       "<style scoped>\n",
       "    .dataframe tbody tr th:only-of-type {\n",
       "        vertical-align: middle;\n",
       "    }\n",
       "\n",
       "    .dataframe tbody tr th {\n",
       "        vertical-align: top;\n",
       "    }\n",
       "\n",
       "    .dataframe thead th {\n",
       "        text-align: right;\n",
       "    }\n",
       "</style>\n",
       "<table border=\"1\" class=\"dataframe\">\n",
       "  <thead>\n",
       "    <tr style=\"text-align: right;\">\n",
       "      <th></th>\n",
       "      <th>a</th>\n",
       "      <th>b</th>\n",
       "      <th>c</th>\n",
       "      <th>d</th>\n",
       "      <th>e</th>\n",
       "    </tr>\n",
       "  </thead>\n",
       "  <tbody>\n",
       "    <tr>\n",
       "      <th>0</th>\n",
       "      <td>0.987456</td>\n",
       "      <td>2.246578</td>\n",
       "      <td>0.913977</td>\n",
       "      <td>2.081892</td>\n",
       "      <td>1.619420</td>\n",
       "    </tr>\n",
       "    <tr>\n",
       "      <th>1</th>\n",
       "      <td>-1.652334</td>\n",
       "      <td>-1.755400</td>\n",
       "      <td>-1.476705</td>\n",
       "      <td>-0.510447</td>\n",
       "      <td>-2.538701</td>\n",
       "    </tr>\n",
       "    <tr>\n",
       "      <th>2</th>\n",
       "      <td>-0.679942</td>\n",
       "      <td>1.962931</td>\n",
       "      <td>0.511311</td>\n",
       "      <td>-0.039816</td>\n",
       "      <td>-0.619612</td>\n",
       "    </tr>\n",
       "    <tr>\n",
       "      <th>3</th>\n",
       "      <td>-1.374185</td>\n",
       "      <td>-1.351678</td>\n",
       "      <td>-1.299084</td>\n",
       "      <td>-1.856079</td>\n",
       "      <td>-2.829238</td>\n",
       "    </tr>\n",
       "    <tr>\n",
       "      <th>4</th>\n",
       "      <td>0.729174</td>\n",
       "      <td>-0.077227</td>\n",
       "      <td>-0.254464</td>\n",
       "      <td>0.270882</td>\n",
       "      <td>-2.493953</td>\n",
       "    </tr>\n",
       "    <tr>\n",
       "      <th>...</th>\n",
       "      <td>...</td>\n",
       "      <td>...</td>\n",
       "      <td>...</td>\n",
       "      <td>...</td>\n",
       "      <td>...</td>\n",
       "    </tr>\n",
       "    <tr>\n",
       "      <th>995</th>\n",
       "      <td>-1.446047</td>\n",
       "      <td>-0.698754</td>\n",
       "      <td>1.651382</td>\n",
       "      <td>-1.835224</td>\n",
       "      <td>1.386592</td>\n",
       "    </tr>\n",
       "    <tr>\n",
       "      <th>996</th>\n",
       "      <td>-1.736748</td>\n",
       "      <td>0.204982</td>\n",
       "      <td>0.269872</td>\n",
       "      <td>-0.837347</td>\n",
       "      <td>0.307173</td>\n",
       "    </tr>\n",
       "    <tr>\n",
       "      <th>997</th>\n",
       "      <td>-4.158973</td>\n",
       "      <td>-3.786938</td>\n",
       "      <td>-2.022488</td>\n",
       "      <td>-3.091011</td>\n",
       "      <td>-5.969624</td>\n",
       "    </tr>\n",
       "    <tr>\n",
       "      <th>998</th>\n",
       "      <td>0.278623</td>\n",
       "      <td>-0.848368</td>\n",
       "      <td>-0.691660</td>\n",
       "      <td>-0.533898</td>\n",
       "      <td>-0.021462</td>\n",
       "    </tr>\n",
       "    <tr>\n",
       "      <th>999</th>\n",
       "      <td>-3.128985</td>\n",
       "      <td>-4.025230</td>\n",
       "      <td>-4.364961</td>\n",
       "      <td>-4.015664</td>\n",
       "      <td>-4.901616</td>\n",
       "    </tr>\n",
       "  </tbody>\n",
       "</table>\n",
       "<p>1000 rows × 5 columns</p>\n",
       "</div>"
      ],
      "text/plain": [
       "            a         b         c         d         e\n",
       "0    0.987456  2.246578  0.913977  2.081892  1.619420\n",
       "1   -1.652334 -1.755400 -1.476705 -0.510447 -2.538701\n",
       "2   -0.679942  1.962931  0.511311 -0.039816 -0.619612\n",
       "3   -1.374185 -1.351678 -1.299084 -1.856079 -2.829238\n",
       "4    0.729174 -0.077227 -0.254464  0.270882 -2.493953\n",
       "..        ...       ...       ...       ...       ...\n",
       "995 -1.446047 -0.698754  1.651382 -1.835224  1.386592\n",
       "996 -1.736748  0.204982  0.269872 -0.837347  0.307173\n",
       "997 -4.158973 -3.786938 -2.022488 -3.091011 -5.969624\n",
       "998  0.278623 -0.848368 -0.691660 -0.533898 -0.021462\n",
       "999 -3.128985 -4.025230 -4.364961 -4.015664 -4.901616\n",
       "\n",
       "[1000 rows x 5 columns]"
      ]
     },
     "metadata": {},
     "output_type": "display_data"
    }
   ],
   "source": [
    "# Generate a multivariate normal data with 5 columns with mean 0 and variance 1\n",
    "# Generate a 5x5 covariance matrix\n",
    "cov_matrix = np.random.rand(5,5)\n",
    "cov_matrix = np.dot(cov_matrix, cov_matrix.T)\n",
    "cov_matrix = cov_matrix + np.eye(5)\n",
    "print(cov_matrix)\n",
    "\n",
    "# Generate 1000 samples from the multivariate normal distribution\n",
    "data = np.random.multivariate_normal(np.zeros(5), cov_matrix, 1000)\n",
    "data = pd.DataFrame(data, columns=['a', 'b', 'c', 'd', 'e'])\n",
    "display(data)"
   ]
  },
  {
   "cell_type": "code",
   "execution_count": 7,
   "metadata": {},
   "outputs": [
    {
     "ename": "NameError",
     "evalue": "name 'sm' is not defined",
     "output_type": "error",
     "traceback": [
      "\u001b[0;31m---------------------------------------------------------------------------\u001b[0m",
      "\u001b[0;31mNameError\u001b[0m                                 Traceback (most recent call last)",
      "Cell \u001b[0;32mIn[7], line 10\u001b[0m\n\u001b[1;32m      7\u001b[0m dist \u001b[38;5;241m=\u001b[39m np\u001b[38;5;241m.\u001b[39marray(dist)\n\u001b[1;32m      9\u001b[0m \u001b[38;5;66;03m# plot the qq plot\u001b[39;00m\n\u001b[0;32m---> 10\u001b[0m \u001b[43msm\u001b[49m\u001b[38;5;241m.\u001b[39mqqplot(dist, line \u001b[38;5;241m=\u001b[39m\u001b[38;5;124m'\u001b[39m\u001b[38;5;124m45\u001b[39m\u001b[38;5;124m'\u001b[39m, fit \u001b[38;5;241m=\u001b[39m \u001b[38;5;28;01mTrue\u001b[39;00m)\n\u001b[1;32m     11\u001b[0m plt\u001b[38;5;241m.\u001b[39mtitle(\u001b[38;5;124m'\u001b[39m\u001b[38;5;124mMultivariate QQ plot using Mahalanobis distance\u001b[39m\u001b[38;5;124m'\u001b[39m)\n",
      "\u001b[0;31mNameError\u001b[0m: name 'sm' is not defined"
     ]
    }
   ],
   "source": [
    "# multivariate qq pplot using mahalanobis distance\n",
    "from scipy.spatial.distance import mahalanobis\n",
    "# calculate the mahalanobis distance\n",
    "dist = []\n",
    "for i in range(len(df_wt_co2)):\n",
    "    dist.append(mahalanobis(df_wt_co2.iloc[i], np.zeros(6), np.linalg.inv(np.cov(df_wt_co2.T))))\n",
    "dist = np.array(dist)\n",
    "\n",
    "# plot the qq plot\n",
    "sm.qqplot(dist, line ='45', fit = True)\n",
    "plt.title('Multivariate QQ plot using Mahalanobis distance')"
   ]
  },
  {
   "cell_type": "code",
   "execution_count": 77,
   "metadata": {},
   "outputs": [
    {
     "data": {
      "image/png": "[encoded data removed]",
      "text/plain": [
       "<Figure size 640x480 with 1 Axes>"
      ]
     },
     "metadata": {},
     "output_type": "display_data"
    },
    {
     "data": {
      "image/png": "[encoded data removed]",
      "text/plain": [
       "<Figure size 640x480 with 1 Axes>"
      ]
     },
     "metadata": {},
     "output_type": "display_data"
    },
    {
     "data": {
      "image/png": "[encoded data removed]",
      "text/plain": [
       "<Figure size 640x480 with 1 Axes>"
      ]
     },
     "metadata": {},
     "output_type": "display_data"
    },
    {
     "data": {
      "image/png": "[encoded data removed]",
      "text/plain": [
       "<Figure size 640x480 with 1 Axes>"
      ]
     },
     "metadata": {},
     "output_type": "display_data"
    },
    {
     "data": {
      "image/png": "[encoded data removed]",
      "text/plain": [
       "<Figure size 640x480 with 1 Axes>"
      ]
     },
     "metadata": {},
     "output_type": "display_data"
    },
    {
     "data": {
      "image/png": "[encoded data removed]",
      "text/plain": [
       "<Figure size 640x480 with 1 Axes>"
      ]
     },
     "metadata": {},
     "output_type": "display_data"
    }
   ],
   "source": [
    "# check normality of df_num by qq plot\n",
    "\n",
    "\n",
    "for col in df_or.columns:\n",
    "    sm.qqplot(df_or[col], line ='45', fit = True)\n",
    "    plt.title(col)\n",
    "    plt.show()"
   ]
  },
  {
   "cell_type": "code",
   "execution_count": 74,
   "metadata": {},
   "outputs": [
    {
     "data": {
      "application/vnd.plotly.v1+json": {
       "config": {
        "plotlyServerURL": "https://plot.ly"
       },
       "data": [
        {
         "hovertemplate": "variable=Usage_kWh<br>date=%{x}<br>value=%{y}<extra></extra>",
         "legendgroup": "Usage_kWh",
         "line": {
          "color": "#636efa",
          "dash": "solid"
         },
         "marker": {
          "symbol": "circle"
         },
         "mode": "lines",
         "name": "Usage_kWh",
         "orientation": "v",
         "showlegend": true,
         "type": "scatter",
         "x": [
          1,
          2,
          3,
          4,
          5,
          6,
          7,
          8,
          9,
          10,
          11,
          12
         ],
         "xaxis": "x",
         "y": [
          0.4494593101888871,
          0.19890626280101661,
          -0.012789869845066727,
          -0.0010844096674067734,
          -0.02455641684121531,
          -0.1398425686188013,
          0.001718249545981692,
          -0.13005023774710164,
          -0.21793210930698162,
          0.03177175858149396,
          0.07623934880759729,
          -0.2217070904913869
         ],
         "yaxis": "y"
        },
        {
         "hovertemplate": "variable=Lagging_Current_Reactive_Power_kVarh<br>date=%{x}<br>value=%{y}<extra></extra>",
         "legendgroup": "Lagging_Current_Reactive_Power_kVarh",
         "line": {
          "color": "#EF553B",
          "dash": "solid"
         },
         "marker": {
          "symbol": "circle"
         },
         "mode": "lines",
         "name": "Lagging_Current_Reactive_Power_kVarh",
         "orientation": "v",
         "showlegend": true,
         "type": "scatter",
         "x": [
          1,
          2,
          3,
          4,
          5,
          6,
          7,
          8,
          9,
          10,
          11,
          12
         ],
         "xaxis": "x",
         "y": [
          0.32287179537804167,
          0.019488448501269923,
          -0.13961031006620336,
          -0.05969970712387765,
          -0.007469121302123012,
          -0.09897525504430911,
          0.01818997216715506,
          -0.012150465930011936,
          -0.0925273898988134,
          0.22261061092651585,
          0.11325937775218387,
          -0.288551749837603
         ],
         "yaxis": "y"
        },
        {
         "hovertemplate": "variable=Leading_Current_Reactive_Power_kVarh<br>date=%{x}<br>value=%{y}<extra></extra>",
         "legendgroup": "Leading_Current_Reactive_Power_kVarh",
         "line": {
          "color": "#00cc96",
          "dash": "solid"
         },
         "marker": {
          "symbol": "circle"
         },
         "mode": "lines",
         "name": "Leading_Current_Reactive_Power_kVarh",
         "orientation": "v",
         "showlegend": true,
         "type": "scatter",
         "x": [
          1,
          2,
          3,
          4,
          5,
          6,
          7,
          8,
          9,
          10,
          11,
          12
         ],
         "xaxis": "x",
         "y": [
          0.007054331645652293,
          0.06607170402629287,
          0.056210254348845676,
          0.04408745606296395,
          0.056327474372417204,
          0.05798062368811447,
          -0.07476977067690929,
          -0.018563900841771248,
          -0.07159992701503912,
          -0.1850878430535874,
          -0.13049448022481563,
          0.19595145781590415
         ],
         "yaxis": "y"
        },
        {
         "hovertemplate": "variable=CO2<br>date=%{x}<br>value=%{y}<extra></extra>",
         "legendgroup": "CO2",
         "line": {
          "color": "#ab63fa",
          "dash": "solid"
         },
         "marker": {
          "symbol": "circle"
         },
         "mode": "lines",
         "name": "CO2",
         "orientation": "v",
         "showlegend": true,
         "type": "scatter",
         "x": [
          1,
          2,
          3,
          4,
          5,
          6,
          7,
          8,
          9,
          10,
          11,
          12
         ],
         "xaxis": "x",
         "y": [
          0.40973414697787125,
          0.1903281692695219,
          -0.013652218838362368,
          0.0034427425332513237,
          -0.016356898325149114,
          -0.130924347355193,
          0.015058994175220058,
          -0.12183939830983238,
          -0.19929032269043345,
          0.03149512336415493,
          0.07159373052467029,
          -0.2294024209766593
         ],
         "yaxis": "y"
        },
        {
         "hovertemplate": "variable=Lagging_Current_Power_Factor<br>date=%{x}<br>value=%{y}<extra></extra>",
         "legendgroup": "Lagging_Current_Power_Factor",
         "line": {
          "color": "#FFA15A",
          "dash": "solid"
         },
         "marker": {
          "symbol": "circle"
         },
         "mode": "lines",
         "name": "Lagging_Current_Power_Factor",
         "orientation": "v",
         "showlegend": true,
         "type": "scatter",
         "x": [
          1,
          2,
          3,
          4,
          5,
          6,
          7,
          8,
          9,
          10,
          11,
          12
         ],
         "xaxis": "x",
         "y": [
          0.30559241652883107,
          0.31483686531653404,
          0.14630555654659022,
          0.04994563884925652,
          -0.07641957717336849,
          -0.17291966571629083,
          -0.005981640596581896,
          -0.27482942898891366,
          -0.3359792045615761,
          -0.3627174193581584,
          -0.005848632499553661,
          0.43348956687972345
         ],
         "yaxis": "y"
        },
        {
         "hovertemplate": "variable=Leading_Current_Power_Factor<br>date=%{x}<br>value=%{y}<extra></extra>",
         "legendgroup": "Leading_Current_Power_Factor",
         "line": {
          "color": "#19d3f3",
          "dash": "solid"
         },
         "marker": {
          "symbol": "circle"
         },
         "mode": "lines",
         "name": "Leading_Current_Power_Factor",
         "orientation": "v",
         "showlegend": true,
         "type": "scatter",
         "x": [
          1,
          2,
          3,
          4,
          5,
          6,
          7,
          8,
          9,
          10,
          11,
          12
         ],
         "xaxis": "x",
         "y": [
          0.11791944660849432,
          -0.008151915111799257,
          0.0606443208368143,
          0.03340615363098422,
          -0.02488972139868672,
          -0.06068581260713316,
          0.015161625956014137,
          -0.08611371451794939,
          -0.08961273697099664,
          0.11566830978015065,
          0.11186826415711969,
          -0.1861651841412554
         ],
         "yaxis": "y"
        }
       ],
       "layout": {
        "legend": {
         "title": {
          "text": "variable"
         },
         "tracegroupgap": 0
        },
        "margin": {
         "t": 60
        },
        "template": {
         "data": {
          "bar": [
           {
            "error_x": {
             "color": "#2a3f5f"
            },
            "error_y": {
             "color": "#2a3f5f"
            },
            "marker": {
             "line": {
              "color": "#E5ECF6",
              "width": 0.5
             },
             "pattern": {
              "fillmode": "overlay",
              "size": 10,
              "solidity": 0.2
             }
            },
            "type": "bar"
           }
          ],
          "barpolar": [
           {
            "marker": {
             "line": {
              "color": "#E5ECF6",
              "width": 0.5
             },
             "pattern": {
              "fillmode": "overlay",
              "size": 10,
              "solidity": 0.2
             }
            },
            "type": "barpolar"
           }
          ],
          "carpet": [
           {
            "aaxis": {
             "endlinecolor": "#2a3f5f",
             "gridcolor": "white",
             "linecolor": "white",
             "minorgridcolor": "white",
             "startlinecolor": "#2a3f5f"
            },
            "baxis": {
             "endlinecolor": "#2a3f5f",
             "gridcolor": "white",
             "linecolor": "white",
             "minorgridcolor": "white",
             "startlinecolor": "#2a3f5f"
            },
            "type": "carpet"
           }
          ],
          "choropleth": [
           {
            "colorbar": {
             "outlinewidth": 0,
             "ticks": ""
            },
            "type": "choropleth"
           }
          ],
          "contour": [
           {
            "colorbar": {
             "outlinewidth": 0,
             "ticks": ""
            },
            "colorscale": [
             [
              0,
              "#0d0887"
             ],
             [
              0.1111111111111111,
              "#46039f"
             ],
             [
              0.2222222222222222,
              "#7201a8"
             ],
             [
              0.3333333333333333,
              "#9c179e"
             ],
             [
              0.4444444444444444,
              "#bd3786"
             ],
             [
              0.5555555555555556,
              "#d8576b"
             ],
             [
              0.6666666666666666,
              "#ed7953"
             ],
             [
              0.7777777777777778,
              "#fb9f3a"
             ],
             [
              0.8888888888888888,
              "#fdca26"
             ],
             [
              1,
              "#f0f921"
             ]
            ],
            "type": "contour"
           }
          ],
          "contourcarpet": [
           {
            "colorbar": {
             "outlinewidth": 0,
             "ticks": ""
            },
            "type": "contourcarpet"
           }
          ],
          "heatmap": [
           {
            "colorbar": {
             "outlinewidth": 0,
             "ticks": ""
            },
            "colorscale": [
             [
              0,
              "#0d0887"
             ],
             [
              0.1111111111111111,
              "#46039f"
             ],
             [
              0.2222222222222222,
              "#7201a8"
             ],
             [
              0.3333333333333333,
              "#9c179e"
             ],
             [
              0.4444444444444444,
              "#bd3786"
             ],
             [
              0.5555555555555556,
              "#d8576b"
             ],
             [
              0.6666666666666666,
              "#ed7953"
             ],
             [
              0.7777777777777778,
              "#fb9f3a"
             ],
             [
              0.8888888888888888,
              "#fdca26"
             ],
             [
              1,
              "#f0f921"
             ]
            ],
            "type": "heatmap"
           }
          ],
          "heatmapgl": [
           {
            "colorbar": {
             "outlinewidth": 0,
             "ticks": ""
            },
            "colorscale": [
             [
              0,
              "#0d0887"
             ],
             [
              0.1111111111111111,
              "#46039f"
             ],
             [
              0.2222222222222222,
              "#7201a8"
             ],
             [
              0.3333333333333333,
              "#9c179e"
             ],
             [
              0.4444444444444444,
              "#bd3786"
             ],
             [
              0.5555555555555556,
              "#d8576b"
             ],
             [
              0.6666666666666666,
              "#ed7953"
             ],
             [
              0.7777777777777778,
              "#fb9f3a"
             ],
             [
              0.8888888888888888,
              "#fdca26"
             ],
             [
              1,
              "#f0f921"
             ]
            ],
            "type": "heatmapgl"
           }
          ],
          "histogram": [
           {
            "marker": {
             "pattern": {
              "fillmode": "overlay",
              "size": 10,
              "solidity": 0.2
             }
            },
            "type": "histogram"
           }
          ],
          "histogram2d": [
           {
            "colorbar": {
             "outlinewidth": 0,
             "ticks": ""
            },
            "colorscale": [
             [
              0,
              "#0d0887"
             ],
             [
              0.1111111111111111,
              "#46039f"
             ],
             [
              0.2222222222222222,
              "#7201a8"
             ],
             [
              0.3333333333333333,
              "#9c179e"
             ],
             [
              0.4444444444444444,
              "#bd3786"
             ],
             [
              0.5555555555555556,
              "#d8576b"
             ],
             [
              0.6666666666666666,
              "#ed7953"
             ],
             [
              0.7777777777777778,
              "#fb9f3a"
             ],
             [
              0.8888888888888888,
              "#fdca26"
             ],
             [
              1,
              "#f0f921"
             ]
            ],
            "type": "histogram2d"
           }
          ],
          "histogram2dcontour": [
           {
            "colorbar": {
             "outlinewidth": 0,
             "ticks": ""
            },
            "colorscale": [
             [
              0,
              "#0d0887"
             ],
             [
              0.1111111111111111,
              "#46039f"
             ],
             [
              0.2222222222222222,
              "#7201a8"
             ],
             [
              0.3333333333333333,
              "#9c179e"
             ],
             [
              0.4444444444444444,
              "#bd3786"
             ],
             [
              0.5555555555555556,
              "#d8576b"
             ],
             [
              0.6666666666666666,
              "#ed7953"
             ],
             [
              0.7777777777777778,
              "#fb9f3a"
             ],
             [
              0.8888888888888888,
              "#fdca26"
             ],
             [
              1,
              "#f0f921"
             ]
            ],
            "type": "histogram2dcontour"
           }
          ],
          "mesh3d": [
           {
            "colorbar": {
             "outlinewidth": 0,
             "ticks": ""
            },
            "type": "mesh3d"
           }
          ],
          "parcoords": [
           {
            "line": {
             "colorbar": {
              "outlinewidth": 0,
              "ticks": ""
             }
            },
            "type": "parcoords"
           }
          ],
          "pie": [
           {
            "automargin": true,
            "type": "pie"
           }
          ],
          "scatter": [
           {
            "fillpattern": {
             "fillmode": "overlay",
             "size": 10,
             "solidity": 0.2
            },
            "type": "scatter"
           }
          ],
          "scatter3d": [
           {
            "line": {
             "colorbar": {
              "outlinewidth": 0,
              "ticks": ""
             }
            },
            "marker": {
             "colorbar": {
              "outlinewidth": 0,
              "ticks": ""
             }
            },
            "type": "scatter3d"
           }
          ],
          "scattercarpet": [
           {
            "marker": {
             "colorbar": {
              "outlinewidth": 0,
              "ticks": ""
             }
            },
            "type": "scattercarpet"
           }
          ],
          "scattergeo": [
           {
            "marker": {
             "colorbar": {
              "outlinewidth": 0,
              "ticks": ""
             }
            },
            "type": "scattergeo"
           }
          ],
          "scattergl": [
           {
            "marker": {
             "colorbar": {
              "outlinewidth": 0,
              "ticks": ""
             }
            },
            "type": "scattergl"
           }
          ],
          "scattermapbox": [
           {
            "marker": {
             "colorbar": {
              "outlinewidth": 0,
              "ticks": ""
             }
            },
            "type": "scattermapbox"
           }
          ],
          "scatterpolar": [
           {
            "marker": {
             "colorbar": {
              "outlinewidth": 0,
              "ticks": ""
             }
            },
            "type": "scatterpolar"
           }
          ],
          "scatterpolargl": [
           {
            "marker": {
             "colorbar": {
              "outlinewidth": 0,
              "ticks": ""
             }
            },
            "type": "scatterpolargl"
           }
          ],
          "scatterternary": [
           {
            "marker": {
             "colorbar": {
              "outlinewidth": 0,
              "ticks": ""
             }
            },
            "type": "scatterternary"
           }
          ],
          "surface": [
           {
            "colorbar": {
             "outlinewidth": 0,
             "ticks": ""
            },
            "colorscale": [
             [
              0,
              "#0d0887"
             ],
             [
              0.1111111111111111,
              "#46039f"
             ],
             [
              0.2222222222222222,
              "#7201a8"
             ],
             [
              0.3333333333333333,
              "#9c179e"
             ],
             [
              0.4444444444444444,
              "#bd3786"
             ],
             [
              0.5555555555555556,
              "#d8576b"
             ],
             [
              0.6666666666666666,
              "#ed7953"
             ],
             [
              0.7777777777777778,
              "#fb9f3a"
             ],
             [
              0.8888888888888888,
              "#fdca26"
             ],
             [
              1,
              "#f0f921"
             ]
            ],
            "type": "surface"
           }
          ],
          "table": [
           {
            "cells": {
             "fill": {
              "color": "#EBF0F8"
             },
             "line": {
              "color": "white"
             }
            },
            "header": {
             "fill": {
              "color": "#C8D4E3"
             },
             "line": {
              "color": "white"
             }
            },
            "type": "table"
           }
          ]
         },
         "layout": {
          "annotationdefaults": {
           "arrowcolor": "#2a3f5f",
           "arrowhead": 0,
           "arrowwidth": 1
          },
          "autotypenumbers": "strict",
          "coloraxis": {
           "colorbar": {
            "outlinewidth": 0,
            "ticks": ""
           }
          },
          "colorscale": {
           "diverging": [
            [
             0,
             "#8e0152"
            ],
            [
             0.1,
             "#c51b7d"
            ],
            [
             0.2,
             "#de77ae"
            ],
            [
             0.3,
             "#f1b6da"
            ],
            [
             0.4,
             "#fde0ef"
            ],
            [
             0.5,
             "#f7f7f7"
            ],
            [
             0.6,
             "#e6f5d0"
            ],
            [
             0.7,
             "#b8e186"
            ],
            [
             0.8,
             "#7fbc41"
            ],
            [
             0.9,
             "#4d9221"
            ],
            [
             1,
             "#276419"
            ]
           ],
           "sequential": [
            [
             0,
             "#0d0887"
            ],
            [
             0.1111111111111111,
             "#46039f"
            ],
            [
             0.2222222222222222,
             "#7201a8"
            ],
            [
             0.3333333333333333,
             "#9c179e"
            ],
            [
             0.4444444444444444,
             "#bd3786"
            ],
            [
             0.5555555555555556,
             "#d8576b"
            ],
            [
             0.6666666666666666,
             "#ed7953"
            ],
            [
             0.7777777777777778,
             "#fb9f3a"
            ],
            [
             0.8888888888888888,
             "#fdca26"
            ],
            [
             1,
             "#f0f921"
            ]
           ],
           "sequentialminus": [
            [
             0,
             "#0d0887"
            ],
            [
             0.1111111111111111,
             "#46039f"
            ],
            [
             0.2222222222222222,
             "#7201a8"
            ],
            [
             0.3333333333333333,
             "#9c179e"
            ],
            [
             0.4444444444444444,
             "#bd3786"
            ],
            [
             0.5555555555555556,
             "#d8576b"
            ],
            [
             0.6666666666666666,
             "#ed7953"
            ],
            [
             0.7777777777777778,
             "#fb9f3a"
            ],
            [
             0.8888888888888888,
             "#fdca26"
            ],
            [
             1,
             "#f0f921"
            ]
           ]
          },
          "colorway": [
           "#636efa",
           "#EF553B",
           "#00cc96",
           "#ab63fa",
           "#FFA15A",
           "#19d3f3",
           "#FF6692",
           "#B6E880",
           "#FF97FF",
           "#FECB52"
          ],
          "font": {
           "color": "#2a3f5f"
          },
          "geo": {
           "bgcolor": "white",
           "lakecolor": "white",
           "landcolor": "#E5ECF6",
           "showlakes": true,
           "showland": true,
           "subunitcolor": "white"
          },
          "hoverlabel": {
           "align": "left"
          },
          "hovermode": "closest",
          "mapbox": {
           "style": "light"
          },
          "paper_bgcolor": "white",
          "plot_bgcolor": "#E5ECF6",
          "polar": {
           "angularaxis": {
            "gridcolor": "white",
            "linecolor": "white",
            "ticks": ""
           },
           "bgcolor": "#E5ECF6",
           "radialaxis": {
            "gridcolor": "white",
            "linecolor": "white",
            "ticks": ""
           }
          },
          "scene": {
           "xaxis": {
            "backgroundcolor": "#E5ECF6",
            "gridcolor": "white",
            "gridwidth": 2,
            "linecolor": "white",
            "showbackground": true,
            "ticks": "",
            "zerolinecolor": "white"
           },
           "yaxis": {
            "backgroundcolor": "#E5ECF6",
            "gridcolor": "white",
            "gridwidth": 2,
            "linecolor": "white",
            "showbackground": true,
            "ticks": "",
            "zerolinecolor": "white"
           },
           "zaxis": {
            "backgroundcolor": "#E5ECF6",
            "gridcolor": "white",
            "gridwidth": 2,
            "linecolor": "white",
            "showbackground": true,
            "ticks": "",
            "zerolinecolor": "white"
           }
          },
          "shapedefaults": {
           "line": {
            "color": "#2a3f5f"
           }
          },
          "ternary": {
           "aaxis": {
            "gridcolor": "white",
            "linecolor": "white",
            "ticks": ""
           },
           "baxis": {
            "gridcolor": "white",
            "linecolor": "white",
            "ticks": ""
           },
           "bgcolor": "#E5ECF6",
           "caxis": {
            "gridcolor": "white",
            "linecolor": "white",
            "ticks": ""
           }
          },
          "title": {
           "x": 0.05
          },
          "xaxis": {
           "automargin": true,
           "gridcolor": "white",
           "linecolor": "white",
           "ticks": "",
           "title": {
            "standoff": 15
           },
           "zerolinecolor": "white",
           "zerolinewidth": 2
          },
          "yaxis": {
           "automargin": true,
           "gridcolor": "white",
           "linecolor": "white",
           "ticks": "",
           "title": {
            "standoff": 15
           },
           "zerolinecolor": "white",
           "zerolinewidth": 2
          }
         }
        },
        "xaxis": {
         "anchor": "y",
         "domain": [
          0,
          1
         ],
         "title": {
          "text": "date"
         }
        },
        "yaxis": {
         "anchor": "x",
         "domain": [
          0,
          1
         ],
         "title": {
          "text": "value"
         }
        }
       }
      }
     },
     "metadata": {},
     "output_type": "display_data"
    }
   ],
   "source": [
    "# plotly monthly average values against month of df_num\n",
    "import plotly.express as px\n",
    "\n",
    "df_temp = df_num.copy()\n",
    "\n",
    "df_temp = df_temp.groupby(df_temp.index.month).mean()\n",
    "\n",
    "px.line(df_temp)"
   ]
  },
  {
   "cell_type": "code",
   "execution_count": 75,
   "metadata": {},
   "outputs": [
    {
     "ename": "NameError",
     "evalue": "name 'df_daily' is not defined",
     "output_type": "error",
     "traceback": [
      "\u001b[0;31m---------------------------------------------------------------------------\u001b[0m",
      "\u001b[0;31mNameError\u001b[0m                                 Traceback (most recent call last)",
      "Cell \u001b[0;32mIn[75], line 1\u001b[0m\n\u001b[0;32m----> 1\u001b[0m display(\u001b[43mdf_daily\u001b[49m\u001b[38;5;241m.\u001b[39mloc[df_daily\u001b[38;5;241m.\u001b[39mindex\u001b[38;5;241m.\u001b[39mmonth \u001b[38;5;241m<\u001b[39m\u001b[38;5;241m=\u001b[39m \u001b[38;5;241m6\u001b[39m, \u001b[38;5;124m'\u001b[39m\u001b[38;5;124mUsage_kWh\u001b[39m\u001b[38;5;124m'\u001b[39m]\u001b[38;5;241m.\u001b[39mdescribe())\n\u001b[1;32m      2\u001b[0m display(df_daily\u001b[38;5;241m.\u001b[39mloc[df_daily\u001b[38;5;241m.\u001b[39mindex\u001b[38;5;241m.\u001b[39mmonth \u001b[38;5;241m>\u001b[39m \u001b[38;5;241m6\u001b[39m, \u001b[38;5;124m'\u001b[39m\u001b[38;5;124mUsage_kWh\u001b[39m\u001b[38;5;124m'\u001b[39m]\u001b[38;5;241m.\u001b[39mdescribe())\n",
      "\u001b[0;31mNameError\u001b[0m: name 'df_daily' is not defined"
     ]
    }
   ],
   "source": [
    "display(df_daily.loc[df_daily.index.month <= 6, 'Usage_kWh'].describe())\n",
    "display(df_daily.loc[df_daily.index.month > 6, 'Usage_kWh'].describe())"
   ]
  },
  {
   "cell_type": "code",
   "execution_count": 102,
   "metadata": {},
   "outputs": [
    {
     "data": {
      "text/plain": [
       "count    17376.000000\n",
       "mean        29.995382\n",
       "std         35.355104\n",
       "min          2.480000\n",
       "25%          3.420000\n",
       "50%          5.130000\n",
       "75%         54.510000\n",
       "max        153.140000\n",
       "Name: Usage_kWh, dtype: float64"
      ]
     },
     "execution_count": 102,
     "metadata": {},
     "output_type": "execute_result"
    }
   ],
   "source": [
    "df.loc[df.index.month <= 6, 'Usage_kWh'].describe()"
   ]
  },
  {
   "cell_type": "code",
   "execution_count": 103,
   "metadata": {},
   "outputs": [
    {
     "data": {
      "text/plain": [
       "count    17376.000000\n",
       "mean        29.995382\n",
       "std         35.355104\n",
       "min          2.480000\n",
       "25%          3.420000\n",
       "50%          5.130000\n",
       "75%         54.510000\n",
       "max        153.140000\n",
       "Name: Usage_kWh, dtype: float64"
      ]
     },
     "execution_count": 103,
     "metadata": {},
     "output_type": "execute_result"
    }
   ],
   "source": [
    "df.loc[df.index.month <= 6, 'Usage_kWh'].describe()"
   ]
  },
  {
   "cell_type": "code",
   "execution_count": 104,
   "metadata": {},
   "outputs": [
    {
     "data": {
      "text/plain": [
       "count    17664.000000\n",
       "mean        24.820932\n",
       "std         31.240971\n",
       "min          0.000000\n",
       "25%          3.020000\n",
       "50%          4.000000\n",
       "75%         49.030000\n",
       "max        157.180000\n",
       "Name: Usage_kWh, dtype: float64"
      ]
     },
     "execution_count": 104,
     "metadata": {},
     "output_type": "execute_result"
    }
   ],
   "source": [
    "df.loc[df.index.month > 6, 'Usage_kWh'].describe()"
   ]
  },
  {
   "cell_type": "code",
   "execution_count": 105,
   "metadata": {},
   "outputs": [
    {
     "data": {
      "text/plain": [
       "Load_Type\n",
       "Light_Load      18072\n",
       "Medium_Load      9696\n",
       "Maximum_Load     7272\n",
       "Name: count, dtype: int64"
      ]
     },
     "execution_count": 105,
     "metadata": {},
     "output_type": "execute_result"
    }
   ],
   "source": [
    "df['Load_Type'].value_counts()"
   ]
  },
  {
   "cell_type": "code",
   "execution_count": 106,
   "metadata": {},
   "outputs": [
    {
     "data": {
      "text/plain": [
       "count    25056.000000\n",
       "mean        33.624727\n",
       "std         35.624802\n",
       "min          0.000000\n",
       "25%          3.460000\n",
       "50%          7.600000\n",
       "75%         58.727500\n",
       "max        157.180000\n",
       "Name: Usage_kWh, dtype: float64"
      ]
     },
     "execution_count": 106,
     "metadata": {},
     "output_type": "execute_result"
    }
   ],
   "source": [
    "df.loc[df['WeekStatus'] == 'Weekday', 'Usage_kWh'].describe()"
   ]
  },
  {
   "cell_type": "code",
   "execution_count": 107,
   "metadata": {},
   "outputs": [
    {
     "data": {
      "text/plain": [
       "count    25056.000000\n",
       "mean        33.624727\n",
       "std         35.624802\n",
       "min          0.000000\n",
       "25%          3.460000\n",
       "50%          7.600000\n",
       "75%         58.727500\n",
       "max        157.180000\n",
       "Name: Usage_kWh, dtype: float64"
      ]
     },
     "execution_count": 107,
     "metadata": {},
     "output_type": "execute_result"
    }
   ],
   "source": [
    "df.loc[df['WeekStatus'] == 'Weekday', 'Usage_kWh'].describe()"
   ]
  },
  {
   "cell_type": "code",
   "execution_count": 108,
   "metadata": {},
   "outputs": [
    {
     "data": {
      "text/plain": [
       "count    9984.000000\n",
       "mean       11.732327\n",
       "std        19.947867\n",
       "min         2.450000\n",
       "25%         3.020000\n",
       "50%         3.460000\n",
       "75%         4.820000\n",
       "max       133.420000\n",
       "Name: Usage_kWh, dtype: float64"
      ]
     },
     "execution_count": 108,
     "metadata": {},
     "output_type": "execute_result"
    }
   ],
   "source": [
    "df.loc[df['WeekStatus'] == 'Weekend', 'Usage_kWh'].describe()"
   ]
  },
  {
   "cell_type": "code",
   "execution_count": 109,
   "metadata": {},
   "outputs": [
    {
     "data": {
      "text/plain": [
       "WeekStatus\n",
       "Weekday    25056\n",
       "Weekend     9984\n",
       "Name: count, dtype: int64"
      ]
     },
     "execution_count": 109,
     "metadata": {},
     "output_type": "execute_result"
    }
   ],
   "source": [
    "df['WeekStatus'].value_counts()"
   ]
  },
  {
   "cell_type": "code",
   "execution_count": 110,
   "metadata": {},
   "outputs": [
    {
     "data": {
      "text/html": [
       "<div>\n",
       "<style scoped>\n",
       "    .dataframe tbody tr th:only-of-type {\n",
       "        vertical-align: middle;\n",
       "    }\n",
       "\n",
       "    .dataframe tbody tr th {\n",
       "        vertical-align: top;\n",
       "    }\n",
       "\n",
       "    .dataframe thead th {\n",
       "        text-align: right;\n",
       "    }\n",
       "</style>\n",
       "<table border=\"1\" class=\"dataframe\">\n",
       "  <thead>\n",
       "    <tr style=\"text-align: right;\">\n",
       "      <th></th>\n",
       "      <th>Usage_kWh</th>\n",
       "      <th>Lagging_Current_Reactive_Power_kVarh</th>\n",
       "      <th>Leading_Current_Reactive_Power_kVarh</th>\n",
       "      <th>CO2</th>\n",
       "      <th>Lagging_Current_Power_Factor</th>\n",
       "      <th>Leading_Current_Power_Factor</th>\n",
       "    </tr>\n",
       "  </thead>\n",
       "  <tbody>\n",
       "    <tr>\n",
       "      <th>count</th>\n",
       "      <td>35040.000000</td>\n",
       "      <td>35040.000000</td>\n",
       "      <td>35040.000000</td>\n",
       "      <td>35040.000000</td>\n",
       "      <td>35040.000000</td>\n",
       "      <td>35040.000000</td>\n",
       "    </tr>\n",
       "    <tr>\n",
       "      <th>mean</th>\n",
       "      <td>27.386892</td>\n",
       "      <td>13.035384</td>\n",
       "      <td>3.870949</td>\n",
       "      <td>0.011524</td>\n",
       "      <td>80.578056</td>\n",
       "      <td>84.367870</td>\n",
       "    </tr>\n",
       "    <tr>\n",
       "      <th>std</th>\n",
       "      <td>33.444380</td>\n",
       "      <td>16.306000</td>\n",
       "      <td>7.424463</td>\n",
       "      <td>0.016151</td>\n",
       "      <td>18.921322</td>\n",
       "      <td>30.456535</td>\n",
       "    </tr>\n",
       "    <tr>\n",
       "      <th>min</th>\n",
       "      <td>0.000000</td>\n",
       "      <td>0.000000</td>\n",
       "      <td>0.000000</td>\n",
       "      <td>0.000000</td>\n",
       "      <td>0.000000</td>\n",
       "      <td>0.000000</td>\n",
       "    </tr>\n",
       "    <tr>\n",
       "      <th>25%</th>\n",
       "      <td>3.200000</td>\n",
       "      <td>2.300000</td>\n",
       "      <td>0.000000</td>\n",
       "      <td>0.000000</td>\n",
       "      <td>63.320000</td>\n",
       "      <td>99.700000</td>\n",
       "    </tr>\n",
       "    <tr>\n",
       "      <th>50%</th>\n",
       "      <td>4.570000</td>\n",
       "      <td>5.000000</td>\n",
       "      <td>0.000000</td>\n",
       "      <td>0.000000</td>\n",
       "      <td>87.960000</td>\n",
       "      <td>100.000000</td>\n",
       "    </tr>\n",
       "    <tr>\n",
       "      <th>75%</th>\n",
       "      <td>51.237500</td>\n",
       "      <td>22.640000</td>\n",
       "      <td>2.090000</td>\n",
       "      <td>0.020000</td>\n",
       "      <td>99.022500</td>\n",
       "      <td>100.000000</td>\n",
       "    </tr>\n",
       "    <tr>\n",
       "      <th>max</th>\n",
       "      <td>157.180000</td>\n",
       "      <td>96.910000</td>\n",
       "      <td>27.760000</td>\n",
       "      <td>0.070000</td>\n",
       "      <td>100.000000</td>\n",
       "      <td>100.000000</td>\n",
       "    </tr>\n",
       "  </tbody>\n",
       "</table>\n",
       "</div>"
      ],
      "text/plain": [
       "          Usage_kWh  Lagging_Current_Reactive_Power_kVarh  \\\n",
       "count  35040.000000                          35040.000000   \n",
       "mean      27.386892                             13.035384   \n",
       "std       33.444380                             16.306000   \n",
       "min        0.000000                              0.000000   \n",
       "25%        3.200000                              2.300000   \n",
       "50%        4.570000                              5.000000   \n",
       "75%       51.237500                             22.640000   \n",
       "max      157.180000                             96.910000   \n",
       "\n",
       "       Leading_Current_Reactive_Power_kVarh           CO2  \\\n",
       "count                          35040.000000  35040.000000   \n",
       "mean                               3.870949      0.011524   \n",
       "std                                7.424463      0.016151   \n",
       "min                                0.000000      0.000000   \n",
       "25%                                0.000000      0.000000   \n",
       "50%                                0.000000      0.000000   \n",
       "75%                                2.090000      0.020000   \n",
       "max                               27.760000      0.070000   \n",
       "\n",
       "       Lagging_Current_Power_Factor  Leading_Current_Power_Factor  \n",
       "count                  35040.000000                  35040.000000  \n",
       "mean                      80.578056                     84.367870  \n",
       "std                       18.921322                     30.456535  \n",
       "min                        0.000000                      0.000000  \n",
       "25%                       63.320000                     99.700000  \n",
       "50%                       87.960000                    100.000000  \n",
       "75%                       99.022500                    100.000000  \n",
       "max                      100.000000                    100.000000  "
      ]
     },
     "execution_count": 110,
     "metadata": {},
     "output_type": "execute_result"
    }
   ],
   "source": [
    "df.describe()"
   ]
  },
  {
   "cell_type": "code",
   "execution_count": 111,
   "metadata": {},
   "outputs": [
    {
     "data": {
      "text/plain": [
       "Usage_kWh                               float64\n",
       "Lagging_Current_Reactive_Power_kVarh    float64\n",
       "Leading_Current_Reactive_Power_kVarh    float64\n",
       "CO2                                     float64\n",
       "Lagging_Current_Power_Factor            float64\n",
       "Leading_Current_Power_Factor            float64\n",
       "WeekStatus                               object\n",
       "Day_of_week                              object\n",
       "Load_Type                                object\n",
       "dtype: object"
      ]
     },
     "execution_count": 111,
     "metadata": {},
     "output_type": "execute_result"
    }
   ],
   "source": [
    "df.dtypes"
   ]
  },
  {
   "cell_type": "code",
   "execution_count": 112,
   "metadata": {},
   "outputs": [
    {
     "data": {
      "text/plain": [
       "Usage_kWh                               0\n",
       "Lagging_Current_Reactive_Power_kVarh    0\n",
       "Leading_Current_Reactive_Power_kVarh    0\n",
       "CO2                                     0\n",
       "Lagging_Current_Power_Factor            0\n",
       "Leading_Current_Power_Factor            0\n",
       "WeekStatus                              0\n",
       "Day_of_week                             0\n",
       "Load_Type                               0\n",
       "dtype: int64"
      ]
     },
     "execution_count": 112,
     "metadata": {},
     "output_type": "execute_result"
    }
   ],
   "source": [
    "# check nan values in columns\n",
    "df.isnull().sum()"
   ]
  },
  {
   "cell_type": "code",
   "execution_count": 113,
   "metadata": {},
   "outputs": [
    {
     "data": {
      "text/plain": [
       "35040"
      ]
     },
     "execution_count": 113,
     "metadata": {},
     "output_type": "execute_result"
    }
   ],
   "source": [
    "len(df_num)"
   ]
  },
  {
   "cell_type": "code",
   "execution_count": 114,
   "metadata": {},
   "outputs": [
    {
     "data": {
      "text/plain": [
       "Leading_Current_Power_Factor\n",
       "100.00    24430\n",
       "99.99       454\n",
       "99.98       207\n",
       "99.97       114\n",
       "99.96       111\n",
       "          ...  \n",
       "15.81         1\n",
       "49.79         1\n",
       "93.43         1\n",
       "32.26         1\n",
       "31.65         1\n",
       "Name: count, Length: 3366, dtype: int64"
      ]
     },
     "execution_count": 114,
     "metadata": {},
     "output_type": "execute_result"
    }
   ],
   "source": [
    "df['Leading_Current_Power_Factor'].value_counts()"
   ]
  },
  {
   "cell_type": "code",
   "execution_count": 115,
   "metadata": {},
   "outputs": [
    {
     "data": {
      "text/plain": [
       "<Axes: >"
      ]
     },
     "execution_count": 115,
     "metadata": {},
     "output_type": "execute_result"
    },
    {
     "data": {
      "image/png": "[encoded data removed]",
      "text/plain": [
       "<Figure size 640x480 with 1 Axes>"
      ]
     },
     "metadata": {},
     "output_type": "display_data"
    }
   ],
   "source": [
    "df['Leading_Current_Power_Factor'].hist(bins = 100)"
   ]
  },
  {
   "cell_type": "code",
   "execution_count": 116,
   "metadata": {},
   "outputs": [
    {
     "name": "stdout",
     "output_type": "stream",
     "text": [
      "Usage_kWh 1\n",
      "Lagging_Current_Reactive_Power_kVarh 7194\n",
      "Leading_Current_Reactive_Power_kVarh 23610\n",
      "CO2 20990\n",
      "Lagging_Current_Power_Factor 1\n",
      "Leading_Current_Power_Factor 1\n",
      "WeekStatus 0\n",
      "Day_of_week 0\n",
      "Load_Type 0\n"
     ]
    }
   ],
   "source": [
    "# check zero values\n",
    "for col in df.columns:\n",
    "    print(col, (df[col] == 0).sum())"
   ]
  },
  {
   "cell_type": "code",
   "execution_count": 117,
   "metadata": {},
   "outputs": [
    {
     "name": "stdout",
     "output_type": "stream",
     "text": [
      "Usage_kWh 0\n",
      "Lagging_Current_Reactive_Power_kVarh 0\n",
      "Leading_Current_Reactive_Power_kVarh 0\n",
      "CO2 56\n",
      "Lagging_Current_Power_Factor 0\n",
      "Leading_Current_Power_Factor 0\n",
      "NSM 0\n"
     ]
    }
   ],
   "source": [
    "# check zero values at daily level\n",
    "for col in df_daily.columns:\n",
    "    print(col, (df_daily[col] == 0).sum())"
   ]
  },
  {
   "cell_type": "code",
   "execution_count": null,
   "metadata": {},
   "outputs": [],
   "source": []
  },
  {
   "cell_type": "code",
   "execution_count": 118,
   "metadata": {},
   "outputs": [
    {
     "name": "stdout",
     "output_type": "stream",
     "text": [
      "                            OLS Regression Results                            \n",
      "==============================================================================\n",
      "Dep. Variable:              Usage_kWh   R-squared:                       0.980\n",
      "Model:                            OLS   Adj. R-squared:                  0.980\n",
      "Method:                 Least Squares   F-statistic:                 3.462e+05\n",
      "Date:                Tue, 22 Oct 2024   Prob (F-statistic):               0.00\n",
      "Time:                        16:43:48   Log-Likelihood:                 18963.\n",
      "No. Observations:               35040   AIC:                        -3.791e+04\n",
      "Df Residuals:                   35034   BIC:                        -3.786e+04\n",
      "Df Model:                           5                                         \n",
      "Covariance Type:            nonrobust                                         \n",
      "========================================================================================================\n",
      "                                           coef    std err          t      P>|t|      [0.025      0.975]\n",
      "--------------------------------------------------------------------------------------------------------\n",
      "const                                 6.505e-18      0.001   8.65e-15      1.000      -0.001       0.001\n",
      "Lagging_Current_Reactive_Power_kVarh     0.1468      0.002     77.645      0.000       0.143       0.150\n",
      "Leading_Current_Reactive_Power_kVarh     0.0311      0.002     13.383      0.000       0.027       0.036\n",
      "CO2                                      0.8159      0.002    350.455      0.000       0.811       0.820\n",
      "Lagging_Current_Power_Factor             0.0739      0.001     52.056      0.000       0.071       0.077\n",
      "Leading_Current_Power_Factor             0.0678      0.002     27.686      0.000       0.063       0.073\n",
      "==============================================================================\n",
      "Omnibus:                    42318.843   Durbin-Watson:                   1.010\n",
      "Prob(Omnibus):                  0.000   Jarque-Bera (JB):         23607129.418\n",
      "Skew:                           5.935   Prob(JB):                         0.00\n",
      "Kurtosis:                     129.603   Cond. No.                         7.64\n",
      "==============================================================================\n",
      "\n",
      "Notes:\n",
      "[1] Standard Errors assume that the covariance matrix of the errors is correctly specified.\n"
     ]
    }
   ],
   "source": [
    "import statsmodels.api as sm\n",
    "import statsmodels.stats.api as sms\n",
    "\n",
    "# Assuming df_num is your DataFrame and it has been defined earlier\n",
    "X = df_num.drop('Usage_kWh', axis=1)\n",
    "y = df_num['Usage_kWh']\n",
    "\n",
    "X = sm.add_constant(X)\n",
    "model = sm.OLS(y, X)\n",
    "results = model.fit()\n",
    "\n",
    "# Print the summary of the model\n",
    "print(results.summary())"
   ]
  },
  {
   "cell_type": "code",
   "execution_count": 119,
   "metadata": {},
   "outputs": [
    {
     "data": {
      "text/plain": [
       "Index(['Usage_kWh', 'Lagging_Current_Reactive_Power_kVarh',\n",
       "       'Leading_Current_Reactive_Power_kVarh', 'CO2',\n",
       "       'Lagging_Current_Power_Factor', 'Leading_Current_Power_Factor'],\n",
       "      dtype='object')"
      ]
     },
     "execution_count": 119,
     "metadata": {},
     "output_type": "execute_result"
    }
   ],
   "source": [
    "df_num.columns"
   ]
  },
  {
   "cell_type": "code",
   "execution_count": 120,
   "metadata": {},
   "outputs": [
    {
     "name": "stdout",
     "output_type": "stream",
     "text": [
      "                            OLS Regression Results                            \n",
      "==============================================================================\n",
      "Dep. Variable:              Usage_kWh   R-squared:                       0.980\n",
      "Model:                            OLS   Adj. R-squared:                  0.980\n",
      "Method:                 Least Squares   F-statistic:                 3.462e+05\n",
      "Date:                Tue, 22 Oct 2024   Prob (F-statistic):               0.00\n",
      "Time:                        16:43:48   Log-Likelihood:                 18963.\n",
      "No. Observations:               35040   AIC:                        -3.791e+04\n",
      "Df Residuals:                   35034   BIC:                        -3.786e+04\n",
      "Df Model:                           5                                         \n",
      "Covariance Type:            nonrobust                                         \n",
      "========================================================================================================\n",
      "                                           coef    std err          t      P>|t|      [0.025      0.975]\n",
      "--------------------------------------------------------------------------------------------------------\n",
      "Intercept                             6.505e-18      0.001   8.65e-15      1.000      -0.001       0.001\n",
      "CO2                                      0.8159      0.002    350.455      0.000       0.811       0.820\n",
      "Lagging_Current_Power_Factor             0.0739      0.001     52.056      0.000       0.071       0.077\n",
      "Lagging_Current_Reactive_Power_kVarh     0.1468      0.002     77.645      0.000       0.143       0.150\n",
      "Leading_Current_Power_Factor             0.0678      0.002     27.686      0.000       0.063       0.073\n",
      "Leading_Current_Reactive_Power_kVarh     0.0311      0.002     13.383      0.000       0.027       0.036\n",
      "==============================================================================\n",
      "Omnibus:                    42318.843   Durbin-Watson:                   1.010\n",
      "Prob(Omnibus):                  0.000   Jarque-Bera (JB):         23607129.418\n",
      "Skew:                           5.935   Prob(JB):                         0.00\n",
      "Kurtosis:                     129.603   Cond. No.                         7.64\n",
      "==============================================================================\n",
      "\n",
      "Notes:\n",
      "[1] Standard Errors assume that the covariance matrix of the errors is correctly specified.\n",
      "                                           sum_sq       df              F  \\\n",
      "CO2                                   2436.738369      1.0  122818.919733   \n",
      "Lagging_Current_Power_Factor            53.764086      1.0    2709.871143   \n",
      "Lagging_Current_Reactive_Power_kVarh   119.612046      1.0    6028.805763   \n",
      "Leading_Current_Power_Factor            15.208183      1.0     766.538035   \n",
      "Leading_Current_Reactive_Power_kVarh     3.553381      1.0     179.101072   \n",
      "Residual                               695.077698  35034.0            NaN   \n",
      "\n",
      "                                             PR(>F)  \n",
      "CO2                                    0.000000e+00  \n",
      "Lagging_Current_Power_Factor           0.000000e+00  \n",
      "Lagging_Current_Reactive_Power_kVarh   0.000000e+00  \n",
      "Leading_Current_Power_Factor          6.412383e-167  \n",
      "Leading_Current_Reactive_Power_kVarh   9.591189e-41  \n",
      "Residual                                        NaN  \n"
     ]
    }
   ],
   "source": [
    "\n",
    "import statsmodels.api as sm\n",
    "import statsmodels.formula.api as smf\n",
    "import statsmodels.stats.api as sms\n",
    "\n",
    "# Assuming df_num is your DataFrame and it has been defined earlier\n",
    "# Define the formula for the linear regression model\n",
    "formula = 'Usage_kWh ~ ' + ' + '.join(df_num.columns.difference(['Usage_kWh']))\n",
    "\n",
    "# Fit the model using the formula API\n",
    "model = smf.ols(formula, data=df_num).fit()\n",
    "\n",
    "# Print the summary of the model\n",
    "print(model.summary())\n",
    "\n",
    "# Get the ANOVA table\n",
    "anova_table = sms.anova_lm(model, typ=2)\n",
    "print(anova_table)"
   ]
  },
  {
   "cell_type": "code",
   "execution_count": 121,
   "metadata": {},
   "outputs": [],
   "source": [
    "# print "
   ]
  },
  {
   "cell_type": "code",
   "execution_count": 122,
   "metadata": {},
   "outputs": [
    {
     "data": {
      "text/plain": [
       "1.2653500773810003e-16"
      ]
     },
     "execution_count": 122,
     "metadata": {},
     "output_type": "execute_result"
    }
   ],
   "source": [
    "df_num['Usage_kWh'].mean()"
   ]
  },
  {
   "cell_type": "code",
   "execution_count": 123,
   "metadata": {},
   "outputs": [
    {
     "data": {
      "text/html": [
       "<div>\n",
       "<style scoped>\n",
       "    .dataframe tbody tr th:only-of-type {\n",
       "        vertical-align: middle;\n",
       "    }\n",
       "\n",
       "    .dataframe tbody tr th {\n",
       "        vertical-align: top;\n",
       "    }\n",
       "\n",
       "    .dataframe thead th {\n",
       "        text-align: right;\n",
       "    }\n",
       "</style>\n",
       "<table border=\"1\" class=\"dataframe\">\n",
       "  <thead>\n",
       "    <tr style=\"text-align: right;\">\n",
       "      <th></th>\n",
       "      <th>Usage_kWh</th>\n",
       "      <th>Lagging_Current_Reactive_Power_kVarh</th>\n",
       "      <th>Leading_Current_Reactive_Power_kVarh</th>\n",
       "      <th>CO2</th>\n",
       "      <th>Lagging_Current_Power_Factor</th>\n",
       "      <th>Leading_Current_Power_Factor</th>\n",
       "    </tr>\n",
       "    <tr>\n",
       "      <th>date</th>\n",
       "      <th></th>\n",
       "      <th></th>\n",
       "      <th></th>\n",
       "      <th></th>\n",
       "      <th></th>\n",
       "      <th></th>\n",
       "    </tr>\n",
       "  </thead>\n",
       "  <tbody>\n",
       "    <tr>\n",
       "      <th>2018-01-01 00:15:00</th>\n",
       "      <td>-0.724095</td>\n",
       "      <td>-0.618508</td>\n",
       "      <td>-0.521378</td>\n",
       "      <td>-0.71354</td>\n",
       "      <td>-0.389405</td>\n",
       "      <td>0.513260</td>\n",
       "    </tr>\n",
       "    <tr>\n",
       "      <th>2018-01-01 00:30:00</th>\n",
       "      <td>-0.699277</td>\n",
       "      <td>-0.525904</td>\n",
       "      <td>-0.521378</td>\n",
       "      <td>-0.71354</td>\n",
       "      <td>-0.729762</td>\n",
       "      <td>0.513260</td>\n",
       "    </tr>\n",
       "    <tr>\n",
       "      <th>2018-01-01 00:45:00</th>\n",
       "      <td>-0.722002</td>\n",
       "      <td>-0.598270</td>\n",
       "      <td>-0.521378</td>\n",
       "      <td>-0.71354</td>\n",
       "      <td>-0.544257</td>\n",
       "      <td>0.513260</td>\n",
       "    </tr>\n",
       "    <tr>\n",
       "      <th>2018-01-01 01:00:00</th>\n",
       "      <td>-0.719908</td>\n",
       "      <td>-0.581098</td>\n",
       "      <td>-0.521378</td>\n",
       "      <td>-0.71354</td>\n",
       "      <td>-0.659999</td>\n",
       "      <td>0.513260</td>\n",
       "    </tr>\n",
       "    <tr>\n",
       "      <th>2018-01-01 01:15:00</th>\n",
       "      <td>-0.704659</td>\n",
       "      <td>-0.523450</td>\n",
       "      <td>-0.521378</td>\n",
       "      <td>-0.71354</td>\n",
       "      <td>-0.838105</td>\n",
       "      <td>0.513260</td>\n",
       "    </tr>\n",
       "    <tr>\n",
       "      <th>...</th>\n",
       "      <td>...</td>\n",
       "      <td>...</td>\n",
       "      <td>...</td>\n",
       "      <td>...</td>\n",
       "      <td>...</td>\n",
       "      <td>...</td>\n",
       "    </tr>\n",
       "    <tr>\n",
       "      <th>2018-12-31 23:00:00</th>\n",
       "      <td>-0.703762</td>\n",
       "      <td>-0.501373</td>\n",
       "      <td>-0.521378</td>\n",
       "      <td>-0.71354</td>\n",
       "      <td>-0.976573</td>\n",
       "      <td>0.513260</td>\n",
       "    </tr>\n",
       "    <tr>\n",
       "      <th>2018-12-31 23:15:00</th>\n",
       "      <td>-0.707051</td>\n",
       "      <td>-0.570059</td>\n",
       "      <td>-0.521378</td>\n",
       "      <td>-0.71354</td>\n",
       "      <td>-0.521531</td>\n",
       "      <td>0.513260</td>\n",
       "    </tr>\n",
       "    <tr>\n",
       "      <th>2018-12-31 23:30:00</th>\n",
       "      <td>-0.705855</td>\n",
       "      <td>-0.605016</td>\n",
       "      <td>-0.511949</td>\n",
       "      <td>-0.71354</td>\n",
       "      <td>-0.209185</td>\n",
       "      <td>0.512604</td>\n",
       "    </tr>\n",
       "    <tr>\n",
       "      <th>2018-12-31 23:45:00</th>\n",
       "      <td>-0.705855</td>\n",
       "      <td>-0.611762</td>\n",
       "      <td>-0.506562</td>\n",
       "      <td>-0.71354</td>\n",
       "      <td>-0.151049</td>\n",
       "      <td>0.511947</td>\n",
       "    </tr>\n",
       "    <tr>\n",
       "      <th>2018-12-31 00:00:00</th>\n",
       "      <td>-0.709144</td>\n",
       "      <td>-0.614215</td>\n",
       "      <td>-0.511949</td>\n",
       "      <td>-0.71354</td>\n",
       "      <td>-0.177475</td>\n",
       "      <td>0.512604</td>\n",
       "    </tr>\n",
       "  </tbody>\n",
       "</table>\n",
       "<p>35040 rows × 6 columns</p>\n",
       "</div>"
      ],
      "text/plain": [
       "                     Usage_kWh  Lagging_Current_Reactive_Power_kVarh  \\\n",
       "date                                                                   \n",
       "2018-01-01 00:15:00  -0.724095                             -0.618508   \n",
       "2018-01-01 00:30:00  -0.699277                             -0.525904   \n",
       "2018-01-01 00:45:00  -0.722002                             -0.598270   \n",
       "2018-01-01 01:00:00  -0.719908                             -0.581098   \n",
       "2018-01-01 01:15:00  -0.704659                             -0.523450   \n",
       "...                        ...                                   ...   \n",
       "2018-12-31 23:00:00  -0.703762                             -0.501373   \n",
       "2018-12-31 23:15:00  -0.707051                             -0.570059   \n",
       "2018-12-31 23:30:00  -0.705855                             -0.605016   \n",
       "2018-12-31 23:45:00  -0.705855                             -0.611762   \n",
       "2018-12-31 00:00:00  -0.709144                             -0.614215   \n",
       "\n",
       "                     Leading_Current_Reactive_Power_kVarh      CO2  \\\n",
       "date                                                                 \n",
       "2018-01-01 00:15:00                             -0.521378 -0.71354   \n",
       "2018-01-01 00:30:00                             -0.521378 -0.71354   \n",
       "2018-01-01 00:45:00                             -0.521378 -0.71354   \n",
       "2018-01-01 01:00:00                             -0.521378 -0.71354   \n",
       "2018-01-01 01:15:00                             -0.521378 -0.71354   \n",
       "...                                                   ...      ...   \n",
       "2018-12-31 23:00:00                             -0.521378 -0.71354   \n",
       "2018-12-31 23:15:00                             -0.521378 -0.71354   \n",
       "2018-12-31 23:30:00                             -0.511949 -0.71354   \n",
       "2018-12-31 23:45:00                             -0.506562 -0.71354   \n",
       "2018-12-31 00:00:00                             -0.511949 -0.71354   \n",
       "\n",
       "                     Lagging_Current_Power_Factor  \\\n",
       "date                                                \n",
       "2018-01-01 00:15:00                     -0.389405   \n",
       "2018-01-01 00:30:00                     -0.729762   \n",
       "2018-01-01 00:45:00                     -0.544257   \n",
       "2018-01-01 01:00:00                     -0.659999   \n",
       "2018-01-01 01:15:00                     -0.838105   \n",
       "...                                           ...   \n",
       "2018-12-31 23:00:00                     -0.976573   \n",
       "2018-12-31 23:15:00                     -0.521531   \n",
       "2018-12-31 23:30:00                     -0.209185   \n",
       "2018-12-31 23:45:00                     -0.151049   \n",
       "2018-12-31 00:00:00                     -0.177475   \n",
       "\n",
       "                     Leading_Current_Power_Factor  \n",
       "date                                               \n",
       "2018-01-01 00:15:00                      0.513260  \n",
       "2018-01-01 00:30:00                      0.513260  \n",
       "2018-01-01 00:45:00                      0.513260  \n",
       "2018-01-01 01:00:00                      0.513260  \n",
       "2018-01-01 01:15:00                      0.513260  \n",
       "...                                           ...  \n",
       "2018-12-31 23:00:00                      0.513260  \n",
       "2018-12-31 23:15:00                      0.513260  \n",
       "2018-12-31 23:30:00                      0.512604  \n",
       "2018-12-31 23:45:00                      0.511947  \n",
       "2018-12-31 00:00:00                      0.512604  \n",
       "\n",
       "[35040 rows x 6 columns]"
      ]
     },
     "execution_count": 123,
     "metadata": {},
     "output_type": "execute_result"
    }
   ],
   "source": [
    "df_num"
   ]
  },
  {
   "cell_type": "markdown",
   "metadata": {},
   "source": [
    "## Divide the data into 2 populations"
   ]
  },
  {
   "cell_type": "code",
   "execution_count": null,
   "metadata": {},
   "outputs": [],
   "source": []
  }
 ],
 "metadata": {
  "kernelspec": {
   "display_name": "Python 3",
   "language": "python",
   "name": "python3"
  },
  "language_info": {
   "codemirror_mode": {
    "name": "ipython",
    "version": 3
   },
   "file_extension": ".py",
   "mimetype": "text/x-python",
   "name": "python",
   "nbconvert_exporter": "python",
   "pygments_lexer": "ipython3",
   "version": "3.9.6"
  }
 },
 "nbformat": 4,
 "nbformat_minor": 2
}
