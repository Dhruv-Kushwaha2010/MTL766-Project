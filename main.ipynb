{
 "cells": [
  {
   "cell_type": "code",
   "execution_count": 50,
   "metadata": {},
   "outputs": [],
   "source": [
    "# importing libraries\n",
    "import numpy as np\n",
    "import pandas as pd\n",
    "import matplotlib.pyplot as plt\n",
    "import scipy.stats as stats\n",
    "import seaborn as sns\n",
    "import statsmodels.api as sm\n",
    "import plotly.express as px\n",
    "import plotly.graph_objects as go"
   ]
  },
  {
   "cell_type": "markdown",
   "metadata": {},
   "source": [
    "## Data Preprocessing"
   ]
  },
  {
   "cell_type": "markdown",
   "metadata": {},
   "source": [
    "### We are doing the following things in preprocessing:\n",
    "- Formatting of index column as pandas datetime (time stamps)\n",
    "- Removing unnecessary columns from the dataframe\n",
    "- Creating a new dataframe which contains only numerical values (df_num)\n",
    "- Checking and removing any nan values"
   ]
  },
  {
   "cell_type": "code",
   "execution_count": 51,
   "metadata": {},
   "outputs": [
    {
     "data": {
      "text/html": [
       "<div>\n",
       "<style scoped>\n",
       "    .dataframe tbody tr th:only-of-type {\n",
       "        vertical-align: middle;\n",
       "    }\n",
       "\n",
       "    .dataframe tbody tr th {\n",
       "        vertical-align: top;\n",
       "    }\n",
       "\n",
       "    .dataframe thead th {\n",
       "        text-align: right;\n",
       "    }\n",
       "</style>\n",
       "<table border=\"1\" class=\"dataframe\">\n",
       "  <thead>\n",
       "    <tr style=\"text-align: right;\">\n",
       "      <th></th>\n",
       "      <th>Usage_kWh</th>\n",
       "      <th>Lagging_Current_Reactive_Power_kVarh</th>\n",
       "      <th>Leading_Current_Reactive_Power_kVarh</th>\n",
       "      <th>CO2</th>\n",
       "      <th>Lagging_Current_Power_Factor</th>\n",
       "      <th>Leading_Current_Power_Factor</th>\n",
       "      <th>WeekStatus</th>\n",
       "      <th>Day_of_week</th>\n",
       "      <th>Load_Type</th>\n",
       "    </tr>\n",
       "    <tr>\n",
       "      <th>date</th>\n",
       "      <th></th>\n",
       "      <th></th>\n",
       "      <th></th>\n",
       "      <th></th>\n",
       "      <th></th>\n",
       "      <th></th>\n",
       "      <th></th>\n",
       "      <th></th>\n",
       "      <th></th>\n",
       "    </tr>\n",
       "  </thead>\n",
       "  <tbody>\n",
       "    <tr>\n",
       "      <th>2018-01-01 00:15:00</th>\n",
       "      <td>3.17</td>\n",
       "      <td>2.95</td>\n",
       "      <td>0.00</td>\n",
       "      <td>0.0</td>\n",
       "      <td>73.21</td>\n",
       "      <td>100.00</td>\n",
       "      <td>Weekday</td>\n",
       "      <td>Monday</td>\n",
       "      <td>Light_Load</td>\n",
       "    </tr>\n",
       "    <tr>\n",
       "      <th>2018-01-01 00:30:00</th>\n",
       "      <td>4.00</td>\n",
       "      <td>4.46</td>\n",
       "      <td>0.00</td>\n",
       "      <td>0.0</td>\n",
       "      <td>66.77</td>\n",
       "      <td>100.00</td>\n",
       "      <td>Weekday</td>\n",
       "      <td>Monday</td>\n",
       "      <td>Light_Load</td>\n",
       "    </tr>\n",
       "    <tr>\n",
       "      <th>2018-01-01 00:45:00</th>\n",
       "      <td>3.24</td>\n",
       "      <td>3.28</td>\n",
       "      <td>0.00</td>\n",
       "      <td>0.0</td>\n",
       "      <td>70.28</td>\n",
       "      <td>100.00</td>\n",
       "      <td>Weekday</td>\n",
       "      <td>Monday</td>\n",
       "      <td>Light_Load</td>\n",
       "    </tr>\n",
       "    <tr>\n",
       "      <th>2018-01-01 01:00:00</th>\n",
       "      <td>3.31</td>\n",
       "      <td>3.56</td>\n",
       "      <td>0.00</td>\n",
       "      <td>0.0</td>\n",
       "      <td>68.09</td>\n",
       "      <td>100.00</td>\n",
       "      <td>Weekday</td>\n",
       "      <td>Monday</td>\n",
       "      <td>Light_Load</td>\n",
       "    </tr>\n",
       "    <tr>\n",
       "      <th>2018-01-01 01:15:00</th>\n",
       "      <td>3.82</td>\n",
       "      <td>4.50</td>\n",
       "      <td>0.00</td>\n",
       "      <td>0.0</td>\n",
       "      <td>64.72</td>\n",
       "      <td>100.00</td>\n",
       "      <td>Weekday</td>\n",
       "      <td>Monday</td>\n",
       "      <td>Light_Load</td>\n",
       "    </tr>\n",
       "    <tr>\n",
       "      <th>...</th>\n",
       "      <td>...</td>\n",
       "      <td>...</td>\n",
       "      <td>...</td>\n",
       "      <td>...</td>\n",
       "      <td>...</td>\n",
       "      <td>...</td>\n",
       "      <td>...</td>\n",
       "      <td>...</td>\n",
       "      <td>...</td>\n",
       "    </tr>\n",
       "    <tr>\n",
       "      <th>2018-12-31 23:00:00</th>\n",
       "      <td>3.85</td>\n",
       "      <td>4.86</td>\n",
       "      <td>0.00</td>\n",
       "      <td>0.0</td>\n",
       "      <td>62.10</td>\n",
       "      <td>100.00</td>\n",
       "      <td>Weekday</td>\n",
       "      <td>Monday</td>\n",
       "      <td>Light_Load</td>\n",
       "    </tr>\n",
       "    <tr>\n",
       "      <th>2018-12-31 23:15:00</th>\n",
       "      <td>3.74</td>\n",
       "      <td>3.74</td>\n",
       "      <td>0.00</td>\n",
       "      <td>0.0</td>\n",
       "      <td>70.71</td>\n",
       "      <td>100.00</td>\n",
       "      <td>Weekday</td>\n",
       "      <td>Monday</td>\n",
       "      <td>Light_Load</td>\n",
       "    </tr>\n",
       "    <tr>\n",
       "      <th>2018-12-31 23:30:00</th>\n",
       "      <td>3.78</td>\n",
       "      <td>3.17</td>\n",
       "      <td>0.07</td>\n",
       "      <td>0.0</td>\n",
       "      <td>76.62</td>\n",
       "      <td>99.98</td>\n",
       "      <td>Weekday</td>\n",
       "      <td>Monday</td>\n",
       "      <td>Light_Load</td>\n",
       "    </tr>\n",
       "    <tr>\n",
       "      <th>2018-12-31 23:45:00</th>\n",
       "      <td>3.78</td>\n",
       "      <td>3.06</td>\n",
       "      <td>0.11</td>\n",
       "      <td>0.0</td>\n",
       "      <td>77.72</td>\n",
       "      <td>99.96</td>\n",
       "      <td>Weekday</td>\n",
       "      <td>Monday</td>\n",
       "      <td>Light_Load</td>\n",
       "    </tr>\n",
       "    <tr>\n",
       "      <th>2018-12-31 00:00:00</th>\n",
       "      <td>3.67</td>\n",
       "      <td>3.02</td>\n",
       "      <td>0.07</td>\n",
       "      <td>0.0</td>\n",
       "      <td>77.22</td>\n",
       "      <td>99.98</td>\n",
       "      <td>Weekday</td>\n",
       "      <td>Monday</td>\n",
       "      <td>Light_Load</td>\n",
       "    </tr>\n",
       "  </tbody>\n",
       "</table>\n",
       "<p>35040 rows × 9 columns</p>\n",
       "</div>"
      ],
      "text/plain": [
       "                     Usage_kWh  Lagging_Current_Reactive_Power_kVarh  \\\n",
       "date                                                                   \n",
       "2018-01-01 00:15:00       3.17                                  2.95   \n",
       "2018-01-01 00:30:00       4.00                                  4.46   \n",
       "2018-01-01 00:45:00       3.24                                  3.28   \n",
       "2018-01-01 01:00:00       3.31                                  3.56   \n",
       "2018-01-01 01:15:00       3.82                                  4.50   \n",
       "...                        ...                                   ...   \n",
       "2018-12-31 23:00:00       3.85                                  4.86   \n",
       "2018-12-31 23:15:00       3.74                                  3.74   \n",
       "2018-12-31 23:30:00       3.78                                  3.17   \n",
       "2018-12-31 23:45:00       3.78                                  3.06   \n",
       "2018-12-31 00:00:00       3.67                                  3.02   \n",
       "\n",
       "                     Leading_Current_Reactive_Power_kVarh  CO2  \\\n",
       "date                                                             \n",
       "2018-01-01 00:15:00                                  0.00  0.0   \n",
       "2018-01-01 00:30:00                                  0.00  0.0   \n",
       "2018-01-01 00:45:00                                  0.00  0.0   \n",
       "2018-01-01 01:00:00                                  0.00  0.0   \n",
       "2018-01-01 01:15:00                                  0.00  0.0   \n",
       "...                                                   ...  ...   \n",
       "2018-12-31 23:00:00                                  0.00  0.0   \n",
       "2018-12-31 23:15:00                                  0.00  0.0   \n",
       "2018-12-31 23:30:00                                  0.07  0.0   \n",
       "2018-12-31 23:45:00                                  0.11  0.0   \n",
       "2018-12-31 00:00:00                                  0.07  0.0   \n",
       "\n",
       "                     Lagging_Current_Power_Factor  \\\n",
       "date                                                \n",
       "2018-01-01 00:15:00                         73.21   \n",
       "2018-01-01 00:30:00                         66.77   \n",
       "2018-01-01 00:45:00                         70.28   \n",
       "2018-01-01 01:00:00                         68.09   \n",
       "2018-01-01 01:15:00                         64.72   \n",
       "...                                           ...   \n",
       "2018-12-31 23:00:00                         62.10   \n",
       "2018-12-31 23:15:00                         70.71   \n",
       "2018-12-31 23:30:00                         76.62   \n",
       "2018-12-31 23:45:00                         77.72   \n",
       "2018-12-31 00:00:00                         77.22   \n",
       "\n",
       "                     Leading_Current_Power_Factor WeekStatus Day_of_week  \\\n",
       "date                                                                       \n",
       "2018-01-01 00:15:00                        100.00    Weekday      Monday   \n",
       "2018-01-01 00:30:00                        100.00    Weekday      Monday   \n",
       "2018-01-01 00:45:00                        100.00    Weekday      Monday   \n",
       "2018-01-01 01:00:00                        100.00    Weekday      Monday   \n",
       "2018-01-01 01:15:00                        100.00    Weekday      Monday   \n",
       "...                                           ...        ...         ...   \n",
       "2018-12-31 23:00:00                        100.00    Weekday      Monday   \n",
       "2018-12-31 23:15:00                        100.00    Weekday      Monday   \n",
       "2018-12-31 23:30:00                         99.98    Weekday      Monday   \n",
       "2018-12-31 23:45:00                         99.96    Weekday      Monday   \n",
       "2018-12-31 00:00:00                         99.98    Weekday      Monday   \n",
       "\n",
       "                      Load_Type  \n",
       "date                             \n",
       "2018-01-01 00:15:00  Light_Load  \n",
       "2018-01-01 00:30:00  Light_Load  \n",
       "2018-01-01 00:45:00  Light_Load  \n",
       "2018-01-01 01:00:00  Light_Load  \n",
       "2018-01-01 01:15:00  Light_Load  \n",
       "...                         ...  \n",
       "2018-12-31 23:00:00  Light_Load  \n",
       "2018-12-31 23:15:00  Light_Load  \n",
       "2018-12-31 23:30:00  Light_Load  \n",
       "2018-12-31 23:45:00  Light_Load  \n",
       "2018-12-31 00:00:00  Light_Load  \n",
       "\n",
       "[35040 rows x 9 columns]"
      ]
     },
     "metadata": {},
     "output_type": "display_data"
    }
   ],
   "source": [
    "# Reading the data\n",
    "df = pd.read_csv('Steel_industry_data.csv')\n",
    "df.drop(columns=['NSM'], inplace=True)\n",
    "df.rename(columns={'Lagging_Current_Reactive.Power_kVarh': 'Lagging_Current_Reactive_Power_kVarh', 'CO2(tCO2)' : 'CO2'}, inplace=True)\n",
    "df['date'] = pd.to_datetime(df['date'], format='%d/%m/%Y %H:%M')\n",
    "df.dropna(inplace=True)\n",
    "df.set_index('date', inplace=True)\n",
    "display(df)"
   ]
  },
  {
   "cell_type": "code",
   "execution_count": 52,
   "metadata": {},
   "outputs": [
    {
     "data": {
      "text/html": [
       "<div>\n",
       "<style scoped>\n",
       "    .dataframe tbody tr th:only-of-type {\n",
       "        vertical-align: middle;\n",
       "    }\n",
       "\n",
       "    .dataframe tbody tr th {\n",
       "        vertical-align: top;\n",
       "    }\n",
       "\n",
       "    .dataframe thead th {\n",
       "        text-align: right;\n",
       "    }\n",
       "</style>\n",
       "<table border=\"1\" class=\"dataframe\">\n",
       "  <thead>\n",
       "    <tr style=\"text-align: right;\">\n",
       "      <th></th>\n",
       "      <th>Usage_kWh</th>\n",
       "      <th>Lagging_Current_Reactive_Power_kVarh</th>\n",
       "      <th>Leading_Current_Reactive_Power_kVarh</th>\n",
       "      <th>CO2</th>\n",
       "      <th>Lagging_Current_Power_Factor</th>\n",
       "      <th>Leading_Current_Power_Factor</th>\n",
       "    </tr>\n",
       "    <tr>\n",
       "      <th>date</th>\n",
       "      <th></th>\n",
       "      <th></th>\n",
       "      <th></th>\n",
       "      <th></th>\n",
       "      <th></th>\n",
       "      <th></th>\n",
       "    </tr>\n",
       "  </thead>\n",
       "  <tbody>\n",
       "    <tr>\n",
       "      <th>2018-01-01 00:15:00</th>\n",
       "      <td>3.17</td>\n",
       "      <td>2.95</td>\n",
       "      <td>0.00</td>\n",
       "      <td>0.0</td>\n",
       "      <td>73.21</td>\n",
       "      <td>100.00</td>\n",
       "    </tr>\n",
       "    <tr>\n",
       "      <th>2018-01-01 00:30:00</th>\n",
       "      <td>4.00</td>\n",
       "      <td>4.46</td>\n",
       "      <td>0.00</td>\n",
       "      <td>0.0</td>\n",
       "      <td>66.77</td>\n",
       "      <td>100.00</td>\n",
       "    </tr>\n",
       "    <tr>\n",
       "      <th>2018-01-01 00:45:00</th>\n",
       "      <td>3.24</td>\n",
       "      <td>3.28</td>\n",
       "      <td>0.00</td>\n",
       "      <td>0.0</td>\n",
       "      <td>70.28</td>\n",
       "      <td>100.00</td>\n",
       "    </tr>\n",
       "    <tr>\n",
       "      <th>2018-01-01 01:00:00</th>\n",
       "      <td>3.31</td>\n",
       "      <td>3.56</td>\n",
       "      <td>0.00</td>\n",
       "      <td>0.0</td>\n",
       "      <td>68.09</td>\n",
       "      <td>100.00</td>\n",
       "    </tr>\n",
       "    <tr>\n",
       "      <th>2018-01-01 01:15:00</th>\n",
       "      <td>3.82</td>\n",
       "      <td>4.50</td>\n",
       "      <td>0.00</td>\n",
       "      <td>0.0</td>\n",
       "      <td>64.72</td>\n",
       "      <td>100.00</td>\n",
       "    </tr>\n",
       "    <tr>\n",
       "      <th>...</th>\n",
       "      <td>...</td>\n",
       "      <td>...</td>\n",
       "      <td>...</td>\n",
       "      <td>...</td>\n",
       "      <td>...</td>\n",
       "      <td>...</td>\n",
       "    </tr>\n",
       "    <tr>\n",
       "      <th>2018-12-31 23:00:00</th>\n",
       "      <td>3.85</td>\n",
       "      <td>4.86</td>\n",
       "      <td>0.00</td>\n",
       "      <td>0.0</td>\n",
       "      <td>62.10</td>\n",
       "      <td>100.00</td>\n",
       "    </tr>\n",
       "    <tr>\n",
       "      <th>2018-12-31 23:15:00</th>\n",
       "      <td>3.74</td>\n",
       "      <td>3.74</td>\n",
       "      <td>0.00</td>\n",
       "      <td>0.0</td>\n",
       "      <td>70.71</td>\n",
       "      <td>100.00</td>\n",
       "    </tr>\n",
       "    <tr>\n",
       "      <th>2018-12-31 23:30:00</th>\n",
       "      <td>3.78</td>\n",
       "      <td>3.17</td>\n",
       "      <td>0.07</td>\n",
       "      <td>0.0</td>\n",
       "      <td>76.62</td>\n",
       "      <td>99.98</td>\n",
       "    </tr>\n",
       "    <tr>\n",
       "      <th>2018-12-31 23:45:00</th>\n",
       "      <td>3.78</td>\n",
       "      <td>3.06</td>\n",
       "      <td>0.11</td>\n",
       "      <td>0.0</td>\n",
       "      <td>77.72</td>\n",
       "      <td>99.96</td>\n",
       "    </tr>\n",
       "    <tr>\n",
       "      <th>2018-12-31 00:00:00</th>\n",
       "      <td>3.67</td>\n",
       "      <td>3.02</td>\n",
       "      <td>0.07</td>\n",
       "      <td>0.0</td>\n",
       "      <td>77.22</td>\n",
       "      <td>99.98</td>\n",
       "    </tr>\n",
       "  </tbody>\n",
       "</table>\n",
       "<p>35040 rows × 6 columns</p>\n",
       "</div>"
      ],
      "text/plain": [
       "                     Usage_kWh  Lagging_Current_Reactive_Power_kVarh  \\\n",
       "date                                                                   \n",
       "2018-01-01 00:15:00       3.17                                  2.95   \n",
       "2018-01-01 00:30:00       4.00                                  4.46   \n",
       "2018-01-01 00:45:00       3.24                                  3.28   \n",
       "2018-01-01 01:00:00       3.31                                  3.56   \n",
       "2018-01-01 01:15:00       3.82                                  4.50   \n",
       "...                        ...                                   ...   \n",
       "2018-12-31 23:00:00       3.85                                  4.86   \n",
       "2018-12-31 23:15:00       3.74                                  3.74   \n",
       "2018-12-31 23:30:00       3.78                                  3.17   \n",
       "2018-12-31 23:45:00       3.78                                  3.06   \n",
       "2018-12-31 00:00:00       3.67                                  3.02   \n",
       "\n",
       "                     Leading_Current_Reactive_Power_kVarh  CO2  \\\n",
       "date                                                             \n",
       "2018-01-01 00:15:00                                  0.00  0.0   \n",
       "2018-01-01 00:30:00                                  0.00  0.0   \n",
       "2018-01-01 00:45:00                                  0.00  0.0   \n",
       "2018-01-01 01:00:00                                  0.00  0.0   \n",
       "2018-01-01 01:15:00                                  0.00  0.0   \n",
       "...                                                   ...  ...   \n",
       "2018-12-31 23:00:00                                  0.00  0.0   \n",
       "2018-12-31 23:15:00                                  0.00  0.0   \n",
       "2018-12-31 23:30:00                                  0.07  0.0   \n",
       "2018-12-31 23:45:00                                  0.11  0.0   \n",
       "2018-12-31 00:00:00                                  0.07  0.0   \n",
       "\n",
       "                     Lagging_Current_Power_Factor  \\\n",
       "date                                                \n",
       "2018-01-01 00:15:00                         73.21   \n",
       "2018-01-01 00:30:00                         66.77   \n",
       "2018-01-01 00:45:00                         70.28   \n",
       "2018-01-01 01:00:00                         68.09   \n",
       "2018-01-01 01:15:00                         64.72   \n",
       "...                                           ...   \n",
       "2018-12-31 23:00:00                         62.10   \n",
       "2018-12-31 23:15:00                         70.71   \n",
       "2018-12-31 23:30:00                         76.62   \n",
       "2018-12-31 23:45:00                         77.72   \n",
       "2018-12-31 00:00:00                         77.22   \n",
       "\n",
       "                     Leading_Current_Power_Factor  \n",
       "date                                               \n",
       "2018-01-01 00:15:00                        100.00  \n",
       "2018-01-01 00:30:00                        100.00  \n",
       "2018-01-01 00:45:00                        100.00  \n",
       "2018-01-01 01:00:00                        100.00  \n",
       "2018-01-01 01:15:00                        100.00  \n",
       "...                                           ...  \n",
       "2018-12-31 23:00:00                        100.00  \n",
       "2018-12-31 23:15:00                        100.00  \n",
       "2018-12-31 23:30:00                         99.98  \n",
       "2018-12-31 23:45:00                         99.96  \n",
       "2018-12-31 00:00:00                         99.98  \n",
       "\n",
       "[35040 rows x 6 columns]"
      ]
     },
     "metadata": {},
     "output_type": "display_data"
    }
   ],
   "source": [
    "# Displaying the dataframe that contains only numerical values\n",
    "df_num = df.select_dtypes(include=['number'])\n",
    "display(df_num)"
   ]
  },
  {
   "cell_type": "markdown",
   "metadata": {},
   "source": [
    "# Checking Normality"
   ]
  },
  {
   "cell_type": "markdown",
   "metadata": {},
   "source": [
    "### Checking normality for each column using univariate qq plot    "
   ]
  },
  {
   "cell_type": "code",
   "execution_count": 53,
   "metadata": {},
   "outputs": [
    {
     "data": {
      "image/png": "[encoded data removed]",
      "text/plain": [
       "<Figure size 1200x800 with 6 Axes>"
      ]
     },
     "metadata": {},
     "output_type": "display_data"
    }
   ],
   "source": [
    "import matplotlib.pyplot as plt\n",
    "import statsmodels.api as sm\n",
    "\n",
    "# Set up a 2x3 grid for the plots\n",
    "fig, axes = plt.subplots(2, 3, figsize=(12, 8))\n",
    "\n",
    "# Iterate over the columns and the corresponding axes\n",
    "for i, col in enumerate(df_num.columns):\n",
    "    row, col_idx = divmod(i, 3)  # Determine row and column in the grid\n",
    "    sm.qqplot(df_num[col], line='45', fit=True, ax=axes[row, col_idx])\n",
    "    axes[row, col_idx].set_title(col)\n",
    "\n",
    "# Adjust layout to prevent overlapping\n",
    "plt.tight_layout()\n",
    "plt.show()\n"
   ]
  },
  {
   "cell_type": "markdown",
   "metadata": {},
   "source": [
    "## Remarks\n",
    "- We can observe formation of flat lines in most of the plots.\n",
    "- This could be due to the fact that the production being very less in night or some anomaly similar to this.\n",
    "- We'll try to overcome this by resampling the data to daily level"
   ]
  },
  {
   "cell_type": "code",
   "execution_count": 54,
   "metadata": {},
   "outputs": [
    {
     "data": {
      "text/html": [
       "<div>\n",
       "<style scoped>\n",
       "    .dataframe tbody tr th:only-of-type {\n",
       "        vertical-align: middle;\n",
       "    }\n",
       "\n",
       "    .dataframe tbody tr th {\n",
       "        vertical-align: top;\n",
       "    }\n",
       "\n",
       "    .dataframe thead th {\n",
       "        text-align: right;\n",
       "    }\n",
       "</style>\n",
       "<table border=\"1\" class=\"dataframe\">\n",
       "  <thead>\n",
       "    <tr style=\"text-align: right;\">\n",
       "      <th></th>\n",
       "      <th>Usage_kWh</th>\n",
       "      <th>Lagging_Current_Reactive_Power_kVarh</th>\n",
       "      <th>Leading_Current_Reactive_Power_kVarh</th>\n",
       "      <th>CO2</th>\n",
       "      <th>Lagging_Current_Power_Factor</th>\n",
       "      <th>Leading_Current_Power_Factor</th>\n",
       "    </tr>\n",
       "    <tr>\n",
       "      <th>date</th>\n",
       "      <th></th>\n",
       "      <th></th>\n",
       "      <th></th>\n",
       "      <th></th>\n",
       "      <th></th>\n",
       "      <th></th>\n",
       "    </tr>\n",
       "  </thead>\n",
       "  <tbody>\n",
       "    <tr>\n",
       "      <th>2018-01-01</th>\n",
       "      <td>3.665208</td>\n",
       "      <td>1.735625</td>\n",
       "      <td>9.885000</td>\n",
       "      <td>0.000000</td>\n",
       "      <td>85.299375</td>\n",
       "      <td>57.076146</td>\n",
       "    </tr>\n",
       "    <tr>\n",
       "      <th>2018-01-02</th>\n",
       "      <td>41.150312</td>\n",
       "      <td>16.454479</td>\n",
       "      <td>3.063125</td>\n",
       "      <td>0.000000</td>\n",
       "      <td>84.207292</td>\n",
       "      <td>92.138125</td>\n",
       "    </tr>\n",
       "    <tr>\n",
       "      <th>2018-01-03</th>\n",
       "      <td>37.094271</td>\n",
       "      <td>13.391562</td>\n",
       "      <td>2.766562</td>\n",
       "      <td>0.015938</td>\n",
       "      <td>86.100000</td>\n",
       "      <td>92.617292</td>\n",
       "    </tr>\n",
       "    <tr>\n",
       "      <th>2018-01-04</th>\n",
       "      <td>51.851250</td>\n",
       "      <td>21.449063</td>\n",
       "      <td>2.339271</td>\n",
       "      <td>0.022604</td>\n",
       "      <td>84.128125</td>\n",
       "      <td>93.423750</td>\n",
       "    </tr>\n",
       "    <tr>\n",
       "      <th>2018-01-05</th>\n",
       "      <td>48.785417</td>\n",
       "      <td>20.422917</td>\n",
       "      <td>2.689167</td>\n",
       "      <td>0.021250</td>\n",
       "      <td>84.063021</td>\n",
       "      <td>92.862813</td>\n",
       "    </tr>\n",
       "    <tr>\n",
       "      <th>...</th>\n",
       "      <td>...</td>\n",
       "      <td>...</td>\n",
       "      <td>...</td>\n",
       "      <td>...</td>\n",
       "      <td>...</td>\n",
       "      <td>...</td>\n",
       "    </tr>\n",
       "    <tr>\n",
       "      <th>2018-12-27</th>\n",
       "      <td>27.227812</td>\n",
       "      <td>9.291250</td>\n",
       "      <td>2.440313</td>\n",
       "      <td>0.011146</td>\n",
       "      <td>89.655625</td>\n",
       "      <td>93.456667</td>\n",
       "    </tr>\n",
       "    <tr>\n",
       "      <th>2018-12-28</th>\n",
       "      <td>19.151875</td>\n",
       "      <td>6.244896</td>\n",
       "      <td>5.999062</td>\n",
       "      <td>0.007500</td>\n",
       "      <td>91.931562</td>\n",
       "      <td>81.060833</td>\n",
       "    </tr>\n",
       "    <tr>\n",
       "      <th>2018-12-29</th>\n",
       "      <td>3.931458</td>\n",
       "      <td>1.250417</td>\n",
       "      <td>9.224375</td>\n",
       "      <td>0.000104</td>\n",
       "      <td>90.275417</td>\n",
       "      <td>57.799271</td>\n",
       "    </tr>\n",
       "    <tr>\n",
       "      <th>2018-12-30</th>\n",
       "      <td>3.533333</td>\n",
       "      <td>1.257500</td>\n",
       "      <td>8.996875</td>\n",
       "      <td>0.000000</td>\n",
       "      <td>89.845208</td>\n",
       "      <td>56.814062</td>\n",
       "    </tr>\n",
       "    <tr>\n",
       "      <th>2018-12-31</th>\n",
       "      <td>3.532083</td>\n",
       "      <td>1.191875</td>\n",
       "      <td>8.802604</td>\n",
       "      <td>0.000000</td>\n",
       "      <td>90.808229</td>\n",
       "      <td>57.039167</td>\n",
       "    </tr>\n",
       "  </tbody>\n",
       "</table>\n",
       "<p>365 rows × 6 columns</p>\n",
       "</div>"
      ],
      "text/plain": [
       "            Usage_kWh  Lagging_Current_Reactive_Power_kVarh  \\\n",
       "date                                                          \n",
       "2018-01-01   3.665208                              1.735625   \n",
       "2018-01-02  41.150312                             16.454479   \n",
       "2018-01-03  37.094271                             13.391562   \n",
       "2018-01-04  51.851250                             21.449063   \n",
       "2018-01-05  48.785417                             20.422917   \n",
       "...               ...                                   ...   \n",
       "2018-12-27  27.227812                              9.291250   \n",
       "2018-12-28  19.151875                              6.244896   \n",
       "2018-12-29   3.931458                              1.250417   \n",
       "2018-12-30   3.533333                              1.257500   \n",
       "2018-12-31   3.532083                              1.191875   \n",
       "\n",
       "            Leading_Current_Reactive_Power_kVarh       CO2  \\\n",
       "date                                                         \n",
       "2018-01-01                              9.885000  0.000000   \n",
       "2018-01-02                              3.063125  0.000000   \n",
       "2018-01-03                              2.766562  0.015938   \n",
       "2018-01-04                              2.339271  0.022604   \n",
       "2018-01-05                              2.689167  0.021250   \n",
       "...                                          ...       ...   \n",
       "2018-12-27                              2.440313  0.011146   \n",
       "2018-12-28                              5.999062  0.007500   \n",
       "2018-12-29                              9.224375  0.000104   \n",
       "2018-12-30                              8.996875  0.000000   \n",
       "2018-12-31                              8.802604  0.000000   \n",
       "\n",
       "            Lagging_Current_Power_Factor  Leading_Current_Power_Factor  \n",
       "date                                                                    \n",
       "2018-01-01                     85.299375                     57.076146  \n",
       "2018-01-02                     84.207292                     92.138125  \n",
       "2018-01-03                     86.100000                     92.617292  \n",
       "2018-01-04                     84.128125                     93.423750  \n",
       "2018-01-05                     84.063021                     92.862813  \n",
       "...                                  ...                           ...  \n",
       "2018-12-27                     89.655625                     93.456667  \n",
       "2018-12-28                     91.931562                     81.060833  \n",
       "2018-12-29                     90.275417                     57.799271  \n",
       "2018-12-30                     89.845208                     56.814062  \n",
       "2018-12-31                     90.808229                     57.039167  \n",
       "\n",
       "[365 rows x 6 columns]"
      ]
     },
     "execution_count": 54,
     "metadata": {},
     "output_type": "execute_result"
    }
   ],
   "source": [
    "# Resampling the data to daily level as the original data does not look normal\n",
    "df_num_daily = df_num.resample('D').mean()\n",
    "df_num_daily "
   ]
  },
  {
   "cell_type": "code",
   "execution_count": 55,
   "metadata": {},
   "outputs": [
    {
     "data": {
      "text/html": [
       "<div>\n",
       "<style scoped>\n",
       "    .dataframe tbody tr th:only-of-type {\n",
       "        vertical-align: middle;\n",
       "    }\n",
       "\n",
       "    .dataframe tbody tr th {\n",
       "        vertical-align: top;\n",
       "    }\n",
       "\n",
       "    .dataframe thead th {\n",
       "        text-align: right;\n",
       "    }\n",
       "</style>\n",
       "<table border=\"1\" class=\"dataframe\">\n",
       "  <thead>\n",
       "    <tr style=\"text-align: right;\">\n",
       "      <th></th>\n",
       "      <th>Usage_kWh</th>\n",
       "      <th>Lagging_Current_Reactive_Power_kVarh</th>\n",
       "      <th>Leading_Current_Reactive_Power_kVarh</th>\n",
       "      <th>CO2</th>\n",
       "      <th>Lagging_Current_Power_Factor</th>\n",
       "      <th>Leading_Current_Power_Factor</th>\n",
       "    </tr>\n",
       "    <tr>\n",
       "      <th>date</th>\n",
       "      <th></th>\n",
       "      <th></th>\n",
       "      <th></th>\n",
       "      <th></th>\n",
       "      <th></th>\n",
       "      <th></th>\n",
       "    </tr>\n",
       "  </thead>\n",
       "  <tbody>\n",
       "    <tr>\n",
       "      <th>2018-01-01</th>\n",
       "      <td>-1.538524</td>\n",
       "      <td>-1.520027</td>\n",
       "      <td>2.135493</td>\n",
       "      <td>-1.563939</td>\n",
       "      <td>0.853128</td>\n",
       "      <td>-1.953859</td>\n",
       "    </tr>\n",
       "    <tr>\n",
       "      <th>2018-01-02</th>\n",
       "      <td>0.892658</td>\n",
       "      <td>0.459932</td>\n",
       "      <td>-0.286845</td>\n",
       "      <td>-1.563939</td>\n",
       "      <td>0.655792</td>\n",
       "      <td>0.556285</td>\n",
       "    </tr>\n",
       "    <tr>\n",
       "      <th>2018-01-03</th>\n",
       "      <td>0.629594</td>\n",
       "      <td>0.047913</td>\n",
       "      <td>-0.392150</td>\n",
       "      <td>0.598914</td>\n",
       "      <td>0.997799</td>\n",
       "      <td>0.590590</td>\n",
       "    </tr>\n",
       "    <tr>\n",
       "      <th>2018-01-04</th>\n",
       "      <td>1.586691</td>\n",
       "      <td>1.131795</td>\n",
       "      <td>-0.543874</td>\n",
       "      <td>1.503637</td>\n",
       "      <td>0.641487</td>\n",
       "      <td>0.648325</td>\n",
       "    </tr>\n",
       "    <tr>\n",
       "      <th>2018-01-05</th>\n",
       "      <td>1.387850</td>\n",
       "      <td>0.993760</td>\n",
       "      <td>-0.419632</td>\n",
       "      <td>1.319865</td>\n",
       "      <td>0.629723</td>\n",
       "      <td>0.608167</td>\n",
       "    </tr>\n",
       "    <tr>\n",
       "      <th>...</th>\n",
       "      <td>...</td>\n",
       "      <td>...</td>\n",
       "      <td>...</td>\n",
       "      <td>...</td>\n",
       "      <td>...</td>\n",
       "      <td>...</td>\n",
       "    </tr>\n",
       "    <tr>\n",
       "      <th>2018-12-27</th>\n",
       "      <td>-0.010317</td>\n",
       "      <td>-0.503655</td>\n",
       "      <td>-0.507996</td>\n",
       "      <td>-0.051355</td>\n",
       "      <td>1.640289</td>\n",
       "      <td>0.650682</td>\n",
       "    </tr>\n",
       "    <tr>\n",
       "      <th>2018-12-28</th>\n",
       "      <td>-0.534101</td>\n",
       "      <td>-0.913446</td>\n",
       "      <td>0.755659</td>\n",
       "      <td>-0.546126</td>\n",
       "      <td>2.051544</td>\n",
       "      <td>-0.236756</td>\n",
       "    </tr>\n",
       "    <tr>\n",
       "      <th>2018-12-29</th>\n",
       "      <td>-1.521255</td>\n",
       "      <td>-1.585296</td>\n",
       "      <td>1.900915</td>\n",
       "      <td>-1.549802</td>\n",
       "      <td>1.752284</td>\n",
       "      <td>-1.902089</td>\n",
       "    </tr>\n",
       "    <tr>\n",
       "      <th>2018-12-30</th>\n",
       "      <td>-1.547077</td>\n",
       "      <td>-1.584343</td>\n",
       "      <td>1.820134</td>\n",
       "      <td>-1.563939</td>\n",
       "      <td>1.674546</td>\n",
       "      <td>-1.972622</td>\n",
       "    </tr>\n",
       "    <tr>\n",
       "      <th>2018-12-31</th>\n",
       "      <td>-1.547158</td>\n",
       "      <td>-1.593171</td>\n",
       "      <td>1.751151</td>\n",
       "      <td>-1.563939</td>\n",
       "      <td>1.848561</td>\n",
       "      <td>-1.956506</td>\n",
       "    </tr>\n",
       "  </tbody>\n",
       "</table>\n",
       "<p>365 rows × 6 columns</p>\n",
       "</div>"
      ],
      "text/plain": [
       "            Usage_kWh  Lagging_Current_Reactive_Power_kVarh  \\\n",
       "date                                                          \n",
       "2018-01-01  -1.538524                             -1.520027   \n",
       "2018-01-02   0.892658                              0.459932   \n",
       "2018-01-03   0.629594                              0.047913   \n",
       "2018-01-04   1.586691                              1.131795   \n",
       "2018-01-05   1.387850                              0.993760   \n",
       "...               ...                                   ...   \n",
       "2018-12-27  -0.010317                             -0.503655   \n",
       "2018-12-28  -0.534101                             -0.913446   \n",
       "2018-12-29  -1.521255                             -1.585296   \n",
       "2018-12-30  -1.547077                             -1.584343   \n",
       "2018-12-31  -1.547158                             -1.593171   \n",
       "\n",
       "            Leading_Current_Reactive_Power_kVarh       CO2  \\\n",
       "date                                                         \n",
       "2018-01-01                              2.135493 -1.563939   \n",
       "2018-01-02                             -0.286845 -1.563939   \n",
       "2018-01-03                             -0.392150  0.598914   \n",
       "2018-01-04                             -0.543874  1.503637   \n",
       "2018-01-05                             -0.419632  1.319865   \n",
       "...                                          ...       ...   \n",
       "2018-12-27                             -0.507996 -0.051355   \n",
       "2018-12-28                              0.755659 -0.546126   \n",
       "2018-12-29                              1.900915 -1.549802   \n",
       "2018-12-30                              1.820134 -1.563939   \n",
       "2018-12-31                              1.751151 -1.563939   \n",
       "\n",
       "            Lagging_Current_Power_Factor  Leading_Current_Power_Factor  \n",
       "date                                                                    \n",
       "2018-01-01                      0.853128                     -1.953859  \n",
       "2018-01-02                      0.655792                      0.556285  \n",
       "2018-01-03                      0.997799                      0.590590  \n",
       "2018-01-04                      0.641487                      0.648325  \n",
       "2018-01-05                      0.629723                      0.608167  \n",
       "...                                  ...                           ...  \n",
       "2018-12-27                      1.640289                      0.650682  \n",
       "2018-12-28                      2.051544                     -0.236756  \n",
       "2018-12-29                      1.752284                     -1.902089  \n",
       "2018-12-30                      1.674546                     -1.972622  \n",
       "2018-12-31                      1.848561                     -1.956506  \n",
       "\n",
       "[365 rows x 6 columns]"
      ]
     },
     "execution_count": 55,
     "metadata": {},
     "output_type": "execute_result"
    }
   ],
   "source": [
    "# normalize df_num_daily\n",
    "df_num_daily = (df_num_daily - df_num_daily.mean())/df_num_daily.std()\n",
    "df_num_daily"
   ]
  },
  {
   "cell_type": "markdown",
   "metadata": {},
   "source": [
    "### Univarite qq plots for resampled daily data"
   ]
  },
  {
   "cell_type": "code",
   "execution_count": 56,
   "metadata": {},
   "outputs": [
    {
     "data": {
      "image/png": "[encoded data removed]",
      "text/plain": [
       "<Figure size 1200x800 with 6 Axes>"
      ]
     },
     "metadata": {},
     "output_type": "display_data"
    }
   ],
   "source": [
    "import matplotlib.pyplot as plt\n",
    "import statsmodels.api as sm\n",
    "\n",
    "# Set up a 2x3 grid for the plots\n",
    "fig, axes = plt.subplots(2, 3, figsize=(12, 8))\n",
    "\n",
    "# Iterate over the columns and corresponding axes\n",
    "for i, col in enumerate(df_num_daily.columns):\n",
    "    row, col_idx = divmod(i, 3)  # Determine row and column in the grid\n",
    "    sm.qqplot(df_num_daily[col], line='45', fit=True, ax=axes[row, col_idx])\n",
    "    axes[row, col_idx].set_title(col)\n",
    "\n",
    "# Adjust layout to prevent overlapping\n",
    "plt.tight_layout()\n",
    "plt.show()\n"
   ]
  },
  {
   "cell_type": "markdown",
   "metadata": {},
   "source": [
    "### The components seem more normal after resampling at daily level"
   ]
  },
  {
   "cell_type": "markdown",
   "metadata": {},
   "source": [
    "# Checking multivariate normality"
   ]
  },
  {
   "cell_type": "markdown",
   "metadata": {},
   "source": [
    "### Plotting mahalanobis distance with corresponding quantiles in chi square distribution "
   ]
  },
  {
   "cell_type": "code",
   "execution_count": 57,
   "metadata": {},
   "outputs": [
    {
     "data": {
      "image/png": "[encoded data removed]",
      "text/plain": [
       "<Figure size 640x480 with 1 Axes>"
      ]
     },
     "metadata": {},
     "output_type": "display_data"
    }
   ],
   "source": [
    "# multivariate qq pplot using mahalanobis distance\n",
    "from scipy.spatial.distance import mahalanobis\n",
    "# calculate the mahalanobis distance\n",
    "dist = []\n",
    "for i in list(range(0, 1)) + list(range(2, len(df_num_daily))):\n",
    "    dist.append(mahalanobis(df_num_daily.iloc[i], np.zeros(6), np.linalg.inv(np.cov(df_num_daily.T))))\n",
    "dist = np.array(dist)\n",
    "\n",
    "# # remove max element from dist\n",
    "dist = np.delete(dist, np.array(dist).argmax())\n",
    "\n",
    "# plot the qq plot\n",
    "sm.qqplot(dist, line ='45', fit = True)\n",
    "plt.title('Multivariate QQ plot using Mahalanobis distance')\n",
    "plt.show()"
   ]
  },
  {
   "cell_type": "markdown",
   "metadata": {},
   "source": [
    "### The data looks normal in the middle, but we can also observe some outliers at the extremities of the plot\n",
    "### This could be due to the small number of data points (only 365 data points in our case) or anomalies in the data itself"
   ]
  },
  {
   "cell_type": "markdown",
   "metadata": {},
   "source": [
    "# Visualizing data"
   ]
  },
  {
   "cell_type": "code",
   "execution_count": 58,
   "metadata": {},
   "outputs": [],
   "source": [
    "def plot_correlation_matrix(df, width=800, height=800):\n",
    "    \"\"\"\n",
    "    Create a correlation matrix heatmap using plotly with red-green color scheme.\n",
    "    \n",
    "    Parameters:\n",
    "    df (pandas.DataFrame): Input dataframe\n",
    "    width (int): Width of the plot in pixels\n",
    "    height (int): Height of the plot in pixels\n",
    "    \n",
    "    Returns:\n",
    "    plotly.graph_objects.Figure: Correlation matrix plot\n",
    "    \"\"\"\n",
    "    # Calculate correlation matrix\n",
    "    corr_matrix = df.corr()\n",
    "    \n",
    "    # Create custom color scale (red for negative, green for positive)\n",
    "    colors = [[0, 'red'],\n",
    "              [0.5, 'white'],\n",
    "              [1, 'green']]\n",
    "    \n",
    "    # Create heatmap\n",
    "    fig = go.Figure(data=go.Heatmap(\n",
    "        z=corr_matrix,\n",
    "        x=corr_matrix.columns,\n",
    "        y=corr_matrix.columns,\n",
    "        zmin=-1,\n",
    "        zmax=1,\n",
    "        colorscale=colors,\n",
    "        text=np.round(corr_matrix, 2),  # Round to 2 decimal places\n",
    "        texttemplate='%{text}',  # Show the text for all cells\n",
    "        textfont={\"size\": 10},\n",
    "        hoverongaps=False,\n",
    "        hovertemplate='%{x} vs %{y}<br>Correlation: %{z:.2f}<extra></extra>'\n",
    "    ))\n",
    "    \n",
    "    # Update layout\n",
    "    fig.update_layout(\n",
    "        width=width,\n",
    "        height=height,\n",
    "        title='Correlation Matrix',\n",
    "        xaxis_title='Features',\n",
    "        yaxis_title='Features',\n",
    "        xaxis={'side': 'bottom'},\n",
    "        yaxis={'side': 'left'},\n",
    "    )\n",
    "    \n",
    "    return fig"
   ]
  },
  {
   "cell_type": "code",
   "execution_count": 59,
   "metadata": {},
   "outputs": [
    {
     "data": {
      "application/vnd.plotly.v1+json": {
       "config": {
        "plotlyServerURL": "https://plot.ly"
       },
       "data": [
        {
         "colorscale": [
          [
           0,
           "red"
          ],
          [
           0.5,
           "white"
          ],
          [
           1,
           "green"
          ]
         ],
         "hoverongaps": false,
         "hovertemplate": "%{x} vs %{y}<br>Correlation: %{z:.2f}<extra></extra>",
         "text": [
          [
           1,
           0.94,
           -0.82,
           0.99,
           0.02,
           0.86
          ],
          [
           0.94,
           1,
           -0.85,
           0.93,
           -0.22,
           0.84
          ],
          [
           -0.82,
           -0.85,
           1,
           -0.82,
           0.32,
           -0.95
          ],
          [
           0.99,
           0.93,
           -0.82,
           1,
           0.01,
           0.86
          ],
          [
           0.02,
           -0.22,
           0.32,
           0.01,
           1,
           -0.17
          ],
          [
           0.86,
           0.84,
           -0.95,
           0.86,
           -0.17,
           1
          ]
         ],
         "textfont": {
          "size": 10
         },
         "texttemplate": "%{text}",
         "type": "heatmap",
         "x": [
          "Usage_kWh",
          "Lagging_Current_Reactive_Power_kVarh",
          "Leading_Current_Reactive_Power_kVarh",
          "CO2",
          "Lagging_Current_Power_Factor",
          "Leading_Current_Power_Factor"
         ],
         "y": [
          "Usage_kWh",
          "Lagging_Current_Reactive_Power_kVarh",
          "Leading_Current_Reactive_Power_kVarh",
          "CO2",
          "Lagging_Current_Power_Factor",
          "Leading_Current_Power_Factor"
         ],
         "z": [
          [
           1,
           0.9370495895920775,
           -0.8167826302404029,
           0.9905072253656052,
           0.024183874476247615,
           0.8573526144213007
          ],
          [
           0.9370495895920775,
           1,
           -0.8457477000106781,
           0.9325829463435764,
           -0.22384829653491922,
           0.8398684397270277
          ],
          [
           -0.8167826302404029,
           -0.8457477000106781,
           1,
           -0.8213000593155084,
           0.32272425959467554,
           -0.947876492388961
          ],
          [
           0.9905072253656052,
           0.9325829463435764,
           -0.8213000593155084,
           1,
           0.010449407831200769,
           0.8567784584283534
          ],
          [
           0.024183874476247615,
           -0.22384829653491922,
           0.32272425959467554,
           0.010449407831200769,
           1,
           -0.17475893748414512
          ],
          [
           0.8573526144213007,
           0.8398684397270277,
           -0.947876492388961,
           0.8567784584283534,
           -0.17475893748414512,
           1
          ]
         ],
         "zmax": 1,
         "zmin": -1
        }
       ],
       "layout": {
        "height": 600,
        "template": {
         "data": {
          "bar": [
           {
            "error_x": {
             "color": "#2a3f5f"
            },
            "error_y": {
             "color": "#2a3f5f"
            },
            "marker": {
             "line": {
              "color": "#E5ECF6",
              "width": 0.5
             },
             "pattern": {
              "fillmode": "overlay",
              "size": 10,
              "solidity": 0.2
             }
            },
            "type": "bar"
           }
          ],
          "barpolar": [
           {
            "marker": {
             "line": {
              "color": "#E5ECF6",
              "width": 0.5
             },
             "pattern": {
              "fillmode": "overlay",
              "size": 10,
              "solidity": 0.2
             }
            },
            "type": "barpolar"
           }
          ],
          "carpet": [
           {
            "aaxis": {
             "endlinecolor": "#2a3f5f",
             "gridcolor": "white",
             "linecolor": "white",
             "minorgridcolor": "white",
             "startlinecolor": "#2a3f5f"
            },
            "baxis": {
             "endlinecolor": "#2a3f5f",
             "gridcolor": "white",
             "linecolor": "white",
             "minorgridcolor": "white",
             "startlinecolor": "#2a3f5f"
            },
            "type": "carpet"
           }
          ],
          "choropleth": [
           {
            "colorbar": {
             "outlinewidth": 0,
             "ticks": ""
            },
            "type": "choropleth"
           }
          ],
          "contour": [
           {
            "colorbar": {
             "outlinewidth": 0,
             "ticks": ""
            },
            "colorscale": [
             [
              0,
              "#0d0887"
             ],
             [
              0.1111111111111111,
              "#46039f"
             ],
             [
              0.2222222222222222,
              "#7201a8"
             ],
             [
              0.3333333333333333,
              "#9c179e"
             ],
             [
              0.4444444444444444,
              "#bd3786"
             ],
             [
              0.5555555555555556,
              "#d8576b"
             ],
             [
              0.6666666666666666,
              "#ed7953"
             ],
             [
              0.7777777777777778,
              "#fb9f3a"
             ],
             [
              0.8888888888888888,
              "#fdca26"
             ],
             [
              1,
              "#f0f921"
             ]
            ],
            "type": "contour"
           }
          ],
          "contourcarpet": [
           {
            "colorbar": {
             "outlinewidth": 0,
             "ticks": ""
            },
            "type": "contourcarpet"
           }
          ],
          "heatmap": [
           {
            "colorbar": {
             "outlinewidth": 0,
             "ticks": ""
            },
            "colorscale": [
             [
              0,
              "#0d0887"
             ],
             [
              0.1111111111111111,
              "#46039f"
             ],
             [
              0.2222222222222222,
              "#7201a8"
             ],
             [
              0.3333333333333333,
              "#9c179e"
             ],
             [
              0.4444444444444444,
              "#bd3786"
             ],
             [
              0.5555555555555556,
              "#d8576b"
             ],
             [
              0.6666666666666666,
              "#ed7953"
             ],
             [
              0.7777777777777778,
              "#fb9f3a"
             ],
             [
              0.8888888888888888,
              "#fdca26"
             ],
             [
              1,
              "#f0f921"
             ]
            ],
            "type": "heatmap"
           }
          ],
          "heatmapgl": [
           {
            "colorbar": {
             "outlinewidth": 0,
             "ticks": ""
            },
            "colorscale": [
             [
              0,
              "#0d0887"
             ],
             [
              0.1111111111111111,
              "#46039f"
             ],
             [
              0.2222222222222222,
              "#7201a8"
             ],
             [
              0.3333333333333333,
              "#9c179e"
             ],
             [
              0.4444444444444444,
              "#bd3786"
             ],
             [
              0.5555555555555556,
              "#d8576b"
             ],
             [
              0.6666666666666666,
              "#ed7953"
             ],
             [
              0.7777777777777778,
              "#fb9f3a"
             ],
             [
              0.8888888888888888,
              "#fdca26"
             ],
             [
              1,
              "#f0f921"
             ]
            ],
            "type": "heatmapgl"
           }
          ],
          "histogram": [
           {
            "marker": {
             "pattern": {
              "fillmode": "overlay",
              "size": 10,
              "solidity": 0.2
             }
            },
            "type": "histogram"
           }
          ],
          "histogram2d": [
           {
            "colorbar": {
             "outlinewidth": 0,
             "ticks": ""
            },
            "colorscale": [
             [
              0,
              "#0d0887"
             ],
             [
              0.1111111111111111,
              "#46039f"
             ],
             [
              0.2222222222222222,
              "#7201a8"
             ],
             [
              0.3333333333333333,
              "#9c179e"
             ],
             [
              0.4444444444444444,
              "#bd3786"
             ],
             [
              0.5555555555555556,
              "#d8576b"
             ],
             [
              0.6666666666666666,
              "#ed7953"
             ],
             [
              0.7777777777777778,
              "#fb9f3a"
             ],
             [
              0.8888888888888888,
              "#fdca26"
             ],
             [
              1,
              "#f0f921"
             ]
            ],
            "type": "histogram2d"
           }
          ],
          "histogram2dcontour": [
           {
            "colorbar": {
             "outlinewidth": 0,
             "ticks": ""
            },
            "colorscale": [
             [
              0,
              "#0d0887"
             ],
             [
              0.1111111111111111,
              "#46039f"
             ],
             [
              0.2222222222222222,
              "#7201a8"
             ],
             [
              0.3333333333333333,
              "#9c179e"
             ],
             [
              0.4444444444444444,
              "#bd3786"
             ],
             [
              0.5555555555555556,
              "#d8576b"
             ],
             [
              0.6666666666666666,
              "#ed7953"
             ],
             [
              0.7777777777777778,
              "#fb9f3a"
             ],
             [
              0.8888888888888888,
              "#fdca26"
             ],
             [
              1,
              "#f0f921"
             ]
            ],
            "type": "histogram2dcontour"
           }
          ],
          "mesh3d": [
           {
            "colorbar": {
             "outlinewidth": 0,
             "ticks": ""
            },
            "type": "mesh3d"
           }
          ],
          "parcoords": [
           {
            "line": {
             "colorbar": {
              "outlinewidth": 0,
              "ticks": ""
             }
            },
            "type": "parcoords"
           }
          ],
          "pie": [
           {
            "automargin": true,
            "type": "pie"
           }
          ],
          "scatter": [
           {
            "fillpattern": {
             "fillmode": "overlay",
             "size": 10,
             "solidity": 0.2
            },
            "type": "scatter"
           }
          ],
          "scatter3d": [
           {
            "line": {
             "colorbar": {
              "outlinewidth": 0,
              "ticks": ""
             }
            },
            "marker": {
             "colorbar": {
              "outlinewidth": 0,
              "ticks": ""
             }
            },
            "type": "scatter3d"
           }
          ],
          "scattercarpet": [
           {
            "marker": {
             "colorbar": {
              "outlinewidth": 0,
              "ticks": ""
             }
            },
            "type": "scattercarpet"
           }
          ],
          "scattergeo": [
           {
            "marker": {
             "colorbar": {
              "outlinewidth": 0,
              "ticks": ""
             }
            },
            "type": "scattergeo"
           }
          ],
          "scattergl": [
           {
            "marker": {
             "colorbar": {
              "outlinewidth": 0,
              "ticks": ""
             }
            },
            "type": "scattergl"
           }
          ],
          "scattermapbox": [
           {
            "marker": {
             "colorbar": {
              "outlinewidth": 0,
              "ticks": ""
             }
            },
            "type": "scattermapbox"
           }
          ],
          "scatterpolar": [
           {
            "marker": {
             "colorbar": {
              "outlinewidth": 0,
              "ticks": ""
             }
            },
            "type": "scatterpolar"
           }
          ],
          "scatterpolargl": [
           {
            "marker": {
             "colorbar": {
              "outlinewidth": 0,
              "ticks": ""
             }
            },
            "type": "scatterpolargl"
           }
          ],
          "scatterternary": [
           {
            "marker": {
             "colorbar": {
              "outlinewidth": 0,
              "ticks": ""
             }
            },
            "type": "scatterternary"
           }
          ],
          "surface": [
           {
            "colorbar": {
             "outlinewidth": 0,
             "ticks": ""
            },
            "colorscale": [
             [
              0,
              "#0d0887"
             ],
             [
              0.1111111111111111,
              "#46039f"
             ],
             [
              0.2222222222222222,
              "#7201a8"
             ],
             [
              0.3333333333333333,
              "#9c179e"
             ],
             [
              0.4444444444444444,
              "#bd3786"
             ],
             [
              0.5555555555555556,
              "#d8576b"
             ],
             [
              0.6666666666666666,
              "#ed7953"
             ],
             [
              0.7777777777777778,
              "#fb9f3a"
             ],
             [
              0.8888888888888888,
              "#fdca26"
             ],
             [
              1,
              "#f0f921"
             ]
            ],
            "type": "surface"
           }
          ],
          "table": [
           {
            "cells": {
             "fill": {
              "color": "#EBF0F8"
             },
             "line": {
              "color": "white"
             }
            },
            "header": {
             "fill": {
              "color": "#C8D4E3"
             },
             "line": {
              "color": "white"
             }
            },
            "type": "table"
           }
          ]
         },
         "layout": {
          "annotationdefaults": {
           "arrowcolor": "#2a3f5f",
           "arrowhead": 0,
           "arrowwidth": 1
          },
          "autotypenumbers": "strict",
          "coloraxis": {
           "colorbar": {
            "outlinewidth": 0,
            "ticks": ""
           }
          },
          "colorscale": {
           "diverging": [
            [
             0,
             "#8e0152"
            ],
            [
             0.1,
             "#c51b7d"
            ],
            [
             0.2,
             "#de77ae"
            ],
            [
             0.3,
             "#f1b6da"
            ],
            [
             0.4,
             "#fde0ef"
            ],
            [
             0.5,
             "#f7f7f7"
            ],
            [
             0.6,
             "#e6f5d0"
            ],
            [
             0.7,
             "#b8e186"
            ],
            [
             0.8,
             "#7fbc41"
            ],
            [
             0.9,
             "#4d9221"
            ],
            [
             1,
             "#276419"
            ]
           ],
           "sequential": [
            [
             0,
             "#0d0887"
            ],
            [
             0.1111111111111111,
             "#46039f"
            ],
            [
             0.2222222222222222,
             "#7201a8"
            ],
            [
             0.3333333333333333,
             "#9c179e"
            ],
            [
             0.4444444444444444,
             "#bd3786"
            ],
            [
             0.5555555555555556,
             "#d8576b"
            ],
            [
             0.6666666666666666,
             "#ed7953"
            ],
            [
             0.7777777777777778,
             "#fb9f3a"
            ],
            [
             0.8888888888888888,
             "#fdca26"
            ],
            [
             1,
             "#f0f921"
            ]
           ],
           "sequentialminus": [
            [
             0,
             "#0d0887"
            ],
            [
             0.1111111111111111,
             "#46039f"
            ],
            [
             0.2222222222222222,
             "#7201a8"
            ],
            [
             0.3333333333333333,
             "#9c179e"
            ],
            [
             0.4444444444444444,
             "#bd3786"
            ],
            [
             0.5555555555555556,
             "#d8576b"
            ],
            [
             0.6666666666666666,
             "#ed7953"
            ],
            [
             0.7777777777777778,
             "#fb9f3a"
            ],
            [
             0.8888888888888888,
             "#fdca26"
            ],
            [
             1,
             "#f0f921"
            ]
           ]
          },
          "colorway": [
           "#636efa",
           "#EF553B",
           "#00cc96",
           "#ab63fa",
           "#FFA15A",
           "#19d3f3",
           "#FF6692",
           "#B6E880",
           "#FF97FF",
           "#FECB52"
          ],
          "font": {
           "color": "#2a3f5f"
          },
          "geo": {
           "bgcolor": "white",
           "lakecolor": "white",
           "landcolor": "#E5ECF6",
           "showlakes": true,
           "showland": true,
           "subunitcolor": "white"
          },
          "hoverlabel": {
           "align": "left"
          },
          "hovermode": "closest",
          "mapbox": {
           "style": "light"
          },
          "paper_bgcolor": "white",
          "plot_bgcolor": "#E5ECF6",
          "polar": {
           "angularaxis": {
            "gridcolor": "white",
            "linecolor": "white",
            "ticks": ""
           },
           "bgcolor": "#E5ECF6",
           "radialaxis": {
            "gridcolor": "white",
            "linecolor": "white",
            "ticks": ""
           }
          },
          "scene": {
           "xaxis": {
            "backgroundcolor": "#E5ECF6",
            "gridcolor": "white",
            "gridwidth": 2,
            "linecolor": "white",
            "showbackground": true,
            "ticks": "",
            "zerolinecolor": "white"
           },
           "yaxis": {
            "backgroundcolor": "#E5ECF6",
            "gridcolor": "white",
            "gridwidth": 2,
            "linecolor": "white",
            "showbackground": true,
            "ticks": "",
            "zerolinecolor": "white"
           },
           "zaxis": {
            "backgroundcolor": "#E5ECF6",
            "gridcolor": "white",
            "gridwidth": 2,
            "linecolor": "white",
            "showbackground": true,
            "ticks": "",
            "zerolinecolor": "white"
           }
          },
          "shapedefaults": {
           "line": {
            "color": "#2a3f5f"
           }
          },
          "ternary": {
           "aaxis": {
            "gridcolor": "white",
            "linecolor": "white",
            "ticks": ""
           },
           "baxis": {
            "gridcolor": "white",
            "linecolor": "white",
            "ticks": ""
           },
           "bgcolor": "#E5ECF6",
           "caxis": {
            "gridcolor": "white",
            "linecolor": "white",
            "ticks": ""
           }
          },
          "title": {
           "x": 0.05
          },
          "xaxis": {
           "automargin": true,
           "gridcolor": "white",
           "linecolor": "white",
           "ticks": "",
           "title": {
            "standoff": 15
           },
           "zerolinecolor": "white",
           "zerolinewidth": 2
          },
          "yaxis": {
           "automargin": true,
           "gridcolor": "white",
           "linecolor": "white",
           "ticks": "",
           "title": {
            "standoff": 15
           },
           "zerolinecolor": "white",
           "zerolinewidth": 2
          }
         }
        },
        "title": {
         "text": "Correlation Matrix"
        },
        "width": 800,
        "xaxis": {
         "side": "bottom",
         "title": {
          "text": "Features"
         }
        },
        "yaxis": {
         "side": "left",
         "title": {
          "text": "Features"
         }
        }
       }
      }
     },
     "metadata": {},
     "output_type": "display_data"
    }
   ],
   "source": [
    "# Correlation matrix\n",
    "plot_correlation_matrix(df_num_daily, width=800, height=600)"
   ]
  },
  {
   "cell_type": "code",
   "execution_count": 60,
   "metadata": {},
   "outputs": [
    {
     "data": {
      "application/vnd.plotly.v1+json": {
       "config": {
        "plotlyServerURL": "https://plot.ly"
       },
       "data": [
        {
         "hovertemplate": "variable=Usage_kWh<br>date=%{x}<br>Usage_kWh=%{y}<extra></extra>",
         "legendgroup": "Usage_kWh",
         "line": {
          "color": "#636efa",
          "dash": "solid"
         },
         "marker": {
          "symbol": "circle"
         },
         "mode": "lines",
         "name": "Usage_kWh",
         "orientation": "v",
         "showlegend": true,
         "type": "scatter",
         "x": [
          "2018-01-01T00:00:00",
          "2018-01-02T00:00:00",
          "2018-01-03T00:00:00",
          "2018-01-04T00:00:00",
          "2018-01-05T00:00:00",
          "2018-01-06T00:00:00",
          "2018-01-07T00:00:00",
          "2018-01-08T00:00:00",
          "2018-01-09T00:00:00",
          "2018-01-10T00:00:00",
          "2018-01-11T00:00:00",
          "2018-01-12T00:00:00",
          "2018-01-13T00:00:00",
          "2018-01-14T00:00:00",
          "2018-01-15T00:00:00",
          "2018-01-16T00:00:00",
          "2018-01-17T00:00:00",
          "2018-01-18T00:00:00",
          "2018-01-19T00:00:00",
          "2018-01-20T00:00:00",
          "2018-01-21T00:00:00",
          "2018-01-22T00:00:00",
          "2018-01-23T00:00:00",
          "2018-01-24T00:00:00",
          "2018-01-25T00:00:00",
          "2018-01-26T00:00:00",
          "2018-01-27T00:00:00",
          "2018-01-28T00:00:00",
          "2018-01-29T00:00:00",
          "2018-01-30T00:00:00",
          "2018-01-31T00:00:00",
          "2018-02-01T00:00:00",
          "2018-02-02T00:00:00",
          "2018-02-03T00:00:00",
          "2018-02-04T00:00:00",
          "2018-02-05T00:00:00",
          "2018-02-06T00:00:00",
          "2018-02-07T00:00:00",
          "2018-02-08T00:00:00",
          "2018-02-09T00:00:00",
          "2018-02-10T00:00:00",
          "2018-02-11T00:00:00",
          "2018-02-12T00:00:00",
          "2018-02-13T00:00:00",
          "2018-02-14T00:00:00",
          "2018-02-15T00:00:00",
          "2018-02-16T00:00:00",
          "2018-02-17T00:00:00",
          "2018-02-18T00:00:00",
          "2018-02-19T00:00:00",
          "2018-02-20T00:00:00",
          "2018-02-21T00:00:00",
          "2018-02-22T00:00:00",
          "2018-02-23T00:00:00",
          "2018-02-24T00:00:00",
          "2018-02-25T00:00:00",
          "2018-02-26T00:00:00",
          "2018-02-27T00:00:00",
          "2018-02-28T00:00:00",
          "2018-03-01T00:00:00",
          "2018-03-02T00:00:00",
          "2018-03-03T00:00:00",
          "2018-03-04T00:00:00",
          "2018-03-05T00:00:00",
          "2018-03-06T00:00:00",
          "2018-03-07T00:00:00",
          "2018-03-08T00:00:00",
          "2018-03-09T00:00:00",
          "2018-03-10T00:00:00",
          "2018-03-11T00:00:00",
          "2018-03-12T00:00:00",
          "2018-03-13T00:00:00",
          "2018-03-14T00:00:00",
          "2018-03-15T00:00:00",
          "2018-03-16T00:00:00",
          "2018-03-17T00:00:00",
          "2018-03-18T00:00:00",
          "2018-03-19T00:00:00",
          "2018-03-20T00:00:00",
          "2018-03-21T00:00:00",
          "2018-03-22T00:00:00",
          "2018-03-23T00:00:00",
          "2018-03-24T00:00:00",
          "2018-03-25T00:00:00",
          "2018-03-26T00:00:00",
          "2018-03-27T00:00:00",
          "2018-03-28T00:00:00",
          "2018-03-29T00:00:00",
          "2018-03-30T00:00:00",
          "2018-03-31T00:00:00",
          "2018-04-01T00:00:00",
          "2018-04-02T00:00:00",
          "2018-04-03T00:00:00",
          "2018-04-04T00:00:00",
          "2018-04-05T00:00:00",
          "2018-04-06T00:00:00",
          "2018-04-07T00:00:00",
          "2018-04-08T00:00:00",
          "2018-04-09T00:00:00",
          "2018-04-10T00:00:00",
          "2018-04-11T00:00:00",
          "2018-04-12T00:00:00",
          "2018-04-13T00:00:00",
          "2018-04-14T00:00:00",
          "2018-04-15T00:00:00",
          "2018-04-16T00:00:00",
          "2018-04-17T00:00:00",
          "2018-04-18T00:00:00",
          "2018-04-19T00:00:00",
          "2018-04-20T00:00:00",
          "2018-04-21T00:00:00",
          "2018-04-22T00:00:00",
          "2018-04-23T00:00:00",
          "2018-04-24T00:00:00",
          "2018-04-25T00:00:00",
          "2018-04-26T00:00:00",
          "2018-04-27T00:00:00",
          "2018-04-28T00:00:00",
          "2018-04-29T00:00:00",
          "2018-04-30T00:00:00",
          "2018-05-01T00:00:00",
          "2018-05-02T00:00:00",
          "2018-05-03T00:00:00",
          "2018-05-04T00:00:00",
          "2018-05-05T00:00:00",
          "2018-05-06T00:00:00",
          "2018-05-07T00:00:00",
          "2018-05-08T00:00:00",
          "2018-05-09T00:00:00",
          "2018-05-10T00:00:00",
          "2018-05-11T00:00:00",
          "2018-05-12T00:00:00",
          "2018-05-13T00:00:00",
          "2018-05-14T00:00:00",
          "2018-05-15T00:00:00",
          "2018-05-16T00:00:00",
          "2018-05-17T00:00:00",
          "2018-05-18T00:00:00",
          "2018-05-19T00:00:00",
          "2018-05-20T00:00:00",
          "2018-05-21T00:00:00",
          "2018-05-22T00:00:00",
          "2018-05-23T00:00:00",
          "2018-05-24T00:00:00",
          "2018-05-25T00:00:00",
          "2018-05-26T00:00:00",
          "2018-05-27T00:00:00",
          "2018-05-28T00:00:00",
          "2018-05-29T00:00:00",
          "2018-05-30T00:00:00",
          "2018-05-31T00:00:00",
          "2018-06-01T00:00:00",
          "2018-06-02T00:00:00",
          "2018-06-03T00:00:00",
          "2018-06-04T00:00:00",
          "2018-06-05T00:00:00",
          "2018-06-06T00:00:00",
          "2018-06-07T00:00:00",
          "2018-06-08T00:00:00",
          "2018-06-09T00:00:00",
          "2018-06-10T00:00:00",
          "2018-06-11T00:00:00",
          "2018-06-12T00:00:00",
          "2018-06-13T00:00:00",
          "2018-06-14T00:00:00",
          "2018-06-15T00:00:00",
          "2018-06-16T00:00:00",
          "2018-06-17T00:00:00",
          "2018-06-18T00:00:00",
          "2018-06-19T00:00:00",
          "2018-06-20T00:00:00",
          "2018-06-21T00:00:00",
          "2018-06-22T00:00:00",
          "2018-06-23T00:00:00",
          "2018-06-24T00:00:00",
          "2018-06-25T00:00:00",
          "2018-06-26T00:00:00",
          "2018-06-27T00:00:00",
          "2018-06-28T00:00:00",
          "2018-06-29T00:00:00",
          "2018-06-30T00:00:00",
          "2018-07-01T00:00:00",
          "2018-07-02T00:00:00",
          "2018-07-03T00:00:00",
          "2018-07-04T00:00:00",
          "2018-07-05T00:00:00",
          "2018-07-06T00:00:00",
          "2018-07-07T00:00:00",
          "2018-07-08T00:00:00",
          "2018-07-09T00:00:00",
          "2018-07-10T00:00:00",
          "2018-07-11T00:00:00",
          "2018-07-12T00:00:00",
          "2018-07-13T00:00:00",
          "2018-07-14T00:00:00",
          "2018-07-15T00:00:00",
          "2018-07-16T00:00:00",
          "2018-07-17T00:00:00",
          "2018-07-18T00:00:00",
          "2018-07-19T00:00:00",
          "2018-07-20T00:00:00",
          "2018-07-21T00:00:00",
          "2018-07-22T00:00:00",
          "2018-07-23T00:00:00",
          "2018-07-24T00:00:00",
          "2018-07-25T00:00:00",
          "2018-07-26T00:00:00",
          "2018-07-27T00:00:00",
          "2018-07-28T00:00:00",
          "2018-07-29T00:00:00",
          "2018-07-30T00:00:00",
          "2018-07-31T00:00:00",
          "2018-08-01T00:00:00",
          "2018-08-02T00:00:00",
          "2018-08-03T00:00:00",
          "2018-08-04T00:00:00",
          "2018-08-05T00:00:00",
          "2018-08-06T00:00:00",
          "2018-08-07T00:00:00",
          "2018-08-08T00:00:00",
          "2018-08-09T00:00:00",
          "2018-08-10T00:00:00",
          "2018-08-11T00:00:00",
          "2018-08-12T00:00:00",
          "2018-08-13T00:00:00",
          "2018-08-14T00:00:00",
          "2018-08-15T00:00:00",
          "2018-08-16T00:00:00",
          "2018-08-17T00:00:00",
          "2018-08-18T00:00:00",
          "2018-08-19T00:00:00",
          "2018-08-20T00:00:00",
          "2018-08-21T00:00:00",
          "2018-08-22T00:00:00",
          "2018-08-23T00:00:00",
          "2018-08-24T00:00:00",
          "2018-08-25T00:00:00",
          "2018-08-26T00:00:00",
          "2018-08-27T00:00:00",
          "2018-08-28T00:00:00",
          "2018-08-29T00:00:00",
          "2018-08-30T00:00:00",
          "2018-08-31T00:00:00",
          "2018-09-01T00:00:00",
          "2018-09-02T00:00:00",
          "2018-09-03T00:00:00",
          "2018-09-04T00:00:00",
          "2018-09-05T00:00:00",
          "2018-09-06T00:00:00",
          "2018-09-07T00:00:00",
          "2018-09-08T00:00:00",
          "2018-09-09T00:00:00",
          "2018-09-10T00:00:00",
          "2018-09-11T00:00:00",
          "2018-09-12T00:00:00",
          "2018-09-13T00:00:00",
          "2018-09-14T00:00:00",
          "2018-09-15T00:00:00",
          "2018-09-16T00:00:00",
          "2018-09-17T00:00:00",
          "2018-09-18T00:00:00",
          "2018-09-19T00:00:00",
          "2018-09-20T00:00:00",
          "2018-09-21T00:00:00",
          "2018-09-22T00:00:00",
          "2018-09-23T00:00:00",
          "2018-09-24T00:00:00",
          "2018-09-25T00:00:00",
          "2018-09-26T00:00:00",
          "2018-09-27T00:00:00",
          "2018-09-28T00:00:00",
          "2018-09-29T00:00:00",
          "2018-09-30T00:00:00",
          "2018-10-01T00:00:00",
          "2018-10-02T00:00:00",
          "2018-10-03T00:00:00",
          "2018-10-04T00:00:00",
          "2018-10-05T00:00:00",
          "2018-10-06T00:00:00",
          "2018-10-07T00:00:00",
          "2018-10-08T00:00:00",
          "2018-10-09T00:00:00",
          "2018-10-10T00:00:00",
          "2018-10-11T00:00:00",
          "2018-10-12T00:00:00",
          "2018-10-13T00:00:00",
          "2018-10-14T00:00:00",
          "2018-10-15T00:00:00",
          "2018-10-16T00:00:00",
          "2018-10-17T00:00:00",
          "2018-10-18T00:00:00",
          "2018-10-19T00:00:00",
          "2018-10-20T00:00:00",
          "2018-10-21T00:00:00",
          "2018-10-22T00:00:00",
          "2018-10-23T00:00:00",
          "2018-10-24T00:00:00",
          "2018-10-25T00:00:00",
          "2018-10-26T00:00:00",
          "2018-10-27T00:00:00",
          "2018-10-28T00:00:00",
          "2018-10-29T00:00:00",
          "2018-10-30T00:00:00",
          "2018-10-31T00:00:00",
          "2018-11-01T00:00:00",
          "2018-11-02T00:00:00",
          "2018-11-03T00:00:00",
          "2018-11-04T00:00:00",
          "2018-11-05T00:00:00",
          "2018-11-06T00:00:00",
          "2018-11-07T00:00:00",
          "2018-11-08T00:00:00",
          "2018-11-09T00:00:00",
          "2018-11-10T00:00:00",
          "2018-11-11T00:00:00",
          "2018-11-12T00:00:00",
          "2018-11-13T00:00:00",
          "2018-11-14T00:00:00",
          "2018-11-15T00:00:00",
          "2018-11-16T00:00:00",
          "2018-11-17T00:00:00",
          "2018-11-18T00:00:00",
          "2018-11-19T00:00:00",
          "2018-11-20T00:00:00",
          "2018-11-21T00:00:00",
          "2018-11-22T00:00:00",
          "2018-11-23T00:00:00",
          "2018-11-24T00:00:00",
          "2018-11-25T00:00:00",
          "2018-11-26T00:00:00",
          "2018-11-27T00:00:00",
          "2018-11-28T00:00:00",
          "2018-11-29T00:00:00",
          "2018-11-30T00:00:00",
          "2018-12-01T00:00:00",
          "2018-12-02T00:00:00",
          "2018-12-03T00:00:00",
          "2018-12-04T00:00:00",
          "2018-12-05T00:00:00",
          "2018-12-06T00:00:00",
          "2018-12-07T00:00:00",
          "2018-12-08T00:00:00",
          "2018-12-09T00:00:00",
          "2018-12-10T00:00:00",
          "2018-12-11T00:00:00",
          "2018-12-12T00:00:00",
          "2018-12-13T00:00:00",
          "2018-12-14T00:00:00",
          "2018-12-15T00:00:00",
          "2018-12-16T00:00:00",
          "2018-12-17T00:00:00",
          "2018-12-18T00:00:00",
          "2018-12-19T00:00:00",
          "2018-12-20T00:00:00",
          "2018-12-21T00:00:00",
          "2018-12-22T00:00:00",
          "2018-12-23T00:00:00",
          "2018-12-24T00:00:00",
          "2018-12-25T00:00:00",
          "2018-12-26T00:00:00",
          "2018-12-27T00:00:00",
          "2018-12-28T00:00:00",
          "2018-12-29T00:00:00",
          "2018-12-30T00:00:00",
          "2018-12-31T00:00:00"
         ],
         "xaxis": "x",
         "y": [
          -1.538523582759333,
          0.8926578029903285,
          0.6295940282177931,
          1.5866913568094205,
          1.3878497876711682,
          -1.5242684960889838,
          -1.5405098365418364,
          1.8169278964486741,
          1.9316847221276068,
          1.2269159395316496,
          1.8142930700024955,
          1.7410381388334937,
          0.3014230163636685,
          -1.1141543817587154,
          0.9049604157044069,
          0.9833836602870664,
          0.5466172630589178,
          3.1919897709871323,
          3.0712336481692093,
          1.6109182481837674,
          -0.9724142308848186,
          0.9383889317446377,
          1.7482129739253942,
          1.513510741258131,
          1.5929879164192617,
          2.9997487798948184,
          -0.6532556766696725,
          -0.9696780649599411,
          1.972409680634177,
          1.7592116853468764,
          2.3728965444880252,
          2.354804069557601,
          0.9589878697815545,
          0.058073148180743245,
          -1.368016531865367,
          1.621126511671396,
          1.4269127787270728,
          0.7079767370089729,
          1.5355689677883158,
          1.6492853748192704,
          -1.2349442844028717,
          -1.4967041578828115,
          0.9051630946618054,
          1.6427658683562913,
          -1.328196872701842,
          -1.550224914566463,
          -1.5521841444879803,
          -1.5470563668658024,
          -1.547623867946518,
          1.1122672092966626,
          2.178439596794823,
          1.9093967927790374,
          2.386246331815328,
          1.3568331512239775,
          1.5048090580204967,
          -1.3572204994012826,
          0.20591393567232963,
          0.4066471750796331,
          1.1415475626754743,
          -0.6449931311730676,
          0.04591241073684361,
          -0.7245648898476508,
          -1.5600278201392956,
          0.7245491197589091,
          0.7521945295480412,
          0.586815256276253,
          0.4929478751398407,
          -0.24650603303221627,
          -1.1402256516453868,
          -0.5400256991364739,
          0.513519789315771,
          0.5734046652617301,
          0.10107486697542173,
          1.1882785742862823,
          1.0754809785288664,
          -0.41858722382864266,
          -1.5689997419867947,
          0.3499713826258141,
          0.15057582433733976,
          0.6428154522054106,
          0.6518346658096362,
          1.43778312680887,
          -0.8929573236194276,
          -0.9342160033804805,
          0.17513375800877043,
          -0.16500206829710246,
          -0.17639262570288822,
          0.3755629789799764,
          -0.10458347109666075,
          -1.5807956573073776,
          -1.580437591149307,
          0.27184540051400563,
          0.973351051895849,
          -0.20125457781041634,
          0.07563190185668515,
          1.038802843205016,
          -0.053447570145062746,
          -0.3793418217110799,
          0.857270057028581,
          0.1589870010693703,
          0.40756598635317226,
          0.18774038915894667,
          -0.07534365350932906,
          -0.8971595340028196,
          -1.5603385945406396,
          0.1903887275356178,
          1.010103502837413,
          0.3009095630049256,
          0.09164353949115296,
          0.4937923707956672,
          -0.5516121795344114,
          -0.9549635726528225,
          0.08168524671764855,
          0.17389066040339424,
          0.5651015839736454,
          1.0086982620661176,
          0.6857766352086094,
          -0.6597549152369123,
          -1.5798768460338384,
          -0.15022001633751764,
          -1.5744720738365496,
          1.2429681129575971,
          1.0920533612788026,
          -0.12003436361565989,
          -1.5685335803847786,
          -1.5705265901325287,
          1.5130040438646353,
          0.5234443022630422,
          0.11878225188678895,
          0.20994049095930975,
          0.04256820793977126,
          -1.2784054088343197,
          -1.5728371302468698,
          0.1502515380055025,
          0.6969037099697776,
          0.8674242727942367,
          1.2344758646426075,
          0.27489909680547375,
          -0.668355258995848,
          -1.3243189486502875,
          0.042129070198741486,
          -0.31897051626736467,
          1.0430253214841476,
          1.1291976582046697,
          -0.05442718510582159,
          -0.9103404221989575,
          -1.579795774450879,
          0.08107720984545343,
          -0.20581485435187868,
          0.7540659319213526,
          0.07938821853380086,
          -0.3912120526493753,
          -1.5279775210093733,
          -1.578370265783844,
          0.7383245328967487,
          0.9801543088991865,
          0.27901347964066,
          0.31776569629522017,
          -0.18672925253020295,
          -1.5784310694710635,
          -1.5773703829273458,
          0.655293720015901,
          0.6377417223052058,
          -0.8351397730389315,
          0.25594861428873034,
          0.3866900537411442,
          -1.3253931471244986,
          -1.583214292865664,
          0.39772930095410647,
          -0.05996707660804233,
          0.5330580408089696,
          -0.21328019594938386,
          -0.05315030767421214,
          -0.8914980351261597,
          -1.2124266522359177,
          0.35166712990271376,
          -0.11022470207758125,
          -0.3463659553423721,
          -0.1442409870942671,
          -0.22740691928004733,
          -0.7910098080480691,
          -1.5817820282333828,
          0.05249947685228924,
          0.5371318878526764,
          0.29184305764397395,
          0.6035092464006285,
          1.2959011006647938,
          -0.026308857749426984,
          -0.11318381485559645,
          -0.009878350269669222,
          0.5227349259121483,
          -0.08690311004627994,
          -0.03751700409355443,
          -0.0033183080152100063,
          -0.5934180924804398,
          0.6085762203355868,
          0.3499511147300743,
          0.42840138317372023,
          -0.24575612088984247,
          0.753897032790187,
          0.2781689839848335,
          -0.8008870292386141,
          -1.5837480141201463,
          0.3605174443757738,
          0.523140283826945,
          0.3510523370652722,
          0.024617608279526037,
          -0.10059745160116071,
          -0.6499249858030935,
          -0.9797309412468981,
          0.29776803916525163,
          -0.3512167383894387,
          -1.5951723513521654,
          -1.5897743351201232,
          -1.5834372397188023,
          -1.59015942513918,
          -1.5816401529632038,
          0.6389848199105824,
          0.5600751458301669,
          0.6408832461448802,
          0.5478873845252809,
          0.9584541485270722,
          0.2203852132305704,
          -1.5844371225753007,
          1.2186061022783188,
          0.9658451745068642,
          0.08428629333759369,
          0.2350929495724423,
          0.22841805590879083,
          -0.23779083786408808,
          -1.582207654043919,
          0.5193096515321164,
          -0.02616022651400145,
          -0.37365329897343336,
          0.017496820909598164,
          -0.0026089316643158147,
          -1.5359765838613608,
          -1.521451258581147,
          -0.3326986376484782,
          -0.173703751534737,
          -0.13655945460887012,
          -0.11001526715493605,
          -0.02317408987499938,
          -0.8379907903730013,
          -0.9085703593043455,
          -0.020100125687791678,
          1.0076916232443724,
          0.24941559589525755,
          0.10679041357405467,
          1.0509365567879292,
          -0.8423146081308324,
          -1.3164820289642187,
          0.23594420119351545,
          0.7795021410748425,
          0.2543339385947902,
          0.3909125320202763,
          -0.14030225935549262,
          -0.858501900861712,
          -1.5892135900046547,
          0.46000578859736635,
          0.012456870835626403,
          -0.5912696955320176,
          -0.11602807622441981,
          -1.041115641477605,
          -1.5884704338275275,
          -1.5955574413712224,
          -1.5924159175315482,
          -1.5975234272579861,
          -1.6009487016380177,
          0.12234940153699926,
          -0.22887971970380833,
          -0.7891924533967307,
          -1.5970302417949835,
          -0.2899198657069379,
          0.38414305484317185,
          -0.40513609702264036,
          0.22929633139085012,
          -0.07993770987702421,
          0.3325139684285717,
          -1.5977261062153842,
          0.9649601430595586,
          -0.039273555057673507,
          1.061455594676902,
          0.8940022400744042,
          0.09136654491604193,
          -0.6035115045588765,
          -1.5813361345271064,
          1.2174913680126276,
          0.4751864425065006,
          0.2919038613311934,
          0.24790225968001647,
          0.7991619999424804,
          -0.03831420799265471,
          -1.5312879439802127,
          0.32425142293196674,
          0.7308051435772712,
          -0.14650423545188154,
          0.25427313490757075,
          0.39002750057297014,
          -0.7117488237748297,
          -1.5783094620966247,
          0.8708495471742685,
          0.26662979534362213,
          0.9131959373400259,
          0.16075030799873577,
          0.2704401597427107,
          -0.4881669099034885,
          -0.15571937204825875,
          0.4779361203618715,
          0.10801999924893789,
          0.007538528136093757,
          0.32336639148466056,
          0.33111548362252313,
          -0.552733669765349,
          -1.5793701486403424,
          0.7829544393158608,
          1.4171977007024463,
          0.43069841135756814,
          0.7135571643026736,
          0.441899801736449,
          0.5217755788471294,
          -0.8082915671488997,
          0.12387624968273354,
          -0.330529972804316,
          1.1240023209300256,
          1.1160100140432851,
          0.7135639202679201,
          -1.5333687812761687,
          -1.572452040227813,
          0.5893217193827457,
          1.106484103045564,
          0.8134711343348022,
          0.3856699029889064,
          0.02213141306877341,
          -1.2319986835553496,
          -1.5257345405474985,
          0.06701129020200941,
          0.12061987443386706,
          -0.09628038980857612,
          0.10980357407404315,
          0.029299492195427518,
          -0.7130797489284121,
          -1.5465496694723067,
          -0.10369168368410846,
          0.38705487586446174,
          0.43702875079364234,
          0.45826274956374047,
          1.0137449681053359,
          -1.5322675589409713,
          -0.415141681552871,
          -0.2837651813672754,
          0.30389569964392765,
          0.5592644300005734,
          -0.07893782702052579,
          -0.22392084121279582,
          -1.5302340134017414,
          -1.5273289483456987,
          -0.4654060629876563,
          -1.5394423940328719,
          -0.42042484637572103,
          -0.010317488010698993,
          -0.534100717615196,
          -1.5212553355889953,
          -1.5470766347615423,
          -1.5471577063445017
         ],
         "yaxis": "y"
        }
       ],
       "layout": {
        "legend": {
         "title": {
          "text": "variable"
         },
         "tracegroupgap": 0
        },
        "template": {
         "data": {
          "bar": [
           {
            "error_x": {
             "color": "#2a3f5f"
            },
            "error_y": {
             "color": "#2a3f5f"
            },
            "marker": {
             "line": {
              "color": "#E5ECF6",
              "width": 0.5
             },
             "pattern": {
              "fillmode": "overlay",
              "size": 10,
              "solidity": 0.2
             }
            },
            "type": "bar"
           }
          ],
          "barpolar": [
           {
            "marker": {
             "line": {
              "color": "#E5ECF6",
              "width": 0.5
             },
             "pattern": {
              "fillmode": "overlay",
              "size": 10,
              "solidity": 0.2
             }
            },
            "type": "barpolar"
           }
          ],
          "carpet": [
           {
            "aaxis": {
             "endlinecolor": "#2a3f5f",
             "gridcolor": "white",
             "linecolor": "white",
             "minorgridcolor": "white",
             "startlinecolor": "#2a3f5f"
            },
            "baxis": {
             "endlinecolor": "#2a3f5f",
             "gridcolor": "white",
             "linecolor": "white",
             "minorgridcolor": "white",
             "startlinecolor": "#2a3f5f"
            },
            "type": "carpet"
           }
          ],
          "choropleth": [
           {
            "colorbar": {
             "outlinewidth": 0,
             "ticks": ""
            },
            "type": "choropleth"
           }
          ],
          "contour": [
           {
            "colorbar": {
             "outlinewidth": 0,
             "ticks": ""
            },
            "colorscale": [
             [
              0,
              "#0d0887"
             ],
             [
              0.1111111111111111,
              "#46039f"
             ],
             [
              0.2222222222222222,
              "#7201a8"
             ],
             [
              0.3333333333333333,
              "#9c179e"
             ],
             [
              0.4444444444444444,
              "#bd3786"
             ],
             [
              0.5555555555555556,
              "#d8576b"
             ],
             [
              0.6666666666666666,
              "#ed7953"
             ],
             [
              0.7777777777777778,
              "#fb9f3a"
             ],
             [
              0.8888888888888888,
              "#fdca26"
             ],
             [
              1,
              "#f0f921"
             ]
            ],
            "type": "contour"
           }
          ],
          "contourcarpet": [
           {
            "colorbar": {
             "outlinewidth": 0,
             "ticks": ""
            },
            "type": "contourcarpet"
           }
          ],
          "heatmap": [
           {
            "colorbar": {
             "outlinewidth": 0,
             "ticks": ""
            },
            "colorscale": [
             [
              0,
              "#0d0887"
             ],
             [
              0.1111111111111111,
              "#46039f"
             ],
             [
              0.2222222222222222,
              "#7201a8"
             ],
             [
              0.3333333333333333,
              "#9c179e"
             ],
             [
              0.4444444444444444,
              "#bd3786"
             ],
             [
              0.5555555555555556,
              "#d8576b"
             ],
             [
              0.6666666666666666,
              "#ed7953"
             ],
             [
              0.7777777777777778,
              "#fb9f3a"
             ],
             [
              0.8888888888888888,
              "#fdca26"
             ],
             [
              1,
              "#f0f921"
             ]
            ],
            "type": "heatmap"
           }
          ],
          "heatmapgl": [
           {
            "colorbar": {
             "outlinewidth": 0,
             "ticks": ""
            },
            "colorscale": [
             [
              0,
              "#0d0887"
             ],
             [
              0.1111111111111111,
              "#46039f"
             ],
             [
              0.2222222222222222,
              "#7201a8"
             ],
             [
              0.3333333333333333,
              "#9c179e"
             ],
             [
              0.4444444444444444,
              "#bd3786"
             ],
             [
              0.5555555555555556,
              "#d8576b"
             ],
             [
              0.6666666666666666,
              "#ed7953"
             ],
             [
              0.7777777777777778,
              "#fb9f3a"
             ],
             [
              0.8888888888888888,
              "#fdca26"
             ],
             [
              1,
              "#f0f921"
             ]
            ],
            "type": "heatmapgl"
           }
          ],
          "histogram": [
           {
            "marker": {
             "pattern": {
              "fillmode": "overlay",
              "size": 10,
              "solidity": 0.2
             }
            },
            "type": "histogram"
           }
          ],
          "histogram2d": [
           {
            "colorbar": {
             "outlinewidth": 0,
             "ticks": ""
            },
            "colorscale": [
             [
              0,
              "#0d0887"
             ],
             [
              0.1111111111111111,
              "#46039f"
             ],
             [
              0.2222222222222222,
              "#7201a8"
             ],
             [
              0.3333333333333333,
              "#9c179e"
             ],
             [
              0.4444444444444444,
              "#bd3786"
             ],
             [
              0.5555555555555556,
              "#d8576b"
             ],
             [
              0.6666666666666666,
              "#ed7953"
             ],
             [
              0.7777777777777778,
              "#fb9f3a"
             ],
             [
              0.8888888888888888,
              "#fdca26"
             ],
             [
              1,
              "#f0f921"
             ]
            ],
            "type": "histogram2d"
           }
          ],
          "histogram2dcontour": [
           {
            "colorbar": {
             "outlinewidth": 0,
             "ticks": ""
            },
            "colorscale": [
             [
              0,
              "#0d0887"
             ],
             [
              0.1111111111111111,
              "#46039f"
             ],
             [
              0.2222222222222222,
              "#7201a8"
             ],
             [
              0.3333333333333333,
              "#9c179e"
             ],
             [
              0.4444444444444444,
              "#bd3786"
             ],
             [
              0.5555555555555556,
              "#d8576b"
             ],
             [
              0.6666666666666666,
              "#ed7953"
             ],
             [
              0.7777777777777778,
              "#fb9f3a"
             ],
             [
              0.8888888888888888,
              "#fdca26"
             ],
             [
              1,
              "#f0f921"
             ]
            ],
            "type": "histogram2dcontour"
           }
          ],
          "mesh3d": [
           {
            "colorbar": {
             "outlinewidth": 0,
             "ticks": ""
            },
            "type": "mesh3d"
           }
          ],
          "parcoords": [
           {
            "line": {
             "colorbar": {
              "outlinewidth": 0,
              "ticks": ""
             }
            },
            "type": "parcoords"
           }
          ],
          "pie": [
           {
            "automargin": true,
            "type": "pie"
           }
          ],
          "scatter": [
           {
            "fillpattern": {
             "fillmode": "overlay",
             "size": 10,
             "solidity": 0.2
            },
            "type": "scatter"
           }
          ],
          "scatter3d": [
           {
            "line": {
             "colorbar": {
              "outlinewidth": 0,
              "ticks": ""
             }
            },
            "marker": {
             "colorbar": {
              "outlinewidth": 0,
              "ticks": ""
             }
            },
            "type": "scatter3d"
           }
          ],
          "scattercarpet": [
           {
            "marker": {
             "colorbar": {
              "outlinewidth": 0,
              "ticks": ""
             }
            },
            "type": "scattercarpet"
           }
          ],
          "scattergeo": [
           {
            "marker": {
             "colorbar": {
              "outlinewidth": 0,
              "ticks": ""
             }
            },
            "type": "scattergeo"
           }
          ],
          "scattergl": [
           {
            "marker": {
             "colorbar": {
              "outlinewidth": 0,
              "ticks": ""
             }
            },
            "type": "scattergl"
           }
          ],
          "scattermapbox": [
           {
            "marker": {
             "colorbar": {
              "outlinewidth": 0,
              "ticks": ""
             }
            },
            "type": "scattermapbox"
           }
          ],
          "scatterpolar": [
           {
            "marker": {
             "colorbar": {
              "outlinewidth": 0,
              "ticks": ""
             }
            },
            "type": "scatterpolar"
           }
          ],
          "scatterpolargl": [
           {
            "marker": {
             "colorbar": {
              "outlinewidth": 0,
              "ticks": ""
             }
            },
            "type": "scatterpolargl"
           }
          ],
          "scatterternary": [
           {
            "marker": {
             "colorbar": {
              "outlinewidth": 0,
              "ticks": ""
             }
            },
            "type": "scatterternary"
           }
          ],
          "surface": [
           {
            "colorbar": {
             "outlinewidth": 0,
             "ticks": ""
            },
            "colorscale": [
             [
              0,
              "#0d0887"
             ],
             [
              0.1111111111111111,
              "#46039f"
             ],
             [
              0.2222222222222222,
              "#7201a8"
             ],
             [
              0.3333333333333333,
              "#9c179e"
             ],
             [
              0.4444444444444444,
              "#bd3786"
             ],
             [
              0.5555555555555556,
              "#d8576b"
             ],
             [
              0.6666666666666666,
              "#ed7953"
             ],
             [
              0.7777777777777778,
              "#fb9f3a"
             ],
             [
              0.8888888888888888,
              "#fdca26"
             ],
             [
              1,
              "#f0f921"
             ]
            ],
            "type": "surface"
           }
          ],
          "table": [
           {
            "cells": {
             "fill": {
              "color": "#EBF0F8"
             },
             "line": {
              "color": "white"
             }
            },
            "header": {
             "fill": {
              "color": "#C8D4E3"
             },
             "line": {
              "color": "white"
             }
            },
            "type": "table"
           }
          ]
         },
         "layout": {
          "annotationdefaults": {
           "arrowcolor": "#2a3f5f",
           "arrowhead": 0,
           "arrowwidth": 1
          },
          "autotypenumbers": "strict",
          "coloraxis": {
           "colorbar": {
            "outlinewidth": 0,
            "ticks": ""
           }
          },
          "colorscale": {
           "diverging": [
            [
             0,
             "#8e0152"
            ],
            [
             0.1,
             "#c51b7d"
            ],
            [
             0.2,
             "#de77ae"
            ],
            [
             0.3,
             "#f1b6da"
            ],
            [
             0.4,
             "#fde0ef"
            ],
            [
             0.5,
             "#f7f7f7"
            ],
            [
             0.6,
             "#e6f5d0"
            ],
            [
             0.7,
             "#b8e186"
            ],
            [
             0.8,
             "#7fbc41"
            ],
            [
             0.9,
             "#4d9221"
            ],
            [
             1,
             "#276419"
            ]
           ],
           "sequential": [
            [
             0,
             "#0d0887"
            ],
            [
             0.1111111111111111,
             "#46039f"
            ],
            [
             0.2222222222222222,
             "#7201a8"
            ],
            [
             0.3333333333333333,
             "#9c179e"
            ],
            [
             0.4444444444444444,
             "#bd3786"
            ],
            [
             0.5555555555555556,
             "#d8576b"
            ],
            [
             0.6666666666666666,
             "#ed7953"
            ],
            [
             0.7777777777777778,
             "#fb9f3a"
            ],
            [
             0.8888888888888888,
             "#fdca26"
            ],
            [
             1,
             "#f0f921"
            ]
           ],
           "sequentialminus": [
            [
             0,
             "#0d0887"
            ],
            [
             0.1111111111111111,
             "#46039f"
            ],
            [
             0.2222222222222222,
             "#7201a8"
            ],
            [
             0.3333333333333333,
             "#9c179e"
            ],
            [
             0.4444444444444444,
             "#bd3786"
            ],
            [
             0.5555555555555556,
             "#d8576b"
            ],
            [
             0.6666666666666666,
             "#ed7953"
            ],
            [
             0.7777777777777778,
             "#fb9f3a"
            ],
            [
             0.8888888888888888,
             "#fdca26"
            ],
            [
             1,
             "#f0f921"
            ]
           ]
          },
          "colorway": [
           "#636efa",
           "#EF553B",
           "#00cc96",
           "#ab63fa",
           "#FFA15A",
           "#19d3f3",
           "#FF6692",
           "#B6E880",
           "#FF97FF",
           "#FECB52"
          ],
          "font": {
           "color": "#2a3f5f"
          },
          "geo": {
           "bgcolor": "white",
           "lakecolor": "white",
           "landcolor": "#E5ECF6",
           "showlakes": true,
           "showland": true,
           "subunitcolor": "white"
          },
          "hoverlabel": {
           "align": "left"
          },
          "hovermode": "closest",
          "mapbox": {
           "style": "light"
          },
          "paper_bgcolor": "white",
          "plot_bgcolor": "#E5ECF6",
          "polar": {
           "angularaxis": {
            "gridcolor": "white",
            "linecolor": "white",
            "ticks": ""
           },
           "bgcolor": "#E5ECF6",
           "radialaxis": {
            "gridcolor": "white",
            "linecolor": "white",
            "ticks": ""
           }
          },
          "scene": {
           "xaxis": {
            "backgroundcolor": "#E5ECF6",
            "gridcolor": "white",
            "gridwidth": 2,
            "linecolor": "white",
            "showbackground": true,
            "ticks": "",
            "zerolinecolor": "white"
           },
           "yaxis": {
            "backgroundcolor": "#E5ECF6",
            "gridcolor": "white",
            "gridwidth": 2,
            "linecolor": "white",
            "showbackground": true,
            "ticks": "",
            "zerolinecolor": "white"
           },
           "zaxis": {
            "backgroundcolor": "#E5ECF6",
            "gridcolor": "white",
            "gridwidth": 2,
            "linecolor": "white",
            "showbackground": true,
            "ticks": "",
            "zerolinecolor": "white"
           }
          },
          "shapedefaults": {
           "line": {
            "color": "#2a3f5f"
           }
          },
          "ternary": {
           "aaxis": {
            "gridcolor": "white",
            "linecolor": "white",
            "ticks": ""
           },
           "baxis": {
            "gridcolor": "white",
            "linecolor": "white",
            "ticks": ""
           },
           "bgcolor": "#E5ECF6",
           "caxis": {
            "gridcolor": "white",
            "linecolor": "white",
            "ticks": ""
           }
          },
          "title": {
           "x": 0.05
          },
          "xaxis": {
           "automargin": true,
           "gridcolor": "white",
           "linecolor": "white",
           "ticks": "",
           "title": {
            "standoff": 15
           },
           "zerolinecolor": "white",
           "zerolinewidth": 2
          },
          "yaxis": {
           "automargin": true,
           "gridcolor": "white",
           "linecolor": "white",
           "ticks": "",
           "title": {
            "standoff": 15
           },
           "zerolinecolor": "white",
           "zerolinewidth": 2
          }
         }
        },
        "title": {
         "text": "Usage Data Overview"
        },
        "xaxis": {
         "anchor": "y",
         "domain": [
          0,
          1
         ],
         "title": {
          "text": "date"
         }
        },
        "yaxis": {
         "anchor": "x",
         "domain": [
          0,
          1
         ],
         "title": {
          "text": "Usage_kWh"
         }
        }
       }
      }
     },
     "metadata": {},
     "output_type": "display_data"
    }
   ],
   "source": [
    "px.line(df_num_daily['Usage_kWh'], labels={'index':'Date', 'value':'Usage_kWh'}, title='Usage Data Overview')"
   ]
  },
  {
   "cell_type": "code",
   "execution_count": 61,
   "metadata": {},
   "outputs": [
    {
     "data": {
      "application/vnd.plotly.v1+json": {
       "config": {
        "plotlyServerURL": "https://plot.ly"
       },
       "data": [
        {
         "hovertemplate": "variable=Usage_kWh<br>date=%{x}<br>Average value=%{y}<extra></extra>",
         "legendgroup": "Usage_kWh",
         "line": {
          "color": "#636efa",
          "dash": "solid"
         },
         "marker": {
          "symbol": "circle"
         },
         "mode": "lines",
         "name": "Usage_kWh",
         "orientation": "v",
         "showlegend": true,
         "type": "scatter",
         "x": [
          1,
          2,
          3,
          4,
          5,
          6,
          7,
          8,
          9,
          10,
          11,
          12
         ],
         "xaxis": "x",
         "y": [
          42.41878024193548,
          34.03918898809523,
          26.959143145161292,
          27.350625,
          26.565618279569893,
          22.709944444444446,
          27.444358198924732,
          23.037442876344084,
          20.098288194444443,
          28.449479166666666,
          29.93667013888889,
          19.97203629032258
         ],
         "yaxis": "y"
        },
        {
         "hovertemplate": "variable=Lagging_Current_Reactive_Power_kVarh<br>date=%{x}<br>Average value=%{y}<extra></extra>",
         "legendgroup": "Lagging_Current_Reactive_Power_kVarh",
         "line": {
          "color": "#EF553B",
          "dash": "solid"
         },
         "marker": {
          "symbol": "circle"
         },
         "mode": "lines",
         "name": "Lagging_Current_Reactive_Power_kVarh",
         "orientation": "v",
         "showlegend": true,
         "type": "scatter",
         "x": [
          1,
          2,
          3,
          4,
          5,
          6,
          7,
          8,
          9,
          10,
          11,
          12
         ],
         "xaxis": "x",
         "y": [
          18.300131048387097,
          13.353162202380954,
          10.758897849462365,
          12.06192013888889,
          12.913592069892472,
          11.421493055555556,
          13.331989247311828,
          12.83725806451613,
          11.526631944444443,
          16.665272177419354,
          14.882190972222222,
          8.33025873655914
         ],
         "yaxis": "y"
        },
        {
         "hovertemplate": "variable=Leading_Current_Reactive_Power_kVarh<br>date=%{x}<br>Average value=%{y}<extra></extra>",
         "legendgroup": "Leading_Current_Reactive_Power_kVarh",
         "line": {
          "color": "#00cc96",
          "dash": "solid"
         },
         "marker": {
          "symbol": "circle"
         },
         "mode": "lines",
         "name": "Leading_Current_Reactive_Power_kVarh",
         "orientation": "v",
         "showlegend": true,
         "type": "scatter",
         "x": [
          1,
          2,
          3,
          4,
          5,
          6,
          7,
          8,
          9,
          10,
          11,
          12
         ],
         "xaxis": "x",
         "y": [
          3.923323252688172,
          4.361495535714286,
          4.288279569892473,
          4.198274305555556,
          4.289149865591398,
          4.301423611111111,
          3.3158232526881717,
          3.7331216397849465,
          3.339357638888889,
          2.4967708333333336,
          2.9020972222222223,
          5.325782930107527
         ],
         "yaxis": "y"
        },
        {
         "hovertemplate": "variable=CO2<br>date=%{x}<br>Average value=%{y}<extra></extra>",
         "legendgroup": "CO2",
         "line": {
          "color": "#ab63fa",
          "dash": "solid"
         },
         "marker": {
          "symbol": "circle"
         },
         "mode": "lines",
         "name": "CO2",
         "orientation": "v",
         "showlegend": true,
         "type": "scatter",
         "x": [
          1,
          2,
          3,
          4,
          5,
          6,
          7,
          8,
          9,
          10,
          11,
          12
         ],
         "xaxis": "x",
         "y": [
          0.018141801075268818,
          0.014598214285714287,
          0.011303763440860216,
          0.011579861111111112,
          0.01126008064516129,
          0.009409722222222222,
          0.01176747311827957,
          0.009556451612903227,
          0.008305555555555556,
          0.012032930107526882,
          0.012680555555555556,
          0.007819220430107526
         ],
         "yaxis": "y"
        },
        {
         "hovertemplate": "variable=Lagging_Current_Power_Factor<br>date=%{x}<br>Average value=%{y}<extra></extra>",
         "legendgroup": "Lagging_Current_Power_Factor",
         "line": {
          "color": "#FFA15A",
          "dash": "solid"
         },
         "marker": {
          "symbol": "circle"
         },
         "mode": "lines",
         "name": "Lagging_Current_Power_Factor",
         "orientation": "v",
         "showlegend": true,
         "type": "scatter",
         "x": [
          1,
          2,
          3,
          4,
          5,
          6,
          7,
          8,
          9,
          10,
          11,
          12
         ],
         "xaxis": "x",
         "y": [
          86.3602688172043,
          86.53518601190476,
          83.34635080645161,
          81.52309375,
          79.13209677419354,
          77.30618750000001,
          80.46487567204301,
          75.37792002688172,
          74.22088541666666,
          73.71496303763442,
          80.46739236111111,
          88.78025201612904
         ],
         "yaxis": "y"
        },
        {
         "hovertemplate": "variable=Leading_Current_Power_Factor<br>date=%{x}<br>Average value=%{y}<extra></extra>",
         "legendgroup": "Leading_Current_Power_Factor",
         "line": {
          "color": "#19d3f3",
          "dash": "solid"
         },
         "marker": {
          "symbol": "circle"
         },
         "mode": "lines",
         "name": "Leading_Current_Power_Factor",
         "orientation": "v",
         "showlegend": true,
         "type": "scatter",
         "x": [
          1,
          2,
          3,
          4,
          5,
          6,
          7,
          8,
          9,
          10,
          11,
          12
         ],
         "xaxis": "x",
         "y": [
          87.9592876344086,
          84.11959077380952,
          86.21488575268818,
          85.38530555555555,
          83.60981518817204,
          82.51959027777778,
          84.82964045698925,
          81.74514448924731,
          81.6385763888889,
          87.89072580645161,
          87.77498958333334,
          78.69792338709676
         ],
         "yaxis": "y"
        }
       ],
       "layout": {
        "legend": {
         "title": {
          "text": "variable"
         },
         "tracegroupgap": 0
        },
        "template": {
         "data": {
          "bar": [
           {
            "error_x": {
             "color": "#2a3f5f"
            },
            "error_y": {
             "color": "#2a3f5f"
            },
            "marker": {
             "line": {
              "color": "#E5ECF6",
              "width": 0.5
             },
             "pattern": {
              "fillmode": "overlay",
              "size": 10,
              "solidity": 0.2
             }
            },
            "type": "bar"
           }
          ],
          "barpolar": [
           {
            "marker": {
             "line": {
              "color": "#E5ECF6",
              "width": 0.5
             },
             "pattern": {
              "fillmode": "overlay",
              "size": 10,
              "solidity": 0.2
             }
            },
            "type": "barpolar"
           }
          ],
          "carpet": [
           {
            "aaxis": {
             "endlinecolor": "#2a3f5f",
             "gridcolor": "white",
             "linecolor": "white",
             "minorgridcolor": "white",
             "startlinecolor": "#2a3f5f"
            },
            "baxis": {
             "endlinecolor": "#2a3f5f",
             "gridcolor": "white",
             "linecolor": "white",
             "minorgridcolor": "white",
             "startlinecolor": "#2a3f5f"
            },
            "type": "carpet"
           }
          ],
          "choropleth": [
           {
            "colorbar": {
             "outlinewidth": 0,
             "ticks": ""
            },
            "type": "choropleth"
           }
          ],
          "contour": [
           {
            "colorbar": {
             "outlinewidth": 0,
             "ticks": ""
            },
            "colorscale": [
             [
              0,
              "#0d0887"
             ],
             [
              0.1111111111111111,
              "#46039f"
             ],
             [
              0.2222222222222222,
              "#7201a8"
             ],
             [
              0.3333333333333333,
              "#9c179e"
             ],
             [
              0.4444444444444444,
              "#bd3786"
             ],
             [
              0.5555555555555556,
              "#d8576b"
             ],
             [
              0.6666666666666666,
              "#ed7953"
             ],
             [
              0.7777777777777778,
              "#fb9f3a"
             ],
             [
              0.8888888888888888,
              "#fdca26"
             ],
             [
              1,
              "#f0f921"
             ]
            ],
            "type": "contour"
           }
          ],
          "contourcarpet": [
           {
            "colorbar": {
             "outlinewidth": 0,
             "ticks": ""
            },
            "type": "contourcarpet"
           }
          ],
          "heatmap": [
           {
            "colorbar": {
             "outlinewidth": 0,
             "ticks": ""
            },
            "colorscale": [
             [
              0,
              "#0d0887"
             ],
             [
              0.1111111111111111,
              "#46039f"
             ],
             [
              0.2222222222222222,
              "#7201a8"
             ],
             [
              0.3333333333333333,
              "#9c179e"
             ],
             [
              0.4444444444444444,
              "#bd3786"
             ],
             [
              0.5555555555555556,
              "#d8576b"
             ],
             [
              0.6666666666666666,
              "#ed7953"
             ],
             [
              0.7777777777777778,
              "#fb9f3a"
             ],
             [
              0.8888888888888888,
              "#fdca26"
             ],
             [
              1,
              "#f0f921"
             ]
            ],
            "type": "heatmap"
           }
          ],
          "heatmapgl": [
           {
            "colorbar": {
             "outlinewidth": 0,
             "ticks": ""
            },
            "colorscale": [
             [
              0,
              "#0d0887"
             ],
             [
              0.1111111111111111,
              "#46039f"
             ],
             [
              0.2222222222222222,
              "#7201a8"
             ],
             [
              0.3333333333333333,
              "#9c179e"
             ],
             [
              0.4444444444444444,
              "#bd3786"
             ],
             [
              0.5555555555555556,
              "#d8576b"
             ],
             [
              0.6666666666666666,
              "#ed7953"
             ],
             [
              0.7777777777777778,
              "#fb9f3a"
             ],
             [
              0.8888888888888888,
              "#fdca26"
             ],
             [
              1,
              "#f0f921"
             ]
            ],
            "type": "heatmapgl"
           }
          ],
          "histogram": [
           {
            "marker": {
             "pattern": {
              "fillmode": "overlay",
              "size": 10,
              "solidity": 0.2
             }
            },
            "type": "histogram"
           }
          ],
          "histogram2d": [
           {
            "colorbar": {
             "outlinewidth": 0,
             "ticks": ""
            },
            "colorscale": [
             [
              0,
              "#0d0887"
             ],
             [
              0.1111111111111111,
              "#46039f"
             ],
             [
              0.2222222222222222,
              "#7201a8"
             ],
             [
              0.3333333333333333,
              "#9c179e"
             ],
             [
              0.4444444444444444,
              "#bd3786"
             ],
             [
              0.5555555555555556,
              "#d8576b"
             ],
             [
              0.6666666666666666,
              "#ed7953"
             ],
             [
              0.7777777777777778,
              "#fb9f3a"
             ],
             [
              0.8888888888888888,
              "#fdca26"
             ],
             [
              1,
              "#f0f921"
             ]
            ],
            "type": "histogram2d"
           }
          ],
          "histogram2dcontour": [
           {
            "colorbar": {
             "outlinewidth": 0,
             "ticks": ""
            },
            "colorscale": [
             [
              0,
              "#0d0887"
             ],
             [
              0.1111111111111111,
              "#46039f"
             ],
             [
              0.2222222222222222,
              "#7201a8"
             ],
             [
              0.3333333333333333,
              "#9c179e"
             ],
             [
              0.4444444444444444,
              "#bd3786"
             ],
             [
              0.5555555555555556,
              "#d8576b"
             ],
             [
              0.6666666666666666,
              "#ed7953"
             ],
             [
              0.7777777777777778,
              "#fb9f3a"
             ],
             [
              0.8888888888888888,
              "#fdca26"
             ],
             [
              1,
              "#f0f921"
             ]
            ],
            "type": "histogram2dcontour"
           }
          ],
          "mesh3d": [
           {
            "colorbar": {
             "outlinewidth": 0,
             "ticks": ""
            },
            "type": "mesh3d"
           }
          ],
          "parcoords": [
           {
            "line": {
             "colorbar": {
              "outlinewidth": 0,
              "ticks": ""
             }
            },
            "type": "parcoords"
           }
          ],
          "pie": [
           {
            "automargin": true,
            "type": "pie"
           }
          ],
          "scatter": [
           {
            "fillpattern": {
             "fillmode": "overlay",
             "size": 10,
             "solidity": 0.2
            },
            "type": "scatter"
           }
          ],
          "scatter3d": [
           {
            "line": {
             "colorbar": {
              "outlinewidth": 0,
              "ticks": ""
             }
            },
            "marker": {
             "colorbar": {
              "outlinewidth": 0,
              "ticks": ""
             }
            },
            "type": "scatter3d"
           }
          ],
          "scattercarpet": [
           {
            "marker": {
             "colorbar": {
              "outlinewidth": 0,
              "ticks": ""
             }
            },
            "type": "scattercarpet"
           }
          ],
          "scattergeo": [
           {
            "marker": {
             "colorbar": {
              "outlinewidth": 0,
              "ticks": ""
             }
            },
            "type": "scattergeo"
           }
          ],
          "scattergl": [
           {
            "marker": {
             "colorbar": {
              "outlinewidth": 0,
              "ticks": ""
             }
            },
            "type": "scattergl"
           }
          ],
          "scattermapbox": [
           {
            "marker": {
             "colorbar": {
              "outlinewidth": 0,
              "ticks": ""
             }
            },
            "type": "scattermapbox"
           }
          ],
          "scatterpolar": [
           {
            "marker": {
             "colorbar": {
              "outlinewidth": 0,
              "ticks": ""
             }
            },
            "type": "scatterpolar"
           }
          ],
          "scatterpolargl": [
           {
            "marker": {
             "colorbar": {
              "outlinewidth": 0,
              "ticks": ""
             }
            },
            "type": "scatterpolargl"
           }
          ],
          "scatterternary": [
           {
            "marker": {
             "colorbar": {
              "outlinewidth": 0,
              "ticks": ""
             }
            },
            "type": "scatterternary"
           }
          ],
          "surface": [
           {
            "colorbar": {
             "outlinewidth": 0,
             "ticks": ""
            },
            "colorscale": [
             [
              0,
              "#0d0887"
             ],
             [
              0.1111111111111111,
              "#46039f"
             ],
             [
              0.2222222222222222,
              "#7201a8"
             ],
             [
              0.3333333333333333,
              "#9c179e"
             ],
             [
              0.4444444444444444,
              "#bd3786"
             ],
             [
              0.5555555555555556,
              "#d8576b"
             ],
             [
              0.6666666666666666,
              "#ed7953"
             ],
             [
              0.7777777777777778,
              "#fb9f3a"
             ],
             [
              0.8888888888888888,
              "#fdca26"
             ],
             [
              1,
              "#f0f921"
             ]
            ],
            "type": "surface"
           }
          ],
          "table": [
           {
            "cells": {
             "fill": {
              "color": "#EBF0F8"
             },
             "line": {
              "color": "white"
             }
            },
            "header": {
             "fill": {
              "color": "#C8D4E3"
             },
             "line": {
              "color": "white"
             }
            },
            "type": "table"
           }
          ]
         },
         "layout": {
          "annotationdefaults": {
           "arrowcolor": "#2a3f5f",
           "arrowhead": 0,
           "arrowwidth": 1
          },
          "autotypenumbers": "strict",
          "coloraxis": {
           "colorbar": {
            "outlinewidth": 0,
            "ticks": ""
           }
          },
          "colorscale": {
           "diverging": [
            [
             0,
             "#8e0152"
            ],
            [
             0.1,
             "#c51b7d"
            ],
            [
             0.2,
             "#de77ae"
            ],
            [
             0.3,
             "#f1b6da"
            ],
            [
             0.4,
             "#fde0ef"
            ],
            [
             0.5,
             "#f7f7f7"
            ],
            [
             0.6,
             "#e6f5d0"
            ],
            [
             0.7,
             "#b8e186"
            ],
            [
             0.8,
             "#7fbc41"
            ],
            [
             0.9,
             "#4d9221"
            ],
            [
             1,
             "#276419"
            ]
           ],
           "sequential": [
            [
             0,
             "#0d0887"
            ],
            [
             0.1111111111111111,
             "#46039f"
            ],
            [
             0.2222222222222222,
             "#7201a8"
            ],
            [
             0.3333333333333333,
             "#9c179e"
            ],
            [
             0.4444444444444444,
             "#bd3786"
            ],
            [
             0.5555555555555556,
             "#d8576b"
            ],
            [
             0.6666666666666666,
             "#ed7953"
            ],
            [
             0.7777777777777778,
             "#fb9f3a"
            ],
            [
             0.8888888888888888,
             "#fdca26"
            ],
            [
             1,
             "#f0f921"
            ]
           ],
           "sequentialminus": [
            [
             0,
             "#0d0887"
            ],
            [
             0.1111111111111111,
             "#46039f"
            ],
            [
             0.2222222222222222,
             "#7201a8"
            ],
            [
             0.3333333333333333,
             "#9c179e"
            ],
            [
             0.4444444444444444,
             "#bd3786"
            ],
            [
             0.5555555555555556,
             "#d8576b"
            ],
            [
             0.6666666666666666,
             "#ed7953"
            ],
            [
             0.7777777777777778,
             "#fb9f3a"
            ],
            [
             0.8888888888888888,
             "#fdca26"
            ],
            [
             1,
             "#f0f921"
            ]
           ]
          },
          "colorway": [
           "#636efa",
           "#EF553B",
           "#00cc96",
           "#ab63fa",
           "#FFA15A",
           "#19d3f3",
           "#FF6692",
           "#B6E880",
           "#FF97FF",
           "#FECB52"
          ],
          "font": {
           "color": "#2a3f5f"
          },
          "geo": {
           "bgcolor": "white",
           "lakecolor": "white",
           "landcolor": "#E5ECF6",
           "showlakes": true,
           "showland": true,
           "subunitcolor": "white"
          },
          "hoverlabel": {
           "align": "left"
          },
          "hovermode": "closest",
          "mapbox": {
           "style": "light"
          },
          "paper_bgcolor": "white",
          "plot_bgcolor": "#E5ECF6",
          "polar": {
           "angularaxis": {
            "gridcolor": "white",
            "linecolor": "white",
            "ticks": ""
           },
           "bgcolor": "#E5ECF6",
           "radialaxis": {
            "gridcolor": "white",
            "linecolor": "white",
            "ticks": ""
           }
          },
          "scene": {
           "xaxis": {
            "backgroundcolor": "#E5ECF6",
            "gridcolor": "white",
            "gridwidth": 2,
            "linecolor": "white",
            "showbackground": true,
            "ticks": "",
            "zerolinecolor": "white"
           },
           "yaxis": {
            "backgroundcolor": "#E5ECF6",
            "gridcolor": "white",
            "gridwidth": 2,
            "linecolor": "white",
            "showbackground": true,
            "ticks": "",
            "zerolinecolor": "white"
           },
           "zaxis": {
            "backgroundcolor": "#E5ECF6",
            "gridcolor": "white",
            "gridwidth": 2,
            "linecolor": "white",
            "showbackground": true,
            "ticks": "",
            "zerolinecolor": "white"
           }
          },
          "shapedefaults": {
           "line": {
            "color": "#2a3f5f"
           }
          },
          "ternary": {
           "aaxis": {
            "gridcolor": "white",
            "linecolor": "white",
            "ticks": ""
           },
           "baxis": {
            "gridcolor": "white",
            "linecolor": "white",
            "ticks": ""
           },
           "bgcolor": "#E5ECF6",
           "caxis": {
            "gridcolor": "white",
            "linecolor": "white",
            "ticks": ""
           }
          },
          "title": {
           "x": 0.05
          },
          "xaxis": {
           "automargin": true,
           "gridcolor": "white",
           "linecolor": "white",
           "ticks": "",
           "title": {
            "standoff": 15
           },
           "zerolinecolor": "white",
           "zerolinewidth": 2
          },
          "yaxis": {
           "automargin": true,
           "gridcolor": "white",
           "linecolor": "white",
           "ticks": "",
           "title": {
            "standoff": 15
           },
           "zerolinecolor": "white",
           "zerolinewidth": 2
          }
         }
        },
        "title": {
         "text": "Monthly average values of df_num"
        },
        "xaxis": {
         "anchor": "y",
         "domain": [
          0,
          1
         ],
         "title": {
          "text": "date"
         }
        },
        "yaxis": {
         "anchor": "x",
         "domain": [
          0,
          1
         ],
         "title": {
          "text": "Average value"
         }
        }
       }
      }
     },
     "metadata": {},
     "output_type": "display_data"
    }
   ],
   "source": [
    "# plotly monthly average values against month of df_num\n",
    "import plotly.express as px\n",
    "\n",
    "df_temp = df_num.copy()\n",
    "\n",
    "df_temp = df_temp.groupby(df_temp.index.month).mean()\n",
    "\n",
    "px.line(df_temp, labels={'value':'Average value', 'index':'Month'}, title='Monthly average values of df_num')"
   ]
  },
  {
   "cell_type": "markdown",
   "metadata": {},
   "source": [
    "## Divide the data into 2 populations"
   ]
  },
  {
   "cell_type": "code",
   "execution_count": 62,
   "metadata": {},
   "outputs": [
    {
     "data": {
      "text/html": [
       "<div>\n",
       "<style scoped>\n",
       "    .dataframe tbody tr th:only-of-type {\n",
       "        vertical-align: middle;\n",
       "    }\n",
       "\n",
       "    .dataframe tbody tr th {\n",
       "        vertical-align: top;\n",
       "    }\n",
       "\n",
       "    .dataframe thead th {\n",
       "        text-align: right;\n",
       "    }\n",
       "</style>\n",
       "<table border=\"1\" class=\"dataframe\">\n",
       "  <thead>\n",
       "    <tr style=\"text-align: right;\">\n",
       "      <th></th>\n",
       "      <th>Usage_kWh</th>\n",
       "      <th>Lagging_Current_Reactive_Power_kVarh</th>\n",
       "      <th>Leading_Current_Reactive_Power_kVarh</th>\n",
       "      <th>CO2</th>\n",
       "      <th>Lagging_Current_Power_Factor</th>\n",
       "      <th>Leading_Current_Power_Factor</th>\n",
       "    </tr>\n",
       "  </thead>\n",
       "  <tbody>\n",
       "    <tr>\n",
       "      <th>count</th>\n",
       "      <td>183.000000</td>\n",
       "      <td>183.000000</td>\n",
       "      <td>183.000000</td>\n",
       "      <td>183.000000</td>\n",
       "      <td>183.000000</td>\n",
       "      <td>183.000000</td>\n",
       "    </tr>\n",
       "    <tr>\n",
       "      <th>mean</th>\n",
       "      <td>-0.183785</td>\n",
       "      <td>-0.090859</td>\n",
       "      <td>-0.003359</td>\n",
       "      <td>-0.163133</td>\n",
       "      <td>-0.464142</td>\n",
       "      <td>-0.077183</td>\n",
       "    </tr>\n",
       "    <tr>\n",
       "      <th>std</th>\n",
       "      <td>0.838793</td>\n",
       "      <td>0.896120</td>\n",
       "      <td>0.893887</td>\n",
       "      <td>0.830893</td>\n",
       "      <td>0.640307</td>\n",
       "      <td>0.969523</td>\n",
       "    </tr>\n",
       "    <tr>\n",
       "      <th>min</th>\n",
       "      <td>-1.600949</td>\n",
       "      <td>-1.586389</td>\n",
       "      <td>-1.031338</td>\n",
       "      <td>-1.563939</td>\n",
       "      <td>-1.877203</td>\n",
       "      <td>-2.342087</td>\n",
       "    </tr>\n",
       "    <tr>\n",
       "      <th>25%</th>\n",
       "      <td>-0.836565</td>\n",
       "      <td>-0.941513</td>\n",
       "      <td>-0.645017</td>\n",
       "      <td>-0.765238</td>\n",
       "      <td>-0.937306</td>\n",
       "      <td>-0.408405</td>\n",
       "    </tr>\n",
       "    <tr>\n",
       "      <th>50%</th>\n",
       "      <td>-0.023174</td>\n",
       "      <td>0.133402</td>\n",
       "      <td>-0.458950</td>\n",
       "      <td>0.005190</td>\n",
       "      <td>-0.481827</td>\n",
       "      <td>0.541989</td>\n",
       "    </tr>\n",
       "    <tr>\n",
       "      <th>75%</th>\n",
       "      <td>0.388801</td>\n",
       "      <td>0.611132</td>\n",
       "      <td>0.546529</td>\n",
       "      <td>0.393938</td>\n",
       "      <td>0.019908</td>\n",
       "      <td>0.626587</td>\n",
       "    </tr>\n",
       "    <tr>\n",
       "      <th>max</th>\n",
       "      <td>1.513004</td>\n",
       "      <td>1.514360</td>\n",
       "      <td>2.161976</td>\n",
       "      <td>1.461228</td>\n",
       "      <td>1.192820</td>\n",
       "      <td>0.903602</td>\n",
       "    </tr>\n",
       "  </tbody>\n",
       "</table>\n",
       "</div>"
      ],
      "text/plain": [
       "        Usage_kWh  Lagging_Current_Reactive_Power_kVarh  \\\n",
       "count  183.000000                            183.000000   \n",
       "mean    -0.183785                             -0.090859   \n",
       "std      0.838793                              0.896120   \n",
       "min     -1.600949                             -1.586389   \n",
       "25%     -0.836565                             -0.941513   \n",
       "50%     -0.023174                              0.133402   \n",
       "75%      0.388801                              0.611132   \n",
       "max      1.513004                              1.514360   \n",
       "\n",
       "       Leading_Current_Reactive_Power_kVarh         CO2  \\\n",
       "count                            183.000000  183.000000   \n",
       "mean                              -0.003359   -0.163133   \n",
       "std                                0.893887    0.830893   \n",
       "min                               -1.031338   -1.563939   \n",
       "25%                               -0.645017   -0.765238   \n",
       "50%                               -0.458950    0.005190   \n",
       "75%                                0.546529    0.393938   \n",
       "max                                2.161976    1.461228   \n",
       "\n",
       "       Lagging_Current_Power_Factor  Leading_Current_Power_Factor  \n",
       "count                    183.000000                    183.000000  \n",
       "mean                      -0.464142                     -0.077183  \n",
       "std                        0.640307                      0.969523  \n",
       "min                       -1.877203                     -2.342087  \n",
       "25%                       -0.937306                     -0.408405  \n",
       "50%                       -0.481827                      0.541989  \n",
       "75%                        0.019908                      0.626587  \n",
       "max                        1.192820                      0.903602  "
      ]
     },
     "metadata": {},
     "output_type": "display_data"
    },
    {
     "data": {
      "text/html": [
       "<div>\n",
       "<style scoped>\n",
       "    .dataframe tbody tr th:only-of-type {\n",
       "        vertical-align: middle;\n",
       "    }\n",
       "\n",
       "    .dataframe tbody tr th {\n",
       "        vertical-align: top;\n",
       "    }\n",
       "\n",
       "    .dataframe thead th {\n",
       "        text-align: right;\n",
       "    }\n",
       "</style>\n",
       "<table border=\"1\" class=\"dataframe\">\n",
       "  <thead>\n",
       "    <tr style=\"text-align: right;\">\n",
       "      <th></th>\n",
       "      <th>Usage_kWh</th>\n",
       "      <th>Lagging_Current_Reactive_Power_kVarh</th>\n",
       "      <th>Leading_Current_Reactive_Power_kVarh</th>\n",
       "      <th>CO2</th>\n",
       "      <th>Lagging_Current_Power_Factor</th>\n",
       "      <th>Leading_Current_Power_Factor</th>\n",
       "    </tr>\n",
       "  </thead>\n",
       "  <tbody>\n",
       "    <tr>\n",
       "      <th>count</th>\n",
       "      <td>182.000000</td>\n",
       "      <td>182.000000</td>\n",
       "      <td>182.000000</td>\n",
       "      <td>182.000000</td>\n",
       "      <td>182.000000</td>\n",
       "      <td>182.000000</td>\n",
       "    </tr>\n",
       "    <tr>\n",
       "      <th>mean</th>\n",
       "      <td>0.184795</td>\n",
       "      <td>0.091359</td>\n",
       "      <td>0.003377</td>\n",
       "      <td>0.164029</td>\n",
       "      <td>0.466692</td>\n",
       "      <td>0.077607</td>\n",
       "    </tr>\n",
       "    <tr>\n",
       "      <th>std</th>\n",
       "      <td>1.111351</td>\n",
       "      <td>1.089423</td>\n",
       "      <td>1.098899</td>\n",
       "      <td>1.123785</td>\n",
       "      <td>1.077951</td>\n",
       "      <td>1.026549</td>\n",
       "    </tr>\n",
       "    <tr>\n",
       "      <th>min</th>\n",
       "      <td>-1.597726</td>\n",
       "      <td>-1.593563</td>\n",
       "      <td>-1.362786</td>\n",
       "      <td>-1.563939</td>\n",
       "      <td>-2.024772</td>\n",
       "      <td>-2.092374</td>\n",
       "    </tr>\n",
       "    <tr>\n",
       "      <th>25%</th>\n",
       "      <td>-0.549557</td>\n",
       "      <td>-0.878443</td>\n",
       "      <td>-0.847933</td>\n",
       "      <td>-0.595603</td>\n",
       "      <td>-0.407238</td>\n",
       "      <td>-0.263459</td>\n",
       "    </tr>\n",
       "    <tr>\n",
       "      <th>50%</th>\n",
       "      <td>0.268535</td>\n",
       "      <td>0.209503</td>\n",
       "      <td>-0.509401</td>\n",
       "      <td>0.259643</td>\n",
       "      <td>0.824414</td>\n",
       "      <td>0.649504</td>\n",
       "    </tr>\n",
       "    <tr>\n",
       "      <th>75%</th>\n",
       "      <td>0.905112</td>\n",
       "      <td>0.878967</td>\n",
       "      <td>0.549812</td>\n",
       "      <td>0.892242</td>\n",
       "      <td>1.346563</td>\n",
       "      <td>0.759699</td>\n",
       "    </tr>\n",
       "    <tr>\n",
       "      <th>max</th>\n",
       "      <td>3.191990</td>\n",
       "      <td>3.137130</td>\n",
       "      <td>3.213357</td>\n",
       "      <td>3.270673</td>\n",
       "      <td>2.215414</td>\n",
       "      <td>1.119070</td>\n",
       "    </tr>\n",
       "  </tbody>\n",
       "</table>\n",
       "</div>"
      ],
      "text/plain": [
       "        Usage_kWh  Lagging_Current_Reactive_Power_kVarh  \\\n",
       "count  182.000000                            182.000000   \n",
       "mean     0.184795                              0.091359   \n",
       "std      1.111351                              1.089423   \n",
       "min     -1.597726                             -1.593563   \n",
       "25%     -0.549557                             -0.878443   \n",
       "50%      0.268535                              0.209503   \n",
       "75%      0.905112                              0.878967   \n",
       "max      3.191990                              3.137130   \n",
       "\n",
       "       Leading_Current_Reactive_Power_kVarh         CO2  \\\n",
       "count                            182.000000  182.000000   \n",
       "mean                               0.003377    0.164029   \n",
       "std                                1.098899    1.123785   \n",
       "min                               -1.362786   -1.563939   \n",
       "25%                               -0.847933   -0.595603   \n",
       "50%                               -0.509401    0.259643   \n",
       "75%                                0.549812    0.892242   \n",
       "max                                3.213357    3.270673   \n",
       "\n",
       "       Lagging_Current_Power_Factor  Leading_Current_Power_Factor  \n",
       "count                    182.000000                    182.000000  \n",
       "mean                       0.466692                      0.077607  \n",
       "std                        1.077951                      1.026549  \n",
       "min                       -2.024772                     -2.092374  \n",
       "25%                       -0.407238                     -0.263459  \n",
       "50%                        0.824414                      0.649504  \n",
       "75%                        1.346563                      0.759699  \n",
       "max                        2.215414                      1.119070  "
      ]
     },
     "metadata": {},
     "output_type": "display_data"
    }
   ],
   "source": [
    "# divide the data into winter and summer\n",
    "df_summer = df_num_daily[df_num_daily.index.quarter.isin([2,3])]\n",
    "df_winter = df_num_daily[df_num_daily.index.quarter.isin([1,4])]\n",
    "display(df_summer.describe())\n",
    "display(df_winter.describe())"
   ]
  },
  {
   "cell_type": "markdown",
   "metadata": {},
   "source": [
    "## Test for Equivalence of Variance"
   ]
  },
  {
   "cell_type": "code",
   "execution_count": 64,
   "metadata": {},
   "outputs": [],
   "source": [
    "import numpy as np\n",
    "from scipy.stats import chi2\n",
    "\n",
    "def wilks_lambda_test(df_summer, df_winter, alpha=0.05):\n",
    "    \"\"\"\n",
    "    Performs Wilks' Lambda test to compare covariance matrices between two groups\n",
    "    using the formula: -2log∧ = -np log(n) + n log(|A|) + Σ ni_p log(ni) + Σ ni log(|Ai|)\n",
    "    \n",
    "    Parameters:\n",
    "    df_summer (pandas.DataFrame): Data frame containing summer measurements\n",
    "    df_winter (pandas.DataFrame): Data frame containing winter measurements\n",
    "    alpha (float): Significance level for the test\n",
    "    \n",
    "    Returns:\n",
    "    dict: Test statistics and results\n",
    "    \"\"\"\n",
    "    # Calculate sample sizes\n",
    "    n1 = len(df_summer)\n",
    "    n2 = len(df_winter)\n",
    "    n = n1 + n2  # total sample size\n",
    "    \n",
    "    # Number of variables\n",
    "    p = len(df_summer.columns)\n",
    "    \n",
    "    # Calculate individual covariance matrices and their determinants\n",
    "    A1 = (n1 - 1) * np.cov(df_summer.T)  # As per formula Ai = (ni-1)cov\n",
    "    A2 = (n2 - 1) * np.cov(df_winter.T)\n",
    "    \n",
    "    # Calculate |A| (determinant of sum of matrices)\n",
    "    A = A1 + A2\n",
    "    det_A = np.linalg.det(A)\n",
    "    det_A1 = np.linalg.det(A1)\n",
    "    det_A2 = np.linalg.det(A2)\n",
    "    \n",
    "    # Calculate Wilks' Lambda statistic using the formula from the image\n",
    "    wilks_stat = -n * p * np.log(n) + \\\n",
    "                 n * np.log(det_A) + \\\n",
    "                 n1 * p * np.log(n1) + \\\n",
    "                 n2 * p * np.log(n2) - \\\n",
    "                 n1 * np.log(det_A1) - \\\n",
    "                 n2 * np.log(det_A2)\n",
    "\n",
    "    # Degrees of freedom calculation as shown in image\n",
    "    # (g-1)p(p+1)/2 where g=2 (number of groups)\n",
    "    df = (2-1) * p * (p+1) / 2\n",
    "    \n",
    "    # Calculate p-value using chi-square distribution\n",
    "    p_value = 1 - chi2.cdf(wilks_stat, df)\n",
    "    \n",
    "    # Calculate critical value\n",
    "    chi2_critical = chi2.ppf(1 - alpha, df)\n",
    "    \n",
    "    results = {\n",
    "        'wilks_lambda_stat': wilks_stat,\n",
    "        'degrees_of_freedom': df,\n",
    "        'chi2_critical': chi2_critical,\n",
    "        'p_value': p_value,\n",
    "        'equal_covariance': p_value > alpha\n",
    "    }\n",
    "    \n",
    "    return results\n",
    "\n",
    "def print_wilks_test_results(results):\n",
    "    \"\"\"\n",
    "    Pretty prints the results of the Wilks' Lambda test\n",
    "    \"\"\"\n",
    "    print(\"\\nWilks' Lambda Test Results:\")\n",
    "    print(\"-\" * 40)\n",
    "    print(f\"Test statistic (-2 log Λ): {results['wilks_lambda_stat']:.4f}\")\n",
    "    print(f\"Degrees of freedom: {results['degrees_of_freedom']:.0f}\")\n",
    "    print(f\"Critical value (χ²): {results['chi2_critical']:.4f}\")\n",
    "    print(f\"P-value: {results['p_value']:.4f}\")\n",
    "    print(\"\\nConclusion:\")\n",
    "    if results['equal_covariance']:\n",
    "        print(\"Fail to reject null hypothesis: Covariance matrices are not significantly different\")\n",
    "    else:\n",
    "        print(\"Reject null hypothesis: Covariance matrices are significantly different\")"
   ]
  },
  {
   "cell_type": "markdown",
   "metadata": {},
   "source": [
    "## Test for Equivalence of Mean"
   ]
  },
  {
   "cell_type": "code",
   "execution_count": 63,
   "metadata": {},
   "outputs": [
    {
     "name": "stdout",
     "output_type": "stream",
     "text": [
      "Hotelling T-squared statistic: 138.07169032050388\n",
      "F-statistic: 22.69497940070725\n",
      "Critical value of F-statistic: 2.1239225395551817\n",
      "P-value: 1.1102230246251565e-16\n",
      "Reject the null hypothesis that the means are equal\n"
     ]
    }
   ],
   "source": [
    "# test for multivariate equivalence of mean in summer and winter\n",
    "# Hotelling's T-squared test\n",
    "from scipy.stats import f\n",
    "from scipy.stats import t\n",
    "\n",
    "# calculate the mean of the two groups\n",
    "mean_summer = df_summer.mean()\n",
    "mean_winter = df_winter.mean()\n",
    "\n",
    "# calculate the covariance matrix of the two groups\n",
    "cov_summer = np.cov(df_summer.T)\n",
    "cov_winter = np.cov(df_winter.T)\n",
    "\n",
    "# calculate the number of samples in each group\n",
    "n_summer = len(df_summer)\n",
    "n_winter = len(df_winter)\n",
    "\n",
    "# calculate the number of variables\n",
    "p = len(df_summer.columns)\n",
    "\n",
    "# calculate the pooled covariance matrix\n",
    "cov_pooled = ((n_summer - 1)*cov_summer + (n_winter - 1)*cov_winter)/(n_summer + n_winter - 2)\n",
    "\n",
    "# calculate the T-squared statistic\n",
    "hotelling = n_summer*n_winter/(n_summer + n_winter)*np.dot(np.dot(mean_summer - mean_winter, np.linalg.inv(cov_pooled)), mean_summer - mean_winter)\n",
    "\n",
    "# calculate the F-statistic\n",
    "f_statistic = hotelling*(n_summer + n_winter - p - 1)/(p*(n_summer + n_winter - 2))\n",
    "\n",
    "# calculate the critical value of the F-statistic\n",
    "alpha = 0.05\n",
    "\n",
    "f_critical = f.ppf(1 - alpha, p, n_summer + n_winter - p - 1)\n",
    "\n",
    "# calculate the p-value\n",
    "p_value = 1 - f.cdf(f_statistic, p, n_summer + n_winter - p - 1)\n",
    "\n",
    "print('Hotelling T-squared statistic:', hotelling)\n",
    "print('F-statistic:', f_statistic)\n",
    "print('Critical value of F-statistic:', f_critical)\n",
    "print('P-value:', p_value)\n",
    "\n",
    "if f_statistic > f_critical:\n",
    "    print('Reject the null hypothesis that the means are equal')\n",
    "else:\n",
    "    print('Fail to reject the null hypothesis that the means are equal')"
   ]
  },
  {
   "cell_type": "code",
   "execution_count": 65,
   "metadata": {},
   "outputs": [
    {
     "name": "stdout",
     "output_type": "stream",
     "text": [
      "\n",
      "Wilks' Lambda Test Results:\n",
      "----------------------------------------\n",
      "Test statistic (-2 log Λ): 544.7142\n",
      "Degrees of freedom: 21\n",
      "Critical value (χ²): 32.6706\n",
      "P-value: 0.0000\n",
      "\n",
      "Conclusion:\n",
      "Reject null hypothesis: Covariance matrices are significantly different\n"
     ]
    }
   ],
   "source": [
    "print_wilks_test_results(wilks_lambda_test(df_summer, df_winter))"
   ]
  },
  {
   "cell_type": "markdown",
   "metadata": {},
   "source": [
    "# MANOVA\n",
    "### Please note that MANOVA:\n",
    "- The dependent variables are all the columns of the original dataframe (without the dummy variables for summer, winter)\n",
    "- The independent variable is the season (summer, winter)"
   ]
  },
  {
   "cell_type": "code",
   "execution_count": 66,
   "metadata": {},
   "outputs": [],
   "source": [
    "import pandas as pd\n",
    "import numpy as np\n",
    "from scipy import stats\n",
    "\n",
    "def perform_manova(df_summer, df_winter):\n",
    "    \"\"\"\n",
    "    Perform MANOVA analysis on two groups of multivariate data using Wilk's test.\n",
    "    \n",
    "    Parameters:\n",
    "    df_summer (pd.DataFrame): DataFrame containing summer measurements\n",
    "    df_winter (pd.DataFrame): DataFrame containing winter measurements\n",
    "    \n",
    "    Returns:\n",
    "    dict: Dictionary containing test statistics and p-value\n",
    "    \"\"\"\n",
    "    # Convert DataFrames to numpy arrays for statistical processing\n",
    "    summer_data = df_summer.values\n",
    "    winter_data = df_winter.values\n",
    "    \n",
    "    # Combine the data and create group labels\n",
    "    X = np.vstack([summer_data, winter_data])\n",
    "    groups = np.repeat([0, 1], [len(summer_data), len(winter_data)])\n",
    "    \n",
    "    # Calculate the number of variables\n",
    "    n_vars = X.shape[1]\n",
    "    \n",
    "    # Calculate group means\n",
    "    summer_mean = np.mean(summer_data, axis=0)\n",
    "    winter_mean = np.mean(winter_data, axis=0)\n",
    "    grand_mean = np.mean(X, axis=0)\n",
    "    \n",
    "    # Calculate Within-group Sum of Squares and Cross-products (W)\n",
    "    W = np.zeros((n_vars, n_vars))\n",
    "    for i in range(len(groups)):\n",
    "        if groups[i] == 0:\n",
    "            diff = X[i] - summer_mean\n",
    "        else:\n",
    "            diff = X[i] - winter_mean\n",
    "        W += np.outer(diff, diff)\n",
    "    \n",
    "    # Calculate Between-group Sum of Squares and Cross-products (B)\n",
    "    B = np.zeros((n_vars, n_vars))\n",
    "    for mean, size in [(summer_mean, len(summer_data)), (winter_mean, len(winter_data))]:\n",
    "        diff = mean - grand_mean\n",
    "        B += size * np.outer(diff, diff)\n",
    "    \n",
    "    # Calculate Wilk's lambda statistic\n",
    "    _, W_det = np.linalg.slogdet(W)\n",
    "    _, T_det = np.linalg.slogdet(W + B)\n",
    "    wilks_lambda = np.exp(W_det - T_det)\n",
    "    \n",
    "    # Calculate degrees of freedom\n",
    "    df1 = 1\n",
    "    df2 = len(X) - 2\n",
    "    \n",
    "    # Calculate F-statistic\n",
    "    F = ((1 - wilks_lambda) / wilks_lambda) * (df2 / df1)\n",
    "    \n",
    "    # Calculate p-value\n",
    "    p_value = 1 - stats.f.cdf(F, df1, df2)\n",
    "    \n",
    "    # Create summary statistics\n",
    "    results = {\n",
    "        'wilks_lambda': wilks_lambda,\n",
    "        'F_statistic': F,\n",
    "        'df1': df1,\n",
    "        'df2': df2,\n",
    "        'p_value': p_value,\n",
    "        'group_sizes': {\n",
    "            'summer': len(summer_data),\n",
    "            'winter': len(winter_data)\n",
    "        },\n",
    "        'group_means': {\n",
    "            'summer': summer_mean,\n",
    "            'winter': winter_mean\n",
    "        }\n",
    "    }\n",
    "    \n",
    "    return results\n",
    "\n",
    "def print_manova_results(results):\n",
    "    \"\"\"\n",
    "    Print MANOVA results in a formatted way.\n",
    "    \n",
    "    Parameters:\n",
    "    results (dict): Dictionary containing MANOVA results\n",
    "    \"\"\"\n",
    "    print(\"\\nMANOVA Results:\")\n",
    "    print(\"-\" * 50)\n",
    "    print(f\"Wilk's Lambda: {results['wilks_lambda']:.4f}\")\n",
    "    print(f\"F-statistic: {results['F_statistic']:.4f}\")\n",
    "    print(f\"Degrees of freedom: ({results['df1']}, {results['df2']})\")\n",
    "    print(f\"p-value: {results['p_value']:.4f}\")\n",
    "    print(\"\\nGroup Sizes:\")\n",
    "    print(f\"Summer: {results['group_sizes']['summer']}\")\n",
    "    print(f\"Winter: {results['group_sizes']['winter']}\")\n",
    "    \n",
    "    print(\"\\nGroup Means:\")\n",
    "    print(\"\\nSummer:\")\n",
    "    for i, mean in enumerate(results['group_means']['summer']):\n",
    "        print(f\"Variable {i+1}: {mean:.4f}\")\n",
    "    print(\"\\nWinter:\")\n",
    "    for i, mean in enumerate(results['group_means']['winter']):\n",
    "        print(f\"Variable {i+1}: {mean:.4f}\")"
   ]
  },
  {
   "cell_type": "code",
   "execution_count": 67,
   "metadata": {},
   "outputs": [
    {
     "name": "stdout",
     "output_type": "stream",
     "text": [
      "\n",
      "MANOVA Results:\n",
      "--------------------------------------------------\n",
      "Wilk's Lambda: 0.7244\n",
      "F-statistic: 138.0717\n",
      "Degrees of freedom: (1, 363)\n",
      "p-value: 0.0000\n",
      "\n",
      "Group Sizes:\n",
      "Summer: 183\n",
      "Winter: 182\n",
      "\n",
      "Group Means:\n",
      "\n",
      "Summer:\n",
      "Variable 1: -0.1838\n",
      "Variable 2: -0.0909\n",
      "Variable 3: -0.0034\n",
      "Variable 4: -0.1631\n",
      "Variable 5: -0.4641\n",
      "Variable 6: -0.0772\n",
      "\n",
      "Winter:\n",
      "Variable 1: 0.1848\n",
      "Variable 2: 0.0914\n",
      "Variable 3: 0.0034\n",
      "Variable 4: 0.1640\n",
      "Variable 5: 0.4667\n",
      "Variable 6: 0.0776\n"
     ]
    }
   ],
   "source": [
    "print_manova_results(perform_manova(df_summer, df_winter))"
   ]
  },
  {
   "cell_type": "markdown",
   "metadata": {},
   "source": [
    "# Profile Analysis"
   ]
  },
  {
   "cell_type": "markdown",
   "metadata": {},
   "source": [
    "### Creating a new split in data by breaking it into am vs pm data resampled at monthly level, now we will apply the profile analysis "
   ]
  },
  {
   "cell_type": "code",
   "execution_count": 68,
   "metadata": {},
   "outputs": [
    {
     "data": {
      "text/html": [
       "<div>\n",
       "<style scoped>\n",
       "    .dataframe tbody tr th:only-of-type {\n",
       "        vertical-align: middle;\n",
       "    }\n",
       "\n",
       "    .dataframe tbody tr th {\n",
       "        vertical-align: top;\n",
       "    }\n",
       "\n",
       "    .dataframe thead th {\n",
       "        text-align: right;\n",
       "    }\n",
       "</style>\n",
       "<table border=\"1\" class=\"dataframe\">\n",
       "  <thead>\n",
       "    <tr style=\"text-align: right;\">\n",
       "      <th></th>\n",
       "      <th>Usage_kWh</th>\n",
       "      <th>Lagging_Current_Reactive_Power_kVarh</th>\n",
       "      <th>Leading_Current_Reactive_Power_kVarh</th>\n",
       "      <th>CO2</th>\n",
       "      <th>Lagging_Current_Power_Factor</th>\n",
       "      <th>Leading_Current_Power_Factor</th>\n",
       "    </tr>\n",
       "    <tr>\n",
       "      <th>date</th>\n",
       "      <th></th>\n",
       "      <th></th>\n",
       "      <th></th>\n",
       "      <th></th>\n",
       "      <th></th>\n",
       "      <th></th>\n",
       "    </tr>\n",
       "  </thead>\n",
       "  <tbody>\n",
       "    <tr>\n",
       "      <th>1</th>\n",
       "      <td>33.076694</td>\n",
       "      <td>17.841909</td>\n",
       "      <td>0.839328</td>\n",
       "      <td>0.014026</td>\n",
       "      <td>79.109368</td>\n",
       "      <td>97.262601</td>\n",
       "    </tr>\n",
       "    <tr>\n",
       "      <th>2</th>\n",
       "      <td>24.529509</td>\n",
       "      <td>13.072820</td>\n",
       "      <td>1.364881</td>\n",
       "      <td>0.009807</td>\n",
       "      <td>78.112574</td>\n",
       "      <td>94.261079</td>\n",
       "    </tr>\n",
       "    <tr>\n",
       "      <th>3</th>\n",
       "      <td>20.723011</td>\n",
       "      <td>11.110531</td>\n",
       "      <td>0.628784</td>\n",
       "      <td>0.008293</td>\n",
       "      <td>73.578031</td>\n",
       "      <td>97.945316</td>\n",
       "    </tr>\n",
       "    <tr>\n",
       "      <th>4</th>\n",
       "      <td>20.885146</td>\n",
       "      <td>12.030375</td>\n",
       "      <td>0.434007</td>\n",
       "      <td>0.008479</td>\n",
       "      <td>70.749819</td>\n",
       "      <td>98.135444</td>\n",
       "    </tr>\n",
       "    <tr>\n",
       "      <th>5</th>\n",
       "      <td>19.399489</td>\n",
       "      <td>12.644046</td>\n",
       "      <td>0.841526</td>\n",
       "      <td>0.007809</td>\n",
       "      <td>66.808817</td>\n",
       "      <td>96.515739</td>\n",
       "    </tr>\n",
       "    <tr>\n",
       "      <th>6</th>\n",
       "      <td>16.946118</td>\n",
       "      <td>11.604715</td>\n",
       "      <td>0.721139</td>\n",
       "      <td>0.006743</td>\n",
       "      <td>63.403187</td>\n",
       "      <td>96.742354</td>\n",
       "    </tr>\n",
       "    <tr>\n",
       "      <th>7</th>\n",
       "      <td>20.478810</td>\n",
       "      <td>13.589409</td>\n",
       "      <td>0.622655</td>\n",
       "      <td>0.008461</td>\n",
       "      <td>68.492910</td>\n",
       "      <td>94.601411</td>\n",
       "    </tr>\n",
       "    <tr>\n",
       "      <th>8</th>\n",
       "      <td>17.871324</td>\n",
       "      <td>12.893649</td>\n",
       "      <td>1.014940</td>\n",
       "      <td>0.007144</td>\n",
       "      <td>61.096949</td>\n",
       "      <td>94.759839</td>\n",
       "    </tr>\n",
       "    <tr>\n",
       "      <th>9</th>\n",
       "      <td>14.992854</td>\n",
       "      <td>10.832264</td>\n",
       "      <td>0.757965</td>\n",
       "      <td>0.005965</td>\n",
       "      <td>60.264139</td>\n",
       "      <td>95.331125</td>\n",
       "    </tr>\n",
       "    <tr>\n",
       "      <th>10</th>\n",
       "      <td>20.874859</td>\n",
       "      <td>14.541586</td>\n",
       "      <td>0.405786</td>\n",
       "      <td>0.008474</td>\n",
       "      <td>60.805531</td>\n",
       "      <td>97.502567</td>\n",
       "    </tr>\n",
       "    <tr>\n",
       "      <th>11</th>\n",
       "      <td>23.337451</td>\n",
       "      <td>13.566278</td>\n",
       "      <td>0.400479</td>\n",
       "      <td>0.009590</td>\n",
       "      <td>70.923201</td>\n",
       "      <td>97.890097</td>\n",
       "    </tr>\n",
       "    <tr>\n",
       "      <th>12</th>\n",
       "      <td>16.263884</td>\n",
       "      <td>8.280450</td>\n",
       "      <td>1.318253</td>\n",
       "      <td>0.006109</td>\n",
       "      <td>82.868441</td>\n",
       "      <td>94.117278</td>\n",
       "    </tr>\n",
       "  </tbody>\n",
       "</table>\n",
       "</div>"
      ],
      "text/plain": [
       "      Usage_kWh  Lagging_Current_Reactive_Power_kVarh  \\\n",
       "date                                                    \n",
       "1     33.076694                             17.841909   \n",
       "2     24.529509                             13.072820   \n",
       "3     20.723011                             11.110531   \n",
       "4     20.885146                             12.030375   \n",
       "5     19.399489                             12.644046   \n",
       "6     16.946118                             11.604715   \n",
       "7     20.478810                             13.589409   \n",
       "8     17.871324                             12.893649   \n",
       "9     14.992854                             10.832264   \n",
       "10    20.874859                             14.541586   \n",
       "11    23.337451                             13.566278   \n",
       "12    16.263884                              8.280450   \n",
       "\n",
       "      Leading_Current_Reactive_Power_kVarh       CO2  \\\n",
       "date                                                   \n",
       "1                                 0.839328  0.014026   \n",
       "2                                 1.364881  0.009807   \n",
       "3                                 0.628784  0.008293   \n",
       "4                                 0.434007  0.008479   \n",
       "5                                 0.841526  0.007809   \n",
       "6                                 0.721139  0.006743   \n",
       "7                                 0.622655  0.008461   \n",
       "8                                 1.014940  0.007144   \n",
       "9                                 0.757965  0.005965   \n",
       "10                                0.405786  0.008474   \n",
       "11                                0.400479  0.009590   \n",
       "12                                1.318253  0.006109   \n",
       "\n",
       "      Lagging_Current_Power_Factor  Leading_Current_Power_Factor  \n",
       "date                                                              \n",
       "1                        79.109368                     97.262601  \n",
       "2                        78.112574                     94.261079  \n",
       "3                        73.578031                     97.945316  \n",
       "4                        70.749819                     98.135444  \n",
       "5                        66.808817                     96.515739  \n",
       "6                        63.403187                     96.742354  \n",
       "7                        68.492910                     94.601411  \n",
       "8                        61.096949                     94.759839  \n",
       "9                        60.264139                     95.331125  \n",
       "10                       60.805531                     97.502567  \n",
       "11                       70.923201                     97.890097  \n",
       "12                       82.868441                     94.117278  "
      ]
     },
     "metadata": {},
     "output_type": "display_data"
    },
    {
     "data": {
      "text/html": [
       "<div>\n",
       "<style scoped>\n",
       "    .dataframe tbody tr th:only-of-type {\n",
       "        vertical-align: middle;\n",
       "    }\n",
       "\n",
       "    .dataframe tbody tr th {\n",
       "        vertical-align: top;\n",
       "    }\n",
       "\n",
       "    .dataframe thead th {\n",
       "        text-align: right;\n",
       "    }\n",
       "</style>\n",
       "<table border=\"1\" class=\"dataframe\">\n",
       "  <thead>\n",
       "    <tr style=\"text-align: right;\">\n",
       "      <th></th>\n",
       "      <th>Usage_kWh</th>\n",
       "      <th>Lagging_Current_Reactive_Power_kVarh</th>\n",
       "      <th>Leading_Current_Reactive_Power_kVarh</th>\n",
       "      <th>CO2</th>\n",
       "      <th>Lagging_Current_Power_Factor</th>\n",
       "      <th>Leading_Current_Power_Factor</th>\n",
       "    </tr>\n",
       "    <tr>\n",
       "      <th>date</th>\n",
       "      <th></th>\n",
       "      <th></th>\n",
       "      <th></th>\n",
       "      <th></th>\n",
       "      <th></th>\n",
       "      <th></th>\n",
       "    </tr>\n",
       "  </thead>\n",
       "  <tbody>\n",
       "    <tr>\n",
       "      <th>1</th>\n",
       "      <td>51.760867</td>\n",
       "      <td>18.758353</td>\n",
       "      <td>7.007319</td>\n",
       "      <td>0.022258</td>\n",
       "      <td>93.611169</td>\n",
       "      <td>78.655974</td>\n",
       "    </tr>\n",
       "    <tr>\n",
       "      <th>2</th>\n",
       "      <td>43.548869</td>\n",
       "      <td>13.633504</td>\n",
       "      <td>7.358110</td>\n",
       "      <td>0.019390</td>\n",
       "      <td>94.957798</td>\n",
       "      <td>73.978103</td>\n",
       "    </tr>\n",
       "    <tr>\n",
       "      <th>3</th>\n",
       "      <td>33.195276</td>\n",
       "      <td>10.407265</td>\n",
       "      <td>7.947776</td>\n",
       "      <td>0.014315</td>\n",
       "      <td>93.114671</td>\n",
       "      <td>74.484456</td>\n",
       "    </tr>\n",
       "    <tr>\n",
       "      <th>4</th>\n",
       "      <td>33.816104</td>\n",
       "      <td>12.093465</td>\n",
       "      <td>7.962542</td>\n",
       "      <td>0.014681</td>\n",
       "      <td>92.296368</td>\n",
       "      <td>72.635167</td>\n",
       "    </tr>\n",
       "    <tr>\n",
       "      <th>5</th>\n",
       "      <td>33.731747</td>\n",
       "      <td>13.183138</td>\n",
       "      <td>7.736774</td>\n",
       "      <td>0.014711</td>\n",
       "      <td>91.455376</td>\n",
       "      <td>70.703891</td>\n",
       "    </tr>\n",
       "    <tr>\n",
       "      <th>6</th>\n",
       "      <td>28.473771</td>\n",
       "      <td>11.238271</td>\n",
       "      <td>7.881708</td>\n",
       "      <td>0.012076</td>\n",
       "      <td>91.209188</td>\n",
       "      <td>68.296826</td>\n",
       "    </tr>\n",
       "    <tr>\n",
       "      <th>7</th>\n",
       "      <td>34.409906</td>\n",
       "      <td>13.074570</td>\n",
       "      <td>6.008992</td>\n",
       "      <td>0.015074</td>\n",
       "      <td>92.436841</td>\n",
       "      <td>75.057870</td>\n",
       "    </tr>\n",
       "    <tr>\n",
       "      <th>8</th>\n",
       "      <td>28.203562</td>\n",
       "      <td>12.780867</td>\n",
       "      <td>6.451304</td>\n",
       "      <td>0.011969</td>\n",
       "      <td>89.658891</td>\n",
       "      <td>68.730450</td>\n",
       "    </tr>\n",
       "    <tr>\n",
       "      <th>9</th>\n",
       "      <td>25.203722</td>\n",
       "      <td>12.221000</td>\n",
       "      <td>5.920750</td>\n",
       "      <td>0.010646</td>\n",
       "      <td>88.177632</td>\n",
       "      <td>67.946028</td>\n",
       "    </tr>\n",
       "    <tr>\n",
       "      <th>10</th>\n",
       "      <td>36.024099</td>\n",
       "      <td>18.788958</td>\n",
       "      <td>4.587755</td>\n",
       "      <td>0.015591</td>\n",
       "      <td>86.624395</td>\n",
       "      <td>78.278884</td>\n",
       "    </tr>\n",
       "    <tr>\n",
       "      <th>11</th>\n",
       "      <td>36.535889</td>\n",
       "      <td>16.198104</td>\n",
       "      <td>5.403715</td>\n",
       "      <td>0.015771</td>\n",
       "      <td>90.011583</td>\n",
       "      <td>77.659882</td>\n",
       "    </tr>\n",
       "    <tr>\n",
       "      <th>12</th>\n",
       "      <td>23.680188</td>\n",
       "      <td>8.380067</td>\n",
       "      <td>9.333313</td>\n",
       "      <td>0.009530</td>\n",
       "      <td>94.692063</td>\n",
       "      <td>63.278569</td>\n",
       "    </tr>\n",
       "  </tbody>\n",
       "</table>\n",
       "</div>"
      ],
      "text/plain": [
       "      Usage_kWh  Lagging_Current_Reactive_Power_kVarh  \\\n",
       "date                                                    \n",
       "1     51.760867                             18.758353   \n",
       "2     43.548869                             13.633504   \n",
       "3     33.195276                             10.407265   \n",
       "4     33.816104                             12.093465   \n",
       "5     33.731747                             13.183138   \n",
       "6     28.473771                             11.238271   \n",
       "7     34.409906                             13.074570   \n",
       "8     28.203562                             12.780867   \n",
       "9     25.203722                             12.221000   \n",
       "10    36.024099                             18.788958   \n",
       "11    36.535889                             16.198104   \n",
       "12    23.680188                              8.380067   \n",
       "\n",
       "      Leading_Current_Reactive_Power_kVarh       CO2  \\\n",
       "date                                                   \n",
       "1                                 7.007319  0.022258   \n",
       "2                                 7.358110  0.019390   \n",
       "3                                 7.947776  0.014315   \n",
       "4                                 7.962542  0.014681   \n",
       "5                                 7.736774  0.014711   \n",
       "6                                 7.881708  0.012076   \n",
       "7                                 6.008992  0.015074   \n",
       "8                                 6.451304  0.011969   \n",
       "9                                 5.920750  0.010646   \n",
       "10                                4.587755  0.015591   \n",
       "11                                5.403715  0.015771   \n",
       "12                                9.333313  0.009530   \n",
       "\n",
       "      Lagging_Current_Power_Factor  Leading_Current_Power_Factor  \n",
       "date                                                              \n",
       "1                        93.611169                     78.655974  \n",
       "2                        94.957798                     73.978103  \n",
       "3                        93.114671                     74.484456  \n",
       "4                        92.296368                     72.635167  \n",
       "5                        91.455376                     70.703891  \n",
       "6                        91.209188                     68.296826  \n",
       "7                        92.436841                     75.057870  \n",
       "8                        89.658891                     68.730450  \n",
       "9                        88.177632                     67.946028  \n",
       "10                       86.624395                     78.278884  \n",
       "11                       90.011583                     77.659882  \n",
       "12                       94.692063                     63.278569  "
      ]
     },
     "metadata": {},
     "output_type": "display_data"
    }
   ],
   "source": [
    "# Profile Analysis\n",
    "# from df_num make a df for mean of each column for time in AM for each month\n",
    "df_am = df_num[df_num.index.hour < 12]\n",
    "df_am = df_am.resample('ME').mean()\n",
    "# make index month\n",
    "df_am.index = df_am.index.month\n",
    "display(df_am)\n",
    "\n",
    "df_pm = df_num[df_num.index.hour >= 12]\n",
    "df_pm = df_pm.resample('ME').mean()\n",
    "# make index month\n",
    "df_pm.index = df_pm.index.month\n",
    "display(df_pm)"
   ]
  },
  {
   "cell_type": "code",
   "execution_count": 69,
   "metadata": {},
   "outputs": [],
   "source": [
    "def profile_analysis(df_am, df_pm):\n",
    "    \"\"\"\n",
    "    Perform profile analysis tests on two populations.\n",
    "    \n",
    "    Parameters:\n",
    "    df_am, df_pm: pandas DataFrames containing the multivariate observations\n",
    "                 for the two populations\n",
    "    \n",
    "    Returns:\n",
    "    dict: Results of the three profile analysis tests\n",
    "    \"\"\"\n",
    "    # Convert DataFrames to numpy arrays for easier manipulation\n",
    "    X1 = df_am.values\n",
    "    X2 = df_pm.values\n",
    "    \n",
    "    # Sample sizes\n",
    "    n1 = X1.shape[0]\n",
    "    n2 = X2.shape[0]\n",
    "    \n",
    "    # Number of variables (p)\n",
    "    p = X1.shape[1]\n",
    "    \n",
    "    # Calculate means\n",
    "    X1_bar = np.mean(X1, axis=0)\n",
    "    X2_bar = np.mean(X2, axis=0)\n",
    "    \n",
    "    # 1. Test for Parallel Profiles\n",
    "    # Construct contrast matrix C\n",
    "    C = np.zeros((p-1, p))\n",
    "    for i in range(p-1):\n",
    "        C[i, i] = -1\n",
    "        C[i, i+1] = 1\n",
    "    \n",
    "    # Calculate pooled covariance matrix\n",
    "    S_pooled = ((n1-1)*np.cov(X1, rowvar=False) + (n2-1)*np.cov(X2, rowvar=False))/(n1+n2-2)\n",
    "    \n",
    "    # Calculate T² statistic for parallel profiles\n",
    "    diff = X1_bar - X2_bar\n",
    "    C_diff = C @ diff\n",
    "    CS_pooled_C = C @ S_pooled @ C.T\n",
    "    T2_parallel = n1*n2/(n1+n2) * C_diff.T @ np.linalg.inv(CS_pooled_C) @ C_diff\n",
    "    \n",
    "    # Critical value for parallel test\n",
    "    df1 = p-1\n",
    "    df2 = n1+n2-p\n",
    "    F_critical_parallel = stats.f.ppf(0.95, df1, df2)\n",
    "    c2_parallel = (n1+n2-2)*(p-1)/(n1+n2-p) * F_critical_parallel\n",
    "    \n",
    "    # 2. Test for Coincident Profiles (given parallel)\n",
    "    # Sum of observations\n",
    "    sum1 = np.sum(X1_bar)\n",
    "    sum2 = np.sum(X2_bar)\n",
    "    \n",
    "    # Calculate pooled variance of sums\n",
    "    S_pooled_sums = np.sum(S_pooled)\n",
    "    \n",
    "    # T² statistic for coincident profiles\n",
    "    T2_coincident = (n1*n2/(n1+n2)) * ((sum1-sum2)**2)/(p**2 * S_pooled_sums)\n",
    "    \n",
    "    # Critical value for coincident test\n",
    "    F_critical_coincident = stats.f.ppf(0.95, 1, n1+n2-2)\n",
    "    \n",
    "    # 3. Test for Level Profiles (given coincident)\n",
    "    # Calculate overall mean\n",
    "    X_bar = (n1*X1_bar + n2*X2_bar)/(n1+n2)\n",
    "    \n",
    "    # Calculate test statistic for level profiles\n",
    "    S = ((n1-1)*np.cov(X1, rowvar=False) + (n2-1)*np.cov(X2, rowvar=False))/(n1+n2-1)\n",
    "    T2_level = (n1+n2) * X_bar.T @ C.T @ np.linalg.inv(C @ S @ C.T) @ C @ X_bar\n",
    "    \n",
    "    # Critical value for level test\n",
    "    df1_level = p-1\n",
    "    df2_level = n1+n2-p+1\n",
    "    F_critical_level = stats.f.ppf(0.95, df1_level, df2_level)\n",
    "    c2_level = (n1+n2-1)*(p-1)/(n1+n2-p+1) * F_critical_level\n",
    "    \n",
    "    results = {\n",
    "        'parallel': {\n",
    "            'T2': T2_parallel,\n",
    "            'critical_value': c2_parallel,\n",
    "            'reject_H0': T2_parallel > c2_parallel\n",
    "        },\n",
    "        'coincident': {\n",
    "            'T2': T2_coincident,\n",
    "            'critical_value': F_critical_coincident,\n",
    "            'reject_H0': T2_coincident > F_critical_coincident\n",
    "        },\n",
    "        'level': {\n",
    "            'T2': T2_level,\n",
    "            'critical_value': c2_level,\n",
    "            'reject_H0': T2_level > c2_level\n",
    "        }\n",
    "    }\n",
    "\n",
    "    print(results)\n",
    "    \n",
    "    return results"
   ]
  },
  {
   "cell_type": "code",
   "execution_count": 70,
   "metadata": {},
   "outputs": [
    {
     "name": "stdout",
     "output_type": "stream",
     "text": [
      "{'parallel': {'T2': 848.5632998395693, 'critical_value': 16.945213712764513, 'reject_H0': True}, 'coincident': {'T2': 0.3095975370281838, 'critical_value': 4.300949501777657, 'reject_H0': False}, 'level': {'T2': 137245.36148767953, 'critical_value': 16.58455880493761, 'reject_H0': True}}\n"
     ]
    },
    {
     "data": {
      "text/plain": [
       "{'parallel': {'T2': 848.5632998395693,\n",
       "  'critical_value': 16.945213712764513,\n",
       "  'reject_H0': True},\n",
       " 'coincident': {'T2': 0.3095975370281838,\n",
       "  'critical_value': 4.300949501777657,\n",
       "  'reject_H0': False},\n",
       " 'level': {'T2': 137245.36148767953,\n",
       "  'critical_value': 16.58455880493761,\n",
       "  'reject_H0': True}}"
      ]
     },
     "execution_count": 70,
     "metadata": {},
     "output_type": "execute_result"
    }
   ],
   "source": [
    "profile_analysis(df_am, df_pm)"
   ]
  },
  {
   "cell_type": "markdown",
   "metadata": {},
   "source": [
    "## PCA"
   ]
  },
  {
   "cell_type": "code",
   "execution_count": 71,
   "metadata": {},
   "outputs": [],
   "source": [
    "import numpy as np\n",
    "import matplotlib.pyplot as plt\n",
    "from sklearn.preprocessing import StandardScaler\n",
    "from sklearn.decomposition import PCA\n",
    "\n",
    "def perform_pca_analysis(data, n_components=None):\n",
    "    \"\"\"\n",
    "    Perform PCA on the input data and create a scree plot\n",
    "    \n",
    "    Parameters:\n",
    "    data (numpy.ndarray): Input data matrix (samples × features)\n",
    "    n_components (int): Number of components to keep (default: None, keeps all components)\n",
    "    \n",
    "    Returns:\n",
    "    tuple: (pca_object, transformed_data, explained_variance_ratio)\n",
    "    \"\"\"\n",
    "    # Standardize the data\n",
    "    scaler = StandardScaler()\n",
    "    data_scaled = scaler.fit_transform(data)\n",
    "    \n",
    "    # Perform PCA\n",
    "    pca = PCA(n_components=n_components)\n",
    "    data_transformed = pca.fit_transform(data_scaled)\n",
    "    \n",
    "    # Calculate cumulative explained variance\n",
    "    cumulative_variance_ratio = np.cumsum(pca.explained_variance_ratio_)\n",
    "    \n",
    "    # Create scree plot\n",
    "    plt.figure(figsize=(10, 6))\n",
    "    \n",
    "    # line plot of explained variance ratio\n",
    "    plt.plot(range(1, len(pca.explained_variance_ratio_) + 1),\n",
    "             pca.explained_variance_ratio_,\n",
    "             marker='o',\n",
    "             label='Individual explained variance')\n",
    "    # plt.bar(range(1, len(pca.explained_variance_ratio_) + 1), \n",
    "    #         pca.explained_variance_ratio_,\n",
    "    #         alpha=0.5,\n",
    "    #         align='center',\n",
    "    #         label='Individual explained variance')\n",
    "    \n",
    "    # Line plot of cumulative explained variance ratio\n",
    "    plt.step(range(1, len(cumulative_variance_ratio) + 1),\n",
    "             cumulative_variance_ratio,\n",
    "             where='mid',\n",
    "             label='Cumulative explained variance')\n",
    "    \n",
    "    plt.xlabel('Principal Components')\n",
    "    plt.ylabel('Explained Variance Ratio')\n",
    "    plt.title('Scree Plot')\n",
    "    plt.legend(loc='best')\n",
    "    plt.grid(True)\n",
    "    \n",
    "    # Add percentage labels on top of each bar\n",
    "    for i, v in enumerate(pca.explained_variance_ratio_):\n",
    "        plt.text(i + 1, v, f'{v:.1%}', ha='center', va='bottom')\n",
    "    \n",
    "    plt.tight_layout()\n",
    "    plt.show()\n",
    "    \n",
    "    return pca, data_transformed, pca.explained_variance_ratio_"
   ]
  },
  {
   "cell_type": "code",
   "execution_count": 72,
   "metadata": {},
   "outputs": [
    {
     "data": {
      "image/png": "[encoded data removed]",
      "text/plain": [
       "<Figure size 1000x600 with 1 Axes>"
      ]
     },
     "metadata": {},
     "output_type": "display_data"
    }
   ],
   "source": [
    "pca_obj, transformed_data, variance_ratio = perform_pca_analysis(df_num.values)\n",
    "\n"
   ]
  },
  {
   "cell_type": "code",
   "execution_count": null,
   "metadata": {},
   "outputs": [],
   "source": []
  }
 ],
 "metadata": {
  "kernelspec": {
   "display_name": "Python 3",
   "language": "python",
   "name": "python3"
  },
  "language_info": {
   "codemirror_mode": {
    "name": "ipython",
    "version": 3
   },
   "file_extension": ".py",
   "mimetype": "text/x-python",
   "name": "python",
   "nbconvert_exporter": "python",
   "pygments_lexer": "ipython3",
   "version": "3.9.6"
  }
 },
 "nbformat": 4,
 "nbformat_minor": 2
}
