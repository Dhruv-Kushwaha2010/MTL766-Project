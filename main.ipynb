{
 "cells": [
  {
   "cell_type": "code",
   "execution_count": 36,
   "metadata": {},
   "outputs": [],
   "source": [
    "# importing libraries\n",
    "import numpy as np\n",
    "import pandas as pd\n",
    "\n",
    "import matplotlib.pyplot as plt\n",
    "import scipy.stats as stats\n",
    "import seaborn as sns\n",
    "import statsmodels.api as sm\n",
    "\n",
    "import plotly.express as px"
   ]
  },
  {
   "cell_type": "markdown",
   "metadata": {},
   "source": [
    "## Data Preprocessing"
   ]
  },
  {
   "cell_type": "code",
   "execution_count": 45,
   "metadata": {},
   "outputs": [
    {
     "data": {
      "text/html": [
       "<div>\n",
       "<style scoped>\n",
       "    .dataframe tbody tr th:only-of-type {\n",
       "        vertical-align: middle;\n",
       "    }\n",
       "\n",
       "    .dataframe tbody tr th {\n",
       "        vertical-align: top;\n",
       "    }\n",
       "\n",
       "    .dataframe thead th {\n",
       "        text-align: right;\n",
       "    }\n",
       "</style>\n",
       "<table border=\"1\" class=\"dataframe\">\n",
       "  <thead>\n",
       "    <tr style=\"text-align: right;\">\n",
       "      <th></th>\n",
       "      <th>Usage_kWh</th>\n",
       "      <th>Lagging_Current_Reactive_Power_kVarh</th>\n",
       "      <th>Leading_Current_Reactive_Power_kVarh</th>\n",
       "      <th>CO2</th>\n",
       "      <th>Lagging_Current_Power_Factor</th>\n",
       "      <th>Leading_Current_Power_Factor</th>\n",
       "      <th>WeekStatus</th>\n",
       "      <th>Day_of_week</th>\n",
       "      <th>Load_Type</th>\n",
       "    </tr>\n",
       "    <tr>\n",
       "      <th>date</th>\n",
       "      <th></th>\n",
       "      <th></th>\n",
       "      <th></th>\n",
       "      <th></th>\n",
       "      <th></th>\n",
       "      <th></th>\n",
       "      <th></th>\n",
       "      <th></th>\n",
       "      <th></th>\n",
       "    </tr>\n",
       "  </thead>\n",
       "  <tbody>\n",
       "    <tr>\n",
       "      <th>2018-01-01 00:15:00</th>\n",
       "      <td>3.17</td>\n",
       "      <td>2.95</td>\n",
       "      <td>0.00</td>\n",
       "      <td>0.0</td>\n",
       "      <td>73.21</td>\n",
       "      <td>100.00</td>\n",
       "      <td>Weekday</td>\n",
       "      <td>Monday</td>\n",
       "      <td>Light_Load</td>\n",
       "    </tr>\n",
       "    <tr>\n",
       "      <th>2018-01-01 00:30:00</th>\n",
       "      <td>4.00</td>\n",
       "      <td>4.46</td>\n",
       "      <td>0.00</td>\n",
       "      <td>0.0</td>\n",
       "      <td>66.77</td>\n",
       "      <td>100.00</td>\n",
       "      <td>Weekday</td>\n",
       "      <td>Monday</td>\n",
       "      <td>Light_Load</td>\n",
       "    </tr>\n",
       "    <tr>\n",
       "      <th>2018-01-01 00:45:00</th>\n",
       "      <td>3.24</td>\n",
       "      <td>3.28</td>\n",
       "      <td>0.00</td>\n",
       "      <td>0.0</td>\n",
       "      <td>70.28</td>\n",
       "      <td>100.00</td>\n",
       "      <td>Weekday</td>\n",
       "      <td>Monday</td>\n",
       "      <td>Light_Load</td>\n",
       "    </tr>\n",
       "    <tr>\n",
       "      <th>2018-01-01 01:00:00</th>\n",
       "      <td>3.31</td>\n",
       "      <td>3.56</td>\n",
       "      <td>0.00</td>\n",
       "      <td>0.0</td>\n",
       "      <td>68.09</td>\n",
       "      <td>100.00</td>\n",
       "      <td>Weekday</td>\n",
       "      <td>Monday</td>\n",
       "      <td>Light_Load</td>\n",
       "    </tr>\n",
       "    <tr>\n",
       "      <th>2018-01-01 01:15:00</th>\n",
       "      <td>3.82</td>\n",
       "      <td>4.50</td>\n",
       "      <td>0.00</td>\n",
       "      <td>0.0</td>\n",
       "      <td>64.72</td>\n",
       "      <td>100.00</td>\n",
       "      <td>Weekday</td>\n",
       "      <td>Monday</td>\n",
       "      <td>Light_Load</td>\n",
       "    </tr>\n",
       "    <tr>\n",
       "      <th>...</th>\n",
       "      <td>...</td>\n",
       "      <td>...</td>\n",
       "      <td>...</td>\n",
       "      <td>...</td>\n",
       "      <td>...</td>\n",
       "      <td>...</td>\n",
       "      <td>...</td>\n",
       "      <td>...</td>\n",
       "      <td>...</td>\n",
       "    </tr>\n",
       "    <tr>\n",
       "      <th>2018-12-31 23:00:00</th>\n",
       "      <td>3.85</td>\n",
       "      <td>4.86</td>\n",
       "      <td>0.00</td>\n",
       "      <td>0.0</td>\n",
       "      <td>62.10</td>\n",
       "      <td>100.00</td>\n",
       "      <td>Weekday</td>\n",
       "      <td>Monday</td>\n",
       "      <td>Light_Load</td>\n",
       "    </tr>\n",
       "    <tr>\n",
       "      <th>2018-12-31 23:15:00</th>\n",
       "      <td>3.74</td>\n",
       "      <td>3.74</td>\n",
       "      <td>0.00</td>\n",
       "      <td>0.0</td>\n",
       "      <td>70.71</td>\n",
       "      <td>100.00</td>\n",
       "      <td>Weekday</td>\n",
       "      <td>Monday</td>\n",
       "      <td>Light_Load</td>\n",
       "    </tr>\n",
       "    <tr>\n",
       "      <th>2018-12-31 23:30:00</th>\n",
       "      <td>3.78</td>\n",
       "      <td>3.17</td>\n",
       "      <td>0.07</td>\n",
       "      <td>0.0</td>\n",
       "      <td>76.62</td>\n",
       "      <td>99.98</td>\n",
       "      <td>Weekday</td>\n",
       "      <td>Monday</td>\n",
       "      <td>Light_Load</td>\n",
       "    </tr>\n",
       "    <tr>\n",
       "      <th>2018-12-31 23:45:00</th>\n",
       "      <td>3.78</td>\n",
       "      <td>3.06</td>\n",
       "      <td>0.11</td>\n",
       "      <td>0.0</td>\n",
       "      <td>77.72</td>\n",
       "      <td>99.96</td>\n",
       "      <td>Weekday</td>\n",
       "      <td>Monday</td>\n",
       "      <td>Light_Load</td>\n",
       "    </tr>\n",
       "    <tr>\n",
       "      <th>2018-12-31 00:00:00</th>\n",
       "      <td>3.67</td>\n",
       "      <td>3.02</td>\n",
       "      <td>0.07</td>\n",
       "      <td>0.0</td>\n",
       "      <td>77.22</td>\n",
       "      <td>99.98</td>\n",
       "      <td>Weekday</td>\n",
       "      <td>Monday</td>\n",
       "      <td>Light_Load</td>\n",
       "    </tr>\n",
       "  </tbody>\n",
       "</table>\n",
       "<p>35040 rows × 9 columns</p>\n",
       "</div>"
      ],
      "text/plain": [
       "                     Usage_kWh  Lagging_Current_Reactive_Power_kVarh  \\\n",
       "date                                                                   \n",
       "2018-01-01 00:15:00       3.17                                  2.95   \n",
       "2018-01-01 00:30:00       4.00                                  4.46   \n",
       "2018-01-01 00:45:00       3.24                                  3.28   \n",
       "2018-01-01 01:00:00       3.31                                  3.56   \n",
       "2018-01-01 01:15:00       3.82                                  4.50   \n",
       "...                        ...                                   ...   \n",
       "2018-12-31 23:00:00       3.85                                  4.86   \n",
       "2018-12-31 23:15:00       3.74                                  3.74   \n",
       "2018-12-31 23:30:00       3.78                                  3.17   \n",
       "2018-12-31 23:45:00       3.78                                  3.06   \n",
       "2018-12-31 00:00:00       3.67                                  3.02   \n",
       "\n",
       "                     Leading_Current_Reactive_Power_kVarh  CO2  \\\n",
       "date                                                             \n",
       "2018-01-01 00:15:00                                  0.00  0.0   \n",
       "2018-01-01 00:30:00                                  0.00  0.0   \n",
       "2018-01-01 00:45:00                                  0.00  0.0   \n",
       "2018-01-01 01:00:00                                  0.00  0.0   \n",
       "2018-01-01 01:15:00                                  0.00  0.0   \n",
       "...                                                   ...  ...   \n",
       "2018-12-31 23:00:00                                  0.00  0.0   \n",
       "2018-12-31 23:15:00                                  0.00  0.0   \n",
       "2018-12-31 23:30:00                                  0.07  0.0   \n",
       "2018-12-31 23:45:00                                  0.11  0.0   \n",
       "2018-12-31 00:00:00                                  0.07  0.0   \n",
       "\n",
       "                     Lagging_Current_Power_Factor  \\\n",
       "date                                                \n",
       "2018-01-01 00:15:00                         73.21   \n",
       "2018-01-01 00:30:00                         66.77   \n",
       "2018-01-01 00:45:00                         70.28   \n",
       "2018-01-01 01:00:00                         68.09   \n",
       "2018-01-01 01:15:00                         64.72   \n",
       "...                                           ...   \n",
       "2018-12-31 23:00:00                         62.10   \n",
       "2018-12-31 23:15:00                         70.71   \n",
       "2018-12-31 23:30:00                         76.62   \n",
       "2018-12-31 23:45:00                         77.72   \n",
       "2018-12-31 00:00:00                         77.22   \n",
       "\n",
       "                     Leading_Current_Power_Factor WeekStatus Day_of_week  \\\n",
       "date                                                                       \n",
       "2018-01-01 00:15:00                        100.00    Weekday      Monday   \n",
       "2018-01-01 00:30:00                        100.00    Weekday      Monday   \n",
       "2018-01-01 00:45:00                        100.00    Weekday      Monday   \n",
       "2018-01-01 01:00:00                        100.00    Weekday      Monday   \n",
       "2018-01-01 01:15:00                        100.00    Weekday      Monday   \n",
       "...                                           ...        ...         ...   \n",
       "2018-12-31 23:00:00                        100.00    Weekday      Monday   \n",
       "2018-12-31 23:15:00                        100.00    Weekday      Monday   \n",
       "2018-12-31 23:30:00                         99.98    Weekday      Monday   \n",
       "2018-12-31 23:45:00                         99.96    Weekday      Monday   \n",
       "2018-12-31 00:00:00                         99.98    Weekday      Monday   \n",
       "\n",
       "                      Load_Type  \n",
       "date                             \n",
       "2018-01-01 00:15:00  Light_Load  \n",
       "2018-01-01 00:30:00  Light_Load  \n",
       "2018-01-01 00:45:00  Light_Load  \n",
       "2018-01-01 01:00:00  Light_Load  \n",
       "2018-01-01 01:15:00  Light_Load  \n",
       "...                         ...  \n",
       "2018-12-31 23:00:00  Light_Load  \n",
       "2018-12-31 23:15:00  Light_Load  \n",
       "2018-12-31 23:30:00  Light_Load  \n",
       "2018-12-31 23:45:00  Light_Load  \n",
       "2018-12-31 00:00:00  Light_Load  \n",
       "\n",
       "[35040 rows x 9 columns]"
      ]
     },
     "metadata": {},
     "output_type": "display_data"
    }
   ],
   "source": [
    "# Reading the data\n",
    "df = pd.read_csv('Steel_industry_data.csv')\n",
    "df.drop(columns=['NSM'], inplace=True)\n",
    "df.rename(columns={'Lagging_Current_Reactive.Power_kVarh': 'Lagging_Current_Reactive_Power_kVarh', 'CO2(tCO2)' : 'CO2'}, inplace=True)\n",
    "df['date'] = pd.to_datetime(df['date'], format='%d/%m/%Y %H:%M')\n",
    "df.set_index('date', inplace=True)\n",
    "df_num = df.select_dtypes(include=['number'])\n",
    "df_num_hourly = df_num.resample('h').mean()\n",
    "display(df)"
   ]
  },
  {
   "cell_type": "code",
   "execution_count": 38,
   "metadata": {},
   "outputs": [
    {
     "data": {
      "text/html": [
       "<div>\n",
       "<style scoped>\n",
       "    .dataframe tbody tr th:only-of-type {\n",
       "        vertical-align: middle;\n",
       "    }\n",
       "\n",
       "    .dataframe tbody tr th {\n",
       "        vertical-align: top;\n",
       "    }\n",
       "\n",
       "    .dataframe thead th {\n",
       "        text-align: right;\n",
       "    }\n",
       "</style>\n",
       "<table border=\"1\" class=\"dataframe\">\n",
       "  <thead>\n",
       "    <tr style=\"text-align: right;\">\n",
       "      <th></th>\n",
       "      <th>Usage_kWh</th>\n",
       "      <th>Lagging_Current_Reactive_Power_kVarh</th>\n",
       "      <th>Leading_Current_Reactive_Power_kVarh</th>\n",
       "      <th>CO2</th>\n",
       "      <th>Lagging_Current_Power_Factor</th>\n",
       "      <th>Leading_Current_Power_Factor</th>\n",
       "    </tr>\n",
       "    <tr>\n",
       "      <th>date</th>\n",
       "      <th></th>\n",
       "      <th></th>\n",
       "      <th></th>\n",
       "      <th></th>\n",
       "      <th></th>\n",
       "      <th></th>\n",
       "    </tr>\n",
       "  </thead>\n",
       "  <tbody>\n",
       "    <tr>\n",
       "      <th>2018-01-01 00:15:00</th>\n",
       "      <td>3.17</td>\n",
       "      <td>2.95</td>\n",
       "      <td>0.00</td>\n",
       "      <td>0.0</td>\n",
       "      <td>73.21</td>\n",
       "      <td>100.00</td>\n",
       "    </tr>\n",
       "    <tr>\n",
       "      <th>2018-01-01 00:30:00</th>\n",
       "      <td>4.00</td>\n",
       "      <td>4.46</td>\n",
       "      <td>0.00</td>\n",
       "      <td>0.0</td>\n",
       "      <td>66.77</td>\n",
       "      <td>100.00</td>\n",
       "    </tr>\n",
       "    <tr>\n",
       "      <th>2018-01-01 00:45:00</th>\n",
       "      <td>3.24</td>\n",
       "      <td>3.28</td>\n",
       "      <td>0.00</td>\n",
       "      <td>0.0</td>\n",
       "      <td>70.28</td>\n",
       "      <td>100.00</td>\n",
       "    </tr>\n",
       "    <tr>\n",
       "      <th>2018-01-01 01:00:00</th>\n",
       "      <td>3.31</td>\n",
       "      <td>3.56</td>\n",
       "      <td>0.00</td>\n",
       "      <td>0.0</td>\n",
       "      <td>68.09</td>\n",
       "      <td>100.00</td>\n",
       "    </tr>\n",
       "    <tr>\n",
       "      <th>2018-01-01 01:15:00</th>\n",
       "      <td>3.82</td>\n",
       "      <td>4.50</td>\n",
       "      <td>0.00</td>\n",
       "      <td>0.0</td>\n",
       "      <td>64.72</td>\n",
       "      <td>100.00</td>\n",
       "    </tr>\n",
       "    <tr>\n",
       "      <th>...</th>\n",
       "      <td>...</td>\n",
       "      <td>...</td>\n",
       "      <td>...</td>\n",
       "      <td>...</td>\n",
       "      <td>...</td>\n",
       "      <td>...</td>\n",
       "    </tr>\n",
       "    <tr>\n",
       "      <th>2018-12-31 23:00:00</th>\n",
       "      <td>3.85</td>\n",
       "      <td>4.86</td>\n",
       "      <td>0.00</td>\n",
       "      <td>0.0</td>\n",
       "      <td>62.10</td>\n",
       "      <td>100.00</td>\n",
       "    </tr>\n",
       "    <tr>\n",
       "      <th>2018-12-31 23:15:00</th>\n",
       "      <td>3.74</td>\n",
       "      <td>3.74</td>\n",
       "      <td>0.00</td>\n",
       "      <td>0.0</td>\n",
       "      <td>70.71</td>\n",
       "      <td>100.00</td>\n",
       "    </tr>\n",
       "    <tr>\n",
       "      <th>2018-12-31 23:30:00</th>\n",
       "      <td>3.78</td>\n",
       "      <td>3.17</td>\n",
       "      <td>0.07</td>\n",
       "      <td>0.0</td>\n",
       "      <td>76.62</td>\n",
       "      <td>99.98</td>\n",
       "    </tr>\n",
       "    <tr>\n",
       "      <th>2018-12-31 23:45:00</th>\n",
       "      <td>3.78</td>\n",
       "      <td>3.06</td>\n",
       "      <td>0.11</td>\n",
       "      <td>0.0</td>\n",
       "      <td>77.72</td>\n",
       "      <td>99.96</td>\n",
       "    </tr>\n",
       "    <tr>\n",
       "      <th>2018-12-31 00:00:00</th>\n",
       "      <td>3.67</td>\n",
       "      <td>3.02</td>\n",
       "      <td>0.07</td>\n",
       "      <td>0.0</td>\n",
       "      <td>77.22</td>\n",
       "      <td>99.98</td>\n",
       "    </tr>\n",
       "  </tbody>\n",
       "</table>\n",
       "<p>35040 rows × 6 columns</p>\n",
       "</div>"
      ],
      "text/plain": [
       "                     Usage_kWh  Lagging_Current_Reactive_Power_kVarh  \\\n",
       "date                                                                   \n",
       "2018-01-01 00:15:00       3.17                                  2.95   \n",
       "2018-01-01 00:30:00       4.00                                  4.46   \n",
       "2018-01-01 00:45:00       3.24                                  3.28   \n",
       "2018-01-01 01:00:00       3.31                                  3.56   \n",
       "2018-01-01 01:15:00       3.82                                  4.50   \n",
       "...                        ...                                   ...   \n",
       "2018-12-31 23:00:00       3.85                                  4.86   \n",
       "2018-12-31 23:15:00       3.74                                  3.74   \n",
       "2018-12-31 23:30:00       3.78                                  3.17   \n",
       "2018-12-31 23:45:00       3.78                                  3.06   \n",
       "2018-12-31 00:00:00       3.67                                  3.02   \n",
       "\n",
       "                     Leading_Current_Reactive_Power_kVarh  CO2  \\\n",
       "date                                                             \n",
       "2018-01-01 00:15:00                                  0.00  0.0   \n",
       "2018-01-01 00:30:00                                  0.00  0.0   \n",
       "2018-01-01 00:45:00                                  0.00  0.0   \n",
       "2018-01-01 01:00:00                                  0.00  0.0   \n",
       "2018-01-01 01:15:00                                  0.00  0.0   \n",
       "...                                                   ...  ...   \n",
       "2018-12-31 23:00:00                                  0.00  0.0   \n",
       "2018-12-31 23:15:00                                  0.00  0.0   \n",
       "2018-12-31 23:30:00                                  0.07  0.0   \n",
       "2018-12-31 23:45:00                                  0.11  0.0   \n",
       "2018-12-31 00:00:00                                  0.07  0.0   \n",
       "\n",
       "                     Lagging_Current_Power_Factor  \\\n",
       "date                                                \n",
       "2018-01-01 00:15:00                         73.21   \n",
       "2018-01-01 00:30:00                         66.77   \n",
       "2018-01-01 00:45:00                         70.28   \n",
       "2018-01-01 01:00:00                         68.09   \n",
       "2018-01-01 01:15:00                         64.72   \n",
       "...                                           ...   \n",
       "2018-12-31 23:00:00                         62.10   \n",
       "2018-12-31 23:15:00                         70.71   \n",
       "2018-12-31 23:30:00                         76.62   \n",
       "2018-12-31 23:45:00                         77.72   \n",
       "2018-12-31 00:00:00                         77.22   \n",
       "\n",
       "                     Leading_Current_Power_Factor  \n",
       "date                                               \n",
       "2018-01-01 00:15:00                        100.00  \n",
       "2018-01-01 00:30:00                        100.00  \n",
       "2018-01-01 00:45:00                        100.00  \n",
       "2018-01-01 01:00:00                        100.00  \n",
       "2018-01-01 01:15:00                        100.00  \n",
       "...                                           ...  \n",
       "2018-12-31 23:00:00                        100.00  \n",
       "2018-12-31 23:15:00                        100.00  \n",
       "2018-12-31 23:30:00                         99.98  \n",
       "2018-12-31 23:45:00                         99.96  \n",
       "2018-12-31 00:00:00                         99.98  \n",
       "\n",
       "[35040 rows x 6 columns]"
      ]
     },
     "metadata": {},
     "output_type": "display_data"
    }
   ],
   "source": [
    "display(df_num)"
   ]
  },
  {
   "cell_type": "code",
   "execution_count": 39,
   "metadata": {},
   "outputs": [
    {
     "data": {
      "text/plain": [
       "CO2\n",
       "0.00    20990\n",
       "0.02     4643\n",
       "0.03     4261\n",
       "0.04     1834\n",
       "0.01     1512\n",
       "0.05     1363\n",
       "0.06      410\n",
       "0.07       27\n",
       "Name: count, dtype: int64"
      ]
     },
     "execution_count": 39,
     "metadata": {},
     "output_type": "execute_result"
    }
   ],
   "source": [
    "# Analyzing CO2 data\n",
    "df['CO2'].value_counts()"
   ]
  },
  {
   "cell_type": "code",
   "execution_count": 48,
   "metadata": {},
   "outputs": [
    {
     "data": {
      "image/png": "[encoded data removed]",
      "text/plain": [
       "<Figure size 640x480 with 1 Axes>"
      ]
     },
     "metadata": {},
     "output_type": "display_data"
    },
    {
     "data": {
      "image/png": "[encoded data removed]",
      "text/plain": [
       "<Figure size 640x480 with 1 Axes>"
      ]
     },
     "metadata": {},
     "output_type": "display_data"
    },
    {
     "data": {
      "image/png": "[encoded data removed]",
      "text/plain": [
       "<Figure size 640x480 with 1 Axes>"
      ]
     },
     "metadata": {},
     "output_type": "display_data"
    },
    {
     "data": {
      "image/png": "[encoded data removed]",
      "text/plain": [
       "<Figure size 640x480 with 1 Axes>"
      ]
     },
     "metadata": {},
     "output_type": "display_data"
    },
    {
     "data": {
      "image/png": "[encoded data removed]",
      "text/plain": [
       "<Figure size 640x480 with 1 Axes>"
      ]
     },
     "metadata": {},
     "output_type": "display_data"
    },
    {
     "data": {
      "image/png": "[encoded data removed]",
      "text/plain": [
       "<Figure size 640x480 with 1 Axes>"
      ]
     },
     "metadata": {},
     "output_type": "display_data"
    }
   ],
   "source": [
    "# check normality of df_num by qq plot\n",
    "for col in df_num.columns:\n",
    "    sm.qqplot(df_num[col], line ='45', fit = True)\n",
    "    plt.title(col)\n",
    "    plt.show()"
   ]
  },
  {
   "cell_type": "code",
   "execution_count": 40,
   "metadata": {},
   "outputs": [
    {
     "data": {
      "text/html": [
       "<div>\n",
       "<style scoped>\n",
       "    .dataframe tbody tr th:only-of-type {\n",
       "        vertical-align: middle;\n",
       "    }\n",
       "\n",
       "    .dataframe tbody tr th {\n",
       "        vertical-align: top;\n",
       "    }\n",
       "\n",
       "    .dataframe thead th {\n",
       "        text-align: right;\n",
       "    }\n",
       "</style>\n",
       "<table border=\"1\" class=\"dataframe\">\n",
       "  <thead>\n",
       "    <tr style=\"text-align: right;\">\n",
       "      <th></th>\n",
       "      <th>Usage_kWh</th>\n",
       "      <th>Lagging_Current_Reactive_Power_kVarh</th>\n",
       "      <th>Leading_Current_Reactive_Power_kVarh</th>\n",
       "      <th>CO2</th>\n",
       "      <th>Lagging_Current_Power_Factor</th>\n",
       "      <th>Leading_Current_Power_Factor</th>\n",
       "    </tr>\n",
       "    <tr>\n",
       "      <th>date</th>\n",
       "      <th></th>\n",
       "      <th></th>\n",
       "      <th></th>\n",
       "      <th></th>\n",
       "      <th></th>\n",
       "      <th></th>\n",
       "    </tr>\n",
       "  </thead>\n",
       "  <tbody>\n",
       "    <tr>\n",
       "      <th>2018-01-01</th>\n",
       "      <td>3.665208</td>\n",
       "      <td>1.735625</td>\n",
       "      <td>9.885000</td>\n",
       "      <td>0.000000</td>\n",
       "      <td>85.299375</td>\n",
       "      <td>57.076146</td>\n",
       "    </tr>\n",
       "    <tr>\n",
       "      <th>2018-01-02</th>\n",
       "      <td>41.150312</td>\n",
       "      <td>16.454479</td>\n",
       "      <td>3.063125</td>\n",
       "      <td>0.000000</td>\n",
       "      <td>84.207292</td>\n",
       "      <td>92.138125</td>\n",
       "    </tr>\n",
       "    <tr>\n",
       "      <th>2018-01-03</th>\n",
       "      <td>37.094271</td>\n",
       "      <td>13.391562</td>\n",
       "      <td>2.766562</td>\n",
       "      <td>0.015938</td>\n",
       "      <td>86.100000</td>\n",
       "      <td>92.617292</td>\n",
       "    </tr>\n",
       "    <tr>\n",
       "      <th>2018-01-04</th>\n",
       "      <td>51.851250</td>\n",
       "      <td>21.449063</td>\n",
       "      <td>2.339271</td>\n",
       "      <td>0.022604</td>\n",
       "      <td>84.128125</td>\n",
       "      <td>93.423750</td>\n",
       "    </tr>\n",
       "    <tr>\n",
       "      <th>2018-01-05</th>\n",
       "      <td>48.785417</td>\n",
       "      <td>20.422917</td>\n",
       "      <td>2.689167</td>\n",
       "      <td>0.021250</td>\n",
       "      <td>84.063021</td>\n",
       "      <td>92.862813</td>\n",
       "    </tr>\n",
       "    <tr>\n",
       "      <th>...</th>\n",
       "      <td>...</td>\n",
       "      <td>...</td>\n",
       "      <td>...</td>\n",
       "      <td>...</td>\n",
       "      <td>...</td>\n",
       "      <td>...</td>\n",
       "    </tr>\n",
       "    <tr>\n",
       "      <th>2018-12-27</th>\n",
       "      <td>27.227812</td>\n",
       "      <td>9.291250</td>\n",
       "      <td>2.440313</td>\n",
       "      <td>0.011146</td>\n",
       "      <td>89.655625</td>\n",
       "      <td>93.456667</td>\n",
       "    </tr>\n",
       "    <tr>\n",
       "      <th>2018-12-28</th>\n",
       "      <td>19.151875</td>\n",
       "      <td>6.244896</td>\n",
       "      <td>5.999062</td>\n",
       "      <td>0.007500</td>\n",
       "      <td>91.931562</td>\n",
       "      <td>81.060833</td>\n",
       "    </tr>\n",
       "    <tr>\n",
       "      <th>2018-12-29</th>\n",
       "      <td>3.931458</td>\n",
       "      <td>1.250417</td>\n",
       "      <td>9.224375</td>\n",
       "      <td>0.000104</td>\n",
       "      <td>90.275417</td>\n",
       "      <td>57.799271</td>\n",
       "    </tr>\n",
       "    <tr>\n",
       "      <th>2018-12-30</th>\n",
       "      <td>3.533333</td>\n",
       "      <td>1.257500</td>\n",
       "      <td>8.996875</td>\n",
       "      <td>0.000000</td>\n",
       "      <td>89.845208</td>\n",
       "      <td>56.814062</td>\n",
       "    </tr>\n",
       "    <tr>\n",
       "      <th>2018-12-31</th>\n",
       "      <td>3.532083</td>\n",
       "      <td>1.191875</td>\n",
       "      <td>8.802604</td>\n",
       "      <td>0.000000</td>\n",
       "      <td>90.808229</td>\n",
       "      <td>57.039167</td>\n",
       "    </tr>\n",
       "  </tbody>\n",
       "</table>\n",
       "<p>365 rows × 6 columns</p>\n",
       "</div>"
      ],
      "text/plain": [
       "            Usage_kWh  Lagging_Current_Reactive_Power_kVarh  \\\n",
       "date                                                          \n",
       "2018-01-01   3.665208                              1.735625   \n",
       "2018-01-02  41.150312                             16.454479   \n",
       "2018-01-03  37.094271                             13.391562   \n",
       "2018-01-04  51.851250                             21.449063   \n",
       "2018-01-05  48.785417                             20.422917   \n",
       "...               ...                                   ...   \n",
       "2018-12-27  27.227812                              9.291250   \n",
       "2018-12-28  19.151875                              6.244896   \n",
       "2018-12-29   3.931458                              1.250417   \n",
       "2018-12-30   3.533333                              1.257500   \n",
       "2018-12-31   3.532083                              1.191875   \n",
       "\n",
       "            Leading_Current_Reactive_Power_kVarh       CO2  \\\n",
       "date                                                         \n",
       "2018-01-01                              9.885000  0.000000   \n",
       "2018-01-02                              3.063125  0.000000   \n",
       "2018-01-03                              2.766562  0.015938   \n",
       "2018-01-04                              2.339271  0.022604   \n",
       "2018-01-05                              2.689167  0.021250   \n",
       "...                                          ...       ...   \n",
       "2018-12-27                              2.440313  0.011146   \n",
       "2018-12-28                              5.999062  0.007500   \n",
       "2018-12-29                              9.224375  0.000104   \n",
       "2018-12-30                              8.996875  0.000000   \n",
       "2018-12-31                              8.802604  0.000000   \n",
       "\n",
       "            Lagging_Current_Power_Factor  Leading_Current_Power_Factor  \n",
       "date                                                                    \n",
       "2018-01-01                     85.299375                     57.076146  \n",
       "2018-01-02                     84.207292                     92.138125  \n",
       "2018-01-03                     86.100000                     92.617292  \n",
       "2018-01-04                     84.128125                     93.423750  \n",
       "2018-01-05                     84.063021                     92.862813  \n",
       "...                                  ...                           ...  \n",
       "2018-12-27                     89.655625                     93.456667  \n",
       "2018-12-28                     91.931562                     81.060833  \n",
       "2018-12-29                     90.275417                     57.799271  \n",
       "2018-12-30                     89.845208                     56.814062  \n",
       "2018-12-31                     90.808229                     57.039167  \n",
       "\n",
       "[365 rows x 6 columns]"
      ]
     },
     "execution_count": 40,
     "metadata": {},
     "output_type": "execute_result"
    }
   ],
   "source": [
    "# Resampling the data to daily level as the original data does not look normal\n",
    "df_num_daily = df_num.resample('D').mean()\n",
    "df_num_daily "
   ]
  },
  {
   "cell_type": "code",
   "execution_count": 41,
   "metadata": {},
   "outputs": [
    {
     "data": {
      "text/html": [
       "<div>\n",
       "<style scoped>\n",
       "    .dataframe tbody tr th:only-of-type {\n",
       "        vertical-align: middle;\n",
       "    }\n",
       "\n",
       "    .dataframe tbody tr th {\n",
       "        vertical-align: top;\n",
       "    }\n",
       "\n",
       "    .dataframe thead th {\n",
       "        text-align: right;\n",
       "    }\n",
       "</style>\n",
       "<table border=\"1\" class=\"dataframe\">\n",
       "  <thead>\n",
       "    <tr style=\"text-align: right;\">\n",
       "      <th></th>\n",
       "      <th>Usage_kWh</th>\n",
       "      <th>Lagging_Current_Reactive_Power_kVarh</th>\n",
       "      <th>Leading_Current_Reactive_Power_kVarh</th>\n",
       "      <th>CO2</th>\n",
       "      <th>Lagging_Current_Power_Factor</th>\n",
       "      <th>Leading_Current_Power_Factor</th>\n",
       "    </tr>\n",
       "    <tr>\n",
       "      <th>date</th>\n",
       "      <th></th>\n",
       "      <th></th>\n",
       "      <th></th>\n",
       "      <th></th>\n",
       "      <th></th>\n",
       "      <th></th>\n",
       "    </tr>\n",
       "  </thead>\n",
       "  <tbody>\n",
       "    <tr>\n",
       "      <th>2018-01-01</th>\n",
       "      <td>-1.538524</td>\n",
       "      <td>-1.520027</td>\n",
       "      <td>2.135493</td>\n",
       "      <td>-1.563939</td>\n",
       "      <td>0.853128</td>\n",
       "      <td>-1.953859</td>\n",
       "    </tr>\n",
       "    <tr>\n",
       "      <th>2018-01-02</th>\n",
       "      <td>0.892658</td>\n",
       "      <td>0.459932</td>\n",
       "      <td>-0.286845</td>\n",
       "      <td>-1.563939</td>\n",
       "      <td>0.655792</td>\n",
       "      <td>0.556285</td>\n",
       "    </tr>\n",
       "    <tr>\n",
       "      <th>2018-01-03</th>\n",
       "      <td>0.629594</td>\n",
       "      <td>0.047913</td>\n",
       "      <td>-0.392150</td>\n",
       "      <td>0.598914</td>\n",
       "      <td>0.997799</td>\n",
       "      <td>0.590590</td>\n",
       "    </tr>\n",
       "    <tr>\n",
       "      <th>2018-01-04</th>\n",
       "      <td>1.586691</td>\n",
       "      <td>1.131795</td>\n",
       "      <td>-0.543874</td>\n",
       "      <td>1.503637</td>\n",
       "      <td>0.641487</td>\n",
       "      <td>0.648325</td>\n",
       "    </tr>\n",
       "    <tr>\n",
       "      <th>2018-01-05</th>\n",
       "      <td>1.387850</td>\n",
       "      <td>0.993760</td>\n",
       "      <td>-0.419632</td>\n",
       "      <td>1.319865</td>\n",
       "      <td>0.629723</td>\n",
       "      <td>0.608167</td>\n",
       "    </tr>\n",
       "    <tr>\n",
       "      <th>...</th>\n",
       "      <td>...</td>\n",
       "      <td>...</td>\n",
       "      <td>...</td>\n",
       "      <td>...</td>\n",
       "      <td>...</td>\n",
       "      <td>...</td>\n",
       "    </tr>\n",
       "    <tr>\n",
       "      <th>2018-12-27</th>\n",
       "      <td>-0.010317</td>\n",
       "      <td>-0.503655</td>\n",
       "      <td>-0.507996</td>\n",
       "      <td>-0.051355</td>\n",
       "      <td>1.640289</td>\n",
       "      <td>0.650682</td>\n",
       "    </tr>\n",
       "    <tr>\n",
       "      <th>2018-12-28</th>\n",
       "      <td>-0.534101</td>\n",
       "      <td>-0.913446</td>\n",
       "      <td>0.755659</td>\n",
       "      <td>-0.546126</td>\n",
       "      <td>2.051544</td>\n",
       "      <td>-0.236756</td>\n",
       "    </tr>\n",
       "    <tr>\n",
       "      <th>2018-12-29</th>\n",
       "      <td>-1.521255</td>\n",
       "      <td>-1.585296</td>\n",
       "      <td>1.900915</td>\n",
       "      <td>-1.549802</td>\n",
       "      <td>1.752284</td>\n",
       "      <td>-1.902089</td>\n",
       "    </tr>\n",
       "    <tr>\n",
       "      <th>2018-12-30</th>\n",
       "      <td>-1.547077</td>\n",
       "      <td>-1.584343</td>\n",
       "      <td>1.820134</td>\n",
       "      <td>-1.563939</td>\n",
       "      <td>1.674546</td>\n",
       "      <td>-1.972622</td>\n",
       "    </tr>\n",
       "    <tr>\n",
       "      <th>2018-12-31</th>\n",
       "      <td>-1.547158</td>\n",
       "      <td>-1.593171</td>\n",
       "      <td>1.751151</td>\n",
       "      <td>-1.563939</td>\n",
       "      <td>1.848561</td>\n",
       "      <td>-1.956506</td>\n",
       "    </tr>\n",
       "  </tbody>\n",
       "</table>\n",
       "<p>365 rows × 6 columns</p>\n",
       "</div>"
      ],
      "text/plain": [
       "            Usage_kWh  Lagging_Current_Reactive_Power_kVarh  \\\n",
       "date                                                          \n",
       "2018-01-01  -1.538524                             -1.520027   \n",
       "2018-01-02   0.892658                              0.459932   \n",
       "2018-01-03   0.629594                              0.047913   \n",
       "2018-01-04   1.586691                              1.131795   \n",
       "2018-01-05   1.387850                              0.993760   \n",
       "...               ...                                   ...   \n",
       "2018-12-27  -0.010317                             -0.503655   \n",
       "2018-12-28  -0.534101                             -0.913446   \n",
       "2018-12-29  -1.521255                             -1.585296   \n",
       "2018-12-30  -1.547077                             -1.584343   \n",
       "2018-12-31  -1.547158                             -1.593171   \n",
       "\n",
       "            Leading_Current_Reactive_Power_kVarh       CO2  \\\n",
       "date                                                         \n",
       "2018-01-01                              2.135493 -1.563939   \n",
       "2018-01-02                             -0.286845 -1.563939   \n",
       "2018-01-03                             -0.392150  0.598914   \n",
       "2018-01-04                             -0.543874  1.503637   \n",
       "2018-01-05                             -0.419632  1.319865   \n",
       "...                                          ...       ...   \n",
       "2018-12-27                             -0.507996 -0.051355   \n",
       "2018-12-28                              0.755659 -0.546126   \n",
       "2018-12-29                              1.900915 -1.549802   \n",
       "2018-12-30                              1.820134 -1.563939   \n",
       "2018-12-31                              1.751151 -1.563939   \n",
       "\n",
       "            Lagging_Current_Power_Factor  Leading_Current_Power_Factor  \n",
       "date                                                                    \n",
       "2018-01-01                      0.853128                     -1.953859  \n",
       "2018-01-02                      0.655792                      0.556285  \n",
       "2018-01-03                      0.997799                      0.590590  \n",
       "2018-01-04                      0.641487                      0.648325  \n",
       "2018-01-05                      0.629723                      0.608167  \n",
       "...                                  ...                           ...  \n",
       "2018-12-27                      1.640289                      0.650682  \n",
       "2018-12-28                      2.051544                     -0.236756  \n",
       "2018-12-29                      1.752284                     -1.902089  \n",
       "2018-12-30                      1.674546                     -1.972622  \n",
       "2018-12-31                      1.848561                     -1.956506  \n",
       "\n",
       "[365 rows x 6 columns]"
      ]
     },
     "execution_count": 41,
     "metadata": {},
     "output_type": "execute_result"
    }
   ],
   "source": [
    "# normalize df_num_daily\n",
    "df_num_daily_norm = (df_num_daily - df_num_daily.mean())/df_num_daily.std()\n",
    "df_num_daily_norm"
   ]
  },
  {
   "cell_type": "code",
   "execution_count": 49,
   "metadata": {},
   "outputs": [
    {
     "data": {
      "image/png": "[encoded data removed]",
      "text/plain": [
       "<Figure size 640x480 with 1 Axes>"
      ]
     },
     "metadata": {},
     "output_type": "display_data"
    },
    {
     "data": {
      "image/png": "[encoded data removed]",
      "text/plain": [
       "<Figure size 640x480 with 1 Axes>"
      ]
     },
     "metadata": {},
     "output_type": "display_data"
    },
    {
     "data": {
      "image/png": "[encoded data removed]",
      "text/plain": [
       "<Figure size 640x480 with 1 Axes>"
      ]
     },
     "metadata": {},
     "output_type": "display_data"
    },
    {
     "data": {
      "image/png": "[encoded data removed]",
      "text/plain": [
       "<Figure size 640x480 with 1 Axes>"
      ]
     },
     "metadata": {},
     "output_type": "display_data"
    },
    {
     "data": {
      "image/png": "[encoded data removed]",
      "text/plain": [
       "<Figure size 640x480 with 1 Axes>"
      ]
     },
     "metadata": {},
     "output_type": "display_data"
    },
    {
     "data": {
      "image/png": "[encoded data removed]",
      "text/plain": [
       "<Figure size 640x480 with 1 Axes>"
      ]
     },
     "metadata": {},
     "output_type": "display_data"
    }
   ],
   "source": [
    "# check normality of df_num_daily by qq plot\n",
    "for col in df_num_daily.columns:\n",
    "    sm.qqplot(df_num_daily[col], line ='45', fit = True)\n",
    "    plt.title(col)\n",
    "    plt.show()"
   ]
  },
  {
   "cell_type": "code",
   "execution_count": 10,
   "metadata": {},
   "outputs": [
    {
     "name": "stdout",
     "output_type": "stream",
     "text": [
      "364\n",
      "19\n",
      "[2.23394318 1.73871701 2.34230156 2.01109933 2.80099066]\n",
      "2.117531913719983\n"
     ]
    },
    {
     "data": {
      "text/plain": [
       "Text(0.5, 1.0, 'Multivariate QQ plot using Mahalanobis distance')"
      ]
     },
     "execution_count": 10,
     "metadata": {},
     "output_type": "execute_result"
    },
    {
     "data": {
      "image/png": "[encoded data removed]",
      "text/plain": [
       "<Figure size 640x480 with 1 Axes>"
      ]
     },
     "metadata": {},
     "output_type": "display_data"
    }
   ],
   "source": [
    "# multivariate qq pplot using mahalanobis distance\n",
    "from scipy.spatial.distance import mahalanobis\n",
    "# calculate the mahalanobis distance\n",
    "dist = []\n",
    "for i in list(range(0, 1)) + list(range(2, len(df_num_daily))):\n",
    "    dist.append(mahalanobis(df_num_daily.iloc[i], np.zeros(6), np.linalg.inv(np.cov(df_num_daily.T))))\n",
    "dist = np.array(dist)\n",
    "print(len(dist))\n",
    "print(np.array(dist).argmax())\n",
    "\n",
    "print(dist[:5])\n",
    "print(dist.mean())\n",
    "\n",
    "# # remove max element from dist\n",
    "dist = np.delete(dist, np.array(dist).argmax())\n",
    "\n",
    "# plot the qq plot\n",
    "sm.qqplot(dist, line ='45', fit = True)\n",
    "plt.title('Multivariate QQ plot using Mahalanobis distance')"
   ]
  },
  {
   "cell_type": "code",
   "execution_count": 11,
   "metadata": {},
   "outputs": [
    {
     "data": {
      "application/vnd.plotly.v1+json": {
       "config": {
        "plotlyServerURL": "https://plot.ly"
       },
       "data": [
        {
         "hovertemplate": "variable=Usage_kWh<br>date=%{x}<br>Usage_kWh=%{y}<extra></extra>",
         "legendgroup": "Usage_kWh",
         "line": {
          "color": "#636efa",
          "dash": "solid"
         },
         "marker": {
          "symbol": "circle"
         },
         "mode": "lines",
         "name": "Usage_kWh",
         "orientation": "v",
         "showlegend": true,
         "type": "scatter",
         "x": [
          "2018-01-01T00:00:00",
          "2018-01-02T00:00:00",
          "2018-01-03T00:00:00",
          "2018-01-04T00:00:00",
          "2018-01-05T00:00:00",
          "2018-01-06T00:00:00",
          "2018-01-07T00:00:00",
          "2018-01-08T00:00:00",
          "2018-01-09T00:00:00",
          "2018-01-10T00:00:00",
          "2018-01-11T00:00:00",
          "2018-01-12T00:00:00",
          "2018-01-13T00:00:00",
          "2018-01-14T00:00:00",
          "2018-01-15T00:00:00",
          "2018-01-16T00:00:00",
          "2018-01-17T00:00:00",
          "2018-01-18T00:00:00",
          "2018-01-19T00:00:00",
          "2018-01-20T00:00:00",
          "2018-01-21T00:00:00",
          "2018-01-22T00:00:00",
          "2018-01-23T00:00:00",
          "2018-01-24T00:00:00",
          "2018-01-25T00:00:00",
          "2018-01-26T00:00:00",
          "2018-01-27T00:00:00",
          "2018-01-28T00:00:00",
          "2018-01-29T00:00:00",
          "2018-01-30T00:00:00",
          "2018-01-31T00:00:00",
          "2018-02-01T00:00:00",
          "2018-02-02T00:00:00",
          "2018-02-03T00:00:00",
          "2018-02-04T00:00:00",
          "2018-02-05T00:00:00",
          "2018-02-06T00:00:00",
          "2018-02-07T00:00:00",
          "2018-02-08T00:00:00",
          "2018-02-09T00:00:00",
          "2018-02-10T00:00:00",
          "2018-02-11T00:00:00",
          "2018-02-12T00:00:00",
          "2018-02-13T00:00:00",
          "2018-02-14T00:00:00",
          "2018-02-15T00:00:00",
          "2018-02-16T00:00:00",
          "2018-02-17T00:00:00",
          "2018-02-18T00:00:00",
          "2018-02-19T00:00:00",
          "2018-02-20T00:00:00",
          "2018-02-21T00:00:00",
          "2018-02-22T00:00:00",
          "2018-02-23T00:00:00",
          "2018-02-24T00:00:00",
          "2018-02-25T00:00:00",
          "2018-02-26T00:00:00",
          "2018-02-27T00:00:00",
          "2018-02-28T00:00:00",
          "2018-03-01T00:00:00",
          "2018-03-02T00:00:00",
          "2018-03-03T00:00:00",
          "2018-03-04T00:00:00",
          "2018-03-05T00:00:00",
          "2018-03-06T00:00:00",
          "2018-03-07T00:00:00",
          "2018-03-08T00:00:00",
          "2018-03-09T00:00:00",
          "2018-03-10T00:00:00",
          "2018-03-11T00:00:00",
          "2018-03-12T00:00:00",
          "2018-03-13T00:00:00",
          "2018-03-14T00:00:00",
          "2018-03-15T00:00:00",
          "2018-03-16T00:00:00",
          "2018-03-17T00:00:00",
          "2018-03-18T00:00:00",
          "2018-03-19T00:00:00",
          "2018-03-20T00:00:00",
          "2018-03-21T00:00:00",
          "2018-03-22T00:00:00",
          "2018-03-23T00:00:00",
          "2018-03-24T00:00:00",
          "2018-03-25T00:00:00",
          "2018-03-26T00:00:00",
          "2018-03-27T00:00:00",
          "2018-03-28T00:00:00",
          "2018-03-29T00:00:00",
          "2018-03-30T00:00:00",
          "2018-03-31T00:00:00",
          "2018-04-01T00:00:00",
          "2018-04-02T00:00:00",
          "2018-04-03T00:00:00",
          "2018-04-04T00:00:00",
          "2018-04-05T00:00:00",
          "2018-04-06T00:00:00",
          "2018-04-07T00:00:00",
          "2018-04-08T00:00:00",
          "2018-04-09T00:00:00",
          "2018-04-10T00:00:00",
          "2018-04-11T00:00:00",
          "2018-04-12T00:00:00",
          "2018-04-13T00:00:00",
          "2018-04-14T00:00:00",
          "2018-04-15T00:00:00",
          "2018-04-16T00:00:00",
          "2018-04-17T00:00:00",
          "2018-04-18T00:00:00",
          "2018-04-19T00:00:00",
          "2018-04-20T00:00:00",
          "2018-04-21T00:00:00",
          "2018-04-22T00:00:00",
          "2018-04-23T00:00:00",
          "2018-04-24T00:00:00",
          "2018-04-25T00:00:00",
          "2018-04-26T00:00:00",
          "2018-04-27T00:00:00",
          "2018-04-28T00:00:00",
          "2018-04-29T00:00:00",
          "2018-04-30T00:00:00",
          "2018-05-01T00:00:00",
          "2018-05-02T00:00:00",
          "2018-05-03T00:00:00",
          "2018-05-04T00:00:00",
          "2018-05-05T00:00:00",
          "2018-05-06T00:00:00",
          "2018-05-07T00:00:00",
          "2018-05-08T00:00:00",
          "2018-05-09T00:00:00",
          "2018-05-10T00:00:00",
          "2018-05-11T00:00:00",
          "2018-05-12T00:00:00",
          "2018-05-13T00:00:00",
          "2018-05-14T00:00:00",
          "2018-05-15T00:00:00",
          "2018-05-16T00:00:00",
          "2018-05-17T00:00:00",
          "2018-05-18T00:00:00",
          "2018-05-19T00:00:00",
          "2018-05-20T00:00:00",
          "2018-05-21T00:00:00",
          "2018-05-22T00:00:00",
          "2018-05-23T00:00:00",
          "2018-05-24T00:00:00",
          "2018-05-25T00:00:00",
          "2018-05-26T00:00:00",
          "2018-05-27T00:00:00",
          "2018-05-28T00:00:00",
          "2018-05-29T00:00:00",
          "2018-05-30T00:00:00",
          "2018-05-31T00:00:00",
          "2018-06-01T00:00:00",
          "2018-06-02T00:00:00",
          "2018-06-03T00:00:00",
          "2018-06-04T00:00:00",
          "2018-06-05T00:00:00",
          "2018-06-06T00:00:00",
          "2018-06-07T00:00:00",
          "2018-06-08T00:00:00",
          "2018-06-09T00:00:00",
          "2018-06-10T00:00:00",
          "2018-06-11T00:00:00",
          "2018-06-12T00:00:00",
          "2018-06-13T00:00:00",
          "2018-06-14T00:00:00",
          "2018-06-15T00:00:00",
          "2018-06-16T00:00:00",
          "2018-06-17T00:00:00",
          "2018-06-18T00:00:00",
          "2018-06-19T00:00:00",
          "2018-06-20T00:00:00",
          "2018-06-21T00:00:00",
          "2018-06-22T00:00:00",
          "2018-06-23T00:00:00",
          "2018-06-24T00:00:00",
          "2018-06-25T00:00:00",
          "2018-06-26T00:00:00",
          "2018-06-27T00:00:00",
          "2018-06-28T00:00:00",
          "2018-06-29T00:00:00",
          "2018-06-30T00:00:00",
          "2018-07-01T00:00:00",
          "2018-07-02T00:00:00",
          "2018-07-03T00:00:00",
          "2018-07-04T00:00:00",
          "2018-07-05T00:00:00",
          "2018-07-06T00:00:00",
          "2018-07-07T00:00:00",
          "2018-07-08T00:00:00",
          "2018-07-09T00:00:00",
          "2018-07-10T00:00:00",
          "2018-07-11T00:00:00",
          "2018-07-12T00:00:00",
          "2018-07-13T00:00:00",
          "2018-07-14T00:00:00",
          "2018-07-15T00:00:00",
          "2018-07-16T00:00:00",
          "2018-07-17T00:00:00",
          "2018-07-18T00:00:00",
          "2018-07-19T00:00:00",
          "2018-07-20T00:00:00",
          "2018-07-21T00:00:00",
          "2018-07-22T00:00:00",
          "2018-07-23T00:00:00",
          "2018-07-24T00:00:00",
          "2018-07-25T00:00:00",
          "2018-07-26T00:00:00",
          "2018-07-27T00:00:00",
          "2018-07-28T00:00:00",
          "2018-07-29T00:00:00",
          "2018-07-30T00:00:00",
          "2018-07-31T00:00:00",
          "2018-08-01T00:00:00",
          "2018-08-02T00:00:00",
          "2018-08-03T00:00:00",
          "2018-08-04T00:00:00",
          "2018-08-05T00:00:00",
          "2018-08-06T00:00:00",
          "2018-08-07T00:00:00",
          "2018-08-08T00:00:00",
          "2018-08-09T00:00:00",
          "2018-08-10T00:00:00",
          "2018-08-11T00:00:00",
          "2018-08-12T00:00:00",
          "2018-08-13T00:00:00",
          "2018-08-14T00:00:00",
          "2018-08-15T00:00:00",
          "2018-08-16T00:00:00",
          "2018-08-17T00:00:00",
          "2018-08-18T00:00:00",
          "2018-08-19T00:00:00",
          "2018-08-20T00:00:00",
          "2018-08-21T00:00:00",
          "2018-08-22T00:00:00",
          "2018-08-23T00:00:00",
          "2018-08-24T00:00:00",
          "2018-08-25T00:00:00",
          "2018-08-26T00:00:00",
          "2018-08-27T00:00:00",
          "2018-08-28T00:00:00",
          "2018-08-29T00:00:00",
          "2018-08-30T00:00:00",
          "2018-08-31T00:00:00",
          "2018-09-01T00:00:00",
          "2018-09-02T00:00:00",
          "2018-09-03T00:00:00",
          "2018-09-04T00:00:00",
          "2018-09-05T00:00:00",
          "2018-09-06T00:00:00",
          "2018-09-07T00:00:00",
          "2018-09-08T00:00:00",
          "2018-09-09T00:00:00",
          "2018-09-10T00:00:00",
          "2018-09-11T00:00:00",
          "2018-09-12T00:00:00",
          "2018-09-13T00:00:00",
          "2018-09-14T00:00:00",
          "2018-09-15T00:00:00",
          "2018-09-16T00:00:00",
          "2018-09-17T00:00:00",
          "2018-09-18T00:00:00",
          "2018-09-19T00:00:00",
          "2018-09-20T00:00:00",
          "2018-09-21T00:00:00",
          "2018-09-22T00:00:00",
          "2018-09-23T00:00:00",
          "2018-09-24T00:00:00",
          "2018-09-25T00:00:00",
          "2018-09-26T00:00:00",
          "2018-09-27T00:00:00",
          "2018-09-28T00:00:00",
          "2018-09-29T00:00:00",
          "2018-09-30T00:00:00",
          "2018-10-01T00:00:00",
          "2018-10-02T00:00:00",
          "2018-10-03T00:00:00",
          "2018-10-04T00:00:00",
          "2018-10-05T00:00:00",
          "2018-10-06T00:00:00",
          "2018-10-07T00:00:00",
          "2018-10-08T00:00:00",
          "2018-10-09T00:00:00",
          "2018-10-10T00:00:00",
          "2018-10-11T00:00:00",
          "2018-10-12T00:00:00",
          "2018-10-13T00:00:00",
          "2018-10-14T00:00:00",
          "2018-10-15T00:00:00",
          "2018-10-16T00:00:00",
          "2018-10-17T00:00:00",
          "2018-10-18T00:00:00",
          "2018-10-19T00:00:00",
          "2018-10-20T00:00:00",
          "2018-10-21T00:00:00",
          "2018-10-22T00:00:00",
          "2018-10-23T00:00:00",
          "2018-10-24T00:00:00",
          "2018-10-25T00:00:00",
          "2018-10-26T00:00:00",
          "2018-10-27T00:00:00",
          "2018-10-28T00:00:00",
          "2018-10-29T00:00:00",
          "2018-10-30T00:00:00",
          "2018-10-31T00:00:00",
          "2018-11-01T00:00:00",
          "2018-11-02T00:00:00",
          "2018-11-03T00:00:00",
          "2018-11-04T00:00:00",
          "2018-11-05T00:00:00",
          "2018-11-06T00:00:00",
          "2018-11-07T00:00:00",
          "2018-11-08T00:00:00",
          "2018-11-09T00:00:00",
          "2018-11-10T00:00:00",
          "2018-11-11T00:00:00",
          "2018-11-12T00:00:00",
          "2018-11-13T00:00:00",
          "2018-11-14T00:00:00",
          "2018-11-15T00:00:00",
          "2018-11-16T00:00:00",
          "2018-11-17T00:00:00",
          "2018-11-18T00:00:00",
          "2018-11-19T00:00:00",
          "2018-11-20T00:00:00",
          "2018-11-21T00:00:00",
          "2018-11-22T00:00:00",
          "2018-11-23T00:00:00",
          "2018-11-24T00:00:00",
          "2018-11-25T00:00:00",
          "2018-11-26T00:00:00",
          "2018-11-27T00:00:00",
          "2018-11-28T00:00:00",
          "2018-11-29T00:00:00",
          "2018-11-30T00:00:00",
          "2018-12-01T00:00:00",
          "2018-12-02T00:00:00",
          "2018-12-03T00:00:00",
          "2018-12-04T00:00:00",
          "2018-12-05T00:00:00",
          "2018-12-06T00:00:00",
          "2018-12-07T00:00:00",
          "2018-12-08T00:00:00",
          "2018-12-09T00:00:00",
          "2018-12-10T00:00:00",
          "2018-12-11T00:00:00",
          "2018-12-12T00:00:00",
          "2018-12-13T00:00:00",
          "2018-12-14T00:00:00",
          "2018-12-15T00:00:00",
          "2018-12-16T00:00:00",
          "2018-12-17T00:00:00",
          "2018-12-18T00:00:00",
          "2018-12-19T00:00:00",
          "2018-12-20T00:00:00",
          "2018-12-21T00:00:00",
          "2018-12-22T00:00:00",
          "2018-12-23T00:00:00",
          "2018-12-24T00:00:00",
          "2018-12-25T00:00:00",
          "2018-12-26T00:00:00",
          "2018-12-27T00:00:00",
          "2018-12-28T00:00:00",
          "2018-12-29T00:00:00",
          "2018-12-30T00:00:00",
          "2018-12-31T00:00:00"
         ],
         "xaxis": "x",
         "y": [
          -1.5385235827593324,
          0.8926578029903293,
          0.6295940282177938,
          1.5866913568094214,
          1.387849787671169,
          -1.5242684960889836,
          -1.5405098365418362,
          1.8169278964486746,
          1.9316847221276077,
          1.226915939531651,
          1.8142930700024964,
          1.7410381388334943,
          0.3014230163636689,
          -1.1141543817587147,
          0.9049604157044078,
          0.9833836602870671,
          0.5466172630589186,
          3.1919897709871323,
          3.0712336481692093,
          1.6109182481837683,
          -0.9724142308848179,
          0.9383889317446386,
          1.7482129739253949,
          1.5135107412581321,
          1.5929879164192629,
          2.9997487798948193,
          -0.6532556766696721,
          -0.9696780649599406,
          1.972409680634178,
          1.7592116853468778,
          2.372896544488026,
          2.3548040695576016,
          0.9589878697815553,
          0.0580731481807439,
          -1.3680165318653663,
          1.6211265116713973,
          1.4269127787270734,
          0.7079767370089736,
          1.5355689677883166,
          1.6492853748192717,
          -1.234944284402871,
          -1.4967041578828109,
          0.9051630946618061,
          1.6427658683562922,
          -1.3281968727018416,
          -1.5502249145664624,
          -1.5521841444879796,
          -1.547056366865802,
          -1.5476238679465175,
          1.1122672092966637,
          2.1784395967948242,
          1.9093967927790383,
          2.386246331815329,
          1.3568331512239786,
          1.5048090580204974,
          -1.3572204994012822,
          0.20591393567233046,
          0.4066471750796338,
          1.1415475626754754,
          -0.644993131173067,
          0.04591241073684425,
          -0.7245648898476502,
          -1.5600278201392948,
          0.72454911975891,
          0.752194529548042,
          0.5868152562762536,
          0.49294787513984156,
          -0.2465060330322157,
          -1.1402256516453864,
          -0.5400256991364732,
          0.5135197893157718,
          0.5734046652617308,
          0.10107486697542238,
          1.1882785742862831,
          1.0754809785288673,
          -0.4185872238286421,
          -1.5689997419867943,
          0.34997138262581495,
          0.15057582433734054,
          0.6428154522054114,
          0.6518346658096369,
          1.4377831268088703,
          -0.892957323619427,
          -0.93421600338048,
          0.17513375800877115,
          -0.16500206829710168,
          -0.17639262570288772,
          0.375562978979977,
          -0.10458347109666032,
          -1.5807956573073767,
          -1.5804375911493065,
          0.27184540051400635,
          0.97335105189585,
          -0.20125457781041578,
          0.07563190185668567,
          1.0388028432050165,
          -0.05344757014506233,
          -0.37934182171107933,
          0.8572700570285814,
          0.15898700106937103,
          0.4075659863531729,
          0.1877403891589471,
          -0.07534365350932834,
          -0.8971595340028191,
          -1.5603385945406392,
          0.19038872753561858,
          1.0101035028374135,
          0.3009095630049265,
          0.09164353949115352,
          0.49379237079566796,
          -0.5516121795344109,
          -0.9549635726528221,
          0.08168524671764904,
          0.1738906604033947,
          0.565101583973646,
          1.0086982620661182,
          0.6857766352086101,
          -0.6597549152369119,
          -1.579876846033838,
          -0.15022001633751703,
          -1.574472073836549,
          1.2429681129575982,
          1.0920533612788037,
          -0.12003436361565943,
          -1.5685335803847782,
          -1.5705265901325285,
          1.5130040438646364,
          0.5234443022630432,
          0.11878225188678952,
          0.20994049095931056,
          0.042568207939771896,
          -1.2784054088343193,
          -1.5728371302468693,
          0.15025153800550314,
          0.6969037099697782,
          0.8674242727942375,
          1.2344758646426084,
          0.2748990968054745,
          -0.6683552589958475,
          -1.3243189486502869,
          0.042129070198742166,
          -0.3189705162673643,
          1.0430253214841483,
          1.1291976582046706,
          -0.054427185105820945,
          -0.910340422198957,
          -1.5797957744508786,
          0.08107720984545404,
          -0.2058148543518782,
          0.7540659319213531,
          0.07938821853380133,
          -0.39121205264937475,
          -1.527977521009373,
          -1.5783702657838437,
          0.7383245328967497,
          0.9801543088991871,
          0.2790134796406605,
          0.31776569629522067,
          -0.1867292525302024,
          -1.578431069471063,
          -1.577370382927345,
          0.6552937200159016,
          0.6377417223052065,
          -0.8351397730389309,
          0.2559486142887309,
          0.3866900537411452,
          -1.3253931471244982,
          -1.5832142928656638,
          0.3977293009541074,
          -0.0599670766080419,
          0.5330580408089706,
          -0.21328019594938322,
          -0.05315030767421149,
          -0.8914980351261592,
          -1.2124266522359168,
          0.3516671299027142,
          -0.11022470207758044,
          -0.34636595534237147,
          -0.1442409870942664,
          -0.22740691928004667,
          -0.7910098080480685,
          -1.581782028233382,
          0.052499476852289936,
          0.537131887852677,
          0.2918430576439746,
          0.6035092464006291,
          1.2959011006647947,
          -0.026308857749426325,
          -0.11318381485559602,
          -0.009878350269668625,
          0.5227349259121491,
          -0.08690311004627957,
          -0.03751700409355385,
          -0.003318308015209425,
          -0.5934180924804392,
          0.6085762203355871,
          0.349951114730075,
          0.42840138317372084,
          -0.2457561208898419,
          0.7538970327901877,
          0.27816898398483414,
          -0.8008870292386138,
          -1.583748014120146,
          0.3605174443757745,
          0.5231402838269457,
          0.3510523370652726,
          0.024617608279526686,
          -0.10059745160115993,
          -0.649924985803093,
          -0.9797309412468976,
          0.2977680391652524,
          -0.3512167383894382,
          -1.595172351352165,
          -1.5897743351201228,
          -1.5834372397188017,
          -1.5901594251391795,
          -1.5816401529632034,
          0.638984819910583,
          0.5600751458301675,
          0.6408832461448806,
          0.5478873845252813,
          0.9584541485270728,
          0.22038521323057106,
          -1.5844371225753,
          1.2186061022783192,
          0.9658451745068652,
          0.08428629333759424,
          0.23509294957244295,
          0.22841805590879138,
          -0.2377908378640876,
          -1.5822076540439185,
          0.5193096515321173,
          -0.026160226514000927,
          -0.373653298973433,
          0.01749682090959879,
          -0.002608931664315311,
          -1.53597658386136,
          -1.5214512585811468,
          -0.3326986376484777,
          -0.17370375153473658,
          -0.13655945460886976,
          -0.1100152671549355,
          -0.02317408987499891,
          -0.8379907903730008,
          -0.9085703593043449,
          -0.020100125687790918,
          1.0076916232443733,
          0.24941559589525814,
          0.10679041357405515,
          1.0509365567879296,
          -0.8423146081308318,
          -1.3164820289642183,
          0.23594420119351592,
          0.7795021410748433,
          0.2543339385947908,
          0.39091253202027704,
          -0.1403022593554922,
          -0.8585019008617115,
          -1.5892135900046542,
          0.4600057885973667,
          0.012456870835627033,
          -0.5912696955320171,
          -0.11602807622441921,
          -1.0411156414776044,
          -1.5884704338275268,
          -1.595557441371222,
          -1.5924159175315478,
          -1.5975234272579855,
          -1.6009487016380173,
          0.12234940153700005,
          -0.22887971970380785,
          -0.7891924533967302,
          -1.5970302417949829,
          -0.28991986570693734,
          0.38414305484317285,
          -0.4051360970226398,
          0.22929633139085082,
          -0.0799377098770238,
          0.33251396842857234,
          -1.5977261062153838,
          0.9649601430595592,
          -0.039273555057672695,
          1.0614555946769029,
          0.894002240074405,
          0.09136654491604246,
          -0.603511504558876,
          -1.5813361345271058,
          1.2174913680126287,
          0.47518644250650144,
          0.2919038613311941,
          0.24790225968001725,
          0.7991619999424809,
          -0.038314207992653906,
          -1.5312879439802123,
          0.3242514229319672,
          0.7308051435772718,
          -0.14650423545188102,
          0.2542731349075713,
          0.3900275005729709,
          -0.7117488237748294,
          -1.5783094620966243,
          0.8708495471742693,
          0.26662979534362263,
          0.9131959373400265,
          0.16075030799873655,
          0.27044015974271124,
          -0.4881669099034879,
          -0.15571937204825828,
          0.4779361203618721,
          0.10801999924893836,
          0.007538528136094319,
          0.3233663914846611,
          0.3311154836225238,
          -0.5527336697653483,
          -1.579370148640342,
          0.7829544393158614,
          1.4171977007024472,
          0.4306984113575687,
          0.7135571643026741,
          0.4418998017364495,
          0.5217755788471303,
          -0.8082915671488993,
          0.1238762496827342,
          -0.3305299728043155,
          1.124002320930027,
          1.1160100140432858,
          0.7135639202679207,
          -1.5333687812761683,
          -1.5724520402278124,
          0.5893217193827461,
          1.1064841030455645,
          0.8134711343348029,
          0.38566990298890697,
          0.022131413068773906,
          -1.231998683555349,
          -1.5257345405474978,
          0.06701129020201017,
          0.12061987443386771,
          -0.0962803898085755,
          0.1098035740740437,
          0.029299492195428052,
          -0.7130797489284117,
          -1.546549669472306,
          -0.10369168368410764,
          0.38705487586446224,
          0.437028750793643,
          0.45826274956374113,
          1.0137449681053368,
          -1.5322675589409707,
          -0.4151416815528705,
          -0.2837651813672748,
          0.30389569964392854,
          0.5592644300005742,
          -0.0789378270205253,
          -0.22392084121279537,
          -1.530234013401741,
          -1.5273289483456982,
          -0.4654060629876557,
          -1.5394423940328714,
          -0.42042484637572025,
          -0.010317488010698313,
          -0.5341007176151955,
          -1.5212553355889948,
          -1.5470766347615417,
          -1.547157706344501
         ],
         "yaxis": "y"
        }
       ],
       "layout": {
        "legend": {
         "title": {
          "text": "variable"
         },
         "tracegroupgap": 0
        },
        "template": {
         "data": {
          "bar": [
           {
            "error_x": {
             "color": "#2a3f5f"
            },
            "error_y": {
             "color": "#2a3f5f"
            },
            "marker": {
             "line": {
              "color": "#E5ECF6",
              "width": 0.5
             },
             "pattern": {
              "fillmode": "overlay",
              "size": 10,
              "solidity": 0.2
             }
            },
            "type": "bar"
           }
          ],
          "barpolar": [
           {
            "marker": {
             "line": {
              "color": "#E5ECF6",
              "width": 0.5
             },
             "pattern": {
              "fillmode": "overlay",
              "size": 10,
              "solidity": 0.2
             }
            },
            "type": "barpolar"
           }
          ],
          "carpet": [
           {
            "aaxis": {
             "endlinecolor": "#2a3f5f",
             "gridcolor": "white",
             "linecolor": "white",
             "minorgridcolor": "white",
             "startlinecolor": "#2a3f5f"
            },
            "baxis": {
             "endlinecolor": "#2a3f5f",
             "gridcolor": "white",
             "linecolor": "white",
             "minorgridcolor": "white",
             "startlinecolor": "#2a3f5f"
            },
            "type": "carpet"
           }
          ],
          "choropleth": [
           {
            "colorbar": {
             "outlinewidth": 0,
             "ticks": ""
            },
            "type": "choropleth"
           }
          ],
          "contour": [
           {
            "colorbar": {
             "outlinewidth": 0,
             "ticks": ""
            },
            "colorscale": [
             [
              0,
              "#0d0887"
             ],
             [
              0.1111111111111111,
              "#46039f"
             ],
             [
              0.2222222222222222,
              "#7201a8"
             ],
             [
              0.3333333333333333,
              "#9c179e"
             ],
             [
              0.4444444444444444,
              "#bd3786"
             ],
             [
              0.5555555555555556,
              "#d8576b"
             ],
             [
              0.6666666666666666,
              "#ed7953"
             ],
             [
              0.7777777777777778,
              "#fb9f3a"
             ],
             [
              0.8888888888888888,
              "#fdca26"
             ],
             [
              1,
              "#f0f921"
             ]
            ],
            "type": "contour"
           }
          ],
          "contourcarpet": [
           {
            "colorbar": {
             "outlinewidth": 0,
             "ticks": ""
            },
            "type": "contourcarpet"
           }
          ],
          "heatmap": [
           {
            "colorbar": {
             "outlinewidth": 0,
             "ticks": ""
            },
            "colorscale": [
             [
              0,
              "#0d0887"
             ],
             [
              0.1111111111111111,
              "#46039f"
             ],
             [
              0.2222222222222222,
              "#7201a8"
             ],
             [
              0.3333333333333333,
              "#9c179e"
             ],
             [
              0.4444444444444444,
              "#bd3786"
             ],
             [
              0.5555555555555556,
              "#d8576b"
             ],
             [
              0.6666666666666666,
              "#ed7953"
             ],
             [
              0.7777777777777778,
              "#fb9f3a"
             ],
             [
              0.8888888888888888,
              "#fdca26"
             ],
             [
              1,
              "#f0f921"
             ]
            ],
            "type": "heatmap"
           }
          ],
          "heatmapgl": [
           {
            "colorbar": {
             "outlinewidth": 0,
             "ticks": ""
            },
            "colorscale": [
             [
              0,
              "#0d0887"
             ],
             [
              0.1111111111111111,
              "#46039f"
             ],
             [
              0.2222222222222222,
              "#7201a8"
             ],
             [
              0.3333333333333333,
              "#9c179e"
             ],
             [
              0.4444444444444444,
              "#bd3786"
             ],
             [
              0.5555555555555556,
              "#d8576b"
             ],
             [
              0.6666666666666666,
              "#ed7953"
             ],
             [
              0.7777777777777778,
              "#fb9f3a"
             ],
             [
              0.8888888888888888,
              "#fdca26"
             ],
             [
              1,
              "#f0f921"
             ]
            ],
            "type": "heatmapgl"
           }
          ],
          "histogram": [
           {
            "marker": {
             "pattern": {
              "fillmode": "overlay",
              "size": 10,
              "solidity": 0.2
             }
            },
            "type": "histogram"
           }
          ],
          "histogram2d": [
           {
            "colorbar": {
             "outlinewidth": 0,
             "ticks": ""
            },
            "colorscale": [
             [
              0,
              "#0d0887"
             ],
             [
              0.1111111111111111,
              "#46039f"
             ],
             [
              0.2222222222222222,
              "#7201a8"
             ],
             [
              0.3333333333333333,
              "#9c179e"
             ],
             [
              0.4444444444444444,
              "#bd3786"
             ],
             [
              0.5555555555555556,
              "#d8576b"
             ],
             [
              0.6666666666666666,
              "#ed7953"
             ],
             [
              0.7777777777777778,
              "#fb9f3a"
             ],
             [
              0.8888888888888888,
              "#fdca26"
             ],
             [
              1,
              "#f0f921"
             ]
            ],
            "type": "histogram2d"
           }
          ],
          "histogram2dcontour": [
           {
            "colorbar": {
             "outlinewidth": 0,
             "ticks": ""
            },
            "colorscale": [
             [
              0,
              "#0d0887"
             ],
             [
              0.1111111111111111,
              "#46039f"
             ],
             [
              0.2222222222222222,
              "#7201a8"
             ],
             [
              0.3333333333333333,
              "#9c179e"
             ],
             [
              0.4444444444444444,
              "#bd3786"
             ],
             [
              0.5555555555555556,
              "#d8576b"
             ],
             [
              0.6666666666666666,
              "#ed7953"
             ],
             [
              0.7777777777777778,
              "#fb9f3a"
             ],
             [
              0.8888888888888888,
              "#fdca26"
             ],
             [
              1,
              "#f0f921"
             ]
            ],
            "type": "histogram2dcontour"
           }
          ],
          "mesh3d": [
           {
            "colorbar": {
             "outlinewidth": 0,
             "ticks": ""
            },
            "type": "mesh3d"
           }
          ],
          "parcoords": [
           {
            "line": {
             "colorbar": {
              "outlinewidth": 0,
              "ticks": ""
             }
            },
            "type": "parcoords"
           }
          ],
          "pie": [
           {
            "automargin": true,
            "type": "pie"
           }
          ],
          "scatter": [
           {
            "fillpattern": {
             "fillmode": "overlay",
             "size": 10,
             "solidity": 0.2
            },
            "type": "scatter"
           }
          ],
          "scatter3d": [
           {
            "line": {
             "colorbar": {
              "outlinewidth": 0,
              "ticks": ""
             }
            },
            "marker": {
             "colorbar": {
              "outlinewidth": 0,
              "ticks": ""
             }
            },
            "type": "scatter3d"
           }
          ],
          "scattercarpet": [
           {
            "marker": {
             "colorbar": {
              "outlinewidth": 0,
              "ticks": ""
             }
            },
            "type": "scattercarpet"
           }
          ],
          "scattergeo": [
           {
            "marker": {
             "colorbar": {
              "outlinewidth": 0,
              "ticks": ""
             }
            },
            "type": "scattergeo"
           }
          ],
          "scattergl": [
           {
            "marker": {
             "colorbar": {
              "outlinewidth": 0,
              "ticks": ""
             }
            },
            "type": "scattergl"
           }
          ],
          "scattermapbox": [
           {
            "marker": {
             "colorbar": {
              "outlinewidth": 0,
              "ticks": ""
             }
            },
            "type": "scattermapbox"
           }
          ],
          "scatterpolar": [
           {
            "marker": {
             "colorbar": {
              "outlinewidth": 0,
              "ticks": ""
             }
            },
            "type": "scatterpolar"
           }
          ],
          "scatterpolargl": [
           {
            "marker": {
             "colorbar": {
              "outlinewidth": 0,
              "ticks": ""
             }
            },
            "type": "scatterpolargl"
           }
          ],
          "scatterternary": [
           {
            "marker": {
             "colorbar": {
              "outlinewidth": 0,
              "ticks": ""
             }
            },
            "type": "scatterternary"
           }
          ],
          "surface": [
           {
            "colorbar": {
             "outlinewidth": 0,
             "ticks": ""
            },
            "colorscale": [
             [
              0,
              "#0d0887"
             ],
             [
              0.1111111111111111,
              "#46039f"
             ],
             [
              0.2222222222222222,
              "#7201a8"
             ],
             [
              0.3333333333333333,
              "#9c179e"
             ],
             [
              0.4444444444444444,
              "#bd3786"
             ],
             [
              0.5555555555555556,
              "#d8576b"
             ],
             [
              0.6666666666666666,
              "#ed7953"
             ],
             [
              0.7777777777777778,
              "#fb9f3a"
             ],
             [
              0.8888888888888888,
              "#fdca26"
             ],
             [
              1,
              "#f0f921"
             ]
            ],
            "type": "surface"
           }
          ],
          "table": [
           {
            "cells": {
             "fill": {
              "color": "#EBF0F8"
             },
             "line": {
              "color": "white"
             }
            },
            "header": {
             "fill": {
              "color": "#C8D4E3"
             },
             "line": {
              "color": "white"
             }
            },
            "type": "table"
           }
          ]
         },
         "layout": {
          "annotationdefaults": {
           "arrowcolor": "#2a3f5f",
           "arrowhead": 0,
           "arrowwidth": 1
          },
          "autotypenumbers": "strict",
          "coloraxis": {
           "colorbar": {
            "outlinewidth": 0,
            "ticks": ""
           }
          },
          "colorscale": {
           "diverging": [
            [
             0,
             "#8e0152"
            ],
            [
             0.1,
             "#c51b7d"
            ],
            [
             0.2,
             "#de77ae"
            ],
            [
             0.3,
             "#f1b6da"
            ],
            [
             0.4,
             "#fde0ef"
            ],
            [
             0.5,
             "#f7f7f7"
            ],
            [
             0.6,
             "#e6f5d0"
            ],
            [
             0.7,
             "#b8e186"
            ],
            [
             0.8,
             "#7fbc41"
            ],
            [
             0.9,
             "#4d9221"
            ],
            [
             1,
             "#276419"
            ]
           ],
           "sequential": [
            [
             0,
             "#0d0887"
            ],
            [
             0.1111111111111111,
             "#46039f"
            ],
            [
             0.2222222222222222,
             "#7201a8"
            ],
            [
             0.3333333333333333,
             "#9c179e"
            ],
            [
             0.4444444444444444,
             "#bd3786"
            ],
            [
             0.5555555555555556,
             "#d8576b"
            ],
            [
             0.6666666666666666,
             "#ed7953"
            ],
            [
             0.7777777777777778,
             "#fb9f3a"
            ],
            [
             0.8888888888888888,
             "#fdca26"
            ],
            [
             1,
             "#f0f921"
            ]
           ],
           "sequentialminus": [
            [
             0,
             "#0d0887"
            ],
            [
             0.1111111111111111,
             "#46039f"
            ],
            [
             0.2222222222222222,
             "#7201a8"
            ],
            [
             0.3333333333333333,
             "#9c179e"
            ],
            [
             0.4444444444444444,
             "#bd3786"
            ],
            [
             0.5555555555555556,
             "#d8576b"
            ],
            [
             0.6666666666666666,
             "#ed7953"
            ],
            [
             0.7777777777777778,
             "#fb9f3a"
            ],
            [
             0.8888888888888888,
             "#fdca26"
            ],
            [
             1,
             "#f0f921"
            ]
           ]
          },
          "colorway": [
           "#636efa",
           "#EF553B",
           "#00cc96",
           "#ab63fa",
           "#FFA15A",
           "#19d3f3",
           "#FF6692",
           "#B6E880",
           "#FF97FF",
           "#FECB52"
          ],
          "font": {
           "color": "#2a3f5f"
          },
          "geo": {
           "bgcolor": "white",
           "lakecolor": "white",
           "landcolor": "#E5ECF6",
           "showlakes": true,
           "showland": true,
           "subunitcolor": "white"
          },
          "hoverlabel": {
           "align": "left"
          },
          "hovermode": "closest",
          "mapbox": {
           "style": "light"
          },
          "paper_bgcolor": "white",
          "plot_bgcolor": "#E5ECF6",
          "polar": {
           "angularaxis": {
            "gridcolor": "white",
            "linecolor": "white",
            "ticks": ""
           },
           "bgcolor": "#E5ECF6",
           "radialaxis": {
            "gridcolor": "white",
            "linecolor": "white",
            "ticks": ""
           }
          },
          "scene": {
           "xaxis": {
            "backgroundcolor": "#E5ECF6",
            "gridcolor": "white",
            "gridwidth": 2,
            "linecolor": "white",
            "showbackground": true,
            "ticks": "",
            "zerolinecolor": "white"
           },
           "yaxis": {
            "backgroundcolor": "#E5ECF6",
            "gridcolor": "white",
            "gridwidth": 2,
            "linecolor": "white",
            "showbackground": true,
            "ticks": "",
            "zerolinecolor": "white"
           },
           "zaxis": {
            "backgroundcolor": "#E5ECF6",
            "gridcolor": "white",
            "gridwidth": 2,
            "linecolor": "white",
            "showbackground": true,
            "ticks": "",
            "zerolinecolor": "white"
           }
          },
          "shapedefaults": {
           "line": {
            "color": "#2a3f5f"
           }
          },
          "ternary": {
           "aaxis": {
            "gridcolor": "white",
            "linecolor": "white",
            "ticks": ""
           },
           "baxis": {
            "gridcolor": "white",
            "linecolor": "white",
            "ticks": ""
           },
           "bgcolor": "#E5ECF6",
           "caxis": {
            "gridcolor": "white",
            "linecolor": "white",
            "ticks": ""
           }
          },
          "title": {
           "x": 0.05
          },
          "xaxis": {
           "automargin": true,
           "gridcolor": "white",
           "linecolor": "white",
           "ticks": "",
           "title": {
            "standoff": 15
           },
           "zerolinecolor": "white",
           "zerolinewidth": 2
          },
          "yaxis": {
           "automargin": true,
           "gridcolor": "white",
           "linecolor": "white",
           "ticks": "",
           "title": {
            "standoff": 15
           },
           "zerolinecolor": "white",
           "zerolinewidth": 2
          }
         }
        },
        "title": {
         "text": "Usage Data Overview"
        },
        "xaxis": {
         "anchor": "y",
         "domain": [
          0,
          1
         ],
         "title": {
          "text": "date"
         }
        },
        "yaxis": {
         "anchor": "x",
         "domain": [
          0,
          1
         ],
         "title": {
          "text": "Usage_kWh"
         }
        }
       }
      }
     },
     "metadata": {},
     "output_type": "display_data"
    }
   ],
   "source": [
    "px.line(df_num_daily['Usage_kWh'], labels={'index':'Date', 'value':'Usage_kWh'}, title='Usage Data Overview')"
   ]
  },
  {
   "cell_type": "code",
   "execution_count": 12,
   "metadata": {},
   "outputs": [],
   "source": [
    "# generate summary statistics for df_num_daily with values rounded off to 2 decimal places\n",
    "\n"
   ]
  },
  {
   "cell_type": "code",
   "execution_count": 13,
   "metadata": {},
   "outputs": [],
   "source": [
    "# generate correlation matrix for df"
   ]
  },
  {
   "cell_type": "code",
   "execution_count": 14,
   "metadata": {},
   "outputs": [
    {
     "name": "stdout",
     "output_type": "stream",
     "text": [
      "Statistics=0.945, p=0.000\n",
      "Sample does not look Gaussian (reject H0)\n"
     ]
    }
   ],
   "source": [
    "# normality test\n",
    "# Shapiro-Wilk test\n",
    "stat, p = stats.shapiro(dist)\n",
    "\n",
    "print('Statistics=%.3f, p=%.3f' % (stat, p))\n",
    "\n",
    "# interpret\n",
    "alpha = 0.05\n",
    "if p > alpha:\n",
    "    print('Sample looks Gaussian (fail to reject H0)')\n",
    "else:\n",
    "    print('Sample does not look Gaussian (reject H0)')"
   ]
  },
  {
   "cell_type": "code",
   "execution_count": 15,
   "metadata": {},
   "outputs": [
    {
     "data": {
      "image/png": "[encoded data removed]",
      "text/plain": [
       "<Figure size 640x480 with 1 Axes>"
      ]
     },
     "metadata": {},
     "output_type": "display_data"
    },
    {
     "data": {
      "image/png": "[encoded data removed]",
      "text/plain": [
       "<Figure size 640x480 with 1 Axes>"
      ]
     },
     "metadata": {},
     "output_type": "display_data"
    },
    {
     "data": {
      "image/png": "[encoded data removed]",
      "text/plain": [
       "<Figure size 640x480 with 1 Axes>"
      ]
     },
     "metadata": {},
     "output_type": "display_data"
    },
    {
     "data": {
      "image/png": "[encoded data removed]",
      "text/plain": [
       "<Figure size 640x480 with 1 Axes>"
      ]
     },
     "metadata": {},
     "output_type": "display_data"
    },
    {
     "data": {
      "image/png": "[encoded data removed]",
      "text/plain": [
       "<Figure size 640x480 with 1 Axes>"
      ]
     },
     "metadata": {},
     "output_type": "display_data"
    },
    {
     "data": {
      "image/png": "[encoded data removed]",
      "text/plain": [
       "<Figure size 640x480 with 1 Axes>"
      ]
     },
     "metadata": {},
     "output_type": "display_data"
    }
   ],
   "source": [
    "# check normality of df_num by qq plot\n",
    "\n",
    "\n",
    "for col in df_num_daily.columns:\n",
    "    sm.qqplot(df_num_daily[col], line ='45', fit = True)\n",
    "    plt.title(col)\n",
    "    plt.show()"
   ]
  },
  {
   "cell_type": "code",
   "execution_count": 16,
   "metadata": {},
   "outputs": [
    {
     "data": {
      "application/vnd.plotly.v1+json": {
       "config": {
        "plotlyServerURL": "https://plot.ly"
       },
       "data": [
        {
         "hovertemplate": "variable=Usage_kWh<br>date=%{x}<br>Average value=%{y}<extra></extra>",
         "legendgroup": "Usage_kWh",
         "line": {
          "color": "#636efa",
          "dash": "solid"
         },
         "marker": {
          "symbol": "circle"
         },
         "mode": "lines",
         "name": "Usage_kWh",
         "orientation": "v",
         "showlegend": true,
         "type": "scatter",
         "x": [
          1,
          2,
          3,
          4,
          5,
          6,
          7,
          8,
          9,
          10,
          11,
          12
         ],
         "xaxis": "x",
         "y": [
          0.4494593101888871,
          0.19890626280101661,
          -0.012789869845066727,
          -0.0010844096674067734,
          -0.02455641684121531,
          -0.1398425686188013,
          0.001718249545981692,
          -0.13005023774710164,
          -0.21793210930698162,
          0.03177175858149396,
          0.07623934880759729,
          -0.2217070904913869
         ],
         "yaxis": "y"
        },
        {
         "hovertemplate": "variable=Lagging_Current_Reactive_Power_kVarh<br>date=%{x}<br>Average value=%{y}<extra></extra>",
         "legendgroup": "Lagging_Current_Reactive_Power_kVarh",
         "line": {
          "color": "#EF553B",
          "dash": "solid"
         },
         "marker": {
          "symbol": "circle"
         },
         "mode": "lines",
         "name": "Lagging_Current_Reactive_Power_kVarh",
         "orientation": "v",
         "showlegend": true,
         "type": "scatter",
         "x": [
          1,
          2,
          3,
          4,
          5,
          6,
          7,
          8,
          9,
          10,
          11,
          12
         ],
         "xaxis": "x",
         "y": [
          0.32287179537804167,
          0.019488448501269923,
          -0.13961031006620336,
          -0.05969970712387765,
          -0.007469121302123012,
          -0.09897525504430911,
          0.01818997216715506,
          -0.012150465930011936,
          -0.0925273898988134,
          0.22261061092651585,
          0.11325937775218387,
          -0.288551749837603
         ],
         "yaxis": "y"
        },
        {
         "hovertemplate": "variable=Leading_Current_Reactive_Power_kVarh<br>date=%{x}<br>Average value=%{y}<extra></extra>",
         "legendgroup": "Leading_Current_Reactive_Power_kVarh",
         "line": {
          "color": "#00cc96",
          "dash": "solid"
         },
         "marker": {
          "symbol": "circle"
         },
         "mode": "lines",
         "name": "Leading_Current_Reactive_Power_kVarh",
         "orientation": "v",
         "showlegend": true,
         "type": "scatter",
         "x": [
          1,
          2,
          3,
          4,
          5,
          6,
          7,
          8,
          9,
          10,
          11,
          12
         ],
         "xaxis": "x",
         "y": [
          0.007054331645652293,
          0.06607170402629287,
          0.056210254348845676,
          0.04408745606296395,
          0.056327474372417204,
          0.05798062368811447,
          -0.07476977067690929,
          -0.018563900841771248,
          -0.07159992701503912,
          -0.1850878430535874,
          -0.13049448022481563,
          0.19595145781590415
         ],
         "yaxis": "y"
        },
        {
         "hovertemplate": "variable=CO2<br>date=%{x}<br>Average value=%{y}<extra></extra>",
         "legendgroup": "CO2",
         "line": {
          "color": "#ab63fa",
          "dash": "solid"
         },
         "marker": {
          "symbol": "circle"
         },
         "mode": "lines",
         "name": "CO2",
         "orientation": "v",
         "showlegend": true,
         "type": "scatter",
         "x": [
          1,
          2,
          3,
          4,
          5,
          6,
          7,
          8,
          9,
          10,
          11,
          12
         ],
         "xaxis": "x",
         "y": [
          0.40973414697787125,
          0.1903281692695219,
          -0.013652218838362368,
          0.0034427425332513237,
          -0.016356898325149114,
          -0.130924347355193,
          0.015058994175220058,
          -0.12183939830983238,
          -0.19929032269043345,
          0.03149512336415493,
          0.07159373052467029,
          -0.2294024209766593
         ],
         "yaxis": "y"
        },
        {
         "hovertemplate": "variable=Lagging_Current_Power_Factor<br>date=%{x}<br>Average value=%{y}<extra></extra>",
         "legendgroup": "Lagging_Current_Power_Factor",
         "line": {
          "color": "#FFA15A",
          "dash": "solid"
         },
         "marker": {
          "symbol": "circle"
         },
         "mode": "lines",
         "name": "Lagging_Current_Power_Factor",
         "orientation": "v",
         "showlegend": true,
         "type": "scatter",
         "x": [
          1,
          2,
          3,
          4,
          5,
          6,
          7,
          8,
          9,
          10,
          11,
          12
         ],
         "xaxis": "x",
         "y": [
          0.30559241652883107,
          0.31483686531653404,
          0.14630555654659022,
          0.04994563884925652,
          -0.07641957717336849,
          -0.17291966571629083,
          -0.005981640596581896,
          -0.27482942898891366,
          -0.3359792045615761,
          -0.3627174193581584,
          -0.005848632499553661,
          0.43348956687972345
         ],
         "yaxis": "y"
        },
        {
         "hovertemplate": "variable=Leading_Current_Power_Factor<br>date=%{x}<br>Average value=%{y}<extra></extra>",
         "legendgroup": "Leading_Current_Power_Factor",
         "line": {
          "color": "#19d3f3",
          "dash": "solid"
         },
         "marker": {
          "symbol": "circle"
         },
         "mode": "lines",
         "name": "Leading_Current_Power_Factor",
         "orientation": "v",
         "showlegend": true,
         "type": "scatter",
         "x": [
          1,
          2,
          3,
          4,
          5,
          6,
          7,
          8,
          9,
          10,
          11,
          12
         ],
         "xaxis": "x",
         "y": [
          0.11791944660849432,
          -0.008151915111799257,
          0.0606443208368143,
          0.03340615363098422,
          -0.02488972139868672,
          -0.06068581260713316,
          0.015161625956014137,
          -0.08611371451794939,
          -0.08961273697099664,
          0.11566830978015065,
          0.11186826415711969,
          -0.1861651841412554
         ],
         "yaxis": "y"
        }
       ],
       "layout": {
        "legend": {
         "title": {
          "text": "variable"
         },
         "tracegroupgap": 0
        },
        "template": {
         "data": {
          "bar": [
           {
            "error_x": {
             "color": "#2a3f5f"
            },
            "error_y": {
             "color": "#2a3f5f"
            },
            "marker": {
             "line": {
              "color": "#E5ECF6",
              "width": 0.5
             },
             "pattern": {
              "fillmode": "overlay",
              "size": 10,
              "solidity": 0.2
             }
            },
            "type": "bar"
           }
          ],
          "barpolar": [
           {
            "marker": {
             "line": {
              "color": "#E5ECF6",
              "width": 0.5
             },
             "pattern": {
              "fillmode": "overlay",
              "size": 10,
              "solidity": 0.2
             }
            },
            "type": "barpolar"
           }
          ],
          "carpet": [
           {
            "aaxis": {
             "endlinecolor": "#2a3f5f",
             "gridcolor": "white",
             "linecolor": "white",
             "minorgridcolor": "white",
             "startlinecolor": "#2a3f5f"
            },
            "baxis": {
             "endlinecolor": "#2a3f5f",
             "gridcolor": "white",
             "linecolor": "white",
             "minorgridcolor": "white",
             "startlinecolor": "#2a3f5f"
            },
            "type": "carpet"
           }
          ],
          "choropleth": [
           {
            "colorbar": {
             "outlinewidth": 0,
             "ticks": ""
            },
            "type": "choropleth"
           }
          ],
          "contour": [
           {
            "colorbar": {
             "outlinewidth": 0,
             "ticks": ""
            },
            "colorscale": [
             [
              0,
              "#0d0887"
             ],
             [
              0.1111111111111111,
              "#46039f"
             ],
             [
              0.2222222222222222,
              "#7201a8"
             ],
             [
              0.3333333333333333,
              "#9c179e"
             ],
             [
              0.4444444444444444,
              "#bd3786"
             ],
             [
              0.5555555555555556,
              "#d8576b"
             ],
             [
              0.6666666666666666,
              "#ed7953"
             ],
             [
              0.7777777777777778,
              "#fb9f3a"
             ],
             [
              0.8888888888888888,
              "#fdca26"
             ],
             [
              1,
              "#f0f921"
             ]
            ],
            "type": "contour"
           }
          ],
          "contourcarpet": [
           {
            "colorbar": {
             "outlinewidth": 0,
             "ticks": ""
            },
            "type": "contourcarpet"
           }
          ],
          "heatmap": [
           {
            "colorbar": {
             "outlinewidth": 0,
             "ticks": ""
            },
            "colorscale": [
             [
              0,
              "#0d0887"
             ],
             [
              0.1111111111111111,
              "#46039f"
             ],
             [
              0.2222222222222222,
              "#7201a8"
             ],
             [
              0.3333333333333333,
              "#9c179e"
             ],
             [
              0.4444444444444444,
              "#bd3786"
             ],
             [
              0.5555555555555556,
              "#d8576b"
             ],
             [
              0.6666666666666666,
              "#ed7953"
             ],
             [
              0.7777777777777778,
              "#fb9f3a"
             ],
             [
              0.8888888888888888,
              "#fdca26"
             ],
             [
              1,
              "#f0f921"
             ]
            ],
            "type": "heatmap"
           }
          ],
          "heatmapgl": [
           {
            "colorbar": {
             "outlinewidth": 0,
             "ticks": ""
            },
            "colorscale": [
             [
              0,
              "#0d0887"
             ],
             [
              0.1111111111111111,
              "#46039f"
             ],
             [
              0.2222222222222222,
              "#7201a8"
             ],
             [
              0.3333333333333333,
              "#9c179e"
             ],
             [
              0.4444444444444444,
              "#bd3786"
             ],
             [
              0.5555555555555556,
              "#d8576b"
             ],
             [
              0.6666666666666666,
              "#ed7953"
             ],
             [
              0.7777777777777778,
              "#fb9f3a"
             ],
             [
              0.8888888888888888,
              "#fdca26"
             ],
             [
              1,
              "#f0f921"
             ]
            ],
            "type": "heatmapgl"
           }
          ],
          "histogram": [
           {
            "marker": {
             "pattern": {
              "fillmode": "overlay",
              "size": 10,
              "solidity": 0.2
             }
            },
            "type": "histogram"
           }
          ],
          "histogram2d": [
           {
            "colorbar": {
             "outlinewidth": 0,
             "ticks": ""
            },
            "colorscale": [
             [
              0,
              "#0d0887"
             ],
             [
              0.1111111111111111,
              "#46039f"
             ],
             [
              0.2222222222222222,
              "#7201a8"
             ],
             [
              0.3333333333333333,
              "#9c179e"
             ],
             [
              0.4444444444444444,
              "#bd3786"
             ],
             [
              0.5555555555555556,
              "#d8576b"
             ],
             [
              0.6666666666666666,
              "#ed7953"
             ],
             [
              0.7777777777777778,
              "#fb9f3a"
             ],
             [
              0.8888888888888888,
              "#fdca26"
             ],
             [
              1,
              "#f0f921"
             ]
            ],
            "type": "histogram2d"
           }
          ],
          "histogram2dcontour": [
           {
            "colorbar": {
             "outlinewidth": 0,
             "ticks": ""
            },
            "colorscale": [
             [
              0,
              "#0d0887"
             ],
             [
              0.1111111111111111,
              "#46039f"
             ],
             [
              0.2222222222222222,
              "#7201a8"
             ],
             [
              0.3333333333333333,
              "#9c179e"
             ],
             [
              0.4444444444444444,
              "#bd3786"
             ],
             [
              0.5555555555555556,
              "#d8576b"
             ],
             [
              0.6666666666666666,
              "#ed7953"
             ],
             [
              0.7777777777777778,
              "#fb9f3a"
             ],
             [
              0.8888888888888888,
              "#fdca26"
             ],
             [
              1,
              "#f0f921"
             ]
            ],
            "type": "histogram2dcontour"
           }
          ],
          "mesh3d": [
           {
            "colorbar": {
             "outlinewidth": 0,
             "ticks": ""
            },
            "type": "mesh3d"
           }
          ],
          "parcoords": [
           {
            "line": {
             "colorbar": {
              "outlinewidth": 0,
              "ticks": ""
             }
            },
            "type": "parcoords"
           }
          ],
          "pie": [
           {
            "automargin": true,
            "type": "pie"
           }
          ],
          "scatter": [
           {
            "fillpattern": {
             "fillmode": "overlay",
             "size": 10,
             "solidity": 0.2
            },
            "type": "scatter"
           }
          ],
          "scatter3d": [
           {
            "line": {
             "colorbar": {
              "outlinewidth": 0,
              "ticks": ""
             }
            },
            "marker": {
             "colorbar": {
              "outlinewidth": 0,
              "ticks": ""
             }
            },
            "type": "scatter3d"
           }
          ],
          "scattercarpet": [
           {
            "marker": {
             "colorbar": {
              "outlinewidth": 0,
              "ticks": ""
             }
            },
            "type": "scattercarpet"
           }
          ],
          "scattergeo": [
           {
            "marker": {
             "colorbar": {
              "outlinewidth": 0,
              "ticks": ""
             }
            },
            "type": "scattergeo"
           }
          ],
          "scattergl": [
           {
            "marker": {
             "colorbar": {
              "outlinewidth": 0,
              "ticks": ""
             }
            },
            "type": "scattergl"
           }
          ],
          "scattermapbox": [
           {
            "marker": {
             "colorbar": {
              "outlinewidth": 0,
              "ticks": ""
             }
            },
            "type": "scattermapbox"
           }
          ],
          "scatterpolar": [
           {
            "marker": {
             "colorbar": {
              "outlinewidth": 0,
              "ticks": ""
             }
            },
            "type": "scatterpolar"
           }
          ],
          "scatterpolargl": [
           {
            "marker": {
             "colorbar": {
              "outlinewidth": 0,
              "ticks": ""
             }
            },
            "type": "scatterpolargl"
           }
          ],
          "scatterternary": [
           {
            "marker": {
             "colorbar": {
              "outlinewidth": 0,
              "ticks": ""
             }
            },
            "type": "scatterternary"
           }
          ],
          "surface": [
           {
            "colorbar": {
             "outlinewidth": 0,
             "ticks": ""
            },
            "colorscale": [
             [
              0,
              "#0d0887"
             ],
             [
              0.1111111111111111,
              "#46039f"
             ],
             [
              0.2222222222222222,
              "#7201a8"
             ],
             [
              0.3333333333333333,
              "#9c179e"
             ],
             [
              0.4444444444444444,
              "#bd3786"
             ],
             [
              0.5555555555555556,
              "#d8576b"
             ],
             [
              0.6666666666666666,
              "#ed7953"
             ],
             [
              0.7777777777777778,
              "#fb9f3a"
             ],
             [
              0.8888888888888888,
              "#fdca26"
             ],
             [
              1,
              "#f0f921"
             ]
            ],
            "type": "surface"
           }
          ],
          "table": [
           {
            "cells": {
             "fill": {
              "color": "#EBF0F8"
             },
             "line": {
              "color": "white"
             }
            },
            "header": {
             "fill": {
              "color": "#C8D4E3"
             },
             "line": {
              "color": "white"
             }
            },
            "type": "table"
           }
          ]
         },
         "layout": {
          "annotationdefaults": {
           "arrowcolor": "#2a3f5f",
           "arrowhead": 0,
           "arrowwidth": 1
          },
          "autotypenumbers": "strict",
          "coloraxis": {
           "colorbar": {
            "outlinewidth": 0,
            "ticks": ""
           }
          },
          "colorscale": {
           "diverging": [
            [
             0,
             "#8e0152"
            ],
            [
             0.1,
             "#c51b7d"
            ],
            [
             0.2,
             "#de77ae"
            ],
            [
             0.3,
             "#f1b6da"
            ],
            [
             0.4,
             "#fde0ef"
            ],
            [
             0.5,
             "#f7f7f7"
            ],
            [
             0.6,
             "#e6f5d0"
            ],
            [
             0.7,
             "#b8e186"
            ],
            [
             0.8,
             "#7fbc41"
            ],
            [
             0.9,
             "#4d9221"
            ],
            [
             1,
             "#276419"
            ]
           ],
           "sequential": [
            [
             0,
             "#0d0887"
            ],
            [
             0.1111111111111111,
             "#46039f"
            ],
            [
             0.2222222222222222,
             "#7201a8"
            ],
            [
             0.3333333333333333,
             "#9c179e"
            ],
            [
             0.4444444444444444,
             "#bd3786"
            ],
            [
             0.5555555555555556,
             "#d8576b"
            ],
            [
             0.6666666666666666,
             "#ed7953"
            ],
            [
             0.7777777777777778,
             "#fb9f3a"
            ],
            [
             0.8888888888888888,
             "#fdca26"
            ],
            [
             1,
             "#f0f921"
            ]
           ],
           "sequentialminus": [
            [
             0,
             "#0d0887"
            ],
            [
             0.1111111111111111,
             "#46039f"
            ],
            [
             0.2222222222222222,
             "#7201a8"
            ],
            [
             0.3333333333333333,
             "#9c179e"
            ],
            [
             0.4444444444444444,
             "#bd3786"
            ],
            [
             0.5555555555555556,
             "#d8576b"
            ],
            [
             0.6666666666666666,
             "#ed7953"
            ],
            [
             0.7777777777777778,
             "#fb9f3a"
            ],
            [
             0.8888888888888888,
             "#fdca26"
            ],
            [
             1,
             "#f0f921"
            ]
           ]
          },
          "colorway": [
           "#636efa",
           "#EF553B",
           "#00cc96",
           "#ab63fa",
           "#FFA15A",
           "#19d3f3",
           "#FF6692",
           "#B6E880",
           "#FF97FF",
           "#FECB52"
          ],
          "font": {
           "color": "#2a3f5f"
          },
          "geo": {
           "bgcolor": "white",
           "lakecolor": "white",
           "landcolor": "#E5ECF6",
           "showlakes": true,
           "showland": true,
           "subunitcolor": "white"
          },
          "hoverlabel": {
           "align": "left"
          },
          "hovermode": "closest",
          "mapbox": {
           "style": "light"
          },
          "paper_bgcolor": "white",
          "plot_bgcolor": "#E5ECF6",
          "polar": {
           "angularaxis": {
            "gridcolor": "white",
            "linecolor": "white",
            "ticks": ""
           },
           "bgcolor": "#E5ECF6",
           "radialaxis": {
            "gridcolor": "white",
            "linecolor": "white",
            "ticks": ""
           }
          },
          "scene": {
           "xaxis": {
            "backgroundcolor": "#E5ECF6",
            "gridcolor": "white",
            "gridwidth": 2,
            "linecolor": "white",
            "showbackground": true,
            "ticks": "",
            "zerolinecolor": "white"
           },
           "yaxis": {
            "backgroundcolor": "#E5ECF6",
            "gridcolor": "white",
            "gridwidth": 2,
            "linecolor": "white",
            "showbackground": true,
            "ticks": "",
            "zerolinecolor": "white"
           },
           "zaxis": {
            "backgroundcolor": "#E5ECF6",
            "gridcolor": "white",
            "gridwidth": 2,
            "linecolor": "white",
            "showbackground": true,
            "ticks": "",
            "zerolinecolor": "white"
           }
          },
          "shapedefaults": {
           "line": {
            "color": "#2a3f5f"
           }
          },
          "ternary": {
           "aaxis": {
            "gridcolor": "white",
            "linecolor": "white",
            "ticks": ""
           },
           "baxis": {
            "gridcolor": "white",
            "linecolor": "white",
            "ticks": ""
           },
           "bgcolor": "#E5ECF6",
           "caxis": {
            "gridcolor": "white",
            "linecolor": "white",
            "ticks": ""
           }
          },
          "title": {
           "x": 0.05
          },
          "xaxis": {
           "automargin": true,
           "gridcolor": "white",
           "linecolor": "white",
           "ticks": "",
           "title": {
            "standoff": 15
           },
           "zerolinecolor": "white",
           "zerolinewidth": 2
          },
          "yaxis": {
           "automargin": true,
           "gridcolor": "white",
           "linecolor": "white",
           "ticks": "",
           "title": {
            "standoff": 15
           },
           "zerolinecolor": "white",
           "zerolinewidth": 2
          }
         }
        },
        "title": {
         "text": "Monthly average values of df_num"
        },
        "xaxis": {
         "anchor": "y",
         "domain": [
          0,
          1
         ],
         "title": {
          "text": "date"
         }
        },
        "yaxis": {
         "anchor": "x",
         "domain": [
          0,
          1
         ],
         "title": {
          "text": "Average value"
         }
        }
       }
      }
     },
     "metadata": {},
     "output_type": "display_data"
    }
   ],
   "source": [
    "# plotly monthly average values against month of df_num\n",
    "import plotly.express as px\n",
    "\n",
    "df_temp = df_num.copy()\n",
    "\n",
    "df_temp = df_temp.groupby(df_temp.index.month).mean()\n",
    "\n",
    "px.line(df_temp, labels={'value':'Average value', 'index':'Month'}, title='Monthly average values of df_num')"
   ]
  },
  {
   "cell_type": "code",
   "execution_count": 17,
   "metadata": {},
   "outputs": [
    {
     "name": "stdout",
     "output_type": "stream",
     "text": [
      "                            OLS Regression Results                            \n",
      "==============================================================================\n",
      "Dep. Variable:              Usage_kWh   R-squared:                       0.980\n",
      "Model:                            OLS   Adj. R-squared:                  0.980\n",
      "Method:                 Least Squares   F-statistic:                 3.462e+05\n",
      "Date:                Mon, 04 Nov 2024   Prob (F-statistic):               0.00\n",
      "Time:                        01:09:00   Log-Likelihood:                 18963.\n",
      "No. Observations:               35040   AIC:                        -3.791e+04\n",
      "Df Residuals:                   35034   BIC:                        -3.786e+04\n",
      "Df Model:                           5                                         \n",
      "Covariance Type:            nonrobust                                         \n",
      "========================================================================================================\n",
      "                                           coef    std err          t      P>|t|      [0.025      0.975]\n",
      "--------------------------------------------------------------------------------------------------------\n",
      "const                                 6.505e-18      0.001   8.65e-15      1.000      -0.001       0.001\n",
      "Lagging_Current_Reactive_Power_kVarh     0.1468      0.002     77.645      0.000       0.143       0.150\n",
      "Leading_Current_Reactive_Power_kVarh     0.0311      0.002     13.383      0.000       0.027       0.036\n",
      "CO2                                      0.8159      0.002    350.455      0.000       0.811       0.820\n",
      "Lagging_Current_Power_Factor             0.0739      0.001     52.056      0.000       0.071       0.077\n",
      "Leading_Current_Power_Factor             0.0678      0.002     27.686      0.000       0.063       0.073\n",
      "==============================================================================\n",
      "Omnibus:                    42318.843   Durbin-Watson:                   1.010\n",
      "Prob(Omnibus):                  0.000   Jarque-Bera (JB):         23607129.418\n",
      "Skew:                           5.935   Prob(JB):                         0.00\n",
      "Kurtosis:                     129.603   Cond. No.                         7.64\n",
      "==============================================================================\n",
      "\n",
      "Notes:\n",
      "[1] Standard Errors assume that the covariance matrix of the errors is correctly specified.\n"
     ]
    }
   ],
   "source": [
    "import statsmodels.api as sm\n",
    "import statsmodels.stats.api as sms\n",
    "\n",
    "# Assuming df_num is your DataFrame and it has been defined earlier\n",
    "X = df_num.drop('Usage_kWh', axis=1)\n",
    "y = df_num['Usage_kWh']\n",
    "\n",
    "X = sm.add_constant(X)\n",
    "model = sm.OLS(y, X)\n",
    "results = model.fit()\n",
    "\n",
    "# Print the summary of the model\n",
    "print(results.summary())"
   ]
  },
  {
   "cell_type": "code",
   "execution_count": 18,
   "metadata": {},
   "outputs": [
    {
     "data": {
      "text/plain": [
       "Index(['Usage_kWh', 'Lagging_Current_Reactive_Power_kVarh',\n",
       "       'Leading_Current_Reactive_Power_kVarh', 'CO2',\n",
       "       'Lagging_Current_Power_Factor', 'Leading_Current_Power_Factor'],\n",
       "      dtype='object')"
      ]
     },
     "execution_count": 18,
     "metadata": {},
     "output_type": "execute_result"
    }
   ],
   "source": [
    "df_num.columns"
   ]
  },
  {
   "cell_type": "code",
   "execution_count": 19,
   "metadata": {},
   "outputs": [
    {
     "name": "stdout",
     "output_type": "stream",
     "text": [
      "                            OLS Regression Results                            \n",
      "==============================================================================\n",
      "Dep. Variable:              Usage_kWh   R-squared:                       0.980\n",
      "Model:                            OLS   Adj. R-squared:                  0.980\n",
      "Method:                 Least Squares   F-statistic:                 3.462e+05\n",
      "Date:                Mon, 04 Nov 2024   Prob (F-statistic):               0.00\n",
      "Time:                        01:09:00   Log-Likelihood:                 18963.\n",
      "No. Observations:               35040   AIC:                        -3.791e+04\n",
      "Df Residuals:                   35034   BIC:                        -3.786e+04\n",
      "Df Model:                           5                                         \n",
      "Covariance Type:            nonrobust                                         \n",
      "========================================================================================================\n",
      "                                           coef    std err          t      P>|t|      [0.025      0.975]\n",
      "--------------------------------------------------------------------------------------------------------\n",
      "Intercept                             6.505e-18      0.001   8.65e-15      1.000      -0.001       0.001\n",
      "CO2                                      0.8159      0.002    350.455      0.000       0.811       0.820\n",
      "Lagging_Current_Power_Factor             0.0739      0.001     52.056      0.000       0.071       0.077\n",
      "Lagging_Current_Reactive_Power_kVarh     0.1468      0.002     77.645      0.000       0.143       0.150\n",
      "Leading_Current_Power_Factor             0.0678      0.002     27.686      0.000       0.063       0.073\n",
      "Leading_Current_Reactive_Power_kVarh     0.0311      0.002     13.383      0.000       0.027       0.036\n",
      "==============================================================================\n",
      "Omnibus:                    42318.843   Durbin-Watson:                   1.010\n",
      "Prob(Omnibus):                  0.000   Jarque-Bera (JB):         23607129.418\n",
      "Skew:                           5.935   Prob(JB):                         0.00\n",
      "Kurtosis:                     129.603   Cond. No.                         7.64\n",
      "==============================================================================\n",
      "\n",
      "Notes:\n",
      "[1] Standard Errors assume that the covariance matrix of the errors is correctly specified.\n",
      "                                           sum_sq       df              F  \\\n",
      "CO2                                   2436.738369      1.0  122818.919733   \n",
      "Lagging_Current_Power_Factor            53.764086      1.0    2709.871143   \n",
      "Lagging_Current_Reactive_Power_kVarh   119.612046      1.0    6028.805763   \n",
      "Leading_Current_Power_Factor            15.208183      1.0     766.538035   \n",
      "Leading_Current_Reactive_Power_kVarh     3.553381      1.0     179.101072   \n",
      "Residual                               695.077698  35034.0            NaN   \n",
      "\n",
      "                                             PR(>F)  \n",
      "CO2                                    0.000000e+00  \n",
      "Lagging_Current_Power_Factor           0.000000e+00  \n",
      "Lagging_Current_Reactive_Power_kVarh   0.000000e+00  \n",
      "Leading_Current_Power_Factor          6.412383e-167  \n",
      "Leading_Current_Reactive_Power_kVarh   9.591189e-41  \n",
      "Residual                                        NaN  \n"
     ]
    }
   ],
   "source": [
    "\n",
    "import statsmodels.api as sm\n",
    "import statsmodels.formula.api as smf\n",
    "import statsmodels.stats.api as sms\n",
    "\n",
    "# Assuming df_num is your DataFrame and it has been defined earlier\n",
    "# Define the formula for the linear regression model\n",
    "formula = 'Usage_kWh ~ ' + ' + '.join(df_num.columns.difference(['Usage_kWh']))\n",
    "\n",
    "# Fit the model using the formula API\n",
    "model = smf.ols(formula, data=df_num).fit()\n",
    "\n",
    "# Print the summary of the model\n",
    "print(model.summary())\n",
    "\n",
    "# Get the ANOVA table\n",
    "anova_table = sms.anova_lm(model, typ=2)\n",
    "print(anova_table)"
   ]
  },
  {
   "cell_type": "markdown",
   "metadata": {},
   "source": [
    "## Divide the data into 2 populations"
   ]
  },
  {
   "cell_type": "code",
   "execution_count": 20,
   "metadata": {},
   "outputs": [
    {
     "data": {
      "text/html": [
       "<div>\n",
       "<style scoped>\n",
       "    .dataframe tbody tr th:only-of-type {\n",
       "        vertical-align: middle;\n",
       "    }\n",
       "\n",
       "    .dataframe tbody tr th {\n",
       "        vertical-align: top;\n",
       "    }\n",
       "\n",
       "    .dataframe thead th {\n",
       "        text-align: right;\n",
       "    }\n",
       "</style>\n",
       "<table border=\"1\" class=\"dataframe\">\n",
       "  <thead>\n",
       "    <tr style=\"text-align: right;\">\n",
       "      <th></th>\n",
       "      <th>Usage_kWh</th>\n",
       "      <th>Lagging_Current_Reactive_Power_kVarh</th>\n",
       "      <th>Leading_Current_Reactive_Power_kVarh</th>\n",
       "      <th>CO2</th>\n",
       "      <th>Lagging_Current_Power_Factor</th>\n",
       "      <th>Leading_Current_Power_Factor</th>\n",
       "    </tr>\n",
       "  </thead>\n",
       "  <tbody>\n",
       "    <tr>\n",
       "      <th>count</th>\n",
       "      <td>183.000000</td>\n",
       "      <td>183.000000</td>\n",
       "      <td>183.000000</td>\n",
       "      <td>183.000000</td>\n",
       "      <td>183.000000</td>\n",
       "      <td>183.000000</td>\n",
       "    </tr>\n",
       "    <tr>\n",
       "      <th>mean</th>\n",
       "      <td>-0.183785</td>\n",
       "      <td>-0.090859</td>\n",
       "      <td>-0.003359</td>\n",
       "      <td>-0.163133</td>\n",
       "      <td>-0.464142</td>\n",
       "      <td>-0.077183</td>\n",
       "    </tr>\n",
       "    <tr>\n",
       "      <th>std</th>\n",
       "      <td>0.838793</td>\n",
       "      <td>0.896120</td>\n",
       "      <td>0.893887</td>\n",
       "      <td>0.830893</td>\n",
       "      <td>0.640307</td>\n",
       "      <td>0.969523</td>\n",
       "    </tr>\n",
       "    <tr>\n",
       "      <th>min</th>\n",
       "      <td>-1.600949</td>\n",
       "      <td>-1.586389</td>\n",
       "      <td>-1.031338</td>\n",
       "      <td>-1.563939</td>\n",
       "      <td>-1.877203</td>\n",
       "      <td>-2.342087</td>\n",
       "    </tr>\n",
       "    <tr>\n",
       "      <th>25%</th>\n",
       "      <td>-0.836565</td>\n",
       "      <td>-0.941513</td>\n",
       "      <td>-0.645017</td>\n",
       "      <td>-0.765238</td>\n",
       "      <td>-0.937306</td>\n",
       "      <td>-0.408405</td>\n",
       "    </tr>\n",
       "    <tr>\n",
       "      <th>50%</th>\n",
       "      <td>-0.023174</td>\n",
       "      <td>0.133402</td>\n",
       "      <td>-0.458950</td>\n",
       "      <td>0.005190</td>\n",
       "      <td>-0.481827</td>\n",
       "      <td>0.541989</td>\n",
       "    </tr>\n",
       "    <tr>\n",
       "      <th>75%</th>\n",
       "      <td>0.388801</td>\n",
       "      <td>0.611132</td>\n",
       "      <td>0.546529</td>\n",
       "      <td>0.393938</td>\n",
       "      <td>0.019908</td>\n",
       "      <td>0.626587</td>\n",
       "    </tr>\n",
       "    <tr>\n",
       "      <th>max</th>\n",
       "      <td>1.513004</td>\n",
       "      <td>1.514360</td>\n",
       "      <td>2.161976</td>\n",
       "      <td>1.461228</td>\n",
       "      <td>1.192820</td>\n",
       "      <td>0.903602</td>\n",
       "    </tr>\n",
       "  </tbody>\n",
       "</table>\n",
       "</div>"
      ],
      "text/plain": [
       "        Usage_kWh  Lagging_Current_Reactive_Power_kVarh  \\\n",
       "count  183.000000                            183.000000   \n",
       "mean    -0.183785                             -0.090859   \n",
       "std      0.838793                              0.896120   \n",
       "min     -1.600949                             -1.586389   \n",
       "25%     -0.836565                             -0.941513   \n",
       "50%     -0.023174                              0.133402   \n",
       "75%      0.388801                              0.611132   \n",
       "max      1.513004                              1.514360   \n",
       "\n",
       "       Leading_Current_Reactive_Power_kVarh         CO2  \\\n",
       "count                            183.000000  183.000000   \n",
       "mean                              -0.003359   -0.163133   \n",
       "std                                0.893887    0.830893   \n",
       "min                               -1.031338   -1.563939   \n",
       "25%                               -0.645017   -0.765238   \n",
       "50%                               -0.458950    0.005190   \n",
       "75%                                0.546529    0.393938   \n",
       "max                                2.161976    1.461228   \n",
       "\n",
       "       Lagging_Current_Power_Factor  Leading_Current_Power_Factor  \n",
       "count                    183.000000                    183.000000  \n",
       "mean                      -0.464142                     -0.077183  \n",
       "std                        0.640307                      0.969523  \n",
       "min                       -1.877203                     -2.342087  \n",
       "25%                       -0.937306                     -0.408405  \n",
       "50%                       -0.481827                      0.541989  \n",
       "75%                        0.019908                      0.626587  \n",
       "max                        1.192820                      0.903602  "
      ]
     },
     "metadata": {},
     "output_type": "display_data"
    },
    {
     "data": {
      "text/html": [
       "<div>\n",
       "<style scoped>\n",
       "    .dataframe tbody tr th:only-of-type {\n",
       "        vertical-align: middle;\n",
       "    }\n",
       "\n",
       "    .dataframe tbody tr th {\n",
       "        vertical-align: top;\n",
       "    }\n",
       "\n",
       "    .dataframe thead th {\n",
       "        text-align: right;\n",
       "    }\n",
       "</style>\n",
       "<table border=\"1\" class=\"dataframe\">\n",
       "  <thead>\n",
       "    <tr style=\"text-align: right;\">\n",
       "      <th></th>\n",
       "      <th>Usage_kWh</th>\n",
       "      <th>Lagging_Current_Reactive_Power_kVarh</th>\n",
       "      <th>Leading_Current_Reactive_Power_kVarh</th>\n",
       "      <th>CO2</th>\n",
       "      <th>Lagging_Current_Power_Factor</th>\n",
       "      <th>Leading_Current_Power_Factor</th>\n",
       "    </tr>\n",
       "  </thead>\n",
       "  <tbody>\n",
       "    <tr>\n",
       "      <th>count</th>\n",
       "      <td>182.000000</td>\n",
       "      <td>182.000000</td>\n",
       "      <td>182.000000</td>\n",
       "      <td>182.000000</td>\n",
       "      <td>182.000000</td>\n",
       "      <td>182.000000</td>\n",
       "    </tr>\n",
       "    <tr>\n",
       "      <th>mean</th>\n",
       "      <td>0.184795</td>\n",
       "      <td>0.091359</td>\n",
       "      <td>0.003377</td>\n",
       "      <td>0.164029</td>\n",
       "      <td>0.466692</td>\n",
       "      <td>0.077607</td>\n",
       "    </tr>\n",
       "    <tr>\n",
       "      <th>std</th>\n",
       "      <td>1.111351</td>\n",
       "      <td>1.089423</td>\n",
       "      <td>1.098899</td>\n",
       "      <td>1.123785</td>\n",
       "      <td>1.077951</td>\n",
       "      <td>1.026549</td>\n",
       "    </tr>\n",
       "    <tr>\n",
       "      <th>min</th>\n",
       "      <td>-1.597726</td>\n",
       "      <td>-1.593563</td>\n",
       "      <td>-1.362786</td>\n",
       "      <td>-1.563939</td>\n",
       "      <td>-2.024772</td>\n",
       "      <td>-2.092374</td>\n",
       "    </tr>\n",
       "    <tr>\n",
       "      <th>25%</th>\n",
       "      <td>-0.549557</td>\n",
       "      <td>-0.878443</td>\n",
       "      <td>-0.847933</td>\n",
       "      <td>-0.595603</td>\n",
       "      <td>-0.407238</td>\n",
       "      <td>-0.263459</td>\n",
       "    </tr>\n",
       "    <tr>\n",
       "      <th>50%</th>\n",
       "      <td>0.268535</td>\n",
       "      <td>0.209503</td>\n",
       "      <td>-0.509401</td>\n",
       "      <td>0.259643</td>\n",
       "      <td>0.824414</td>\n",
       "      <td>0.649504</td>\n",
       "    </tr>\n",
       "    <tr>\n",
       "      <th>75%</th>\n",
       "      <td>0.905112</td>\n",
       "      <td>0.878967</td>\n",
       "      <td>0.549812</td>\n",
       "      <td>0.892242</td>\n",
       "      <td>1.346563</td>\n",
       "      <td>0.759699</td>\n",
       "    </tr>\n",
       "    <tr>\n",
       "      <th>max</th>\n",
       "      <td>3.191990</td>\n",
       "      <td>3.137130</td>\n",
       "      <td>3.213357</td>\n",
       "      <td>3.270673</td>\n",
       "      <td>2.215414</td>\n",
       "      <td>1.119070</td>\n",
       "    </tr>\n",
       "  </tbody>\n",
       "</table>\n",
       "</div>"
      ],
      "text/plain": [
       "        Usage_kWh  Lagging_Current_Reactive_Power_kVarh  \\\n",
       "count  182.000000                            182.000000   \n",
       "mean     0.184795                              0.091359   \n",
       "std      1.111351                              1.089423   \n",
       "min     -1.597726                             -1.593563   \n",
       "25%     -0.549557                             -0.878443   \n",
       "50%      0.268535                              0.209503   \n",
       "75%      0.905112                              0.878967   \n",
       "max      3.191990                              3.137130   \n",
       "\n",
       "       Leading_Current_Reactive_Power_kVarh         CO2  \\\n",
       "count                            182.000000  182.000000   \n",
       "mean                               0.003377    0.164029   \n",
       "std                                1.098899    1.123785   \n",
       "min                               -1.362786   -1.563939   \n",
       "25%                               -0.847933   -0.595603   \n",
       "50%                               -0.509401    0.259643   \n",
       "75%                                0.549812    0.892242   \n",
       "max                                3.213357    3.270673   \n",
       "\n",
       "       Lagging_Current_Power_Factor  Leading_Current_Power_Factor  \n",
       "count                    182.000000                    182.000000  \n",
       "mean                       0.466692                      0.077607  \n",
       "std                        1.077951                      1.026549  \n",
       "min                       -2.024772                     -2.092374  \n",
       "25%                       -0.407238                     -0.263459  \n",
       "50%                        0.824414                      0.649504  \n",
       "75%                        1.346563                      0.759699  \n",
       "max                        2.215414                      1.119070  "
      ]
     },
     "metadata": {},
     "output_type": "display_data"
    }
   ],
   "source": [
    "# divide the data into winter and summer\n",
    "df_summer = df_num_daily[df_num_daily.index.quarter.isin([2,3])]\n",
    "df_winter = df_num_daily[df_num_daily.index.quarter.isin([1,4])]\n",
    "# randomly divide the data into winter and summer\n",
    "# df_summer = df_num_daily.sample(frac=0.5)\n",
    "# df_winter = df_num_daily.drop(df_summer.index)\n",
    "display(df_summer.describe())\n",
    "display(df_winter.describe())"
   ]
  },
  {
   "cell_type": "markdown",
   "metadata": {},
   "source": [
    "## Test for Equivalence of Mean"
   ]
  },
  {
   "cell_type": "code",
   "execution_count": 21,
   "metadata": {},
   "outputs": [
    {
     "name": "stdout",
     "output_type": "stream",
     "text": [
      "Hotelling T-squared statistic: 138.07169032050348\n",
      "F-statistic: 22.694979400707183\n",
      "Critical value of F-statistic: 2.1239225395551817\n",
      "P-value: 1.1102230246251565e-16\n",
      "Reject the null hypothesis that the means are equal\n"
     ]
    }
   ],
   "source": [
    "# test for multivariate equivalence of mean in summer and winter\n",
    "# Hotelling's T-squared test\n",
    "from scipy.stats import f\n",
    "from scipy.stats import t\n",
    "\n",
    "# calculate the mean of the two groups\n",
    "mean_summer = df_summer.mean()\n",
    "mean_winter = df_winter.mean()\n",
    "\n",
    "# calculate the covariance matrix of the two groups\n",
    "cov_summer = np.cov(df_summer.T)\n",
    "cov_winter = np.cov(df_winter.T)\n",
    "\n",
    "# calculate the number of samples in each group\n",
    "n_summer = len(df_summer)\n",
    "n_winter = len(df_winter)\n",
    "\n",
    "# calculate the number of variables\n",
    "p = len(df_summer.columns)\n",
    "\n",
    "# calculate the pooled covariance matrix\n",
    "cov_pooled = ((n_summer - 1)*cov_summer + (n_winter - 1)*cov_winter)/(n_summer + n_winter - 2)\n",
    "\n",
    "# calculate the T-squared statistic\n",
    "hotelling = n_summer*n_winter/(n_summer + n_winter)*np.dot(np.dot(mean_summer - mean_winter, np.linalg.inv(cov_pooled)), mean_summer - mean_winter)\n",
    "\n",
    "# calculate the F-statistic\n",
    "f_statistic = hotelling*(n_summer + n_winter - p - 1)/(p*(n_summer + n_winter - 2))\n",
    "\n",
    "# calculate the critical value of the F-statistic\n",
    "alpha = 0.05\n",
    "\n",
    "f_critical = f.ppf(1 - alpha, p, n_summer + n_winter - p - 1)\n",
    "\n",
    "# calculate the p-value\n",
    "p_value = 1 - f.cdf(f_statistic, p, n_summer + n_winter - p - 1)\n",
    "\n",
    "print('Hotelling T-squared statistic:', hotelling)\n",
    "print('F-statistic:', f_statistic)\n",
    "print('Critical value of F-statistic:', f_critical)\n",
    "print('P-value:', p_value)\n",
    "\n",
    "if f_statistic > f_critical:\n",
    "    print('Reject the null hypothesis that the means are equal')\n",
    "else:\n",
    "    print('Fail to reject the null hypothesis that the means are equal')"
   ]
  },
  {
   "cell_type": "markdown",
   "metadata": {},
   "source": [
    "## Test for Equivalence of Variance"
   ]
  },
  {
   "cell_type": "code",
   "execution_count": 22,
   "metadata": {},
   "outputs": [],
   "source": [
    "import numpy as np\n",
    "from scipy.stats import chi2\n",
    "\n",
    "def wilks_lambda_test(df_summer, df_winter, alpha=0.05):\n",
    "    \"\"\"\n",
    "    Performs Wilks' Lambda test to compare covariance matrices between two groups\n",
    "    using the formula: -2log∧ = -np log(n) + n log(|A|) + Σ ni_p log(ni) + Σ ni log(|Ai|)\n",
    "    \n",
    "    Parameters:\n",
    "    df_summer (pandas.DataFrame): Data frame containing summer measurements\n",
    "    df_winter (pandas.DataFrame): Data frame containing winter measurements\n",
    "    alpha (float): Significance level for the test\n",
    "    \n",
    "    Returns:\n",
    "    dict: Test statistics and results\n",
    "    \"\"\"\n",
    "    # Calculate sample sizes\n",
    "    n1 = len(df_summer)\n",
    "    n2 = len(df_winter)\n",
    "    n = n1 + n2  # total sample size\n",
    "    \n",
    "    # Number of variables\n",
    "    p = len(df_summer.columns)\n",
    "    \n",
    "    # Calculate individual covariance matrices and their determinants\n",
    "    A1 = (n1 - 1) * np.cov(df_summer.T)  # As per formula Ai = (ni-1)cov\n",
    "    A2 = (n2 - 1) * np.cov(df_winter.T)\n",
    "    \n",
    "    # Calculate |A| (determinant of sum of matrices)\n",
    "    A = A1 + A2\n",
    "    det_A = np.linalg.det(A)\n",
    "    det_A1 = np.linalg.det(A1)\n",
    "    det_A2 = np.linalg.det(A2)\n",
    "    \n",
    "    # Calculate Wilks' Lambda statistic using the formula from the image\n",
    "    wilks_stat = -n * p * np.log(n) + \\\n",
    "                 n * np.log(det_A) + \\\n",
    "                 n1 * p * np.log(n1) + \\\n",
    "                 n2 * p * np.log(n2) - \\\n",
    "                 n1 * np.log(det_A1) - \\\n",
    "                 n2 * np.log(det_A2)\n",
    "\n",
    "    # Degrees of freedom calculation as shown in image\n",
    "    # (g-1)p(p+1)/2 where g=2 (number of groups)\n",
    "    df = (2-1) * p * (p+1) / 2\n",
    "    \n",
    "    # Calculate p-value using chi-square distribution\n",
    "    p_value = 1 - chi2.cdf(wilks_stat, df)\n",
    "    \n",
    "    # Calculate critical value\n",
    "    chi2_critical = chi2.ppf(1 - alpha, df)\n",
    "    \n",
    "    results = {\n",
    "        'wilks_lambda_stat': wilks_stat,\n",
    "        'degrees_of_freedom': df,\n",
    "        'chi2_critical': chi2_critical,\n",
    "        'p_value': p_value,\n",
    "        'equal_covariance': p_value > alpha\n",
    "    }\n",
    "    \n",
    "    return results\n",
    "\n",
    "def print_wilks_test_results(results):\n",
    "    \"\"\"\n",
    "    Pretty prints the results of the Wilks' Lambda test\n",
    "    \"\"\"\n",
    "    print(\"\\nWilks' Lambda Test Results:\")\n",
    "    print(\"-\" * 40)\n",
    "    print(f\"Test statistic (-2 log Λ): {results['wilks_lambda_stat']:.4f}\")\n",
    "    print(f\"Degrees of freedom: {results['degrees_of_freedom']:.0f}\")\n",
    "    print(f\"Critical value (χ²): {results['chi2_critical']:.4f}\")\n",
    "    print(f\"P-value: {results['p_value']:.4f}\")\n",
    "    print(\"\\nConclusion:\")\n",
    "    if results['equal_covariance']:\n",
    "        print(\"Fail to reject null hypothesis: Covariance matrices are not significantly different\")\n",
    "    else:\n",
    "        print(\"Reject null hypothesis: Covariance matrices are significantly different\")"
   ]
  },
  {
   "cell_type": "code",
   "execution_count": 23,
   "metadata": {},
   "outputs": [
    {
     "name": "stdout",
     "output_type": "stream",
     "text": [
      "\n",
      "Wilks' Lambda Test Results:\n",
      "----------------------------------------\n",
      "Test statistic (-2 log Λ): 544.7142\n",
      "Degrees of freedom: 21\n",
      "Critical value (χ²): 32.6706\n",
      "P-value: 0.0000\n",
      "\n",
      "Conclusion:\n",
      "Reject null hypothesis: Covariance matrices are significantly different\n"
     ]
    }
   ],
   "source": [
    "print_wilks_test_results(wilks_lambda_test(df_summer, df_winter))"
   ]
  },
  {
   "cell_type": "markdown",
   "metadata": {},
   "source": [
    "## MANOVA"
   ]
  },
  {
   "cell_type": "code",
   "execution_count": 24,
   "metadata": {},
   "outputs": [],
   "source": [
    "import pandas as pd\n",
    "import numpy as np\n",
    "from scipy import stats\n",
    "\n",
    "def perform_manova(df_summer, df_winter):\n",
    "    \"\"\"\n",
    "    Perform MANOVA analysis on two groups of multivariate data using Wilk's test.\n",
    "    \n",
    "    Parameters:\n",
    "    df_summer (pd.DataFrame): DataFrame containing summer measurements\n",
    "    df_winter (pd.DataFrame): DataFrame containing winter measurements\n",
    "    \n",
    "    Returns:\n",
    "    dict: Dictionary containing test statistics and p-value\n",
    "    \"\"\"\n",
    "    # Convert DataFrames to numpy arrays for statistical processing\n",
    "    summer_data = df_summer.values\n",
    "    winter_data = df_winter.values\n",
    "    \n",
    "    # Combine the data and create group labels\n",
    "    X = np.vstack([summer_data, winter_data])\n",
    "    groups = np.repeat([0, 1], [len(summer_data), len(winter_data)])\n",
    "    \n",
    "    # Calculate the number of variables\n",
    "    n_vars = X.shape[1]\n",
    "    \n",
    "    # Calculate group means\n",
    "    summer_mean = np.mean(summer_data, axis=0)\n",
    "    winter_mean = np.mean(winter_data, axis=0)\n",
    "    grand_mean = np.mean(X, axis=0)\n",
    "    \n",
    "    # Calculate Within-group Sum of Squares and Cross-products (W)\n",
    "    W = np.zeros((n_vars, n_vars))\n",
    "    for i in range(len(groups)):\n",
    "        if groups[i] == 0:\n",
    "            diff = X[i] - summer_mean\n",
    "        else:\n",
    "            diff = X[i] - winter_mean\n",
    "        W += np.outer(diff, diff)\n",
    "    \n",
    "    # Calculate Between-group Sum of Squares and Cross-products (B)\n",
    "    B = np.zeros((n_vars, n_vars))\n",
    "    for mean, size in [(summer_mean, len(summer_data)), (winter_mean, len(winter_data))]:\n",
    "        diff = mean - grand_mean\n",
    "        B += size * np.outer(diff, diff)\n",
    "    \n",
    "    # Calculate Wilk's lambda statistic\n",
    "    _, W_det = np.linalg.slogdet(W)\n",
    "    _, T_det = np.linalg.slogdet(W + B)\n",
    "    wilks_lambda = np.exp(W_det - T_det)\n",
    "    \n",
    "    # Calculate degrees of freedom\n",
    "    df1 = 1\n",
    "    df2 = len(X) - 2\n",
    "    \n",
    "    # Calculate F-statistic\n",
    "    F = ((1 - wilks_lambda) / wilks_lambda) * (df2 / df1)\n",
    "    \n",
    "    # Calculate p-value\n",
    "    p_value = 1 - stats.f.cdf(F, df1, df2)\n",
    "    \n",
    "    # Create summary statistics\n",
    "    results = {\n",
    "        'wilks_lambda': wilks_lambda,\n",
    "        'F_statistic': F,\n",
    "        'df1': df1,\n",
    "        'df2': df2,\n",
    "        'p_value': p_value,\n",
    "        'group_sizes': {\n",
    "            'summer': len(summer_data),\n",
    "            'winter': len(winter_data)\n",
    "        },\n",
    "        'group_means': {\n",
    "            'summer': summer_mean,\n",
    "            'winter': winter_mean\n",
    "        }\n",
    "    }\n",
    "    \n",
    "    return results\n",
    "\n",
    "def print_manova_results(results):\n",
    "    \"\"\"\n",
    "    Print MANOVA results in a formatted way.\n",
    "    \n",
    "    Parameters:\n",
    "    results (dict): Dictionary containing MANOVA results\n",
    "    \"\"\"\n",
    "    print(\"\\nMANOVA Results:\")\n",
    "    print(\"-\" * 50)\n",
    "    print(f\"Wilk's Lambda: {results['wilks_lambda']:.4f}\")\n",
    "    print(f\"F-statistic: {results['F_statistic']:.4f}\")\n",
    "    print(f\"Degrees of freedom: ({results['df1']}, {results['df2']})\")\n",
    "    print(f\"p-value: {results['p_value']:.4f}\")\n",
    "    print(\"\\nGroup Sizes:\")\n",
    "    print(f\"Summer: {results['group_sizes']['summer']}\")\n",
    "    print(f\"Winter: {results['group_sizes']['winter']}\")\n",
    "    \n",
    "    print(\"\\nGroup Means:\")\n",
    "    print(\"\\nSummer:\")\n",
    "    for i, mean in enumerate(results['group_means']['summer']):\n",
    "        print(f\"Variable {i+1}: {mean:.4f}\")\n",
    "    print(\"\\nWinter:\")\n",
    "    for i, mean in enumerate(results['group_means']['winter']):\n",
    "        print(f\"Variable {i+1}: {mean:.4f}\")"
   ]
  },
  {
   "cell_type": "code",
   "execution_count": 25,
   "metadata": {},
   "outputs": [
    {
     "name": "stdout",
     "output_type": "stream",
     "text": [
      "\n",
      "MANOVA Results:\n",
      "--------------------------------------------------\n",
      "Wilk's Lambda: 0.7244\n",
      "F-statistic: 138.0717\n",
      "Degrees of freedom: (1, 363)\n",
      "p-value: 0.0000\n",
      "\n",
      "Group Sizes:\n",
      "Summer: 183\n",
      "Winter: 182\n",
      "\n",
      "Group Means:\n",
      "\n",
      "Summer:\n",
      "Variable 1: -0.1838\n",
      "Variable 2: -0.0909\n",
      "Variable 3: -0.0034\n",
      "Variable 4: -0.1631\n",
      "Variable 5: -0.4641\n",
      "Variable 6: -0.0772\n",
      "\n",
      "Winter:\n",
      "Variable 1: 0.1848\n",
      "Variable 2: 0.0914\n",
      "Variable 3: 0.0034\n",
      "Variable 4: 0.1640\n",
      "Variable 5: 0.4667\n",
      "Variable 6: 0.0776\n"
     ]
    }
   ],
   "source": [
    "print_manova_results(perform_manova(df_summer, df_winter))"
   ]
  },
  {
   "cell_type": "markdown",
   "metadata": {},
   "source": [
    "## Profile Analysis"
   ]
  },
  {
   "cell_type": "code",
   "execution_count": 26,
   "metadata": {},
   "outputs": [
    {
     "name": "stderr",
     "output_type": "stream",
     "text": [
      "/var/folders/4c/4wxkspdj41ldvljhskhz0kwr0000gn/T/ipykernel_21283/560012285.py:4: FutureWarning:\n",
      "\n",
      "'M' is deprecated and will be removed in a future version, please use 'ME' instead.\n",
      "\n"
     ]
    },
    {
     "data": {
      "text/html": [
       "<div>\n",
       "<style scoped>\n",
       "    .dataframe tbody tr th:only-of-type {\n",
       "        vertical-align: middle;\n",
       "    }\n",
       "\n",
       "    .dataframe tbody tr th {\n",
       "        vertical-align: top;\n",
       "    }\n",
       "\n",
       "    .dataframe thead th {\n",
       "        text-align: right;\n",
       "    }\n",
       "</style>\n",
       "<table border=\"1\" class=\"dataframe\">\n",
       "  <thead>\n",
       "    <tr style=\"text-align: right;\">\n",
       "      <th></th>\n",
       "      <th>Usage_kWh</th>\n",
       "      <th>Lagging_Current_Reactive_Power_kVarh</th>\n",
       "      <th>Leading_Current_Reactive_Power_kVarh</th>\n",
       "      <th>CO2</th>\n",
       "      <th>Lagging_Current_Power_Factor</th>\n",
       "      <th>Leading_Current_Power_Factor</th>\n",
       "    </tr>\n",
       "    <tr>\n",
       "      <th>date</th>\n",
       "      <th></th>\n",
       "      <th></th>\n",
       "      <th></th>\n",
       "      <th></th>\n",
       "      <th></th>\n",
       "      <th></th>\n",
       "    </tr>\n",
       "  </thead>\n",
       "  <tbody>\n",
       "    <tr>\n",
       "      <th>1</th>\n",
       "      <td>0.170127</td>\n",
       "      <td>0.294770</td>\n",
       "      <td>-0.408329</td>\n",
       "      <td>0.154870</td>\n",
       "      <td>-0.077621</td>\n",
       "      <td>0.423381</td>\n",
       "    </tr>\n",
       "    <tr>\n",
       "      <th>2</th>\n",
       "      <td>-0.085437</td>\n",
       "      <td>0.002296</td>\n",
       "      <td>-0.337542</td>\n",
       "      <td>-0.106354</td>\n",
       "      <td>-0.130302</td>\n",
       "      <td>0.324830</td>\n",
       "    </tr>\n",
       "    <tr>\n",
       "      <th>3</th>\n",
       "      <td>-0.199253</td>\n",
       "      <td>-0.118046</td>\n",
       "      <td>-0.436687</td>\n",
       "      <td>-0.200067</td>\n",
       "      <td>-0.369954</td>\n",
       "      <td>0.445797</td>\n",
       "    </tr>\n",
       "    <tr>\n",
       "      <th>4</th>\n",
       "      <td>-0.194405</td>\n",
       "      <td>-0.061634</td>\n",
       "      <td>-0.462921</td>\n",
       "      <td>-0.188541</td>\n",
       "      <td>-0.519427</td>\n",
       "      <td>0.452040</td>\n",
       "    </tr>\n",
       "    <tr>\n",
       "      <th>5</th>\n",
       "      <td>-0.238826</td>\n",
       "      <td>-0.024000</td>\n",
       "      <td>-0.408033</td>\n",
       "      <td>-0.230027</td>\n",
       "      <td>-0.727710</td>\n",
       "      <td>0.398859</td>\n",
       "    </tr>\n",
       "    <tr>\n",
       "      <th>6</th>\n",
       "      <td>-0.312183</td>\n",
       "      <td>-0.087739</td>\n",
       "      <td>-0.424247</td>\n",
       "      <td>-0.296035</td>\n",
       "      <td>-0.907699</td>\n",
       "      <td>0.406300</td>\n",
       "    </tr>\n",
       "    <tr>\n",
       "      <th>7</th>\n",
       "      <td>-0.206554</td>\n",
       "      <td>0.033977</td>\n",
       "      <td>-0.437512</td>\n",
       "      <td>-0.189664</td>\n",
       "      <td>-0.638705</td>\n",
       "      <td>0.336005</td>\n",
       "    </tr>\n",
       "    <tr>\n",
       "      <th>8</th>\n",
       "      <td>-0.284519</td>\n",
       "      <td>-0.008692</td>\n",
       "      <td>-0.384676</td>\n",
       "      <td>-0.271221</td>\n",
       "      <td>-1.029585</td>\n",
       "      <td>0.341207</td>\n",
       "    </tr>\n",
       "    <tr>\n",
       "      <th>9</th>\n",
       "      <td>-0.370587</td>\n",
       "      <td>-0.135111</td>\n",
       "      <td>-0.419287</td>\n",
       "      <td>-0.344192</td>\n",
       "      <td>-1.073599</td>\n",
       "      <td>0.359964</td>\n",
       "    </tr>\n",
       "    <tr>\n",
       "      <th>10</th>\n",
       "      <td>-0.194712</td>\n",
       "      <td>0.092371</td>\n",
       "      <td>-0.466722</td>\n",
       "      <td>-0.188832</td>\n",
       "      <td>-1.044986</td>\n",
       "      <td>0.431260</td>\n",
       "    </tr>\n",
       "    <tr>\n",
       "      <th>11</th>\n",
       "      <td>-0.121080</td>\n",
       "      <td>0.032558</td>\n",
       "      <td>-0.467437</td>\n",
       "      <td>-0.119745</td>\n",
       "      <td>-0.510263</td>\n",
       "      <td>0.443984</td>\n",
       "    </tr>\n",
       "    <tr>\n",
       "      <th>12</th>\n",
       "      <td>-0.332582</td>\n",
       "      <td>-0.291606</td>\n",
       "      <td>-0.343822</td>\n",
       "      <td>-0.335301</td>\n",
       "      <td>0.121048</td>\n",
       "      <td>0.320109</td>\n",
       "    </tr>\n",
       "  </tbody>\n",
       "</table>\n",
       "</div>"
      ],
      "text/plain": [
       "      Usage_kWh  Lagging_Current_Reactive_Power_kVarh  \\\n",
       "date                                                    \n",
       "1      0.170127                              0.294770   \n",
       "2     -0.085437                              0.002296   \n",
       "3     -0.199253                             -0.118046   \n",
       "4     -0.194405                             -0.061634   \n",
       "5     -0.238826                             -0.024000   \n",
       "6     -0.312183                             -0.087739   \n",
       "7     -0.206554                              0.033977   \n",
       "8     -0.284519                             -0.008692   \n",
       "9     -0.370587                             -0.135111   \n",
       "10    -0.194712                              0.092371   \n",
       "11    -0.121080                              0.032558   \n",
       "12    -0.332582                             -0.291606   \n",
       "\n",
       "      Leading_Current_Reactive_Power_kVarh       CO2  \\\n",
       "date                                                   \n",
       "1                                -0.408329  0.154870   \n",
       "2                                -0.337542 -0.106354   \n",
       "3                                -0.436687 -0.200067   \n",
       "4                                -0.462921 -0.188541   \n",
       "5                                -0.408033 -0.230027   \n",
       "6                                -0.424247 -0.296035   \n",
       "7                                -0.437512 -0.189664   \n",
       "8                                -0.384676 -0.271221   \n",
       "9                                -0.419287 -0.344192   \n",
       "10                               -0.466722 -0.188832   \n",
       "11                               -0.467437 -0.119745   \n",
       "12                               -0.343822 -0.335301   \n",
       "\n",
       "      Lagging_Current_Power_Factor  Leading_Current_Power_Factor  \n",
       "date                                                              \n",
       "1                        -0.077621                      0.423381  \n",
       "2                        -0.130302                      0.324830  \n",
       "3                        -0.369954                      0.445797  \n",
       "4                        -0.519427                      0.452040  \n",
       "5                        -0.727710                      0.398859  \n",
       "6                        -0.907699                      0.406300  \n",
       "7                        -0.638705                      0.336005  \n",
       "8                        -1.029585                      0.341207  \n",
       "9                        -1.073599                      0.359964  \n",
       "10                       -1.044986                      0.431260  \n",
       "11                       -0.510263                      0.443984  \n",
       "12                        0.121048                      0.320109  "
      ]
     },
     "metadata": {},
     "output_type": "display_data"
    },
    {
     "name": "stderr",
     "output_type": "stream",
     "text": [
      "/var/folders/4c/4wxkspdj41ldvljhskhz0kwr0000gn/T/ipykernel_21283/560012285.py:10: FutureWarning:\n",
      "\n",
      "'M' is deprecated and will be removed in a future version, please use 'ME' instead.\n",
      "\n"
     ]
    },
    {
     "data": {
      "text/html": [
       "<div>\n",
       "<style scoped>\n",
       "    .dataframe tbody tr th:only-of-type {\n",
       "        vertical-align: middle;\n",
       "    }\n",
       "\n",
       "    .dataframe tbody tr th {\n",
       "        vertical-align: top;\n",
       "    }\n",
       "\n",
       "    .dataframe thead th {\n",
       "        text-align: right;\n",
       "    }\n",
       "</style>\n",
       "<table border=\"1\" class=\"dataframe\">\n",
       "  <thead>\n",
       "    <tr style=\"text-align: right;\">\n",
       "      <th></th>\n",
       "      <th>Usage_kWh</th>\n",
       "      <th>Lagging_Current_Reactive_Power_kVarh</th>\n",
       "      <th>Leading_Current_Reactive_Power_kVarh</th>\n",
       "      <th>CO2</th>\n",
       "      <th>Lagging_Current_Power_Factor</th>\n",
       "      <th>Leading_Current_Power_Factor</th>\n",
       "    </tr>\n",
       "    <tr>\n",
       "      <th>date</th>\n",
       "      <th></th>\n",
       "      <th></th>\n",
       "      <th></th>\n",
       "      <th></th>\n",
       "      <th></th>\n",
       "      <th></th>\n",
       "    </tr>\n",
       "  </thead>\n",
       "  <tbody>\n",
       "    <tr>\n",
       "      <th>1</th>\n",
       "      <td>0.728791</td>\n",
       "      <td>0.350973</td>\n",
       "      <td>0.422437</td>\n",
       "      <td>0.664598</td>\n",
       "      <td>0.688806</td>\n",
       "      <td>-0.187543</td>\n",
       "    </tr>\n",
       "    <tr>\n",
       "      <th>2</th>\n",
       "      <td>0.483249</td>\n",
       "      <td>0.036681</td>\n",
       "      <td>0.469685</td>\n",
       "      <td>0.487011</td>\n",
       "      <td>0.759976</td>\n",
       "      <td>-0.341134</td>\n",
       "    </tr>\n",
       "    <tr>\n",
       "      <th>3</th>\n",
       "      <td>0.173673</td>\n",
       "      <td>-0.161175</td>\n",
       "      <td>0.549107</td>\n",
       "      <td>0.172763</td>\n",
       "      <td>0.662565</td>\n",
       "      <td>-0.324509</td>\n",
       "    </tr>\n",
       "    <tr>\n",
       "      <th>4</th>\n",
       "      <td>0.192236</td>\n",
       "      <td>-0.057765</td>\n",
       "      <td>0.551096</td>\n",
       "      <td>0.195426</td>\n",
       "      <td>0.619318</td>\n",
       "      <td>-0.385228</td>\n",
       "    </tr>\n",
       "    <tr>\n",
       "      <th>5</th>\n",
       "      <td>0.189714</td>\n",
       "      <td>0.009061</td>\n",
       "      <td>0.520688</td>\n",
       "      <td>0.197313</td>\n",
       "      <td>0.574871</td>\n",
       "      <td>-0.448639</td>\n",
       "    </tr>\n",
       "    <tr>\n",
       "      <th>6</th>\n",
       "      <td>0.032498</td>\n",
       "      <td>-0.110212</td>\n",
       "      <td>0.540209</td>\n",
       "      <td>0.034186</td>\n",
       "      <td>0.561860</td>\n",
       "      <td>-0.527671</td>\n",
       "    </tr>\n",
       "    <tr>\n",
       "      <th>7</th>\n",
       "      <td>0.209991</td>\n",
       "      <td>0.002403</td>\n",
       "      <td>0.287973</td>\n",
       "      <td>0.219782</td>\n",
       "      <td>0.626742</td>\n",
       "      <td>-0.305682</td>\n",
       "    </tr>\n",
       "    <tr>\n",
       "      <th>8</th>\n",
       "      <td>0.024419</td>\n",
       "      <td>-0.015609</td>\n",
       "      <td>0.347548</td>\n",
       "      <td>0.027542</td>\n",
       "      <td>0.479926</td>\n",
       "      <td>-0.513434</td>\n",
       "    </tr>\n",
       "    <tr>\n",
       "      <th>9</th>\n",
       "      <td>-0.065278</td>\n",
       "      <td>-0.049944</td>\n",
       "      <td>0.276088</td>\n",
       "      <td>-0.054389</td>\n",
       "      <td>0.401641</td>\n",
       "      <td>-0.539189</td>\n",
       "    </tr>\n",
       "    <tr>\n",
       "      <th>10</th>\n",
       "      <td>0.258256</td>\n",
       "      <td>0.352850</td>\n",
       "      <td>0.096547</td>\n",
       "      <td>0.251822</td>\n",
       "      <td>0.319552</td>\n",
       "      <td>-0.199924</td>\n",
       "    </tr>\n",
       "    <tr>\n",
       "      <th>11</th>\n",
       "      <td>0.273559</td>\n",
       "      <td>0.193961</td>\n",
       "      <td>0.206448</td>\n",
       "      <td>0.262932</td>\n",
       "      <td>0.498566</td>\n",
       "      <td>-0.220248</td>\n",
       "    </tr>\n",
       "    <tr>\n",
       "      <th>12</th>\n",
       "      <td>-0.110832</td>\n",
       "      <td>-0.285497</td>\n",
       "      <td>0.735725</td>\n",
       "      <td>-0.123504</td>\n",
       "      <td>0.745931</td>\n",
       "      <td>-0.692439</td>\n",
       "    </tr>\n",
       "  </tbody>\n",
       "</table>\n",
       "</div>"
      ],
      "text/plain": [
       "      Usage_kWh  Lagging_Current_Reactive_Power_kVarh  \\\n",
       "date                                                    \n",
       "1      0.728791                              0.350973   \n",
       "2      0.483249                              0.036681   \n",
       "3      0.173673                             -0.161175   \n",
       "4      0.192236                             -0.057765   \n",
       "5      0.189714                              0.009061   \n",
       "6      0.032498                             -0.110212   \n",
       "7      0.209991                              0.002403   \n",
       "8      0.024419                             -0.015609   \n",
       "9     -0.065278                             -0.049944   \n",
       "10     0.258256                              0.352850   \n",
       "11     0.273559                              0.193961   \n",
       "12    -0.110832                             -0.285497   \n",
       "\n",
       "      Leading_Current_Reactive_Power_kVarh       CO2  \\\n",
       "date                                                   \n",
       "1                                 0.422437  0.664598   \n",
       "2                                 0.469685  0.487011   \n",
       "3                                 0.549107  0.172763   \n",
       "4                                 0.551096  0.195426   \n",
       "5                                 0.520688  0.197313   \n",
       "6                                 0.540209  0.034186   \n",
       "7                                 0.287973  0.219782   \n",
       "8                                 0.347548  0.027542   \n",
       "9                                 0.276088 -0.054389   \n",
       "10                                0.096547  0.251822   \n",
       "11                                0.206448  0.262932   \n",
       "12                                0.735725 -0.123504   \n",
       "\n",
       "      Lagging_Current_Power_Factor  Leading_Current_Power_Factor  \n",
       "date                                                              \n",
       "1                         0.688806                     -0.187543  \n",
       "2                         0.759976                     -0.341134  \n",
       "3                         0.662565                     -0.324509  \n",
       "4                         0.619318                     -0.385228  \n",
       "5                         0.574871                     -0.448639  \n",
       "6                         0.561860                     -0.527671  \n",
       "7                         0.626742                     -0.305682  \n",
       "8                         0.479926                     -0.513434  \n",
       "9                         0.401641                     -0.539189  \n",
       "10                        0.319552                     -0.199924  \n",
       "11                        0.498566                     -0.220248  \n",
       "12                        0.745931                     -0.692439  "
      ]
     },
     "metadata": {},
     "output_type": "display_data"
    }
   ],
   "source": [
    "# Profile Analysis\n",
    "# from df_num make a df for mean of each column for time in AM for each month\n",
    "df_am = df_num[df_num.index.hour < 12]\n",
    "df_am = df_am.resample('M').mean()\n",
    "# make index month\n",
    "df_am.index = df_am.index.month\n",
    "display(df_am)\n",
    "\n",
    "df_pm = df_num[df_num.index.hour >= 12]\n",
    "df_pm = df_pm.resample('M').mean()\n",
    "# make index month\n",
    "df_pm.index = df_pm.index.month\n",
    "display(df_pm)"
   ]
  },
  {
   "cell_type": "code",
   "execution_count": 27,
   "metadata": {},
   "outputs": [],
   "source": [
    "import numpy as np\n",
    "from scipy import stats\n",
    "\n",
    "def profile_analysis(df_am, df_pm):\n",
    "    \"\"\"\n",
    "    Perform profile analysis tests on two populations.\n",
    "    \n",
    "    Parameters:\n",
    "    df_am, df_pm: pandas DataFrames containing the multivariate observations\n",
    "                 for the two populations\n",
    "    \n",
    "    Returns:\n",
    "    dict: Results of the three profile analysis tests\n",
    "    \"\"\"\n",
    "    # Convert DataFrames to numpy arrays for easier manipulation\n",
    "    X1 = df_am.values\n",
    "    X2 = df_pm.values\n",
    "    \n",
    "    # Sample sizes\n",
    "    n1 = X1.shape[0]\n",
    "    n2 = X2.shape[0]\n",
    "    \n",
    "    # Number of variables (p)\n",
    "    p = X1.shape[1]\n",
    "    \n",
    "    # Calculate means\n",
    "    X1_bar = np.mean(X1, axis=0)\n",
    "    X2_bar = np.mean(X2, axis=0)\n",
    "    \n",
    "    # 1. Test for Parallel Profiles\n",
    "    # Construct contrast matrix C\n",
    "    C = np.zeros((p-1, p))\n",
    "    for i in range(p-1):\n",
    "        C[i, i] = -1\n",
    "        C[i, i+1] = 1\n",
    "    \n",
    "    # Calculate pooled covariance matrix\n",
    "    S_pooled = ((n1-1)*np.cov(X1, rowvar=False) + (n2-1)*np.cov(X2, rowvar=False))/(n1+n2-2)\n",
    "    \n",
    "    # Calculate T² statistic for parallel profiles\n",
    "    diff = X1_bar - X2_bar\n",
    "    C_diff = C @ diff\n",
    "    CS_pooled_C = C @ S_pooled @ C.T\n",
    "    T2_parallel = n1*n2/(n1+n2) * C_diff.T @ np.linalg.inv(CS_pooled_C) @ C_diff\n",
    "    \n",
    "    # Critical value for parallel test\n",
    "    df1 = p-1\n",
    "    df2 = n1+n2-p\n",
    "    F_critical_parallel = stats.f.ppf(0.95, df1, df2)\n",
    "    c2_parallel = (n1+n2-2)*(p-1)/(n1+n2-p) * F_critical_parallel\n",
    "    \n",
    "    # 2. Test for Coincident Profiles (given parallel)\n",
    "    # Sum of observations\n",
    "    sum1 = np.sum(X1_bar)\n",
    "    sum2 = np.sum(X2_bar)\n",
    "    \n",
    "    # Calculate pooled variance of sums\n",
    "    S_pooled_sums = np.sum(S_pooled)\n",
    "    \n",
    "    # T² statistic for coincident profiles\n",
    "    T2_coincident = (n1*n2/(n1+n2)) * ((sum1-sum2)**2)/(p**2 * S_pooled_sums)\n",
    "    \n",
    "    # Critical value for coincident test\n",
    "    F_critical_coincident = stats.f.ppf(0.95, 1, n1+n2-2)\n",
    "    \n",
    "    # 3. Test for Level Profiles (given coincident)\n",
    "    # Calculate overall mean\n",
    "    X_bar = (n1*X1_bar + n2*X2_bar)/(n1+n2)\n",
    "    \n",
    "    # Calculate test statistic for level profiles\n",
    "    S = ((n1-1)*np.cov(X1, rowvar=False) + (n2-1)*np.cov(X2, rowvar=False))/(n1+n2-1)\n",
    "    T2_level = (n1+n2) * X_bar.T @ C.T @ np.linalg.inv(C @ S @ C.T) @ C @ X_bar\n",
    "    \n",
    "    # Critical value for level test\n",
    "    df1_level = p-1\n",
    "    df2_level = n1+n2-p+1\n",
    "    F_critical_level = stats.f.ppf(0.95, df1_level, df2_level)\n",
    "    c2_level = (n1+n2-1)*(p-1)/(n1+n2-p+1) * F_critical_level\n",
    "    \n",
    "    results = {\n",
    "        'parallel': {\n",
    "            'T2': T2_parallel,\n",
    "            'critical_value': c2_parallel,\n",
    "            'reject_H0': T2_parallel > c2_parallel\n",
    "        },\n",
    "        'coincident': {\n",
    "            'T2': T2_coincident,\n",
    "            'critical_value': F_critical_coincident,\n",
    "            'reject_H0': T2_coincident > F_critical_coincident\n",
    "        },\n",
    "        'level': {\n",
    "            'T2': T2_level,\n",
    "            'critical_value': c2_level,\n",
    "            'reject_H0': T2_level > c2_level\n",
    "        }\n",
    "    }\n",
    "\n",
    "    print(results)\n",
    "    \n",
    "    return results"
   ]
  },
  {
   "cell_type": "code",
   "execution_count": 28,
   "metadata": {},
   "outputs": [
    {
     "name": "stdout",
     "output_type": "stream",
     "text": [
      "{'parallel': {'T2': 977.8340710665872, 'critical_value': 16.945213712764513, 'reject_H0': True}, 'coincident': {'T2': 1.4040164734155551, 'critical_value': 4.300949501777657, 'reject_H0': False}, 'level': {'T2': 0.0030756497608397703, 'critical_value': 16.58455880493761, 'reject_H0': False}}\n"
     ]
    },
    {
     "data": {
      "text/plain": [
       "{'parallel': {'T2': 977.8340710665872,\n",
       "  'critical_value': 16.945213712764513,\n",
       "  'reject_H0': True},\n",
       " 'coincident': {'T2': 1.4040164734155551,\n",
       "  'critical_value': 4.300949501777657,\n",
       "  'reject_H0': False},\n",
       " 'level': {'T2': 0.0030756497608397703,\n",
       "  'critical_value': 16.58455880493761,\n",
       "  'reject_H0': False}}"
      ]
     },
     "execution_count": 28,
     "metadata": {},
     "output_type": "execute_result"
    }
   ],
   "source": [
    "profile_analysis(df_am, df_pm)"
   ]
  },
  {
   "cell_type": "markdown",
   "metadata": {},
   "source": [
    "## PCA"
   ]
  },
  {
   "cell_type": "code",
   "execution_count": 29,
   "metadata": {},
   "outputs": [],
   "source": [
    "import numpy as np\n",
    "import matplotlib.pyplot as plt\n",
    "from sklearn.preprocessing import StandardScaler\n",
    "from sklearn.decomposition import PCA\n",
    "\n",
    "def perform_pca_analysis(data, n_components=None):\n",
    "    \"\"\"\n",
    "    Perform PCA on the input data and create a scree plot\n",
    "    \n",
    "    Parameters:\n",
    "    data (numpy.ndarray): Input data matrix (samples × features)\n",
    "    n_components (int): Number of components to keep (default: None, keeps all components)\n",
    "    \n",
    "    Returns:\n",
    "    tuple: (pca_object, transformed_data, explained_variance_ratio)\n",
    "    \"\"\"\n",
    "    # Standardize the data\n",
    "    scaler = StandardScaler()\n",
    "    data_scaled = scaler.fit_transform(data)\n",
    "    \n",
    "    # Perform PCA\n",
    "    pca = PCA(n_components=n_components)\n",
    "    data_transformed = pca.fit_transform(data_scaled)\n",
    "    \n",
    "    # Calculate cumulative explained variance\n",
    "    cumulative_variance_ratio = np.cumsum(pca.explained_variance_ratio_)\n",
    "    \n",
    "    # Create scree plot\n",
    "    plt.figure(figsize=(10, 6))\n",
    "    \n",
    "    # line plot of explained variance ratio\n",
    "    plt.plot(range(1, len(pca.explained_variance_ratio_) + 1),\n",
    "             pca.explained_variance_ratio_,\n",
    "             marker='o',\n",
    "             label='Individual explained variance')\n",
    "    # plt.bar(range(1, len(pca.explained_variance_ratio_) + 1), \n",
    "    #         pca.explained_variance_ratio_,\n",
    "    #         alpha=0.5,\n",
    "    #         align='center',\n",
    "    #         label='Individual explained variance')\n",
    "    \n",
    "    # Line plot of cumulative explained variance ratio\n",
    "    plt.step(range(1, len(cumulative_variance_ratio) + 1),\n",
    "             cumulative_variance_ratio,\n",
    "             where='mid',\n",
    "             label='Cumulative explained variance')\n",
    "    \n",
    "    plt.xlabel('Principal Components')\n",
    "    plt.ylabel('Explained Variance Ratio')\n",
    "    plt.title('Scree Plot')\n",
    "    plt.legend(loc='best')\n",
    "    plt.grid(True)\n",
    "    \n",
    "    # Add percentage labels on top of each bar\n",
    "    for i, v in enumerate(pca.explained_variance_ratio_):\n",
    "        plt.text(i + 1, v, f'{v:.1%}', ha='center', va='bottom')\n",
    "    \n",
    "    plt.tight_layout()\n",
    "    plt.show()\n",
    "    \n",
    "    return pca, data_transformed, pca.explained_variance_ratio_"
   ]
  },
  {
   "cell_type": "code",
   "execution_count": 30,
   "metadata": {},
   "outputs": [
    {
     "data": {
      "image/png": "[encoded data removed]",
      "text/plain": [
       "<Figure size 1000x600 with 1 Axes>"
      ]
     },
     "metadata": {},
     "output_type": "display_data"
    }
   ],
   "source": [
    "pca_obj, transformed_data, variance_ratio = perform_pca_analysis(df_num.values)\n",
    "\n"
   ]
  },
  {
   "cell_type": "code",
   "execution_count": null,
   "metadata": {},
   "outputs": [],
   "source": []
  }
 ],
 "metadata": {
  "kernelspec": {
   "display_name": "Python 3",
   "language": "python",
   "name": "python3"
  },
  "language_info": {
   "codemirror_mode": {
    "name": "ipython",
    "version": 3
   },
   "file_extension": ".py",
   "mimetype": "text/x-python",
   "name": "python",
   "nbconvert_exporter": "python",
   "pygments_lexer": "ipython3",
   "version": "3.9.6"
  }
 },
 "nbformat": 4,
 "nbformat_minor": 2
}
